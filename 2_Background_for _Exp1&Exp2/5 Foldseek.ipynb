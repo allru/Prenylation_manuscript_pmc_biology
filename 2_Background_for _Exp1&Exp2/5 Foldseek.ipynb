{
 "cells": [
  {
   "cell_type": "code",
   "execution_count": 1,
   "id": "e9eae15a",
   "metadata": {},
   "outputs": [],
   "source": [
    "import sys\n",
    "import os\n",
    "import session_info\n",
    "\n",
    "# Add the '0_functions' folder to sys.path\n",
    "sys.path.append(os.path.join(os.getcwd(), '..', '0_functions'))"
   ]
  },
  {
   "cell_type": "code",
   "execution_count": 2,
   "id": "19eb11eb",
   "metadata": {},
   "outputs": [],
   "source": [
    "from Bio import SeqIO # NOTE: Biopython needs to be installed!\n",
    "import logomaker as lm\n",
    "import pandas as pd\n",
    "import numpy as np\n",
    "import random\n",
    "import matplotlib.pyplot as plt\n",
    "import re\n",
    "import plotly\n",
    "from matplotlib.markers import MarkerStyle\n",
    "import matplotlib.cm as cm  # Import the colormap module\n",
    "from scipy.stats import fisher_exact\n",
    "\n",
    "#import sklearn\n",
    "#from sklearn.model_selection import train_test_split\n",
    "\n",
    "from foldseek_functions import mask_all_sequences_in_fastafile\n",
    "\n",
    "import warnings\n",
    "warnings.filterwarnings(action = 'ignore')\n",
    "\n",
    "%matplotlib inline"
   ]
  },
  {
   "cell_type": "code",
   "execution_count": 3,
   "id": "e927de5a",
   "metadata": {},
   "outputs": [
    {
     "data": {
      "text/html": [
       "<details>\n",
       "<summary>Click to view session information</summary>\n",
       "<pre>\n",
       "-----\n",
       "Bio                 1.83\n",
       "foldseek_functions  NA\n",
       "logomaker           NA\n",
       "matplotlib          3.7.0\n",
       "numpy               1.21.6\n",
       "pandas              1.4.0\n",
       "plotly              4.12.0\n",
       "scipy               1.10.1\n",
       "session_info        1.0.0\n",
       "-----\n",
       "</pre>\n",
       "<details>\n",
       "<summary>Click to view modules imported as dependencies</summary>\n",
       "<pre>\n",
       "PIL                         10.0.1\n",
       "anyio                       NA\n",
       "asttokens                   NA\n",
       "attr                        23.1.0\n",
       "attrs                       23.1.0\n",
       "babel                       2.11.0\n",
       "backcall                    0.2.0\n",
       "beta_ufunc                  NA\n",
       "binom_ufunc                 NA\n",
       "bottleneck                  1.3.7\n",
       "brotli                      NA\n",
       "certifi                     2024.08.30\n",
       "cffi                        1.16.0\n",
       "charset_normalizer          2.0.4\n",
       "colorama                    0.4.6\n",
       "comm                        0.1.2\n",
       "cycler                      0.10.0\n",
       "cython_runtime              NA\n",
       "dateutil                    2.8.2\n",
       "debugpy                     1.6.7\n",
       "decorator                   5.1.1\n",
       "defusedxml                  0.7.1\n",
       "executing                   0.8.3\n",
       "fastjsonschema              NA\n",
       "hypergeom_ufunc             NA\n",
       "idna                        3.4\n",
       "importlib_metadata          NA\n",
       "importlib_resources         NA\n",
       "invgauss_ufunc              NA\n",
       "ipykernel                   6.25.0\n",
       "ipython_genutils            0.2.0\n",
       "jedi                        0.18.1\n",
       "jinja2                      3.1.2\n",
       "json5                       NA\n",
       "jsonschema                  4.19.2\n",
       "jsonschema_specifications   NA\n",
       "jupyter_events              0.8.0\n",
       "jupyter_server              2.10.0\n",
       "jupyterlab_server           2.25.1\n",
       "kiwisolver                  1.4.4\n",
       "markupsafe                  2.1.1\n",
       "matplotlib_inline           0.1.6\n",
       "mpl_toolkits                NA\n",
       "nbformat                    5.9.2\n",
       "nbinom_ufunc                NA\n",
       "ncf_ufunc                   NA\n",
       "nct_ufunc                   NA\n",
       "ncx2_ufunc                  NA\n",
       "nt                          NA\n",
       "numexpr                     2.8.4\n",
       "overrides                   NA\n",
       "packaging                   23.1\n",
       "parso                       0.8.3\n",
       "pickleshare                 0.7.5\n",
       "pkg_resources               NA\n",
       "platformdirs                3.10.0\n",
       "prometheus_client           NA\n",
       "prompt_toolkit              3.0.36\n",
       "psutil                      5.9.0\n",
       "pure_eval                   0.2.2\n",
       "pydev_ipython               NA\n",
       "pydevconsole                NA\n",
       "pydevd                      2.9.5\n",
       "pydevd_file_utils           NA\n",
       "pydevd_plugins              NA\n",
       "pydevd_tracing              NA\n",
       "pygments                    2.11.2\n",
       "pyparsing                   3.0.9\n",
       "pythoncom                   NA\n",
       "pythonjsonlogger            NA\n",
       "pytz                        2023.3.post1\n",
       "pywintypes                  NA\n",
       "referencing                 NA\n",
       "requests                    2.31.0\n",
       "rfc3339_validator           0.1.4\n",
       "rfc3986_validator           0.1.1\n",
       "rpds                        NA\n",
       "send2trash                  NA\n",
       "six                         1.16.0\n",
       "skewnorm_ufunc              NA\n",
       "sniffio                     1.2.0\n",
       "socks                       1.7.1\n",
       "stack_data                  0.2.0\n",
       "tornado                     6.3.3\n",
       "traitlets                   5.7.1\n",
       "typing_extensions           NA\n",
       "urllib3                     1.26.18\n",
       "wcwidth                     0.2.5\n",
       "websocket                   0.58.0\n",
       "yaml                        6.0.1\n",
       "zipp                        NA\n",
       "zmq                         25.1.0\n",
       "</pre>\n",
       "</details> <!-- seems like this ends pre, so might as well be explicit -->\n",
       "<pre>\n",
       "-----\n",
       "IPython             8.12.2\n",
       "jupyter_client      8.6.0\n",
       "jupyter_core        5.2.0\n",
       "jupyterlab          3.6.3\n",
       "notebook            6.1.5\n",
       "-----\n",
       "Python 3.8.18 (default, Sep 11 2023, 13:47:48) [MSC v.1916 64 bit (AMD64)]\n",
       "Windows-10-10.0.19045-SP0\n",
       "-----\n",
       "Session information updated at 2024-12-31 12:48\n",
       "</pre>\n",
       "</details>"
      ],
      "text/plain": [
       "<IPython.core.display.HTML object>"
      ]
     },
     "execution_count": 3,
     "metadata": {},
     "output_type": "execute_result"
    }
   ],
   "source": [
    "# Display session information\n",
    "session_info.show()"
   ]
  },
  {
   "cell_type": "code",
   "execution_count": 4,
   "id": "fc480b4d",
   "metadata": {},
   "outputs": [],
   "source": [
    "pd.set_option('display.max_columns', None)\n",
    "pd.set_option('display.max_rows', None)"
   ]
  },
  {
   "cell_type": "code",
   "execution_count": 5,
   "id": "f3739c52",
   "metadata": {},
   "outputs": [],
   "source": [
    "# Set all random seeds for reproducibility\n",
    "SEED = 42\n",
    "\n",
    "# Set seed for NumPy\n",
    "np.random.seed(SEED)\n",
    "\n",
    "# Set seed for Python's random module\n",
    "random.seed(SEED)"
   ]
  },
  {
   "cell_type": "code",
   "execution_count": 6,
   "id": "fd72d0f6",
   "metadata": {},
   "outputs": [],
   "source": [
    "# Working directory\n",
    "wd =                                                               r\"data/Foldseek/back_all_C1/\"\n",
    "\n",
    "# INPUT: Positions CSV file with C position information\n",
    "c_pos_filepath = wd + \"c_positions.csv\""
   ]
  },
  {
   "cell_type": "code",
   "execution_count": 7,
   "id": "144f5f14",
   "metadata": {},
   "outputs": [],
   "source": [
    "# Maximum distance to C\n",
    "LOCAL_RANGE = 5"
   ]
  },
  {
   "cell_type": "markdown",
   "id": "0169684d",
   "metadata": {},
   "source": [
    "# Run Foldseek on a Linux subsystem"
   ]
  },
  {
   "cell_type": "markdown",
   "id": "3cc96897",
   "metadata": {},
   "source": [
    "Required Input:\n",
    "\n",
    "    - a csv file called c_positions.csv with at least the following columns:\n",
    "        - ID with Uniprot identifiers in the first column\n",
    "        - N_Cpos with the position of the C residue in the amino acid sequence (from N terminal)\n",
    "        - len with the length of the amino acid sequence\n",
    "        \n",
    "    - The parameter local_range to define how many amino acids around the C residue are included in the analysis."
   ]
  },
  {
   "cell_type": "markdown",
   "id": "323e10b2",
   "metadata": {},
   "source": [
    "- Install Foldseek from Github.\n",
    "- Run bash script foldseek.sh "
   ]
  },
  {
   "cell_type": "code",
   "execution_count": 8,
   "id": "2d128e6d",
   "metadata": {},
   "outputs": [],
   "source": [
    "# The output in each folder is:\n",
    "# folder fastafiles -> unmasked_3di_seq.fasta\n",
    "# folder plots\n",
    "# c_positions.csv\n",
    "# uniprot_ids.txt"
   ]
  },
  {
   "cell_type": "code",
   "execution_count": 9,
   "id": "644d06d1",
   "metadata": {},
   "outputs": [
    {
     "data": {
      "text/plain": [
       "'\\n\\nF_Count_all_1      back_Count_all_1\\nF_GG_Count_all_1\\nGG_Count_all_1\\n\\npren_all_C1        back_all_C1\\n\\npren_Ccount_1      back_Ccount_1\\npren_Count_all_1   back_Count_all_1\\npren_lowest_pae_1  back_lowest_pae_1\\npren_pae_0         back_pae_0\\n\\n'"
      ]
     },
     "execution_count": 9,
     "metadata": {},
     "output_type": "execute_result"
    }
   ],
   "source": [
    "\"\"\"\n",
    "\n",
    "F_Count_all_1      back_Count_all_1\n",
    "F_GG_Count_all_1\n",
    "GG_Count_all_1\n",
    "\n",
    "pren_all_C1        back_all_C1\n",
    "\n",
    "pren_Ccount_1      back_Ccount_1\n",
    "pren_Count_all_1   back_Count_all_1\n",
    "pren_lowest_pae_1  back_lowest_pae_1\n",
    "pren_pae_0         back_pae_0\n",
    "\n",
    "\"\"\""
   ]
  },
  {
   "cell_type": "markdown",
   "id": "3e9fe67d",
   "metadata": {},
   "source": [
    "# Get 3Di States in range 5 of cysteine"
   ]
  },
  {
   "cell_type": "markdown",
   "id": "05f22c4b",
   "metadata": {},
   "source": [
    "Goal: Use sequences provided in FASTA format to get a string with 5 Sdi states around the C residue of interest.\n",
    "\n",
    "The parameter int : local_range determines what is 'too far away': Anything further than +-local_range amino acids/3di states.\n",
    "\n",
    "Note: So far, this script only works for AlphaFold structures, not for experimental data!"
   ]
  },
  {
   "cell_type": "markdown",
   "id": "9fad2497",
   "metadata": {},
   "source": [
    "Read in CSV file with C position information, required format:\n",
    "\n",
    "    a \"protein_id\" column with Uniprot identifiers\n",
    "    a \"position\" column with the position of each C\n",
    "    a \"len\" column with the length of the reference amino acid sequence"
   ]
  },
  {
   "cell_type": "code",
   "execution_count": 10,
   "id": "43b21e3d",
   "metadata": {},
   "outputs": [
    {
     "data": {
      "text/html": [
       "<div>\n",
       "<style scoped>\n",
       "    .dataframe tbody tr th:only-of-type {\n",
       "        vertical-align: middle;\n",
       "    }\n",
       "\n",
       "    .dataframe tbody tr th {\n",
       "        vertical-align: top;\n",
       "    }\n",
       "\n",
       "    .dataframe thead th {\n",
       "        text-align: right;\n",
       "    }\n",
       "</style>\n",
       "<table border=\"1\" class=\"dataframe\">\n",
       "  <thead>\n",
       "    <tr style=\"text-align: right;\">\n",
       "      <th></th>\n",
       "      <th></th>\n",
       "      <th>name</th>\n",
       "      <th>quality</th>\n",
       "      <th>structure_group</th>\n",
       "      <th>Ccount</th>\n",
       "      <th>Count_all</th>\n",
       "      <th>nAA_30_180_pae</th>\n",
       "      <th>len</th>\n",
       "      <th>Cpos</th>\n",
       "      <th>pep</th>\n",
       "      <th>pepCCC</th>\n",
       "      <th>pepCC</th>\n",
       "      <th>pepCXC</th>\n",
       "      <th>pepC</th>\n",
       "      <th>lowest_pae</th>\n",
       "      <th>accs_count</th>\n",
       "    </tr>\n",
       "    <tr>\n",
       "      <th>ID</th>\n",
       "      <th>N_Cpos</th>\n",
       "      <th></th>\n",
       "      <th></th>\n",
       "      <th></th>\n",
       "      <th></th>\n",
       "      <th></th>\n",
       "      <th></th>\n",
       "      <th></th>\n",
       "      <th></th>\n",
       "      <th></th>\n",
       "      <th></th>\n",
       "      <th></th>\n",
       "      <th></th>\n",
       "      <th></th>\n",
       "      <th></th>\n",
       "      <th></th>\n",
       "    </tr>\n",
       "  </thead>\n",
       "  <tbody>\n",
       "    <tr>\n",
       "      <th>A6NCE7</th>\n",
       "      <th>113</th>\n",
       "      <td>MP3B2</td>\n",
       "      <td>94.18</td>\n",
       "      <td>STRN</td>\n",
       "      <td>1</td>\n",
       "      <td>1</td>\n",
       "      <td>0</td>\n",
       "      <td>125</td>\n",
       "      <td>-13</td>\n",
       "      <td>FLYMVCASQET</td>\n",
       "      <td>NaN</td>\n",
       "      <td>NaN</td>\n",
       "      <td>NaN</td>\n",
       "      <td>FLYMVCASQET</td>\n",
       "      <td>0</td>\n",
       "      <td>1</td>\n",
       "    </tr>\n",
       "    <tr>\n",
       "      <th>Q8TDW0</th>\n",
       "      <th>165</th>\n",
       "      <td>LRC8C</td>\n",
       "      <td>92.32</td>\n",
       "      <td>HELX</td>\n",
       "      <td>17</td>\n",
       "      <td>17</td>\n",
       "      <td>0</td>\n",
       "      <td>803</td>\n",
       "      <td>-639</td>\n",
       "      <td>SILGKCFDSPW</td>\n",
       "      <td>NaN</td>\n",
       "      <td>NaN</td>\n",
       "      <td>NaN</td>\n",
       "      <td>SILGKCFDSPW</td>\n",
       "      <td>0</td>\n",
       "      <td>1</td>\n",
       "    </tr>\n",
       "    <tr>\n",
       "      <th>Q8TCW7</th>\n",
       "      <th>391</th>\n",
       "      <td>ZPLD1</td>\n",
       "      <td>84.38</td>\n",
       "      <td>HELX</td>\n",
       "      <td>13</td>\n",
       "      <td>13</td>\n",
       "      <td>0</td>\n",
       "      <td>415</td>\n",
       "      <td>-25</td>\n",
       "      <td>FSLLLCSLALL</td>\n",
       "      <td>NaN</td>\n",
       "      <td>NaN</td>\n",
       "      <td>NaN</td>\n",
       "      <td>FSLLLCSLALL</td>\n",
       "      <td>0</td>\n",
       "      <td>1</td>\n",
       "    </tr>\n",
       "    <tr>\n",
       "      <th>Q8NC56</th>\n",
       "      <th>386</th>\n",
       "      <td>LEMD2</td>\n",
       "      <td>85.63</td>\n",
       "      <td>HELX</td>\n",
       "      <td>7</td>\n",
       "      <td>7</td>\n",
       "      <td>0</td>\n",
       "      <td>503</td>\n",
       "      <td>-118</td>\n",
       "      <td>LIFFWCLAFLW</td>\n",
       "      <td>NaN</td>\n",
       "      <td>NaN</td>\n",
       "      <td>NaN</td>\n",
       "      <td>LIFFWCLAFLW</td>\n",
       "      <td>0</td>\n",
       "      <td>1</td>\n",
       "    </tr>\n",
       "    <tr>\n",
       "      <th>Q8NBF6</th>\n",
       "      <th>257</th>\n",
       "      <td>AVL9</td>\n",
       "      <td>31.40</td>\n",
       "      <td>HELX</td>\n",
       "      <td>6</td>\n",
       "      <td>6</td>\n",
       "      <td>0</td>\n",
       "      <td>648</td>\n",
       "      <td>-392</td>\n",
       "      <td>QESNPCADDFV</td>\n",
       "      <td>NaN</td>\n",
       "      <td>NaN</td>\n",
       "      <td>NaN</td>\n",
       "      <td>QESNPCADDFV</td>\n",
       "      <td>0</td>\n",
       "      <td>1</td>\n",
       "    </tr>\n",
       "  </tbody>\n",
       "</table>\n",
       "</div>"
      ],
      "text/plain": [
       "                name  quality structure_group  Ccount  Count_all  \\\n",
       "ID     N_Cpos                                                      \n",
       "A6NCE7 113     MP3B2    94.18            STRN       1          1   \n",
       "Q8TDW0 165     LRC8C    92.32            HELX      17         17   \n",
       "Q8TCW7 391     ZPLD1    84.38            HELX      13         13   \n",
       "Q8NC56 386     LEMD2    85.63            HELX       7          7   \n",
       "Q8NBF6 257      AVL9    31.40            HELX       6          6   \n",
       "\n",
       "               nAA_30_180_pae  len  Cpos          pep  pepCCC  pepCC  pepCXC  \\\n",
       "ID     N_Cpos                                                                  \n",
       "A6NCE7 113                  0  125   -13  FLYMVCASQET     NaN    NaN     NaN   \n",
       "Q8TDW0 165                  0  803  -639  SILGKCFDSPW     NaN    NaN     NaN   \n",
       "Q8TCW7 391                  0  415   -25  FSLLLCSLALL     NaN    NaN     NaN   \n",
       "Q8NC56 386                  0  503  -118  LIFFWCLAFLW     NaN    NaN     NaN   \n",
       "Q8NBF6 257                  0  648  -392  QESNPCADDFV     NaN    NaN     NaN   \n",
       "\n",
       "                      pepC  lowest_pae  accs_count  \n",
       "ID     N_Cpos                                       \n",
       "A6NCE7 113     FLYMVCASQET           0           1  \n",
       "Q8TDW0 165     SILGKCFDSPW           0           1  \n",
       "Q8TCW7 391     FSLLLCSLALL           0           1  \n",
       "Q8NC56 386     LIFFWCLAFLW           0           1  \n",
       "Q8NBF6 257     QESNPCADDFV           0           1  "
      ]
     },
     "execution_count": 10,
     "metadata": {},
     "output_type": "execute_result"
    }
   ],
   "source": [
    "c_positions = pd.read_csv(c_pos_filepath, index_col=[\"ID\", \"N_Cpos\"])\n",
    "c_positions.head()"
   ]
  },
  {
   "cell_type": "code",
   "execution_count": 11,
   "id": "30329fb8",
   "metadata": {},
   "outputs": [],
   "source": [
    "# INPUT: Unmasked 3di sequences FASTA file generated with Foldseek\n",
    "unmasked_fasta_filepath   = wd + \"fastafiles/unmasked_3di_seq.fasta\"\n",
    "\n",
    "output_3di_state_filepath = wd + \"3di_states.csv\"\n",
    "\n",
    "mask_all_sequences_in_fastafile(input_fasta_filepath  = unmasked_fasta_filepath, \n",
    "                                c_positions           = c_positions, \n",
    "                                local_range           = LOCAL_RANGE, \n",
    "                                output_state_filepath = output_3di_state_filepath)"
   ]
  },
  {
   "cell_type": "markdown",
   "id": "15a94310",
   "metadata": {},
   "source": [
    "# Creating plots"
   ]
  },
  {
   "cell_type": "code",
   "execution_count": 12,
   "id": "8cf63e64",
   "metadata": {},
   "outputs": [
    {
     "name": "stdout",
     "output_type": "stream",
     "text": [
      "N of cysteines: 296\n"
     ]
    }
   ],
   "source": [
    "# Read in file with 3Di state of each C residue\n",
    "c_3di_state_filepath = wd + r\"\\3di_states.csv\"\n",
    "states               = pd.read_csv(c_3di_state_filepath)\n",
    "print('N of cysteines:', len(states))"
   ]
  },
  {
   "cell_type": "code",
   "execution_count": 13,
   "id": "c59591e9",
   "metadata": {},
   "outputs": [
    {
     "data": {
      "text/html": [
       "<div>\n",
       "<style scoped>\n",
       "    .dataframe tbody tr th:only-of-type {\n",
       "        vertical-align: middle;\n",
       "    }\n",
       "\n",
       "    .dataframe tbody tr th {\n",
       "        vertical-align: top;\n",
       "    }\n",
       "\n",
       "    .dataframe thead th {\n",
       "        text-align: right;\n",
       "    }\n",
       "</style>\n",
       "<table border=\"1\" class=\"dataframe\">\n",
       "  <thead>\n",
       "    <tr style=\"text-align: right;\">\n",
       "      <th></th>\n",
       "      <th>id</th>\n",
       "      <th>c_position</th>\n",
       "      <th>state</th>\n",
       "    </tr>\n",
       "  </thead>\n",
       "  <tbody>\n",
       "    <tr>\n",
       "      <th>0</th>\n",
       "      <td>A6NCE7</td>\n",
       "      <td>113</td>\n",
       "      <td>ητψιηιητπβρ</td>\n",
       "    </tr>\n",
       "    <tr>\n",
       "      <th>1</th>\n",
       "      <td>A6NFQ2</td>\n",
       "      <td>518</td>\n",
       "      <td>βδθπφφδππδδ</td>\n",
       "    </tr>\n",
       "    <tr>\n",
       "      <th>2</th>\n",
       "      <td>C4AMC7</td>\n",
       "      <td>143</td>\n",
       "      <td>βππππππππππ</td>\n",
       "    </tr>\n",
       "    <tr>\n",
       "      <th>3</th>\n",
       "      <td>O00116</td>\n",
       "      <td>58</td>\n",
       "      <td>δδπδδδδδδδδ</td>\n",
       "    </tr>\n",
       "    <tr>\n",
       "      <th>4</th>\n",
       "      <td>O00203</td>\n",
       "      <td>507</td>\n",
       "      <td>σθλλθθβσββπ</td>\n",
       "    </tr>\n",
       "  </tbody>\n",
       "</table>\n",
       "</div>"
      ],
      "text/plain": [
       "       id  c_position        state\n",
       "0  A6NCE7         113  ητψιηιητπβρ\n",
       "1  A6NFQ2         518  βδθπφφδππδδ\n",
       "2  C4AMC7         143  βππππππππππ\n",
       "3  O00116          58  δδπδδδδδδδδ\n",
       "4  O00203         507  σθλλθθβσββπ"
      ]
     },
     "execution_count": 13,
     "metadata": {},
     "output_type": "execute_result"
    }
   ],
   "source": [
    "states.head()"
   ]
  },
  {
   "cell_type": "markdown",
   "id": "976f797e",
   "metadata": {},
   "source": [
    "## Create Sequence Logo from Trimmed 3Di Sequences"
   ]
  },
  {
   "cell_type": "code",
   "execution_count": 14,
   "id": "686a9800",
   "metadata": {},
   "outputs": [],
   "source": [
    "# Define the Greek alphabet\n",
    "greek_alphabet = 'αβγδεηθικλμνπρστφχψω'\n",
    "n_colors = len(greek_alphabet)\n",
    "\n",
    "# Use Matplotlib's colormap to get the colors\n",
    "cmap = plt.cm.tab10  # colormap\n",
    "colors = [cmap(i / (n_colors - 1)) for i in range(n_colors)]\n",
    "\n",
    "# Convert RGB (from matplotlib) to Hex format\n",
    "def rgb_to_hex(rgb):\n",
    "    return \"#{:02x}{:02x}{:02x}\".format(int(rgb[0] * 255), int(rgb[1] * 255), int(rgb[2] * 255))\n",
    "\n",
    "# Apply the RGB to Hex conversion\n",
    "colors_hex = [rgb_to_hex(c[:3]) for c in colors]\n",
    "\n",
    "alphabet = list(greek_alphabet)\n",
    "color_dict = {alphabet[i]: colors[i] for i in range(n_colors)}"
   ]
  },
  {
   "cell_type": "code",
   "execution_count": 15,
   "id": "9fe95da5",
   "metadata": {},
   "outputs": [],
   "source": [
    "sequences = states['state'].tolist()"
   ]
  },
  {
   "cell_type": "code",
   "execution_count": 16,
   "id": "18f88895",
   "metadata": {},
   "outputs": [],
   "source": [
    "contingency_table = lm.alignment_to_matrix(sequences)"
   ]
  },
  {
   "cell_type": "code",
   "execution_count": 17,
   "id": "2e038436",
   "metadata": {},
   "outputs": [],
   "source": [
    "def fill_missing_values(table):\n",
    "    # Define the order of Greek letters\n",
    "    greek_alphabet = ['α', 'β', 'γ', 'δ', 'ε', 'η', 'θ', 'ι', 'κ', 'λ', 'μ', 'ν', 'π', 'ρ', 'σ', 'τ', 'φ', 'χ', 'ψ', 'ω']\n",
    "\n",
    "    # Get the columns of the original table as strings\n",
    "    original_columns = table.columns.astype(str)\n",
    "\n",
    "    # Create a new filled table with 20 columns, filled with zeros\n",
    "    filled_table = pd.DataFrame(0.000, index=table.index, columns=greek_alphabet)\n",
    "\n",
    "    # Copy the values from the original table to the filled table\n",
    "    for i, letter in enumerate(greek_alphabet):\n",
    "        if letter in original_columns:\n",
    "            filled_table[letter] = table[letter]\n",
    "\n",
    "    return filled_table"
   ]
  },
  {
   "cell_type": "code",
   "execution_count": 18,
   "id": "3e5d2b64",
   "metadata": {},
   "outputs": [],
   "source": [
    "filled_table = fill_missing_values(contingency_table)"
   ]
  },
  {
   "cell_type": "code",
   "execution_count": 19,
   "id": "d0a9bf0d",
   "metadata": {},
   "outputs": [],
   "source": [
    "# save\n",
    "filled_table.to_csv(rf'{wd}/state_count_matrix.csv', index=False)"
   ]
  },
  {
   "cell_type": "markdown",
   "id": "203f86ed",
   "metadata": {},
   "source": [
    "Convert \"alignment\" to state count matrix"
   ]
  },
  {
   "cell_type": "code",
   "execution_count": 20,
   "id": "1a4c5243",
   "metadata": {},
   "outputs": [],
   "source": [
    "state_count_matrix = lm.alignment_to_matrix(sequences)\n",
    "state_count_matrix = state_count_matrix / len(sequences)"
   ]
  },
  {
   "cell_type": "markdown",
   "id": "529ed951",
   "metadata": {},
   "source": [
    "Create and save sequence logo"
   ]
  },
  {
   "cell_type": "code",
   "execution_count": 21,
   "id": "a8d00864",
   "metadata": {},
   "outputs": [
    {
     "data": {
      "image/png": "[encoded data removed]",
      "text/plain": [
       "<Figure size 1000x250 with 1 Axes>"
      ]
     },
     "metadata": {},
     "output_type": "display_data"
    }
   ],
   "source": [
    "state_logo           = lm.Logo(state_count_matrix, \n",
    "                               color_scheme = color_dict,\n",
    "                               vpad=.05)\n",
    "state_logo.ax.set_xlabel(\"Position in base pairs relative to C\", fontsize = 12)\n",
    "state_logo.ax.set_xticks(range(len(state_count_matrix)))\n",
    "state_logo.ax.set_xticklabels(range(-LOCAL_RANGE, len(state_count_matrix)-LOCAL_RANGE))\n",
    "\n",
    "state_logo.ax.set_ylabel('Frequency', fontsize = 12)\n",
    "\n",
    "state_logo.ax.axvline(4.5, color='r', linewidth=3, linestyle='-')\n",
    "state_logo.ax.axvline(5.5, color='r', linewidth=3, linestyle='-')\n",
    "\n",
    "\n",
    "state_logo.ax.set_title(f\"3Di states around C residues (N = {len(sequences)})\", fontsize = 16, y = 1.1)\n",
    "\n",
    "state_logo_plot_path = wd + \"/plots/sequence_logo_3di_states_greek.pdf\"\n",
    "state_logo.fig.savefig(state_logo_plot_path, bbox_inches='tight')\n",
    "state_logo.fig.show(\"test\")"
   ]
  },
  {
   "cell_type": "code",
   "execution_count": null,
   "id": "adaeca64",
   "metadata": {},
   "outputs": [],
   "source": []
  }
 ],
 "metadata": {
  "kernelspec": {
   "display_name": "Python 3 (ipykernel)",
   "language": "python",
   "name": "python3"
  },
  "language_info": {
   "codemirror_mode": {
    "name": "ipython",
    "version": 3
   },
   "file_extension": ".py",
   "mimetype": "text/x-python",
   "name": "python",
   "nbconvert_exporter": "python",
   "pygments_lexer": "ipython3",
   "version": "3.8.18"
  },
  "toc": {
   "base_numbering": 1,
   "nav_menu": {},
   "number_sections": true,
   "sideBar": true,
   "skip_h1_title": false,
   "title_cell": "Table of Contents",
   "title_sidebar": "Contents",
   "toc_cell": false,
   "toc_position": {},
   "toc_section_display": true,
   "toc_window_display": false
  }
 },
 "nbformat": 4,
 "nbformat_minor": 5
}
