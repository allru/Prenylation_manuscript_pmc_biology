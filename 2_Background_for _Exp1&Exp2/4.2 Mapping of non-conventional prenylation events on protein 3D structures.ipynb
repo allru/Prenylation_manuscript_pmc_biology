{
 "cells": [
  {
   "cell_type": "markdown",
   "metadata": {
    "toc": true
   },
   "source": [
    "<h1>Table of Contents<span class=\"tocSkip\"></span></h1>\n",
    "<div class=\"toc\"><ul class=\"toc-item\"><li><span><a href=\"#What-are-the-probable-sites-of-prenyl-attachment-of-non-conventional-protein-prenylation-events?\" data-toc-modified-id=\"What-are-the-probable-sites-of-prenyl-attachment-of-non-conventional-protein-prenylation-events?-1\"><span class=\"toc-item-num\">1&nbsp;&nbsp;</span>What are the probable sites of prenyl attachment of non-conventional protein prenylation events?</a></span><ul class=\"toc-item\"><li><span><a href=\"#Annotate-secondary-structure-of-cysteines\" data-toc-modified-id=\"Annotate-secondary-structure-of-cysteines-1.1\"><span class=\"toc-item-num\">1.1&nbsp;&nbsp;</span>Annotate secondary structure of cysteines</a></span></li><li><span><a href=\"#Search-for-most-accessible-cysteines\" data-toc-modified-id=\"Search-for-most-accessible-cysteines-1.2\"><span class=\"toc-item-num\">1.2&nbsp;&nbsp;</span>Search for most accessible cysteines</a></span></li></ul></li><li><span><a href=\"#SequenceLogos-for-internally-prenylated-proteins-with-1-most-accessible-cysteine\" data-toc-modified-id=\"SequenceLogos-for-internally-prenylated-proteins-with-1-most-accessible-cysteine-2\"><span class=\"toc-item-num\">2&nbsp;&nbsp;</span>SequenceLogos for internally prenylated proteins with 1 most accessible cysteine</a></span><ul class=\"toc-item\"><li><span><a href=\"#Sorted-by-accessibility\" data-toc-modified-id=\"Sorted-by-accessibility-2.1\"><span class=\"toc-item-num\">2.1&nbsp;&nbsp;</span>Sorted by accessibility</a></span></li><li><span><a href=\"#Sorted-by-moiety\" data-toc-modified-id=\"Sorted-by-moiety-2.2\"><span class=\"toc-item-num\">2.2&nbsp;&nbsp;</span>Sorted by moiety</a></span></li><li><span><a href=\"#Sorted-by-secondary-structure\" data-toc-modified-id=\"Sorted-by-secondary-structure-2.3\"><span class=\"toc-item-num\">2.3&nbsp;&nbsp;</span>Sorted by secondary structure</a></span></li><li><span><a href=\"#Hypergeometric-distribution-and-Fisher's-exact-test\" data-toc-modified-id=\"Hypergeometric-distribution-and-Fisher's-exact-test-2.4\"><span class=\"toc-item-num\">2.4&nbsp;&nbsp;</span>Hypergeometric distribution and Fisher's exact test</a></span></li></ul></li><li><span><a href=\"#Search-for-double-prenylated-cysteines\" data-toc-modified-id=\"Search-for-double-prenylated-cysteines-3\"><span class=\"toc-item-num\">3&nbsp;&nbsp;</span>Search for double prenylated cysteines</a></span></li></ul></div>"
   ]
  },
  {
   "cell_type": "code",
   "execution_count": 1,
   "metadata": {},
   "outputs": [],
   "source": [
    "import sys\n",
    "import os\n",
    "import session_info\n",
    "\n",
    "# Add the '0_functions' folder to sys.path\n",
    "sys.path.append(os.path.join(os.getcwd(), '..', '0_functions'))"
   ]
  },
  {
   "cell_type": "code",
   "execution_count": 2,
   "metadata": {},
   "outputs": [],
   "source": [
    "import pandas as pd\n",
    "from functions import clean_agg\n",
    "from functions import annotate_most_accs_C\n",
    "import scipy.stats as stats\n",
    "import matplotlib.pyplot as plt\n",
    "import seaborn as sns"
   ]
  },
  {
   "cell_type": "code",
   "execution_count": 3,
   "metadata": {},
   "outputs": [
    {
     "data": {
      "text/html": [
       "<details>\n",
       "<summary>Click to view session information</summary>\n",
       "<pre>\n",
       "-----\n",
       "functions           NA\n",
       "matplotlib          3.7.0\n",
       "pandas              2.0.3\n",
       "scipy               1.10.1\n",
       "seaborn             0.13.2\n",
       "session_info        1.0.0\n",
       "-----\n",
       "</pre>\n",
       "<details>\n",
       "<summary>Click to view modules imported as dependencies</summary>\n",
       "<pre>\n",
       "Bio                         1.83\n",
       "PIL                         10.0.1\n",
       "anyio                       NA\n",
       "asttokens                   NA\n",
       "attr                        23.1.0\n",
       "attrs                       23.1.0\n",
       "babel                       2.11.0\n",
       "backcall                    0.2.0\n",
       "bottleneck                  1.3.7\n",
       "brotli                      NA\n",
       "certifi                     2024.08.30\n",
       "cffi                        1.16.0\n",
       "charset_normalizer          2.0.4\n",
       "colorama                    0.4.6\n",
       "comm                        0.1.2\n",
       "cycler                      0.10.0\n",
       "cython_runtime              NA\n",
       "dateutil                    2.8.2\n",
       "debugpy                     1.6.7\n",
       "decorator                   5.1.1\n",
       "defusedxml                  0.7.1\n",
       "executing                   0.8.3\n",
       "fastjsonschema              NA\n",
       "idna                        3.4\n",
       "importlib_metadata          NA\n",
       "importlib_resources         NA\n",
       "ipykernel                   6.25.0\n",
       "ipython_genutils            0.2.0\n",
       "ipywidgets                  7.6.5\n",
       "jedi                        0.18.1\n",
       "jinja2                      3.1.2\n",
       "json5                       NA\n",
       "jsonschema                  4.19.2\n",
       "jsonschema_specifications   NA\n",
       "jupyter_events              0.8.0\n",
       "jupyter_server              2.10.0\n",
       "jupyterlab_server           2.25.1\n",
       "kiwisolver                  1.4.4\n",
       "markupsafe                  2.1.1\n",
       "mpl_toolkits                NA\n",
       "nbformat                    5.9.2\n",
       "nt                          NA\n",
       "numexpr                     2.8.4\n",
       "numpy                       1.24.4\n",
       "overrides                   NA\n",
       "packaging                   23.1\n",
       "parso                       0.8.3\n",
       "patsy                       0.5.6\n",
       "pickleshare                 0.7.5\n",
       "pkg_resources               NA\n",
       "platformdirs                3.10.0\n",
       "prometheus_client           NA\n",
       "prompt_toolkit              3.0.36\n",
       "psutil                      5.9.0\n",
       "pure_eval                   0.2.2\n",
       "pydev_ipython               NA\n",
       "pydevconsole                NA\n",
       "pydevd                      2.9.5\n",
       "pydevd_file_utils           NA\n",
       "pydevd_plugins              NA\n",
       "pydevd_tracing              NA\n",
       "pygments                    2.11.2\n",
       "pyparsing                   3.0.9\n",
       "pythoncom                   NA\n",
       "pythonjsonlogger            NA\n",
       "pytz                        2023.3.post1\n",
       "pywintypes                  NA\n",
       "referencing                 NA\n",
       "requests                    2.31.0\n",
       "rfc3339_validator           0.1.4\n",
       "rfc3986_validator           0.1.1\n",
       "rpds                        NA\n",
       "send2trash                  NA\n",
       "six                         1.16.0\n",
       "sniffio                     1.2.0\n",
       "socks                       1.7.1\n",
       "stack_data                  0.2.0\n",
       "statsmodels                 0.14.1\n",
       "tornado                     6.3.3\n",
       "traitlets                   5.7.1\n",
       "typing_extensions           NA\n",
       "urllib3                     1.26.18\n",
       "wcwidth                     0.2.5\n",
       "websocket                   0.58.0\n",
       "yaml                        6.0.1\n",
       "zipp                        NA\n",
       "zmq                         25.1.0\n",
       "</pre>\n",
       "</details> <!-- seems like this ends pre, so might as well be explicit -->\n",
       "<pre>\n",
       "-----\n",
       "IPython             8.12.2\n",
       "jupyter_client      8.6.0\n",
       "jupyter_core        5.2.0\n",
       "jupyterlab          3.6.3\n",
       "notebook            6.1.5\n",
       "-----\n",
       "Python 3.8.17 (default, Jul  5 2023, 20:44:21) [MSC v.1916 64 bit (AMD64)]\n",
       "Windows-10-10.0.19045-SP0\n",
       "-----\n",
       "Session information updated at 2024-12-30 12:10\n",
       "</pre>\n",
       "</details>"
      ],
      "text/plain": [
       "<IPython.core.display.HTML object>"
      ]
     },
     "execution_count": 3,
     "metadata": {},
     "output_type": "execute_result"
    }
   ],
   "source": [
    "# Display session information\n",
    "session_info.show()"
   ]
  },
  {
   "cell_type": "code",
   "execution_count": 4,
   "metadata": {},
   "outputs": [],
   "source": [
    "# Set options to display all rows and columns\n",
    "pd.set_option('display.max_rows', None)\n",
    "pd.set_option('display.max_columns', None)"
   ]
  },
  {
   "cell_type": "code",
   "execution_count": 5,
   "metadata": {},
   "outputs": [],
   "source": [
    "# Load data\n",
    "datafolder = 'data'\n",
    "PSSMSearch = 'data\\PSSMSearch'\n",
    "Foldseek = 'data\\Foldseek'\n",
    "\n",
    "# Background proteins\n",
    "back_internal = pd.read_csv(os.path.join(datafolder, 'total_extracts_GG_F', 'clean_background.csv'), sep=',')"
   ]
  },
  {
   "cell_type": "markdown",
   "metadata": {},
   "source": [
    "# What are the probable sites of prenyl attachment of non-conventional protein prenylation events?\n",
    "\n",
    "Mapping of the cysteine sequence motifs onto the protein 3D structure "
   ]
  },
  {
   "cell_type": "code",
   "execution_count": 6,
   "metadata": {},
   "outputs": [
    {
     "name": "stdout",
     "output_type": "stream",
     "text": [
      "Background proteins: 785\n"
     ]
    }
   ],
   "source": [
    "print('Background proteins: ', len(back_internal['ID'].unique()), sep='')"
   ]
  },
  {
   "cell_type": "code",
   "execution_count": 7,
   "metadata": {},
   "outputs": [],
   "source": [
    "# Check and remove proteins for which we only have sequence isoforms to work with\n",
    "# AlphaFold doesn't yet contain 3D structures of isoforms\n",
    "\n",
    "back_internal = back_internal[~back_internal['seqID'].str.contains('-')]"
   ]
  },
  {
   "cell_type": "code",
   "execution_count": 8,
   "metadata": {},
   "outputs": [
    {
     "name": "stdout",
     "output_type": "stream",
     "text": [
      "Background proteins: 785\n"
     ]
    }
   ],
   "source": [
    "print('Background proteins: ', len(back_internal['ID'].unique()), sep='')\n",
    "\n",
    "# 0 proteins fell out"
   ]
  },
  {
   "cell_type": "code",
   "execution_count": 9,
   "metadata": {},
   "outputs": [
    {
     "data": {
      "text/plain": [
       "6270"
      ]
     },
     "execution_count": 9,
     "metadata": {},
     "output_type": "execute_result"
    }
   ],
   "source": [
    "len(back_internal)"
   ]
  },
  {
   "cell_type": "markdown",
   "metadata": {},
   "source": [
    "## Annotate secondary structure of cysteines"
   ]
  },
  {
   "cell_type": "code",
   "execution_count": 10,
   "metadata": {},
   "outputs": [],
   "source": [
    "# run Structuremap \n",
    "\n",
    "#annotate_structuremap(back_internal, \"up_output_background_multi_disulfid_17.04.24.csv\", group='all_pren', max_dist=30, max_angle=180)"
   ]
  },
  {
   "cell_type": "markdown",
   "metadata": {},
   "source": [
    "## Search for most accessible cysteines"
   ]
  },
  {
   "cell_type": "code",
   "execution_count": 11,
   "metadata": {},
   "outputs": [],
   "source": [
    "# load\n",
    "back_intern_pep = pd.read_csv(os.path.join(datafolder, 'AlphaFold_annotated', 'all_pren_structure.csv'), sep=',')"
   ]
  },
  {
   "cell_type": "code",
   "execution_count": 12,
   "metadata": {},
   "outputs": [
    {
     "name": "stdout",
     "output_type": "stream",
     "text": [
      "total of Cs in background proteins: 6261\n",
      "total of background proteins: 783\n"
     ]
    }
   ],
   "source": [
    "print('total of Cs in background proteins:', len(back_intern_pep))\n",
    "print('total of background proteins:', len(back_intern_pep['ID'].unique()))"
   ]
  },
  {
   "cell_type": "code",
   "execution_count": 13,
   "metadata": {},
   "outputs": [
    {
     "data": {
      "text/html": [
       "<div>\n",
       "<style scoped>\n",
       "    .dataframe tbody tr th:only-of-type {\n",
       "        vertical-align: middle;\n",
       "    }\n",
       "\n",
       "    .dataframe tbody tr th {\n",
       "        vertical-align: top;\n",
       "    }\n",
       "\n",
       "    .dataframe thead th {\n",
       "        text-align: right;\n",
       "    }\n",
       "</style>\n",
       "<table border=\"1\" class=\"dataframe\">\n",
       "  <thead>\n",
       "    <tr style=\"text-align: right;\">\n",
       "      <th></th>\n",
       "      <th>ID</th>\n",
       "      <th>seqID</th>\n",
       "    </tr>\n",
       "  </thead>\n",
       "  <tbody>\n",
       "    <tr>\n",
       "      <th>0</th>\n",
       "      <td>Q12983</td>\n",
       "      <td>sp|Q12983|BNIP3_HUMAN</td>\n",
       "    </tr>\n",
       "    <tr>\n",
       "      <th>1</th>\n",
       "      <td>Q6ZTN6</td>\n",
       "      <td>sp|Q6ZTN6|AN13D_HUMAN</td>\n",
       "    </tr>\n",
       "  </tbody>\n",
       "</table>\n",
       "</div>"
      ],
      "text/plain": [
       "       ID                  seqID\n",
       "0  Q12983  sp|Q12983|BNIP3_HUMAN\n",
       "1  Q6ZTN6  sp|Q6ZTN6|AN13D_HUMAN"
      ]
     },
     "execution_count": 13,
     "metadata": {},
     "output_type": "execute_result"
    }
   ],
   "source": [
    "# Check which proteins we lost during the AlpaFold analysis\n",
    "lost = back_internal[~back_internal['ID'].isin(back_intern_pep['ID'])]\n",
    "lost = lost.groupby(['ID']).agg(set).reset_index()\n",
    "lost = clean_agg(lost)\n",
    "lost[['ID', 'seqID']]\n",
    "\n",
    "# 2 invalid proteins"
   ]
  },
  {
   "cell_type": "code",
   "execution_count": 14,
   "metadata": {},
   "outputs": [
    {
     "data": {
      "text/plain": [
       "array(['ID', 'name', 'quality', 'structure_group', 'Ccount', 'Count_all',\n",
       "       'nAA_30_180_pae', 'len', 'Cpos', 'N_Cpos', 'pep', 'pepCCC',\n",
       "       'pepCC', 'pepCXC', 'pepC'], dtype=object)"
      ]
     },
     "execution_count": 14,
     "metadata": {},
     "output_type": "execute_result"
    }
   ],
   "source": [
    "back_intern_pep.columns.values"
   ]
  },
  {
   "cell_type": "code",
   "execution_count": 15,
   "metadata": {},
   "outputs": [],
   "source": [
    "# annotate accessibility of cysteines based on pae value\n",
    "agg_back_intern_accs = annotate_most_accs_C(back_intern_pep)"
   ]
  },
  {
   "cell_type": "code",
   "execution_count": 16,
   "metadata": {},
   "outputs": [
    {
     "name": "stdout",
     "output_type": "stream",
     "text": [
      "Out of 783 background proteins 305 have exactly 1 most accessible cysteine.\n"
     ]
    }
   ],
   "source": [
    "back_all_C1 = agg_back_intern_accs[agg_back_intern_accs['accs_count'] == 1]\n",
    "\n",
    "print('Out of', len(agg_back_intern_accs), 'background proteins', \n",
    "      len(back_all_C1), 'have exactly 1 most accessible cysteine.')"
   ]
  },
  {
   "cell_type": "code",
   "execution_count": 17,
   "metadata": {},
   "outputs": [],
   "source": [
    "# Add column pae_0 and fill with Cpos (1 most accessible cysteine at pae value 0, meaning no neighbours at 30 Angström distance)\n",
    "C1_at_0_pae = agg_back_intern_accs[(agg_back_intern_accs['accs_count'] == 1) & \n",
    "                                   (agg_back_intern_accs['lowest_pae'] == 0)].reset_index(drop=True)\n",
    "\n",
    "\n",
    "# Add column lowest_pae and fill with Cpos (1 most accessible cysteine at lowest pae value)\n",
    "C1_at_lowest_pae = agg_back_intern_accs[(agg_back_intern_accs['accs_count'] == 1) & \n",
    "                                        (agg_back_intern_accs['lowest_pae'] != 0)].reset_index(drop=True)"
   ]
  },
  {
   "cell_type": "code",
   "execution_count": 18,
   "metadata": {},
   "outputs": [],
   "source": [
    "# True C1\n",
    "back_Count_all_1 = C1_at_0_pae[C1_at_0_pae['Count_all'] == 1].reset_index(drop=True)"
   ]
  },
  {
   "cell_type": "code",
   "execution_count": 19,
   "metadata": {},
   "outputs": [],
   "source": [
    "# C1 after disregarding cysteines in disulfide bonds\n",
    "back_Ccount_1 = C1_at_0_pae[(C1_at_0_pae['Ccount'] == 1) & \n",
    "                                             (C1_at_0_pae['Count_all'] != 1)].reset_index(drop=True)"
   ]
  },
  {
   "cell_type": "code",
   "execution_count": 20,
   "metadata": {},
   "outputs": [],
   "source": [
    "# Proteins with 1 cysteine at 0 pae (not smoothed) and multiple Ccount\n",
    "back_pae_0 = C1_at_0_pae[(~C1_at_0_pae['ID'].isin(back_Count_all_1['ID'])) & \n",
    "                          (~C1_at_0_pae['ID'].isin(back_Ccount_1['ID']))]"
   ]
  },
  {
   "cell_type": "code",
   "execution_count": 21,
   "metadata": {},
   "outputs": [],
   "source": [
    "# Name change for consistency\n",
    "back_lowest_pae_1 = C1_at_lowest_pae"
   ]
  },
  {
   "cell_type": "code",
   "execution_count": 22,
   "metadata": {},
   "outputs": [
    {
     "name": "stdout",
     "output_type": "stream",
     "text": [
      "0\n",
      "1\n",
      "7\n",
      "1\n",
      "9\n"
     ]
    }
   ],
   "source": [
    "# Cysteine positions for which we can't show the peptides in Sequence Logos because they are too N-terminal to align\n",
    "print(len(back_Count_all_1[back_Count_all_1['N_Cpos'] < 6]))\n",
    "print(len(back_Ccount_1[back_Ccount_1['N_Cpos'] < 6]))\n",
    "print(len(back_pae_0[back_pae_0['N_Cpos'] < 6]))\n",
    "print(len(back_lowest_pae_1[back_lowest_pae_1['N_Cpos'] < 6]))\n",
    "print(len(back_all_C1[back_all_C1['N_Cpos'] < 6]))"
   ]
  },
  {
   "cell_type": "code",
   "execution_count": 23,
   "metadata": {},
   "outputs": [
    {
     "data": {
      "text/html": [
       "<div>\n",
       "<style scoped>\n",
       "    .dataframe tbody tr th:only-of-type {\n",
       "        vertical-align: middle;\n",
       "    }\n",
       "\n",
       "    .dataframe tbody tr th {\n",
       "        vertical-align: top;\n",
       "    }\n",
       "\n",
       "    .dataframe thead th {\n",
       "        text-align: right;\n",
       "    }\n",
       "</style>\n",
       "<table border=\"1\" class=\"dataframe\">\n",
       "  <thead>\n",
       "    <tr style=\"text-align: right;\">\n",
       "      <th></th>\n",
       "      <th>ID</th>\n",
       "      <th>name</th>\n",
       "      <th>quality</th>\n",
       "      <th>structure_group</th>\n",
       "      <th>Ccount</th>\n",
       "      <th>Count_all</th>\n",
       "      <th>nAA_30_180_pae</th>\n",
       "      <th>len</th>\n",
       "      <th>Cpos</th>\n",
       "      <th>N_Cpos</th>\n",
       "      <th>pep</th>\n",
       "      <th>pepCCC</th>\n",
       "      <th>pepCC</th>\n",
       "      <th>pepCXC</th>\n",
       "      <th>pepC</th>\n",
       "      <th>lowest_pae</th>\n",
       "      <th>accs_count</th>\n",
       "    </tr>\n",
       "  </thead>\n",
       "  <tbody>\n",
       "    <tr>\n",
       "      <th>0</th>\n",
       "      <td>Q8N4Q1</td>\n",
       "      <td>MIA40</td>\n",
       "      <td>91.56</td>\n",
       "      <td>STRN</td>\n",
       "      <td>1</td>\n",
       "      <td>7</td>\n",
       "      <td>0</td>\n",
       "      <td>142</td>\n",
       "      <td>-139</td>\n",
       "      <td>4</td>\n",
       "      <td>MSYCRQEGK</td>\n",
       "      <td>NaN</td>\n",
       "      <td>NaN</td>\n",
       "      <td>NaN</td>\n",
       "      <td>NaN</td>\n",
       "      <td>0</td>\n",
       "      <td>1</td>\n",
       "    </tr>\n",
       "    <tr>\n",
       "      <th>1</th>\n",
       "      <td>Q96GD0</td>\n",
       "      <td>PLPP</td>\n",
       "      <td>97.96</td>\n",
       "      <td>unstructured</td>\n",
       "      <td>7</td>\n",
       "      <td>7</td>\n",
       "      <td>2</td>\n",
       "      <td>296</td>\n",
       "      <td>-293</td>\n",
       "      <td>4</td>\n",
       "      <td>MARCERLRG</td>\n",
       "      <td>NaN</td>\n",
       "      <td>NaN</td>\n",
       "      <td>NaN</td>\n",
       "      <td>NaN</td>\n",
       "      <td>2</td>\n",
       "      <td>1</td>\n",
       "    </tr>\n",
       "    <tr>\n",
       "      <th>2</th>\n",
       "      <td>Q6P9B9</td>\n",
       "      <td>INT5</td>\n",
       "      <td>26.60</td>\n",
       "      <td>unstructured</td>\n",
       "      <td>23</td>\n",
       "      <td>23</td>\n",
       "      <td>0</td>\n",
       "      <td>1019</td>\n",
       "      <td>-1015</td>\n",
       "      <td>5</td>\n",
       "      <td>MSALCDPPGA</td>\n",
       "      <td>NaN</td>\n",
       "      <td>NaN</td>\n",
       "      <td>NaN</td>\n",
       "      <td>NaN</td>\n",
       "      <td>0</td>\n",
       "      <td>1</td>\n",
       "    </tr>\n",
       "    <tr>\n",
       "      <th>3</th>\n",
       "      <td>Q9BYT8</td>\n",
       "      <td>NEUL</td>\n",
       "      <td>32.02</td>\n",
       "      <td>unstructured</td>\n",
       "      <td>13</td>\n",
       "      <td>13</td>\n",
       "      <td>0</td>\n",
       "      <td>704</td>\n",
       "      <td>-700</td>\n",
       "      <td>5</td>\n",
       "      <td>MIARCLLAVR</td>\n",
       "      <td>NaN</td>\n",
       "      <td>NaN</td>\n",
       "      <td>NaN</td>\n",
       "      <td>NaN</td>\n",
       "      <td>0</td>\n",
       "      <td>1</td>\n",
       "    </tr>\n",
       "    <tr>\n",
       "      <th>4</th>\n",
       "      <td>Q99829</td>\n",
       "      <td>CPNE1</td>\n",
       "      <td>60.77</td>\n",
       "      <td>unstructured</td>\n",
       "      <td>11</td>\n",
       "      <td>11</td>\n",
       "      <td>0</td>\n",
       "      <td>537</td>\n",
       "      <td>-534</td>\n",
       "      <td>4</td>\n",
       "      <td>MAHCVTLVQ</td>\n",
       "      <td>NaN</td>\n",
       "      <td>NaN</td>\n",
       "      <td>NaN</td>\n",
       "      <td>NaN</td>\n",
       "      <td>0</td>\n",
       "      <td>1</td>\n",
       "    </tr>\n",
       "    <tr>\n",
       "      <th>5</th>\n",
       "      <td>Q9NUE0</td>\n",
       "      <td>ZDH18</td>\n",
       "      <td>29.99</td>\n",
       "      <td>unstructured</td>\n",
       "      <td>18</td>\n",
       "      <td>18</td>\n",
       "      <td>0</td>\n",
       "      <td>388</td>\n",
       "      <td>-385</td>\n",
       "      <td>4</td>\n",
       "      <td>MKDCEYQQI</td>\n",
       "      <td>NaN</td>\n",
       "      <td>NaN</td>\n",
       "      <td>NaN</td>\n",
       "      <td>NaN</td>\n",
       "      <td>0</td>\n",
       "      <td>1</td>\n",
       "    </tr>\n",
       "    <tr>\n",
       "      <th>6</th>\n",
       "      <td>O00217</td>\n",
       "      <td>NDUS8</td>\n",
       "      <td>49.70</td>\n",
       "      <td>HELX</td>\n",
       "      <td>9</td>\n",
       "      <td>9</td>\n",
       "      <td>0</td>\n",
       "      <td>210</td>\n",
       "      <td>-208</td>\n",
       "      <td>3</td>\n",
       "      <td>MRCLTTPM</td>\n",
       "      <td>NaN</td>\n",
       "      <td>NaN</td>\n",
       "      <td>NaN</td>\n",
       "      <td>NaN</td>\n",
       "      <td>0</td>\n",
       "      <td>1</td>\n",
       "    </tr>\n",
       "    <tr>\n",
       "      <th>7</th>\n",
       "      <td>O75608</td>\n",
       "      <td>LYPA1</td>\n",
       "      <td>39.61</td>\n",
       "      <td>unstructured</td>\n",
       "      <td>6</td>\n",
       "      <td>6</td>\n",
       "      <td>0</td>\n",
       "      <td>230</td>\n",
       "      <td>-229</td>\n",
       "      <td>2</td>\n",
       "      <td>MCGNNMS</td>\n",
       "      <td>NaN</td>\n",
       "      <td>NaN</td>\n",
       "      <td>NaN</td>\n",
       "      <td>NaN</td>\n",
       "      <td>0</td>\n",
       "      <td>1</td>\n",
       "    </tr>\n",
       "    <tr>\n",
       "      <th>8</th>\n",
       "      <td>P55957</td>\n",
       "      <td>BID</td>\n",
       "      <td>41.47</td>\n",
       "      <td>unstructured</td>\n",
       "      <td>3</td>\n",
       "      <td>3</td>\n",
       "      <td>0</td>\n",
       "      <td>195</td>\n",
       "      <td>-193</td>\n",
       "      <td>3</td>\n",
       "      <td>MDCEVNNG</td>\n",
       "      <td>NaN</td>\n",
       "      <td>NaN</td>\n",
       "      <td>NaN</td>\n",
       "      <td>NaN</td>\n",
       "      <td>0</td>\n",
       "      <td>1</td>\n",
       "    </tr>\n",
       "  </tbody>\n",
       "</table>\n",
       "</div>"
      ],
      "text/plain": [
       "       ID   name  quality structure_group  Ccount  Count_all  nAA_30_180_pae  \\\n",
       "0  Q8N4Q1  MIA40    91.56            STRN       1          7               0   \n",
       "1  Q96GD0   PLPP    97.96    unstructured       7          7               2   \n",
       "2  Q6P9B9   INT5    26.60    unstructured      23         23               0   \n",
       "3  Q9BYT8   NEUL    32.02    unstructured      13         13               0   \n",
       "4  Q99829  CPNE1    60.77    unstructured      11         11               0   \n",
       "5  Q9NUE0  ZDH18    29.99    unstructured      18         18               0   \n",
       "6  O00217  NDUS8    49.70            HELX       9          9               0   \n",
       "7  O75608  LYPA1    39.61    unstructured       6          6               0   \n",
       "8  P55957    BID    41.47    unstructured       3          3               0   \n",
       "\n",
       "    len   Cpos N_Cpos         pep pepCCC pepCC pepCXC pepC  lowest_pae  \\\n",
       "0   142   -139      4   MSYCRQEGK    NaN   NaN    NaN  NaN           0   \n",
       "1   296   -293      4   MARCERLRG    NaN   NaN    NaN  NaN           2   \n",
       "2  1019  -1015      5  MSALCDPPGA    NaN   NaN    NaN  NaN           0   \n",
       "3   704   -700      5  MIARCLLAVR    NaN   NaN    NaN  NaN           0   \n",
       "4   537   -534      4   MAHCVTLVQ    NaN   NaN    NaN  NaN           0   \n",
       "5   388   -385      4   MKDCEYQQI    NaN   NaN    NaN  NaN           0   \n",
       "6   210   -208      3    MRCLTTPM    NaN   NaN    NaN  NaN           0   \n",
       "7   230   -229      2     MCGNNMS    NaN   NaN    NaN  NaN           0   \n",
       "8   195   -193      3    MDCEVNNG    NaN   NaN    NaN  NaN           0   \n",
       "\n",
       "   accs_count  \n",
       "0           1  \n",
       "1           1  \n",
       "2           1  \n",
       "3           1  \n",
       "4           1  \n",
       "5           1  \n",
       "6           1  \n",
       "7           1  \n",
       "8           1  "
      ]
     },
     "execution_count": 23,
     "metadata": {},
     "output_type": "execute_result"
    }
   ],
   "source": [
    "back_all_C1[back_all_C1['N_Cpos'] < 6].reset_index(drop=True)"
   ]
  },
  {
   "cell_type": "code",
   "execution_count": 24,
   "metadata": {},
   "outputs": [],
   "source": [
    "# remove proteins with too short N-terminal peptides\n",
    "back_pae_0 = back_pae_0[back_pae_0['N_Cpos'] >= 6].reset_index(drop=True)\n",
    "back_lowest_pae_1 = back_lowest_pae_1[back_lowest_pae_1['N_Cpos'] >= 6].reset_index(drop=True)\n",
    "back_all_C1 = back_all_C1[back_all_C1['N_Cpos'] >= 6].reset_index(drop=True)"
   ]
  },
  {
   "cell_type": "code",
   "execution_count": 25,
   "metadata": {},
   "outputs": [
    {
     "name": "stdout",
     "output_type": "stream",
     "text": [
      "65 8 161 63\n",
      "296\n"
     ]
    }
   ],
   "source": [
    "# All proteins with identifiable probably most accessible cysteine\n",
    "print(len(back_Count_all_1), len(back_Ccount_1), len(back_pae_0), len(back_lowest_pae_1))\n",
    "print(len(back_all_C1))"
   ]
  },
  {
   "cell_type": "code",
   "execution_count": 26,
   "metadata": {},
   "outputs": [],
   "source": [
    "# Save df as c_positions.csv, to be read by Foldseek\n",
    "\n",
    "data = {    \n",
    "    'back_Count_all_1': back_Count_all_1,\n",
    "    'back_Ccount_1': back_Ccount_1,\n",
    "    'back_pae_0': back_pae_0,\n",
    "    'back_lowest_pae_1': back_lowest_pae_1,\n",
    "    \n",
    "    'back_all_C1': back_all_C1\n",
    "}\n",
    "\n",
    "# Create each directory and save corresponding DataFrame as CSV\n",
    "for directory_name, df in data.items():\n",
    "    directory_path = os.path.join(Foldseek, directory_name)\n",
    "    os.makedirs(directory_path, exist_ok=True)\n",
    "    csv_file_path = os.path.join(directory_path, 'c_positions.csv')\n",
    "    df.to_csv(csv_file_path, index=None, sep=',')"
   ]
  },
  {
   "cell_type": "code",
   "execution_count": 27,
   "metadata": {},
   "outputs": [],
   "source": [
    "# AlphaFold quality of probably prenylated cysteines\n",
    "back_all_C1['quality'].to_csv(os.path.join(datafolder, 'AlphaFold_annotated\\\\back_all_C1_quality.csv'), index=None)"
   ]
  },
  {
   "cell_type": "code",
   "execution_count": 28,
   "metadata": {},
   "outputs": [
    {
     "name": "stdout",
     "output_type": "stream",
     "text": [
      "Shapiro-Wilk Test for Group 1: W=0.8377354145050049, p-value=5.988513672665043e-17\n"
     ]
    },
    {
     "data": {
      "image/png": "[encoded data removed]",
      "text/plain": [
       "<Figure size 1200x600 with 2 Axes>"
      ]
     },
     "metadata": {},
     "output_type": "display_data"
    }
   ],
   "source": [
    "# Check for Normality:\n",
    "# Use the Shapiro-Wilk test to check if the data follows a normal distribution.\n",
    "\n",
    "#    Ho(Accepted): Sample is from the normal distributions.(Po>0.05)\n",
    "#    Ha(Rejected): Sample is not from the normal distributions.\n",
    "\n",
    "# Perform the Shapiro-Wilk Test\n",
    "shapiro_group1 = stats.shapiro(back_all_C1['quality'])\n",
    "print(f\"Shapiro-Wilk Test for Group 1: W={shapiro_group1[0]}, p-value={shapiro_group1[1]}\")\n",
    "\n",
    "# Visualize the Data\n",
    "fig, axes = plt.subplots(1, 2, figsize=(12, 6))\n",
    "\n",
    "# Histogram\n",
    "sns.histplot(back_all_C1['quality'], kde=True, ax=axes[0], color='blue')\n",
    "axes[0].set_title('Group 1 Histogram')\n",
    "\n",
    "# Q-Q Plot\n",
    "stats.probplot(back_all_C1['quality'], dist=\"norm\", plot=axes[1])\n",
    "axes[1].set_title('Group 1 Q-Q Plot')\n",
    "\n",
    "plt.tight_layout()\n",
    "plt.show()"
   ]
  },
  {
   "cell_type": "code",
   "execution_count": 29,
   "metadata": {},
   "outputs": [],
   "source": [
    "# Since the p-value is 5.98e-17 which is less than the alpha(0.05) we reject the null hypothesis i.e. \n",
    "# we have sufficient evidence to say that sample does not come from a normal distribution."
   ]
  },
  {
   "cell_type": "markdown",
   "metadata": {},
   "source": [
    "# SequenceLogos for internally prenylated proteins with 1 most accessible cysteine"
   ]
  },
  {
   "cell_type": "markdown",
   "metadata": {},
   "source": [
    "## Sorted by accessibility"
   ]
  },
  {
   "cell_type": "code",
   "execution_count": 30,
   "metadata": {},
   "outputs": [],
   "source": [
    "# save peptides in txt format for pssmsearch\n",
    "back_Count_all_1['pep'].to_csv(os.path.join(PSSMSearch, 'structure', 'accessible', 'back_Count_all_1.txt'), header=None, index=None, sep=' ')\n",
    "back_Ccount_1['pep'].to_csv(os.path.join(PSSMSearch, 'structure', 'accessible', 'back_Ccount_1.txt'), header=None, index=None, sep=' ')\n",
    "back_pae_0['pep'].to_csv(os.path.join(PSSMSearch, 'structure', 'accessible', 'back_pae_0.txt'), header=None, index=None, sep=' ')\n",
    "back_lowest_pae_1['pep'].to_csv(os.path.join(PSSMSearch, 'structure', 'accessible', 'back_lowest_pae_1.txt'), header=None, index=None, sep=' ')\n",
    "back_all_C1['pep'].to_csv(os.path.join(PSSMSearch, 'structure', 'accessible', 'back_all_C1.txt'), header=None, index=None, sep=' ')"
   ]
  },
  {
   "cell_type": "code",
   "execution_count": 31,
   "metadata": {},
   "outputs": [
    {
     "name": "stdout",
     "output_type": "stream",
     "text": [
      "back_Count_all_1: 65\n",
      "back_Ccount_1: 8\n",
      "back_pae_0: 161\n",
      "back_lowest_pae_1: 63\n",
      "back_all_C1: 296\n"
     ]
    }
   ],
   "source": [
    "print('back_Count_all_1:', len(back_Count_all_1))\n",
    "print('back_Ccount_1:', len(back_Ccount_1))\n",
    "print('back_pae_0:', len(back_pae_0))\n",
    "print('back_lowest_pae_1:', len(back_lowest_pae_1))\n",
    "print('back_all_C1:', len(back_all_C1))"
   ]
  },
  {
   "cell_type": "markdown",
   "metadata": {},
   "source": [
    "## Sorted by secondary structure"
   ]
  },
  {
   "cell_type": "code",
   "execution_count": 32,
   "metadata": {},
   "outputs": [],
   "source": [
    "# Define the list of structures for filtering\n",
    "structure_groups = ['BEND', 'HELX', 'STRN', 'TURN', 'unstructured']\n",
    "\n",
    "# Iterate over the list of structures to create df outputs\n",
    "\n",
    "# All background proteins with exactly 1 most accessible cysteine\n",
    "for structure in structure_groups:\n",
    "    exec(f\"{structure}_back_intern_pep = back_all_C1[back_all_C1['structure_group'] == '{structure}'].reset_index(drop=True)\")"
   ]
  },
  {
   "cell_type": "code",
   "execution_count": 33,
   "metadata": {},
   "outputs": [
    {
     "name": "stdout",
     "output_type": "stream",
     "text": [
      "Back: BEND 22 , HELX 115 , STRN 34 , TURN 17 , unstructured 108\n"
     ]
    }
   ],
   "source": [
    "print('Back: BEND', len(BEND_back_intern_pep),', HELX', len(HELX_back_intern_pep), ', STRN', len(STRN_back_intern_pep),\n",
    "      ', TURN', len(TURN_back_intern_pep), ', unstructured', len(unstructured_back_intern_pep))\n"
   ]
  },
  {
   "cell_type": "code",
   "execution_count": 34,
   "metadata": {},
   "outputs": [],
   "source": [
    "# save peptides in txt format for pssmsearch\n",
    "BEND_back_intern_pep['pep'].to_csv(os.path.join(PSSMSearch, 'structure', 'BEND_back_intern_pep.txt'), header=None, index=None, sep=' ')\n",
    "HELX_back_intern_pep['pep'].to_csv(os.path.join(PSSMSearch, 'structure', 'HELX_back_intern_pep.txt'), header=None, index=None, sep=' ')\n",
    "STRN_back_intern_pep['pep'].to_csv(os.path.join(PSSMSearch, 'structure', 'STRN_back_intern_pep.txt'), header=None, index=None, sep=' ')\n",
    "TURN_back_intern_pep['pep'].to_csv(os.path.join(PSSMSearch, 'structure', 'TURN_back_intern_pep.txt'), header=None, index=None, sep=' ')\n",
    "unstructured_back_intern_pep['pep'].to_csv(os.path.join(PSSMSearch, 'structure', 'unstructured_back_intern_pep.txt'), header=None, index=None, sep=' ')"
   ]
  },
  {
   "cell_type": "markdown",
   "metadata": {},
   "source": [
    "# Search for double prenylated cysteines"
   ]
  },
  {
   "cell_type": "code",
   "execution_count": 35,
   "metadata": {},
   "outputs": [
    {
     "data": {
      "text/html": [
       "<div>\n",
       "<style scoped>\n",
       "    .dataframe tbody tr th:only-of-type {\n",
       "        vertical-align: middle;\n",
       "    }\n",
       "\n",
       "    .dataframe tbody tr th {\n",
       "        vertical-align: top;\n",
       "    }\n",
       "\n",
       "    .dataframe thead th {\n",
       "        text-align: right;\n",
       "    }\n",
       "</style>\n",
       "<table border=\"1\" class=\"dataframe\">\n",
       "  <thead>\n",
       "    <tr style=\"text-align: right;\">\n",
       "      <th></th>\n",
       "      <th>ID</th>\n",
       "      <th>name</th>\n",
       "      <th>quality</th>\n",
       "      <th>structure_group</th>\n",
       "      <th>Ccount</th>\n",
       "      <th>Count_all</th>\n",
       "      <th>nAA_30_180_pae</th>\n",
       "      <th>len</th>\n",
       "      <th>Cpos</th>\n",
       "      <th>N_Cpos</th>\n",
       "      <th>pep</th>\n",
       "      <th>pepCCC</th>\n",
       "      <th>pepCC</th>\n",
       "      <th>pepCXC</th>\n",
       "      <th>pepC</th>\n",
       "      <th>lowest_pae</th>\n",
       "      <th>accs_count</th>\n",
       "    </tr>\n",
       "  </thead>\n",
       "  <tbody>\n",
       "    <tr>\n",
       "      <th>0</th>\n",
       "      <td>P61073</td>\n",
       "      <td>CXCR4</td>\n",
       "      <td>NaN</td>\n",
       "      <td>HELX</td>\n",
       "      <td>5</td>\n",
       "      <td>9</td>\n",
       "      <td>3</td>\n",
       "      <td>352</td>\n",
       "      <td>[-133, -57]</td>\n",
       "      <td>[296, 220]</td>\n",
       "      <td>[ILSCYCIIISK, AFFHCCLNPIL]</td>\n",
       "      <td>NaN</td>\n",
       "      <td>[AFFHCCLNPI]</td>\n",
       "      <td>[ILSCYCIII]</td>\n",
       "      <td>NaN</td>\n",
       "      <td>3</td>\n",
       "      <td>2</td>\n",
       "    </tr>\n",
       "    <tr>\n",
       "      <th>1</th>\n",
       "      <td>Q14061</td>\n",
       "      <td>COX17</td>\n",
       "      <td>NaN</td>\n",
       "      <td>HELX</td>\n",
       "      <td>2</td>\n",
       "      <td>6</td>\n",
       "      <td>3</td>\n",
       "      <td>63</td>\n",
       "      <td>[-40, -41]</td>\n",
       "      <td>[24, 23]</td>\n",
       "      <td>[PLKPCCACPET, KPLKPCCACPE]</td>\n",
       "      <td>NaN</td>\n",
       "      <td>PLKPCCACPE</td>\n",
       "      <td>NaN</td>\n",
       "      <td>NaN</td>\n",
       "      <td>3</td>\n",
       "      <td>2</td>\n",
       "    </tr>\n",
       "    <tr>\n",
       "      <th>2</th>\n",
       "      <td>Q9NSD7</td>\n",
       "      <td>RL3R1</td>\n",
       "      <td>NaN</td>\n",
       "      <td>[unstructured, BEND]</td>\n",
       "      <td>12</td>\n",
       "      <td>14</td>\n",
       "      <td>1</td>\n",
       "      <td>469</td>\n",
       "      <td>[-269, -268]</td>\n",
       "      <td>[201, 202]</td>\n",
       "      <td>[GRGDCCGRSLG, HGRGDCCGRSL]</td>\n",
       "      <td>NaN</td>\n",
       "      <td>GRGDCCGRSL</td>\n",
       "      <td>NaN</td>\n",
       "      <td>NaN</td>\n",
       "      <td>1</td>\n",
       "      <td>2</td>\n",
       "    </tr>\n",
       "    <tr>\n",
       "      <th>3</th>\n",
       "      <td>Q9BRK5</td>\n",
       "      <td>CAB45</td>\n",
       "      <td>NaN</td>\n",
       "      <td>unstructured</td>\n",
       "      <td>2</td>\n",
       "      <td>2</td>\n",
       "      <td>1</td>\n",
       "      <td>362</td>\n",
       "      <td>[-342, -341]</td>\n",
       "      <td>[21, 22]</td>\n",
       "      <td>[GLAPCCLWLLG, IGLAPCCLWLL]</td>\n",
       "      <td>NaN</td>\n",
       "      <td>GLAPCCLWLL</td>\n",
       "      <td>NaN</td>\n",
       "      <td>NaN</td>\n",
       "      <td>1</td>\n",
       "      <td>2</td>\n",
       "    </tr>\n",
       "    <tr>\n",
       "      <th>4</th>\n",
       "      <td>O43491</td>\n",
       "      <td>E41L2</td>\n",
       "      <td>NaN</td>\n",
       "      <td>unstructured</td>\n",
       "      <td>9</td>\n",
       "      <td>9</td>\n",
       "      <td>1</td>\n",
       "      <td>1005</td>\n",
       "      <td>[-140, -139]</td>\n",
       "      <td>[866, 867]</td>\n",
       "      <td>[PQIICCSEPPV, LPQIICCSEPP]</td>\n",
       "      <td>NaN</td>\n",
       "      <td>PQIICCSEPP</td>\n",
       "      <td>NaN</td>\n",
       "      <td>NaN</td>\n",
       "      <td>1</td>\n",
       "      <td>2</td>\n",
       "    </tr>\n",
       "    <tr>\n",
       "      <th>5</th>\n",
       "      <td>O00519</td>\n",
       "      <td>FAAH1</td>\n",
       "      <td>NaN</td>\n",
       "      <td>HELX</td>\n",
       "      <td>16</td>\n",
       "      <td>16</td>\n",
       "      <td>1</td>\n",
       "      <td>579</td>\n",
       "      <td>[-560, -559]</td>\n",
       "      <td>[20, 21]</td>\n",
       "      <td>[VALACCFVAAA, GVALACCFVAA]</td>\n",
       "      <td>NaN</td>\n",
       "      <td>VALACCFVAA</td>\n",
       "      <td>NaN</td>\n",
       "      <td>NaN</td>\n",
       "      <td>1</td>\n",
       "      <td>2</td>\n",
       "    </tr>\n",
       "    <tr>\n",
       "      <th>6</th>\n",
       "      <td>P07858</td>\n",
       "      <td>CATB</td>\n",
       "      <td>NaN</td>\n",
       "      <td>unstructured</td>\n",
       "      <td>5</td>\n",
       "      <td>17</td>\n",
       "      <td>1</td>\n",
       "      <td>339</td>\n",
       "      <td>[-331, -330]</td>\n",
       "      <td>[9, 10]</td>\n",
       "      <td>[WASLCCLLVLA, LWASLCCLLVL]</td>\n",
       "      <td>NaN</td>\n",
       "      <td>WASLCCLLVL</td>\n",
       "      <td>NaN</td>\n",
       "      <td>NaN</td>\n",
       "      <td>1</td>\n",
       "      <td>2</td>\n",
       "    </tr>\n",
       "    <tr>\n",
       "      <th>7</th>\n",
       "      <td>O14745</td>\n",
       "      <td>NHRF1</td>\n",
       "      <td>NaN</td>\n",
       "      <td>STRN</td>\n",
       "      <td>5</td>\n",
       "      <td>5</td>\n",
       "      <td>1</td>\n",
       "      <td>358</td>\n",
       "      <td>[-344, -343]</td>\n",
       "      <td>[16, 15]</td>\n",
       "      <td>[LPRLCCLEKGP, PLPRLCCLEKG]</td>\n",
       "      <td>NaN</td>\n",
       "      <td>LPRLCCLEKG</td>\n",
       "      <td>NaN</td>\n",
       "      <td>NaN</td>\n",
       "      <td>1</td>\n",
       "      <td>2</td>\n",
       "    </tr>\n",
       "  </tbody>\n",
       "</table>\n",
       "</div>"
      ],
      "text/plain": [
       "       ID   name  quality       structure_group  Ccount  Count_all  \\\n",
       "0  P61073  CXCR4      NaN                  HELX       5          9   \n",
       "1  Q14061  COX17      NaN                  HELX       2          6   \n",
       "2  Q9NSD7  RL3R1      NaN  [unstructured, BEND]      12         14   \n",
       "3  Q9BRK5  CAB45      NaN          unstructured       2          2   \n",
       "4  O43491  E41L2      NaN          unstructured       9          9   \n",
       "5  O00519  FAAH1      NaN                  HELX      16         16   \n",
       "6  P07858   CATB      NaN          unstructured       5         17   \n",
       "7  O14745  NHRF1      NaN                  STRN       5          5   \n",
       "\n",
       "   nAA_30_180_pae   len          Cpos      N_Cpos                         pep  \\\n",
       "0               3   352   [-133, -57]  [296, 220]  [ILSCYCIIISK, AFFHCCLNPIL]   \n",
       "1               3    63    [-40, -41]    [24, 23]  [PLKPCCACPET, KPLKPCCACPE]   \n",
       "2               1   469  [-269, -268]  [201, 202]  [GRGDCCGRSLG, HGRGDCCGRSL]   \n",
       "3               1   362  [-342, -341]    [21, 22]  [GLAPCCLWLLG, IGLAPCCLWLL]   \n",
       "4               1  1005  [-140, -139]  [866, 867]  [PQIICCSEPPV, LPQIICCSEPP]   \n",
       "5               1   579  [-560, -559]    [20, 21]  [VALACCFVAAA, GVALACCFVAA]   \n",
       "6               1   339  [-331, -330]     [9, 10]  [WASLCCLLVLA, LWASLCCLLVL]   \n",
       "7               1   358  [-344, -343]    [16, 15]  [LPRLCCLEKGP, PLPRLCCLEKG]   \n",
       "\n",
       "  pepCCC         pepCC       pepCXC pepC  lowest_pae  accs_count  \n",
       "0    NaN  [AFFHCCLNPI]  [ILSCYCIII]  NaN           3           2  \n",
       "1    NaN    PLKPCCACPE          NaN  NaN           3           2  \n",
       "2    NaN    GRGDCCGRSL          NaN  NaN           1           2  \n",
       "3    NaN    GLAPCCLWLL          NaN  NaN           1           2  \n",
       "4    NaN    PQIICCSEPP          NaN  NaN           1           2  \n",
       "5    NaN    VALACCFVAA          NaN  NaN           1           2  \n",
       "6    NaN    WASLCCLLVL          NaN  NaN           1           2  \n",
       "7    NaN    LPRLCCLEKG          NaN  NaN           1           2  "
      ]
     },
     "execution_count": 35,
     "metadata": {},
     "output_type": "execute_result"
    }
   ],
   "source": [
    "# Proteins with 2 most accessible cysteines in close proximity\n",
    "\n",
    "back_accs_2 = agg_back_intern_accs[(agg_back_intern_accs['pepC'].isna()) & (agg_back_intern_accs['accs_count'] == 2)].reset_index(drop=True)\n",
    "back_accs_2"
   ]
  },
  {
   "cell_type": "code",
   "execution_count": 36,
   "metadata": {},
   "outputs": [
    {
     "data": {
      "text/html": [
       "<div>\n",
       "<style scoped>\n",
       "    .dataframe tbody tr th:only-of-type {\n",
       "        vertical-align: middle;\n",
       "    }\n",
       "\n",
       "    .dataframe tbody tr th {\n",
       "        vertical-align: top;\n",
       "    }\n",
       "\n",
       "    .dataframe thead th {\n",
       "        text-align: right;\n",
       "    }\n",
       "</style>\n",
       "<table border=\"1\" class=\"dataframe\">\n",
       "  <thead>\n",
       "    <tr style=\"text-align: right;\">\n",
       "      <th></th>\n",
       "      <th>ID</th>\n",
       "      <th>name</th>\n",
       "      <th>quality</th>\n",
       "      <th>structure_group</th>\n",
       "      <th>Ccount</th>\n",
       "      <th>Count_all</th>\n",
       "      <th>nAA_30_180_pae</th>\n",
       "      <th>len</th>\n",
       "      <th>Cpos</th>\n",
       "      <th>N_Cpos</th>\n",
       "      <th>pep</th>\n",
       "      <th>pepCCC</th>\n",
       "      <th>pepCC</th>\n",
       "      <th>pepCXC</th>\n",
       "      <th>pepC</th>\n",
       "      <th>lowest_pae</th>\n",
       "      <th>accs_count</th>\n",
       "    </tr>\n",
       "  </thead>\n",
       "  <tbody>\n",
       "  </tbody>\n",
       "</table>\n",
       "</div>"
      ],
      "text/plain": [
       "Empty DataFrame\n",
       "Columns: [ID, name, quality, structure_group, Ccount, Count_all, nAA_30_180_pae, len, Cpos, N_Cpos, pep, pepCCC, pepCC, pepCXC, pepC, lowest_pae, accs_count]\n",
       "Index: []"
      ]
     },
     "execution_count": 36,
     "metadata": {},
     "output_type": "execute_result"
    }
   ],
   "source": [
    "# Proteins with 3 most accessible cysteines in close proximity\n",
    "\n",
    "back_accs_3 = agg_back_intern_accs[(agg_back_intern_accs['pepC'].isna()) & (agg_back_intern_accs['accs_count'] == 3)].reset_index(drop=True)\n",
    "back_accs_3"
   ]
  },
  {
   "cell_type": "code",
   "execution_count": null,
   "metadata": {},
   "outputs": [],
   "source": []
  }
 ],
 "metadata": {
  "kernelspec": {
   "display_name": "Python 3 (ipykernel)",
   "language": "python",
   "name": "python3"
  },
  "language_info": {
   "codemirror_mode": {
    "name": "ipython",
    "version": 3
   },
   "file_extension": ".py",
   "mimetype": "text/x-python",
   "name": "python",
   "nbconvert_exporter": "python",
   "pygments_lexer": "ipython3",
   "version": "3.8.17"
  },
  "toc": {
   "base_numbering": 1,
   "nav_menu": {},
   "number_sections": true,
   "sideBar": true,
   "skip_h1_title": false,
   "title_cell": "Table of Contents",
   "title_sidebar": "Contents",
   "toc_cell": true,
   "toc_position": {
    "height": "calc(100% - 180px)",
    "left": "10px",
    "top": "150px",
    "width": "361.9px"
   },
   "toc_section_display": true,
   "toc_window_display": false
  }
 },
 "nbformat": 4,
 "nbformat_minor": 4
}
