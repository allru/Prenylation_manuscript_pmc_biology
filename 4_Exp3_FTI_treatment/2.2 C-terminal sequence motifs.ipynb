{
 "cells": [
  {
   "cell_type": "markdown",
   "id": "a2197ef4",
   "metadata": {
    "toc": true
   },
   "source": [
    "<h1>Table of Contents<span class=\"tocSkip\"></span></h1>\n",
    "<div class=\"toc\"><ul class=\"toc-item\"><li><span><a href=\"#Found-proteins-with-canonical-motifs\" data-toc-modified-id=\"Found-proteins-with-canonical-motifs-1\"><span class=\"toc-item-num\">1&nbsp;&nbsp;</span>Found proteins with canonical motifs</a></span><ul class=\"toc-item\"><li><span><a href=\"#Known-identified-with-canonical-motif\" data-toc-modified-id=\"Known-identified-with-canonical-motif-1.1\"><span class=\"toc-item-num\">1.1&nbsp;&nbsp;</span>Known identified with canonical motif</a></span></li><li><span><a href=\"#Novel-identified-with-canonical-motif\" data-toc-modified-id=\"Novel-identified-with-canonical-motif-1.2\"><span class=\"toc-item-num\">1.2&nbsp;&nbsp;</span>Novel identified with canonical motif</a></span></li></ul></li><li><span><a href=\"#Found-proteins-with-new-C-terminal-motifs\" data-toc-modified-id=\"Found-proteins-with-new-C-terminal-motifs-2\"><span class=\"toc-item-num\">2&nbsp;&nbsp;</span>Found proteins with new C-terminal motifs</a></span></li><li><span><a href=\"#Found-proteins-with-internal-cysteines-only\" data-toc-modified-id=\"Found-proteins-with-internal-cysteines-only-3\"><span class=\"toc-item-num\">3&nbsp;&nbsp;</span>Found proteins with internal cysteines only</a></span><ul class=\"toc-item\"><li><span><a href=\"#Characterize-internally-prenylated-proteins\" data-toc-modified-id=\"Characterize-internally-prenylated-proteins-3.1\"><span class=\"toc-item-num\">3.1&nbsp;&nbsp;</span>Characterize internally prenylated proteins</a></span></li></ul></li><li><span><a href=\"#Create-barplots-to-show-distribution-on-the-various-prenylation-motifs\" data-toc-modified-id=\"Create-barplots-to-show-distribution-on-the-various-prenylation-motifs-4\"><span class=\"toc-item-num\">4&nbsp;&nbsp;</span>Create barplots to show distribution on the various prenylation motifs</a></span><ul class=\"toc-item\"><li><span><a href=\"#Known-identified-pernylated-proteins\" data-toc-modified-id=\"Known-identified-pernylated-proteins-4.1\"><span class=\"toc-item-num\">4.1&nbsp;&nbsp;</span>Known identified pernylated proteins</a></span></li><li><span><a href=\"#New-identified-pernylated-proteins\" data-toc-modified-id=\"New-identified-pernylated-proteins-4.2\"><span class=\"toc-item-num\">4.2&nbsp;&nbsp;</span>New identified pernylated proteins</a></span></li></ul></li><li><span><a href=\"#Sequence-logos\" data-toc-modified-id=\"Sequence-logos-5\"><span class=\"toc-item-num\">5&nbsp;&nbsp;</span>Sequence logos</a></span></li></ul></div>"
   ]
  },
  {
   "cell_type": "code",
   "execution_count": 1,
   "id": "3d774cb8",
   "metadata": {},
   "outputs": [],
   "source": [
    "import sys\n",
    "import os\n",
    "import session_info\n",
    "\n",
    "# Add the '0_functions' folder to sys.path\n",
    "sys.path.append(os.path.join(os.getcwd(), '..', '0_functions'))"
   ]
  },
  {
   "cell_type": "code",
   "execution_count": 2,
   "id": "41fdc818",
   "metadata": {},
   "outputs": [],
   "source": [
    "import pandas as pd\n",
    "import matplotlib.pyplot as plt\n",
    "from plots import plot_grouped_bar_chart\n",
    "import dataframe_image as dfi"
   ]
  },
  {
   "cell_type": "code",
   "execution_count": 3,
   "id": "8353d51e",
   "metadata": {},
   "outputs": [
    {
     "data": {
      "text/html": [
       "<details>\n",
       "<summary>Click to view session information</summary>\n",
       "<pre>\n",
       "-----\n",
       "dataframe_image     NA\n",
       "matplotlib          3.7.0\n",
       "pandas              1.4.0\n",
       "plots               NA\n",
       "session_info        1.0.0\n",
       "-----\n",
       "</pre>\n",
       "<details>\n",
       "<summary>Click to view modules imported as dependencies</summary>\n",
       "<pre>\n",
       "PIL                         10.0.1\n",
       "anyio                       NA\n",
       "asttokens                   NA\n",
       "attr                        23.1.0\n",
       "attrs                       23.1.0\n",
       "babel                       2.11.0\n",
       "backcall                    0.2.0\n",
       "beta_ufunc                  NA\n",
       "binom_ufunc                 NA\n",
       "bleach                      4.1.0\n",
       "bottleneck                  1.3.7\n",
       "brotli                      NA\n",
       "bs4                         4.12.2\n",
       "certifi                     2024.08.30\n",
       "cffi                        1.16.0\n",
       "charset_normalizer          2.0.4\n",
       "colorama                    0.4.6\n",
       "comm                        0.1.2\n",
       "cycler                      0.10.0\n",
       "cython_runtime              NA\n",
       "dateutil                    2.8.2\n",
       "debugpy                     1.6.7\n",
       "decorator                   5.1.1\n",
       "defusedxml                  0.7.1\n",
       "executing                   0.8.3\n",
       "fastjsonschema              NA\n",
       "hypergeom_ufunc             NA\n",
       "idna                        3.4\n",
       "importlib_metadata          NA\n",
       "importlib_resources         NA\n",
       "invgauss_ufunc              NA\n",
       "ipykernel                   6.25.0\n",
       "ipython_genutils            0.2.0\n",
       "ipywidgets                  7.6.5\n",
       "jedi                        0.18.1\n",
       "jinja2                      3.1.2\n",
       "json5                       NA\n",
       "jsonschema                  4.19.2\n",
       "jsonschema_specifications   NA\n",
       "jupyter_events              0.8.0\n",
       "jupyter_server              2.10.0\n",
       "jupyterlab_pygments         0.1.2\n",
       "jupyterlab_server           2.25.1\n",
       "kiwisolver                  1.4.4\n",
       "lxml                        4.9.3\n",
       "markupsafe                  2.1.1\n",
       "mistune                     2.0.4\n",
       "mpl_toolkits                NA\n",
       "nbclient                    0.8.0\n",
       "nbconvert                   7.10.0\n",
       "nbformat                    5.9.2\n",
       "nbinom_ufunc                NA\n",
       "ncf_ufunc                   NA\n",
       "nct_ufunc                   NA\n",
       "ncx2_ufunc                  NA\n",
       "nt                          NA\n",
       "numexpr                     2.7.1\n",
       "numpy                       1.21.6\n",
       "overrides                   NA\n",
       "packaging                   23.1\n",
       "pandocfilters               NA\n",
       "parso                       0.8.3\n",
       "pickleshare                 0.7.5\n",
       "pkg_resources               NA\n",
       "platformdirs                3.10.0\n",
       "prometheus_client           NA\n",
       "prompt_toolkit              3.0.36\n",
       "psutil                      5.9.0\n",
       "pure_eval                   0.2.2\n",
       "pydev_ipython               NA\n",
       "pydevconsole                NA\n",
       "pydevd                      2.9.5\n",
       "pydevd_file_utils           NA\n",
       "pydevd_plugins              NA\n",
       "pydevd_tracing              NA\n",
       "pygments                    2.11.2\n",
       "pyparsing                   3.0.9\n",
       "pythoncom                   NA\n",
       "pythonjsonlogger            NA\n",
       "pytz                        2023.3.post1\n",
       "pywintypes                  NA\n",
       "referencing                 NA\n",
       "requests                    2.31.0\n",
       "rfc3339_validator           0.1.4\n",
       "rfc3986_validator           0.1.1\n",
       "rpds                        NA\n",
       "scipy                       1.10.1\n",
       "seaborn                     0.13.2\n",
       "send2trash                  NA\n",
       "setuptools                  68.0.0\n",
       "six                         1.16.0\n",
       "skewnorm_ufunc              NA\n",
       "sniffio                     1.2.0\n",
       "socks                       1.7.1\n",
       "soupsieve                   2.5\n",
       "stack_data                  0.2.0\n",
       "statsmodels                 0.13.1\n",
       "tornado                     6.3.3\n",
       "traitlets                   5.7.1\n",
       "typing_extensions           NA\n",
       "urllib3                     1.26.18\n",
       "wcwidth                     0.2.5\n",
       "webencodings                0.5.1\n",
       "websocket                   0.58.0\n",
       "yaml                        6.0.1\n",
       "zipp                        NA\n",
       "zmq                         25.1.0\n",
       "</pre>\n",
       "</details> <!-- seems like this ends pre, so might as well be explicit -->\n",
       "<pre>\n",
       "-----\n",
       "IPython             8.12.2\n",
       "jupyter_client      8.6.0\n",
       "jupyter_core        5.2.0\n",
       "jupyterlab          3.6.3\n",
       "notebook            6.1.5\n",
       "-----\n",
       "Python 3.8.18 (default, Sep 11 2023, 13:47:48) [MSC v.1916 64 bit (AMD64)]\n",
       "Windows-10-10.0.19045-SP0\n",
       "-----\n",
       "Session information updated at 2025-02-03 18:32\n",
       "</pre>\n",
       "</details>"
      ],
      "text/plain": [
       "<IPython.core.display.HTML object>"
      ]
     },
     "execution_count": 3,
     "metadata": {},
     "output_type": "execute_result"
    }
   ],
   "source": [
    "# Display session information\n",
    "session_info.show()"
   ]
  },
  {
   "cell_type": "code",
   "execution_count": 4,
   "id": "77b22d7f",
   "metadata": {},
   "outputs": [],
   "source": [
    "pd.set_option('display.max_colwidth', None)\n",
    "pd.set_option('display.max_columns', None)\n",
    "pd.set_option('display.max_rows', None)"
   ]
  },
  {
   "cell_type": "code",
   "execution_count": 5,
   "id": "8066e0f1",
   "metadata": {},
   "outputs": [],
   "source": [
    "datafolder = 'data'\n",
    "known_proteins_datafolder = '../Known_prenylated_proteins/data'\n",
    "figures = 'data/figures'\n",
    "PSSMSearch = 'data/PssmSearch'"
   ]
  },
  {
   "cell_type": "code",
   "execution_count": 6,
   "id": "14d2c6d9",
   "metadata": {},
   "outputs": [],
   "source": [
    "# Load data\n",
    "\n",
    "# All identified prenylated proteins that contain a cysteine\n",
    "all_found = pd.read_csv(os.path.join(datafolder, 'identified_proteins', 'identified_all_motif.csv'), sep=',')\n",
    "known_found = pd.read_csv(os.path.join(datafolder, 'identified_proteins', 'identified_known.csv'), sep=',')\n",
    "novel_found = pd.read_csv(os.path.join(datafolder, 'identified_proteins', 'identified_novel_motif.csv'), sep=',')\n",
    "\n",
    "# clean FASTA file of all identified proteins\n",
    "fasta = pd.read_csv(os.path.join(datafolder, 'identified_proteins', 'final_fasta_seqs_identified_prots.csv'), sep=',')"
   ]
  },
  {
   "cell_type": "markdown",
   "id": "151ad4ef",
   "metadata": {},
   "source": [
    "##### Sequence motifs in identified prenylated proteins"
   ]
  },
  {
   "cell_type": "code",
   "execution_count": 7,
   "id": "a5b4945f",
   "metadata": {},
   "outputs": [],
   "source": [
    "found_canon = all_found[all_found['motif'].isin(['CAAX', 'CXXX', 'CCXXX', 'CCXX', 'CCX', 'CXC', 'CC', 'C'])]\n",
    "found_newCterm = all_found[all_found['motif'].isin(['CXXXX', 'CXX', 'CX', 'CCC'])]\n",
    "found_internal = all_found[all_found['motif'] == 'internal']"
   ]
  },
  {
   "cell_type": "code",
   "execution_count": 8,
   "id": "b17fba3d",
   "metadata": {},
   "outputs": [
    {
     "name": "stdout",
     "output_type": "stream",
     "text": [
      "Canonical motif: 43 , New-C-terminal motif: 0 , Internal cysteines: 6\n",
      "Total: 49\n"
     ]
    }
   ],
   "source": [
    "print('Canonical motif:', len(found_canon), ', New-C-terminal motif:', len(found_newCterm), ', Internal cysteines:', len(found_internal))\n",
    "print('Total:', len(found_canon)+ len(found_newCterm)+ len(found_internal))"
   ]
  },
  {
   "cell_type": "markdown",
   "id": "4bb9a306",
   "metadata": {},
   "source": [
    "# Found proteins with internal cysteines only"
   ]
  },
  {
   "cell_type": "code",
   "execution_count": 9,
   "id": "7d2eefb1",
   "metadata": {},
   "outputs": [
    {
     "name": "stdout",
     "output_type": "stream",
     "text": [
      "Out of 49 identified prenylated proteins 12.2% have no C-terminal cysteines. 6\n",
      "\n"
     ]
    }
   ],
   "source": [
    "print('Out of ', len(all_found), ' identified prenylated proteins ', round(len(found_internal) * 100 / len(all_found), 1), '% have no C-terminal cysteines. ', len(found_internal), '\\n', sep='')"
   ]
  },
  {
   "cell_type": "code",
   "execution_count": 10,
   "id": "cd0a92d2",
   "metadata": {},
   "outputs": [],
   "source": [
    "# save internally prenylated F and GG (for RQ5)\n",
    "found_internal.to_csv(os.path.join(datafolder, 'identified_proteins', 'internal_F.csv'), sep=',', index=False)"
   ]
  },
  {
   "cell_type": "markdown",
   "id": "53b9d3de",
   "metadata": {},
   "source": [
    "## Characterize internally prenylated proteins"
   ]
  },
  {
   "cell_type": "code",
   "execution_count": 11,
   "id": "1a19b4d6",
   "metadata": {},
   "outputs": [],
   "source": [
    "internal_F_UP = found_internal\n",
    "internal_GG_UP = pd.DataFrame([], columns=['ID', 'name', 'fullName', 'substrate', 'location', 'moiety',\n",
    "       'AminoAcid', 'position', 'evidenceCode', 'publication',\n",
    "       'ProteinEntryReviewed', 'Exp_moiety', 'motif'])\n",
    "internal_F_GG_UP = pd.DataFrame([], columns=['ID', 'name', 'fullName', 'substrate', 'location', 'moiety',\n",
    "       'AminoAcid', 'position', 'evidenceCode', 'publication',\n",
    "       'ProteinEntryReviewed', 'Exp_moiety', 'motif'])"
   ]
  },
  {
   "cell_type": "code",
   "execution_count": 12,
   "id": "627e0376",
   "metadata": {},
   "outputs": [
    {
     "data": {
      "text/html": [
       "<style type=\"text/css\">\n",
       "#T_6c211_row0_col0, #T_6c211_row0_col1, #T_6c211_row0_col2, #T_6c211_row1_col0, #T_6c211_row1_col1, #T_6c211_row1_col2, #T_6c211_row2_col0, #T_6c211_row2_col1, #T_6c211_row2_col2, #T_6c211_row3_col0, #T_6c211_row3_col1, #T_6c211_row3_col2 {\n",
       "  white-space: pre-wrap;\n",
       "}\n",
       "</style>\n",
       "<table id=\"T_6c211\">\n",
       "  <thead>\n",
       "    <tr>\n",
       "      <th class=\"blank level0\" >&nbsp;</th>\n",
       "      <th id=\"T_6c211_level0_col0\" class=\"col_heading level0 col0\" >F</th>\n",
       "      <th id=\"T_6c211_level0_col1\" class=\"col_heading level0 col1\" >GG</th>\n",
       "      <th id=\"T_6c211_level0_col2\" class=\"col_heading level0 col2\" >F_GG</th>\n",
       "    </tr>\n",
       "  </thead>\n",
       "  <tbody>\n",
       "    <tr>\n",
       "      <th id=\"T_6c211_level0_row0\" class=\"row_heading level0 row0\" >name</th>\n",
       "      <td id=\"T_6c211_row0_col0\" class=\"data row0 col0\" >6</td>\n",
       "      <td id=\"T_6c211_row0_col1\" class=\"data row0 col1\" >0</td>\n",
       "      <td id=\"T_6c211_row0_col2\" class=\"data row0 col2\" >0</td>\n",
       "    </tr>\n",
       "    <tr>\n",
       "      <th id=\"T_6c211_level0_row1\" class=\"row_heading level0 row1\" >substrate</th>\n",
       "      <td id=\"T_6c211_row1_col0\" class=\"data row1 col0\" >SUI1, 1\n",
       "importin alpha, 1\n",
       "PMG, 1\n",
       "SPART, 1\n",
       "WBP2, 1\n",
       "peptidase M14, 1</td>\n",
       "      <td id=\"T_6c211_row1_col1\" class=\"data row1 col1\" ></td>\n",
       "      <td id=\"T_6c211_row1_col2\" class=\"data row1 col2\" ></td>\n",
       "    </tr>\n",
       "    <tr>\n",
       "      <th id=\"T_6c211_level0_row2\" class=\"row_heading level0 row2\" >location</th>\n",
       "      <td id=\"T_6c211_row2_col0\" class=\"data row2 col0\" >Cytoplasm, 1\n",
       "Membrane, 1\n",
       "['Cytoplasm', 'Midbody'], 1\n",
       "['Cytoplasm', 'Nucleus'], 1\n",
       "Secreted, 1</td>\n",
       "      <td id=\"T_6c211_row2_col1\" class=\"data row2 col1\" ></td>\n",
       "      <td id=\"T_6c211_row2_col2\" class=\"data row2 col2\" ></td>\n",
       "    </tr>\n",
       "    <tr>\n",
       "      <th id=\"T_6c211_level0_row3\" class=\"row_heading level0 row3\" >moiety</th>\n",
       "      <td id=\"T_6c211_row3_col0\" class=\"data row3 col0\" ></td>\n",
       "      <td id=\"T_6c211_row3_col1\" class=\"data row3 col1\" ></td>\n",
       "      <td id=\"T_6c211_row3_col2\" class=\"data row3 col2\" ></td>\n",
       "    </tr>\n",
       "  </tbody>\n",
       "</table>\n"
      ],
      "text/plain": [
       "<pandas.io.formats.style.Styler at 0x274d094b7c0>"
      ]
     },
     "execution_count": 12,
     "metadata": {},
     "output_type": "execute_result"
    }
   ],
   "source": [
    "dataframes = ['F', 'GG', 'F_GG']\n",
    "\n",
    "# Create an empty DataFrame with the desired index\n",
    "index_columns = ['name', 'substrate', 'location', 'moiety']\n",
    "table_known = pd.DataFrame(index=dataframes, columns=index_columns)\n",
    "\n",
    "for frame in dataframes:\n",
    "    if frame == 'F':\n",
    "        df = pd.DataFrame(internal_F_UP)\n",
    "    elif frame == 'GG':\n",
    "        df = pd.DataFrame(internal_GG_UP)\n",
    "    elif frame == 'F_GG':\n",
    "        df = pd.DataFrame(internal_F_GG_UP)\n",
    "        \n",
    "    X_name = len(df['name'])\n",
    "    df['substrate'] = df['substrate'].fillna(df['name'])\n",
    "    X_substr = df['substrate'].value_counts().reset_index().values\n",
    "    X_substr = '\\n'.join([f\"{item[0]}, {item[1]}\" for item in X_substr])\n",
    "    X_location = df['location'].explode(ignore_index=True).value_counts().reset_index().values\n",
    "    X_location = '\\n'.join([f\"{item[0]}, {item[1]}\" for item in X_location])\n",
    "    X_moiety = df['moiety'].explode(ignore_index=True).value_counts().reset_index().values\n",
    "    X_moiety = '\\n'.join([f\"{item[0]}, {item[1]}\" for item in X_moiety])\n",
    "\n",
    "    \n",
    "    d = pd.DataFrame({\n",
    "        'number': [X_name], 'substrate': [X_substr],\n",
    "        'location': [X_location], 'moiety': [X_moiety]\n",
    "    }, index=[frame])\n",
    "    \n",
    "    table_known.loc[frame] = d.values\n",
    "\n",
    "table_transposed = table_known.transpose()\n",
    "\n",
    "# Format the DataFrame to display newline characters as line breaks\n",
    "df_styled = table_transposed.style.set_properties(**{'white-space': 'pre-wrap'})\n",
    "\n",
    "# Display the DataFrame\n",
    "df_styled"
   ]
  },
  {
   "cell_type": "code",
   "execution_count": 13,
   "id": "7cc14636",
   "metadata": {},
   "outputs": [
    {
     "name": "stdout",
     "output_type": "stream",
     "text": [
      "C:\\Program Files\\Google\\Chrome\\Application\\chrome.exe\n"
     ]
    }
   ],
   "source": [
    "# save\n",
    "dfi.export(df_styled, (os.path.join(datafolder, 'figures', 'ident_internal_UP.png')), max_rows=-1)"
   ]
  },
  {
   "cell_type": "markdown",
   "id": "3141f168",
   "metadata": {},
   "source": [
    "# Create barplots to show distribution on the various prenylation motifs"
   ]
  },
  {
   "cell_type": "code",
   "execution_count": 14,
   "id": "bbe8c772",
   "metadata": {},
   "outputs": [],
   "source": [
    "canon_known_F = known_found[known_found['moiety'].str.contains(\"farnesyl\")].reset_index(drop=True)\n",
    "canon_known_GG = known_found[known_found['moiety'].str.contains(\"geranylgeranyl\")].reset_index(drop=True)\n",
    "\n",
    "canon_novel_F = novel_found[novel_found['motif'].isin((\"CXXX\", \"CAAX\", \"CXC\", \"CCX\", \"CC\", \"C\"))].reset_index(drop=True)\n",
    "\n",
    "internal = novel_found[novel_found['motif'].isin(['internal'])].reset_index(drop=True)"
   ]
  },
  {
   "cell_type": "code",
   "execution_count": 15,
   "id": "b285ae21",
   "metadata": {},
   "outputs": [
    {
     "name": "stdout",
     "output_type": "stream",
     "text": [
      "F canon known identified: 28, GG canon known identified: 3\n",
      "F canon novel identified:  12\n",
      "F newCterm novel identified:  0\n",
      "F internal novel identified: 6\n"
     ]
    }
   ],
   "source": [
    "print('F canon known identified: ', len(canon_known_F), ', GG canon known identified: ', len(canon_known_GG), sep='')\n",
    "print('F canon novel identified: ', len(canon_novel_F))\n",
    "print('F newCterm novel identified: ', len(found_newCterm))\n",
    "print('F internal novel identified: ', len(internal), sep='')"
   ]
  },
  {
   "cell_type": "code",
   "execution_count": 16,
   "id": "269dd957",
   "metadata": {},
   "outputs": [
    {
     "name": "stdout",
     "output_type": "stream",
     "text": [
      "C:\\Program Files\\Google\\Chrome\\Application\\chrome.exe\n",
      "C:\\Program Files\\Google\\Chrome\\Application\\chrome.exe\n"
     ]
    }
   ],
   "source": [
    "# Remember, that we found known prenylated proteins, but with a different moiety than in UniProt\n",
    "\n",
    "canon_known = pd.concat([canon_known_F, canon_known_GG]).drop_duplicates().reset_index(drop=True)\n",
    "mismatch = canon_known[canon_known['moiety'] != canon_known['Exp_moiety']].reset_index(drop=True)\n",
    "\n",
    "mismatch.to_csv(os.path.join(datafolder, 'identified_proteins', 'moiety_mismatch.csv'), sep=',', index=False)\n",
    "\n",
    "dfi.export(mismatch, (os.path.join(datafolder, 'figures', 'moiety_mismatch.png')))"
   ]
  },
  {
   "cell_type": "code",
   "execution_count": 17,
   "id": "97d5e8d4",
   "metadata": {},
   "outputs": [
    {
     "data": {
      "text/html": [
       "<div>\n",
       "<style scoped>\n",
       "    .dataframe tbody tr th:only-of-type {\n",
       "        vertical-align: middle;\n",
       "    }\n",
       "\n",
       "    .dataframe tbody tr th {\n",
       "        vertical-align: top;\n",
       "    }\n",
       "\n",
       "    .dataframe thead th {\n",
       "        text-align: right;\n",
       "    }\n",
       "</style>\n",
       "<table border=\"1\" class=\"dataframe\">\n",
       "  <thead>\n",
       "    <tr style=\"text-align: right;\">\n",
       "      <th></th>\n",
       "      <th>ID</th>\n",
       "      <th>name</th>\n",
       "      <th>fullName</th>\n",
       "      <th>substrate</th>\n",
       "      <th>location</th>\n",
       "      <th>moiety</th>\n",
       "      <th>AminoAcid</th>\n",
       "      <th>position</th>\n",
       "      <th>evidenceCode</th>\n",
       "      <th>publication</th>\n",
       "      <th>ProteinEntryReviewed</th>\n",
       "      <th>motif</th>\n",
       "      <th>pep</th>\n",
       "      <th>Exp_moiety</th>\n",
       "    </tr>\n",
       "  </thead>\n",
       "  <tbody>\n",
       "    <tr>\n",
       "      <th>0</th>\n",
       "      <td>Q15669</td>\n",
       "      <td>RHOH</td>\n",
       "      <td>Rho-related GTP-binding protein RhoH</td>\n",
       "      <td>Rho</td>\n",
       "      <td>Membrane</td>\n",
       "      <td>S-geranylgeranyl cysteine</td>\n",
       "      <td>C</td>\n",
       "      <td>-4</td>\n",
       "      <td>ECO_0000250</td>\n",
       "      <td>NaN</td>\n",
       "      <td>True</td>\n",
       "      <td>CXXX</td>\n",
       "      <td>LFSINECKIF</td>\n",
       "      <td>S-farnesyl cysteine</td>\n",
       "    </tr>\n",
       "    <tr>\n",
       "      <th>1</th>\n",
       "      <td>Q8WV99</td>\n",
       "      <td>ZFN2B</td>\n",
       "      <td>AN1-type zinc finger protein 2B</td>\n",
       "      <td>ZFN2B</td>\n",
       "      <td>Membrane</td>\n",
       "      <td>S-geranylgeranyl cysteine</td>\n",
       "      <td>C</td>\n",
       "      <td>-4</td>\n",
       "      <td>ECO_0000250</td>\n",
       "      <td>NaN</td>\n",
       "      <td>True</td>\n",
       "      <td>CXXX</td>\n",
       "      <td>SSKPSNCSLC</td>\n",
       "      <td>S-farnesyl cysteine</td>\n",
       "    </tr>\n",
       "    <tr>\n",
       "      <th>2</th>\n",
       "      <td>Q9Y3L5</td>\n",
       "      <td>RAP2C</td>\n",
       "      <td>Ras-related protein Rap-2c</td>\n",
       "      <td>Ras</td>\n",
       "      <td>Membrane</td>\n",
       "      <td>S-geranylgeranyl cysteine</td>\n",
       "      <td>C</td>\n",
       "      <td>-4</td>\n",
       "      <td>ECO_0000250</td>\n",
       "      <td>NaN</td>\n",
       "      <td>True</td>\n",
       "      <td>CAAX</td>\n",
       "      <td>DQCCTTCVVQ</td>\n",
       "      <td>S-farnesyl cysteine</td>\n",
       "    </tr>\n",
       "  </tbody>\n",
       "</table>\n",
       "</div>"
      ],
      "text/plain": [
       "       ID   name                              fullName substrate  location  \\\n",
       "0  Q15669   RHOH  Rho-related GTP-binding protein RhoH       Rho  Membrane   \n",
       "1  Q8WV99  ZFN2B       AN1-type zinc finger protein 2B     ZFN2B  Membrane   \n",
       "2  Q9Y3L5  RAP2C            Ras-related protein Rap-2c       Ras  Membrane   \n",
       "\n",
       "                      moiety AminoAcid  position evidenceCode publication  \\\n",
       "0  S-geranylgeranyl cysteine         C        -4  ECO_0000250         NaN   \n",
       "1  S-geranylgeranyl cysteine         C        -4  ECO_0000250         NaN   \n",
       "2  S-geranylgeranyl cysteine         C        -4  ECO_0000250         NaN   \n",
       "\n",
       "   ProteinEntryReviewed motif         pep           Exp_moiety  \n",
       "0                  True  CXXX  LFSINECKIF  S-farnesyl cysteine  \n",
       "1                  True  CXXX  SSKPSNCSLC  S-farnesyl cysteine  \n",
       "2                  True  CAAX  DQCCTTCVVQ  S-farnesyl cysteine  "
      ]
     },
     "execution_count": 17,
     "metadata": {},
     "output_type": "execute_result"
    }
   ],
   "source": [
    "mismatch"
   ]
  },
  {
   "cell_type": "code",
   "execution_count": 18,
   "id": "02726b2e",
   "metadata": {},
   "outputs": [
    {
     "name": "stdout",
     "output_type": "stream",
     "text": [
      "Results for canon_known_F:\n"
     ]
    },
    {
     "data": {
      "text/html": [
       "<div>\n",
       "<style scoped>\n",
       "    .dataframe tbody tr th:only-of-type {\n",
       "        vertical-align: middle;\n",
       "    }\n",
       "\n",
       "    .dataframe tbody tr th {\n",
       "        vertical-align: top;\n",
       "    }\n",
       "\n",
       "    .dataframe thead th {\n",
       "        text-align: right;\n",
       "    }\n",
       "</style>\n",
       "<table border=\"1\" class=\"dataframe\">\n",
       "  <thead>\n",
       "    <tr style=\"text-align: right;\">\n",
       "      <th></th>\n",
       "      <th>motif</th>\n",
       "      <th>count</th>\n",
       "      <th>frequency</th>\n",
       "      <th>name</th>\n",
       "    </tr>\n",
       "  </thead>\n",
       "  <tbody>\n",
       "    <tr>\n",
       "      <th>0</th>\n",
       "      <td>CXXX</td>\n",
       "      <td>19</td>\n",
       "      <td>38.8%</td>\n",
       "      <td>[BROX, CENPF, CEP85, DCAF8, DNJA1, DNJA2, DNJA4, DPCD, GBP1, LMNA, LMNB2, LRRF1, NP1L1, NP1L4, RAP2A, RHEB, TP4A1, TP4A2, ULK3]</td>\n",
       "    </tr>\n",
       "    <tr>\n",
       "      <th>1</th>\n",
       "      <td>CAAX</td>\n",
       "      <td>9</td>\n",
       "      <td>18.4%</td>\n",
       "      <td>[GBGT2, LMNB1, PEX19, RAB28, RASH, RASK, RASN, RRAS2, YKT6]</td>\n",
       "    </tr>\n",
       "  </tbody>\n",
       "</table>\n",
       "</div>"
      ],
      "text/plain": [
       "  motif  count frequency  \\\n",
       "0  CXXX     19     38.8%   \n",
       "1  CAAX      9     18.4%   \n",
       "\n",
       "                                                                                                                              name  \n",
       "0  [BROX, CENPF, CEP85, DCAF8, DNJA1, DNJA2, DNJA4, DPCD, GBP1, LMNA, LMNB2, LRRF1, NP1L1, NP1L4, RAP2A, RHEB, TP4A1, TP4A2, ULK3]  \n",
       "1                                                                      [GBGT2, LMNB1, PEX19, RAB28, RASH, RASK, RASN, RRAS2, YKT6]  "
      ]
     },
     "metadata": {},
     "output_type": "display_data"
    },
    {
     "name": "stdout",
     "output_type": "stream",
     "text": [
      "Results for canon_known_GG:\n"
     ]
    },
    {
     "data": {
      "text/html": [
       "<div>\n",
       "<style scoped>\n",
       "    .dataframe tbody tr th:only-of-type {\n",
       "        vertical-align: middle;\n",
       "    }\n",
       "\n",
       "    .dataframe tbody tr th {\n",
       "        vertical-align: top;\n",
       "    }\n",
       "\n",
       "    .dataframe thead th {\n",
       "        text-align: right;\n",
       "    }\n",
       "</style>\n",
       "<table border=\"1\" class=\"dataframe\">\n",
       "  <thead>\n",
       "    <tr style=\"text-align: right;\">\n",
       "      <th></th>\n",
       "      <th>motif</th>\n",
       "      <th>count</th>\n",
       "      <th>frequency</th>\n",
       "      <th>name</th>\n",
       "    </tr>\n",
       "  </thead>\n",
       "  <tbody>\n",
       "    <tr>\n",
       "      <th>0</th>\n",
       "      <td>CXXX</td>\n",
       "      <td>2</td>\n",
       "      <td>4.1%</td>\n",
       "      <td>[RHOH, ZFN2B]</td>\n",
       "    </tr>\n",
       "    <tr>\n",
       "      <th>1</th>\n",
       "      <td>CAAX</td>\n",
       "      <td>1</td>\n",
       "      <td>2.0%</td>\n",
       "      <td>RAP2C</td>\n",
       "    </tr>\n",
       "  </tbody>\n",
       "</table>\n",
       "</div>"
      ],
      "text/plain": [
       "  motif  count frequency           name\n",
       "0  CXXX      2      4.1%  [RHOH, ZFN2B]\n",
       "1  CAAX      1      2.0%          RAP2C"
      ]
     },
     "metadata": {},
     "output_type": "display_data"
    },
    {
     "name": "stdout",
     "output_type": "stream",
     "text": [
      "Results for canon_novel_F:\n"
     ]
    },
    {
     "data": {
      "text/html": [
       "<div>\n",
       "<style scoped>\n",
       "    .dataframe tbody tr th:only-of-type {\n",
       "        vertical-align: middle;\n",
       "    }\n",
       "\n",
       "    .dataframe tbody tr th {\n",
       "        vertical-align: top;\n",
       "    }\n",
       "\n",
       "    .dataframe thead th {\n",
       "        text-align: right;\n",
       "    }\n",
       "</style>\n",
       "<table border=\"1\" class=\"dataframe\">\n",
       "  <thead>\n",
       "    <tr style=\"text-align: right;\">\n",
       "      <th></th>\n",
       "      <th>motif</th>\n",
       "      <th>count</th>\n",
       "      <th>frequency</th>\n",
       "      <th>name</th>\n",
       "    </tr>\n",
       "  </thead>\n",
       "  <tbody>\n",
       "    <tr>\n",
       "      <th>0</th>\n",
       "      <td>CXXX</td>\n",
       "      <td>7</td>\n",
       "      <td>14.3%</td>\n",
       "      <td>[APOL3, CE85L, F219A, MAPK3, RIC1, SPDLY, WDTC1]</td>\n",
       "    </tr>\n",
       "    <tr>\n",
       "      <th>1</th>\n",
       "      <td>CAAX</td>\n",
       "      <td>4</td>\n",
       "      <td>8.2%</td>\n",
       "      <td>[EH1L1, EHBP1, INF2, PRIC3]</td>\n",
       "    </tr>\n",
       "    <tr>\n",
       "      <th>2</th>\n",
       "      <td>C</td>\n",
       "      <td>1</td>\n",
       "      <td>2.0%</td>\n",
       "      <td>RBGP1</td>\n",
       "    </tr>\n",
       "  </tbody>\n",
       "</table>\n",
       "</div>"
      ],
      "text/plain": [
       "  motif  count frequency                                              name\n",
       "0  CXXX      7     14.3%  [APOL3, CE85L, F219A, MAPK3, RIC1, SPDLY, WDTC1]\n",
       "1  CAAX      4      8.2%                       [EH1L1, EHBP1, INF2, PRIC3]\n",
       "2     C      1      2.0%                                             RBGP1"
      ]
     },
     "metadata": {},
     "output_type": "display_data"
    }
   ],
   "source": [
    "# List of known DataFrames with their names\n",
    "known_dfs = [\n",
    "    ('canon_known_F', canon_known_F),\n",
    "    ('canon_known_GG', canon_known_GG),\n",
    "    ('canon_novel_F', canon_novel_F),\n",
    "]\n",
    "\n",
    "# Iterate through each DataFrame\n",
    "for df_name, df in known_dfs:\n",
    "    # Calculate motif counts and normalized frequencies\n",
    "    motif_counts = df['motif'].value_counts()\n",
    "    normalized_frequencies = (motif_counts / (len(all_found)) * 100).round(1).astype(str) + '%'\n",
    "\n",
    "    # Create a DataFrame for the counts and frequencies\n",
    "    motif_counts_df = pd.DataFrame({\n",
    "        'motif': motif_counts.index,\n",
    "        'count': motif_counts.values,\n",
    "        'frequency': normalized_frequencies\n",
    "    })\n",
    "\n",
    "    # Aggregate names\n",
    "    name_agg = df.groupby('motif')['name'].agg(lambda x: sorted(list(x)) if len(x) > 1 else x.iloc[0]).reset_index()\n",
    "\n",
    "    # Reset index for both DataFrames to avoid merge ambiguity\n",
    "    motif_counts_df.reset_index(drop=True, inplace=True)\n",
    "    name_agg.reset_index(drop=True, inplace=True)\n",
    "\n",
    "    # Merge the counts and names\n",
    "    combined_df = pd.merge(motif_counts_df, name_agg, on='motif', how='inner')\n",
    "\n",
    "    # Print the name of the DataFrame\n",
    "    print(f\"Results for {df_name}:\")\n",
    "    \n",
    "    # Display the combined DataFrame\n",
    "    display(combined_df)\n"
   ]
  },
  {
   "cell_type": "code",
   "execution_count": 19,
   "id": "23c9a1ee",
   "metadata": {},
   "outputs": [
    {
     "data": {
      "image/png": "[encoded data removed]",
      "text/plain": [
       "<Figure size 1000x600 with 1 Axes>"
      ]
     },
     "metadata": {},
     "output_type": "display_data"
    }
   ],
   "source": [
    "motifs = (\"CXXX\", \"CaaX\", \"CXC\", \"CCX\", \"CC\", \"C\", \"newCterm\", \"no Cterm\")\n",
    "\n",
    "# Define group counts for known, identified known, and novel identified\n",
    "group_counts = {\n",
    "    'known': [46, 25, 0, 0, 0, 0, 0, 0],  \n",
    "    'identified known': [21, 10, 0, 0, 0, 0, 0, 0],\n",
    "    'identified new': [7, 4, 0, 0, 0, 1, 0, 6]\n",
    "}\n",
    "\n",
    "# Proportion calculation (assuming `F_found` and `F_GG_found` are defined)\n",
    "group_proportions = group_counts.copy()\n",
    "for attribute, measurement in group_proportions.items():\n",
    "    if attribute == 'known':\n",
    "        group_proportions[attribute] = [ round(x/(sum(measurement))*100,1) for x in measurement ]\n",
    "    if attribute == 'identified known':\n",
    "        group_proportions[attribute] = [ round(x/(len(canon_known_F))*100,1) for x in measurement ]\n",
    "    if attribute == 'identified new':\n",
    "        group_proportions[attribute] = [ round(x/(len(novel_found))*100,1) for x in measurement ]  \n",
    "\n",
    "# Update labels with counts and percentages\n",
    "group_labels = group_counts.copy()\n",
    "for attribute, measurement in group_labels.items():\n",
    "    group_labels[attribute] = [ str(prop)+\"%\\n(\"+str(count)+\")\" for (prop, count) in zip(group_proportions[attribute],group_counts[attribute]) ]\n",
    "\n",
    "# Call the updated plotting function\n",
    "plot_grouped_bar_chart(motifs, group_proportions, group_labels, 'Farnesylated proteins by motif')\n",
    "\n",
    "plt.tight_layout()\n",
    "plt.savefig(os.path.join(figures, 'F_motifs.pdf'), dpi=300)\n",
    "plt.show()"
   ]
  },
  {
   "cell_type": "markdown",
   "id": "fe04ab12",
   "metadata": {},
   "source": [
    "# Sequence logos"
   ]
  },
  {
   "cell_type": "markdown",
   "id": "05e58043",
   "metadata": {},
   "source": [
    "## Canonical motif, known"
   ]
  },
  {
   "cell_type": "code",
   "execution_count": 20,
   "id": "a54d1100",
   "metadata": {},
   "outputs": [
    {
     "name": "stdout",
     "output_type": "stream",
     "text": [
      "19\tCXXX\tF_Cterm_known_CXXX.txt\n",
      "9\tCAAX\tF_Cterm_known_CAAX.txt\n"
     ]
    }
   ],
   "source": [
    "# Save peptides for PSSMSearch\n",
    "\n",
    "motif_counts = canon_known_F['motif'].value_counts()\n",
    "\n",
    "for motif, count in motif_counts.items():\n",
    "    filtered_peps = canon_known_F['pep'][canon_known_F['motif'] == motif]\n",
    "    filename = f'F_Cterm_known_{motif}.txt'\n",
    "    filtered_peps.to_csv(os.path.join(PSSMSearch, 'Cterm', 'known_canon', filename), header=None, index=None, sep=' ')\n",
    "    print(f\"{count}\\t{motif}\\t{filename}\")"
   ]
  },
  {
   "cell_type": "code",
   "execution_count": 21,
   "id": "5b0e29a9",
   "metadata": {},
   "outputs": [
    {
     "name": "stdout",
     "output_type": "stream",
     "text": [
      "2\tCXXX\tGG_Cterm_known_CXXX.txt\n",
      "1\tCAAX\tGG_Cterm_known_CAAX.txt\n"
     ]
    }
   ],
   "source": [
    "# Save peptides for PSSMSearch\n",
    "\n",
    "motif_counts = canon_known_GG['motif'].value_counts()\n",
    "\n",
    "for motif, count in motif_counts.items():\n",
    "    filtered_peps = canon_known_GG['pep'][canon_known_GG['motif'] == motif]\n",
    "    filename = f'GG_Cterm_known_{motif}.txt'\n",
    "    filtered_peps.to_csv(os.path.join(PSSMSearch, 'Cterm', 'known_canon', filename), header=None, index=None, sep=' ')\n",
    "    print(f\"{count}\\t{motif}\\t{filename}\")"
   ]
  },
  {
   "cell_type": "markdown",
   "id": "609d09ac",
   "metadata": {},
   "source": [
    "## Canonical motif, new"
   ]
  },
  {
   "cell_type": "code",
   "execution_count": 22,
   "id": "088d7328",
   "metadata": {},
   "outputs": [
    {
     "name": "stdout",
     "output_type": "stream",
     "text": [
      "7\tCXXX\tF_Cterm_new_CXXX.txt\n",
      "4\tCAAX\tF_Cterm_new_CAAX.txt\n",
      "1\tC\tF_Cterm_new_C.txt\n"
     ]
    }
   ],
   "source": [
    "# Save peptides for PSSMSearch\n",
    "\n",
    "motif_counts = canon_novel_F['motif'].value_counts()\n",
    "\n",
    "for motif, count in motif_counts.items():\n",
    "    filtered_peps = canon_novel_F['pep'][canon_novel_F['motif'] == motif]\n",
    "    filename = f'F_Cterm_new_{motif}.txt'\n",
    "    filtered_peps.to_csv(os.path.join(PSSMSearch, 'Cterm', 'new_canon', filename), header=None, index=None, sep=' ')\n",
    "    print(f\"{count}\\t{motif}\\t{filename}\")"
   ]
  },
  {
   "cell_type": "markdown",
   "id": "a58ce290",
   "metadata": {},
   "source": [
    "## Canonical motif, all"
   ]
  },
  {
   "cell_type": "code",
   "execution_count": 23,
   "id": "ecc757d2",
   "metadata": {},
   "outputs": [
    {
     "name": "stdout",
     "output_type": "stream",
     "text": [
      "28\tCXXX\tF_Cterm_all_CXXX.txt\n",
      "14\tCAAX\tF_Cterm_all_CAAX.txt\n",
      "1\tC\tF_Cterm_all_C.txt\n"
     ]
    }
   ],
   "source": [
    "# Save peptides for PSSMSearch\n",
    "\n",
    "motif_counts = found_canon['motif'].value_counts()\n",
    "\n",
    "for motif, count in motif_counts.items():\n",
    "    filtered_peps = found_canon['pep'][found_canon['motif'] == motif]\n",
    "    filename = f'F_Cterm_all_{motif}.txt'\n",
    "    filtered_peps.to_csv(os.path.join(PSSMSearch, 'Cterm', 'all_canon', filename), header=None, index=None, sep=' ')\n",
    "    print(f\"{count}\\t{motif}\\t{filename}\")"
   ]
  },
  {
   "cell_type": "code",
   "execution_count": null,
   "id": "61d072a9",
   "metadata": {},
   "outputs": [],
   "source": []
  },
  {
   "cell_type": "code",
   "execution_count": null,
   "id": "57d8066e",
   "metadata": {},
   "outputs": [],
   "source": []
  }
 ],
 "metadata": {
  "kernelspec": {
   "display_name": "Python 3 (ipykernel)",
   "language": "python",
   "name": "python3"
  },
  "language_info": {
   "codemirror_mode": {
    "name": "ipython",
    "version": 3
   },
   "file_extension": ".py",
   "mimetype": "text/x-python",
   "name": "python",
   "nbconvert_exporter": "python",
   "pygments_lexer": "ipython3",
   "version": "3.8.18"
  },
  "toc": {
   "base_numbering": 1,
   "nav_menu": {
    "height": "239px",
    "width": "368px"
   },
   "number_sections": true,
   "sideBar": true,
   "skip_h1_title": false,
   "title_cell": "Table of Contents",
   "title_sidebar": "Contents",
   "toc_cell": true,
   "toc_position": {
    "height": "628.45px",
    "left": "10px",
    "top": "150px",
    "width": "304.033px"
   },
   "toc_section_display": true,
   "toc_window_display": false
  }
 },
 "nbformat": 4,
 "nbformat_minor": 5
}
