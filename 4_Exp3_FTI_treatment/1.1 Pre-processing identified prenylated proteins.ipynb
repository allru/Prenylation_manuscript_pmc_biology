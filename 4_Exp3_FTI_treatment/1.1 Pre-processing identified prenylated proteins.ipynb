{
 "cells": [
  {
   "cell_type": "markdown",
   "id": "4f709c29",
   "metadata": {
    "toc": true
   },
   "source": [
    "<h1>Table of Contents<span class=\"tocSkip\"></span></h1>\n",
    "<div class=\"toc\"><ul class=\"toc-item\"><li><span><a href=\"#Filter-for-relevant-background-comparison-and-check-with-volcano-plot\" data-toc-modified-id=\"Filter-for-relevant-background-comparison-and-check-with-volcano-plot-1\"><span class=\"toc-item-num\">1&nbsp;&nbsp;</span>Filter for relevant background comparison and check with volcano plot</a></span></li><li><span><a href=\"#Falsly-identified-prenylated-proteins\" data-toc-modified-id=\"Falsly-identified-prenylated-proteins-2\"><span class=\"toc-item-num\">2&nbsp;&nbsp;</span>Falsly identified prenylated proteins</a></span><ul class=\"toc-item\"><li><span><a href=\"#Clean-all-lists-of-identified-proteins-by-removing-the-false-positives-and-save-them\" data-toc-modified-id=\"Clean-all-lists-of-identified-proteins-by-removing-the-false-positives-and-save-them-2.1\"><span class=\"toc-item-num\">2.1&nbsp;&nbsp;</span>Clean all lists of identified proteins by removing the false positives and save them</a></span></li><li><span><a href=\"#Fractions-of-false-positives-in-all-identified-proteins\" data-toc-modified-id=\"Fractions-of-false-positives-in-all-identified-proteins-2.2\"><span class=\"toc-item-num\">2.2&nbsp;&nbsp;</span>Fractions of false positives in all identified proteins</a></span></li></ul></li><li><span><a href=\"#Check-if-number-of-false-positives-corresponds-to-general-expectation-of-proteins-without-any-cysteine-or-is-less\" data-toc-modified-id=\"Check-if-number-of-false-positives-corresponds-to-general-expectation-of-proteins-without-any-cysteine-or-is-less-3\"><span class=\"toc-item-num\">3&nbsp;&nbsp;</span>Check if number of false positives corresponds to general expectation of proteins without any cysteine or is less</a></span></li><li><span><a href=\"#Identified-prenylated-proteins\" data-toc-modified-id=\"Identified-prenylated-proteins-4\"><span class=\"toc-item-num\">4&nbsp;&nbsp;</span>Identified prenylated proteins</a></span><ul class=\"toc-item\"><li><span><a href=\"#New-identified-prenylated-proteins\" data-toc-modified-id=\"New-identified-prenylated-proteins-4.1\"><span class=\"toc-item-num\">4.1&nbsp;&nbsp;</span>New identified prenylated proteins</a></span></li><li><span><a href=\"#Known-identified-prenylated-proteins\" data-toc-modified-id=\"Known-identified-prenylated-proteins-4.2\"><span class=\"toc-item-num\">4.2&nbsp;&nbsp;</span>Known identified prenylated proteins</a></span></li><li><span><a href=\"#All-identified-prenylated-proteins\" data-toc-modified-id=\"All-identified-prenylated-proteins-4.3\"><span class=\"toc-item-num\">4.3&nbsp;&nbsp;</span>All identified prenylated proteins</a></span></li></ul></li><li><span><a href=\"#Pre-processing-of-disulfide-bonds-output-.csv-file-from-UniProt\" data-toc-modified-id=\"Pre-processing-of-disulfide-bonds-output-.csv-file-from-UniProt-5\"><span class=\"toc-item-num\">5&nbsp;&nbsp;</span>Pre-processing of disulfide bonds output .csv file from UniProt</a></span></li></ul></div>"
   ]
  },
  {
   "metadata": {},
   "cell_type": "code",
   "outputs": [],
   "execution_count": null,
   "source": [
    "import sys\n",
    "import os\n",
    "import session_info\n",
    "\n",
    "# Add the '0_functions' folder to sys.path\n",
    "sys.path.append(os.path.join(os.getcwd(), '..', '0_functions'))"
   ],
   "id": "82d101256a3d488c"
  },
  {
   "cell_type": "code",
   "execution_count": 1,
   "id": "f0ab44d9",
   "metadata": {},
   "outputs": [],
   "source": [
    "import pandas as pd\n",
    "import numpy as np\n",
    "from matplotlib import pyplot as plt\n",
    "from scipy.stats import hypergeom\n",
    "from functions import fishers_exact_test\n",
    "from functions import preprocess\n",
    "from functions import read_fastafile\n",
    "from functions import percent\n",
    "from functions import clean_agg"
   ]
  },
  {
   "cell_type": "code",
   "execution_count": 2,
   "id": "5d5ffff5",
   "metadata": {},
   "outputs": [
    {
     "data": {
      "text/html": [
       "<details>\n",
       "<summary>Click to view session information</summary>\n",
       "<pre>\n",
       "-----\n",
       "functions           NA\n",
       "matplotlib          3.7.0\n",
       "matplotlib_venn     0.11.7\n",
       "numpy               1.24.4\n",
       "pandas              2.0.3\n",
       "scipy               1.10.1\n",
       "session_info        1.0.0\n",
       "-----\n",
       "</pre>\n",
       "<details>\n",
       "<summary>Click to view modules imported as dependencies</summary>\n",
       "<pre>\n",
       "Bio                         1.83\n",
       "PIL                         10.0.1\n",
       "anyio                       NA\n",
       "asttokens                   NA\n",
       "attr                        23.1.0\n",
       "attrs                       23.1.0\n",
       "babel                       2.11.0\n",
       "backcall                    0.2.0\n",
       "bottleneck                  1.3.7\n",
       "brotli                      NA\n",
       "certifi                     2024.08.30\n",
       "cffi                        1.16.0\n",
       "charset_normalizer          2.0.4\n",
       "colorama                    0.4.6\n",
       "comm                        0.1.2\n",
       "cycler                      0.10.0\n",
       "cython_runtime              NA\n",
       "dateutil                    2.8.2\n",
       "debugpy                     1.6.7\n",
       "decorator                   5.1.1\n",
       "defusedxml                  0.7.1\n",
       "executing                   0.8.3\n",
       "fastjsonschema              NA\n",
       "idna                        3.4\n",
       "importlib_metadata          NA\n",
       "importlib_resources         NA\n",
       "ipykernel                   6.25.0\n",
       "ipython_genutils            0.2.0\n",
       "jedi                        0.18.1\n",
       "jinja2                      3.1.2\n",
       "json5                       NA\n",
       "jsonschema                  4.19.2\n",
       "jsonschema_specifications   NA\n",
       "jupyter_events              0.8.0\n",
       "jupyter_server              2.10.0\n",
       "jupyterlab_server           2.25.1\n",
       "kiwisolver                  1.4.4\n",
       "markupsafe                  2.1.1\n",
       "mpl_toolkits                NA\n",
       "nbformat                    5.9.2\n",
       "nt                          NA\n",
       "numexpr                     2.8.4\n",
       "overrides                   NA\n",
       "packaging                   23.1\n",
       "parso                       0.8.3\n",
       "pickleshare                 0.7.5\n",
       "pkg_resources               NA\n",
       "platformdirs                3.10.0\n",
       "prometheus_client           NA\n",
       "prompt_toolkit              3.0.36\n",
       "psutil                      5.9.0\n",
       "pure_eval                   0.2.2\n",
       "pydev_ipython               NA\n",
       "pydevconsole                NA\n",
       "pydevd                      2.9.5\n",
       "pydevd_file_utils           NA\n",
       "pydevd_plugins              NA\n",
       "pydevd_tracing              NA\n",
       "pygments                    2.11.2\n",
       "pyparsing                   3.0.9\n",
       "pythoncom                   NA\n",
       "pythonjsonlogger            NA\n",
       "pytz                        2023.3.post1\n",
       "pywintypes                  NA\n",
       "referencing                 NA\n",
       "requests                    2.31.0\n",
       "rfc3339_validator           0.1.4\n",
       "rfc3986_validator           0.1.1\n",
       "rpds                        NA\n",
       "send2trash                  NA\n",
       "six                         1.16.0\n",
       "sniffio                     1.2.0\n",
       "socks                       1.7.1\n",
       "stack_data                  0.2.0\n",
       "tornado                     6.3.3\n",
       "traitlets                   5.7.1\n",
       "typing_extensions           NA\n",
       "urllib3                     1.26.18\n",
       "wcwidth                     0.2.5\n",
       "websocket                   0.58.0\n",
       "yaml                        6.0.1\n",
       "zipp                        NA\n",
       "zmq                         25.1.0\n",
       "</pre>\n",
       "</details> <!-- seems like this ends pre, so might as well be explicit -->\n",
       "<pre>\n",
       "-----\n",
       "IPython             8.12.2\n",
       "jupyter_client      8.6.0\n",
       "jupyter_core        5.2.0\n",
       "jupyterlab          3.6.3\n",
       "notebook            6.1.5\n",
       "-----\n",
       "Python 3.8.17 (default, Jul  5 2023, 20:44:21) [MSC v.1916 64 bit (AMD64)]\n",
       "Windows-10-10.0.19045-SP0\n",
       "-----\n",
       "Session information updated at 2024-11-18 11:58\n",
       "</pre>\n",
       "</details>"
      ],
      "text/plain": [
       "<IPython.core.display.HTML object>"
      ]
     },
     "execution_count": 2,
     "metadata": {},
     "output_type": "execute_result"
    }
   ],
   "source": [
    "# Display session information\n",
    "session_info.show()"
   ]
  },
  {
   "cell_type": "code",
   "execution_count": 3,
   "id": "c03d076c",
   "metadata": {},
   "outputs": [],
   "source": [
    "pd.set_option('display.max_columns', None)\n",
    "pd.set_option('display.max_rows', None)"
   ]
  },
  {
   "cell_type": "code",
   "execution_count": 4,
   "id": "2ee0c97d",
   "metadata": {},
   "outputs": [],
   "source": [
    "datafolder = 'data'\n",
    "figures = 'data/figures'\n",
    "known_proteins_datafolder = '../Known_prenylated_proteins/data'"
   ]
  },
  {
   "cell_type": "code",
   "execution_count": 5,
   "id": "c5c26ede",
   "metadata": {},
   "outputs": [],
   "source": [
    "# Load data\n",
    "F_FAZ_only = pd.read_csv(os.path.join(datafolder, 'Click-it_GG_F', 'Th1_FTI_results_Faz_only.tsv'), sep='\\t')\n",
    "\n",
    "# All known prenylated proteins\n",
    "all_UP = pd.read_csv(os.path.join(known_proteins_datafolder, 'known_proteins', 'known_all.csv'), sep=';')"
   ]
  },
  {
   "cell_type": "markdown",
   "id": "0c15f56d",
   "metadata": {},
   "source": [
    "# Filter for relevant background comparison and check with volcano plot"
   ]
  },
  {
   "cell_type": "code",
   "execution_count": 6,
   "id": "88bf1642",
   "metadata": {},
   "outputs": [],
   "source": [
    "# Filter for negative ratio und significant TRUE\n",
    "F_FAZ_only = F_FAZ_only[F_FAZ_only['significant'] == True]\n",
    "F_FAZ_only = F_FAZ_only[F_FAZ_only['FTI_Faz_vs_cntr_Faz_ratio'] < 0].reset_index(drop=True)"
   ]
  },
  {
   "cell_type": "code",
   "execution_count": 7,
   "id": "1ad1c9dc",
   "metadata": {},
   "outputs": [],
   "source": [
    "# rename\n",
    "all_found = F_FAZ_only['ID']"
   ]
  },
  {
   "attachments": {
    "a455b7b0-b3d5-4b6f-b2ea-f2220685ead9.png": {
     "image/png": "[encoded data removed]"
    }
   },
   "cell_type": "markdown",
   "id": "13b6bb0c",
   "metadata": {},
   "source": [
    "![image.png](attachment:a455b7b0-b3d5-4b6f-b2ea-f2220685ead9.png)"
   ]
  },
  {
   "cell_type": "markdown",
   "id": "f1bad625",
   "metadata": {},
   "source": [
    "# Falsly identified prenylated proteins"
   ]
  },
  {
   "cell_type": "code",
   "execution_count": 8,
   "id": "d823f796",
   "metadata": {},
   "outputs": [],
   "source": [
    "# Get the sequences of all identified proteins in FASTA format\n",
    "# create uniprot sparql readable input for all identified proteins\n",
    "up_input = ' '.join([s for s in all_found])"
   ]
  },
  {
   "cell_type": "code",
   "execution_count": 9,
   "id": "fdbf179f",
   "metadata": {},
   "outputs": [],
   "source": [
    "# FASTA file of all identified proteins, downloaded from uniprot \n",
    "sequences = read_fastafile(os.path.join(datafolder, 'fasta_files', 'idmapping_2024_01_16_identified_proteins.fasta'))"
   ]
  },
  {
   "cell_type": "code",
   "execution_count": 10,
   "id": "58e905ee",
   "metadata": {},
   "outputs": [
    {
     "name": "stdout",
     "output_type": "stream",
     "text": [
      "Number of identified proteins without cysteine: 1\n"
     ]
    }
   ],
   "source": [
    "# save all proteins that don't have a C in their sequence to a new df called no_C\n",
    "no_C = sequences[~sequences['seq'].str.contains('C')]\n",
    "no_C.reset_index(drop=True, inplace=True)\n",
    "\n",
    "print('Number of identified proteins without cysteine:', len(no_C))"
   ]
  },
  {
   "cell_type": "code",
   "execution_count": 11,
   "id": "f06ff24e",
   "metadata": {},
   "outputs": [
    {
     "data": {
      "text/plain": [
       "'Q9UNZ2'"
      ]
     },
     "execution_count": 11,
     "metadata": {},
     "output_type": "execute_result"
    }
   ],
   "source": [
    "# Are they really false positives or is there an isoform with a cysteine?\n",
    "# Look for C in the isoforms of these proteins\n",
    "\n",
    "' '.join([s for s in no_C['ID']])"
   ]
  },
  {
   "cell_type": "code",
   "execution_count": 12,
   "id": "1924f54d",
   "metadata": {},
   "outputs": [
    {
     "name": "stdout",
     "output_type": "stream",
     "text": [
      "Found isoforms that do contain a cysteine:\n"
     ]
    },
    {
     "data": {
      "text/html": [
       "<div>\n",
       "<style scoped>\n",
       "    .dataframe tbody tr th:only-of-type {\n",
       "        vertical-align: middle;\n",
       "    }\n",
       "\n",
       "    .dataframe tbody tr th {\n",
       "        vertical-align: top;\n",
       "    }\n",
       "\n",
       "    .dataframe thead th {\n",
       "        text-align: right;\n",
       "    }\n",
       "</style>\n",
       "<table border=\"1\" class=\"dataframe\">\n",
       "  <thead>\n",
       "    <tr style=\"text-align: right;\">\n",
       "      <th></th>\n",
       "      <th>ID</th>\n",
       "      <th>seqID</th>\n",
       "      <th>seq</th>\n",
       "      <th>len</th>\n",
       "    </tr>\n",
       "  </thead>\n",
       "  <tbody>\n",
       "  </tbody>\n",
       "</table>\n",
       "</div>"
      ],
      "text/plain": [
       "Empty DataFrame\n",
       "Columns: [ID, seqID, seq, len]\n",
       "Index: []"
      ]
     },
     "execution_count": 12,
     "metadata": {},
     "output_type": "execute_result"
    }
   ],
   "source": [
    "iso = read_fastafile(os.path.join(datafolder, 'fasta_files', 'idmapping_2024_01_16_identified_false_p.fasta'))\n",
    "\n",
    "# checks for C occurence, so we get the proteins that do contain a C in ore or more isoforms and therefore aren't false positive\n",
    "true_p_iso = iso[iso['seq'].str.contains('C')].reset_index(drop=True)\n",
    "\n",
    "print('Found isoforms that do contain a cysteine:')\n",
    "true_p_iso"
   ]
  },
  {
   "cell_type": "markdown",
   "id": "cab4effb",
   "metadata": {},
   "source": [
    "## Clean all lists of identified proteins by removing the false positives and save them"
   ]
  },
  {
   "cell_type": "code",
   "execution_count": 13,
   "id": "e2e7f20e",
   "metadata": {},
   "outputs": [],
   "source": [
    "# remove all proteins w/o cysteine from fasta file\n",
    "sequences = sequences[~sequences['ID'].isin(no_C['ID'])]\n",
    "\n",
    "#save\n",
    "sequences.to_csv(os.path.join(datafolder, 'identified_proteins', 'clean_fasta_seqs_identified_prots.csv'), sep=',', index=False)"
   ]
  },
  {
   "cell_type": "code",
   "execution_count": 14,
   "id": "52ff511f",
   "metadata": {},
   "outputs": [],
   "source": [
    "# remove rows where ID is in list of proteins that are false positives to get clean dataframes\n",
    "\n",
    "false_p = iso[~iso['seq'].str.contains('C')]\n",
    "false_p = false_p[~false_p['ID'].str.contains('-')].reset_index(drop=True)\n",
    "false_p = false_p[~false_p['ID'].isin(true_p_iso['ID'])].reset_index(drop=True)\n",
    "\n",
    "clean_F_FAZ_only = F_FAZ_only[~F_FAZ_only['ID'].isin(false_p['ID'])].reset_index(drop=True)\n",
    "\n",
    "#save\n",
    "clean_F_FAZ_only.to_csv(os.path.join(datafolder, 'Click-it_GG_F', 'clean_F_FAZ_only.csv'), sep=',', index=False)"
   ]
  },
  {
   "cell_type": "code",
   "execution_count": 15,
   "id": "0b49433b",
   "metadata": {},
   "outputs": [],
   "source": [
    "all_found = {item for item in all_found if item not in false_p['ID'].tolist()}"
   ]
  },
  {
   "cell_type": "markdown",
   "id": "3704108e",
   "metadata": {},
   "source": [
    "## Fractions of false positives in all identified proteins"
   ]
  },
  {
   "cell_type": "code",
   "execution_count": 16,
   "id": "325e2aab",
   "metadata": {},
   "outputs": [
    {
     "name": "stdout",
     "output_type": "stream",
     "text": [
      "Percentage of false positive in all identified proteins: 2.0% (1 of 50)\n"
     ]
    }
   ],
   "source": [
    "print('Percentage of false positive in all identified proteins: ', round(percent(len(false_p.index), 50), 2), '% (',\n",
    "      len(false_p.index), ' of ', 50, ')', sep='')"
   ]
  },
  {
   "cell_type": "markdown",
   "id": "2ad5bfc5",
   "metadata": {},
   "source": [
    "# Check if number of false positives corresponds to general expectation of proteins without any cysteine or is less"
   ]
  },
  {
   "cell_type": "code",
   "execution_count": 17,
   "id": "79ff8fcb",
   "metadata": {},
   "outputs": [],
   "source": [
    "# proteins without cysteine in the human proteome, 26.09.23\n",
    "# canonical sequences only\n",
    "\n",
    "# Number of all identified prenylated proteins: before removing false positives\n",
    "\n",
    "[M, n, N] = [25866 , 1479, 50]\n",
    "\n",
    "# M = size of human proteome\n",
    "# n = number of all proteins without a cystein in the human proteome\n",
    "# N = all identified proteins"
   ]
  },
  {
   "cell_type": "code",
   "execution_count": 18,
   "id": "5c9332b0",
   "metadata": {},
   "outputs": [
    {
     "name": "stdout",
     "output_type": "stream",
     "text": [
      "Expected number of false positives: 2\n",
      "Actual number of false positives: 1\n"
     ]
    }
   ],
   "source": [
    "# -> We have a collection of 25866 proteins in the human proteome, of which ca. 1100 don't contain a cysteine.\n",
    "# We want to know the probability of finding a given number of proteins without C if we choose at random N of \n",
    "# the 25866 human proteins.\n",
    "\n",
    "rv = hypergeom(M, n, N)\n",
    "x = np.arange(0, n+1)\n",
    "\n",
    "pmf_false_p = rv.pmf(x)\n",
    "\n",
    "print('Expected number of false positives:', np.argmax(pmf_false_p))\n",
    "print('Actual number of false positives:', len(false_p))"
   ]
  },
  {
   "cell_type": "code",
   "execution_count": 19,
   "id": "3712a631",
   "metadata": {},
   "outputs": [
    {
     "data": {
      "image/png": "[encoded data removed]",
      "text/plain": [
       "<Figure size 640x480 with 1 Axes>"
      ]
     },
     "metadata": {},
     "output_type": "display_data"
    }
   ],
   "source": [
    "# Figure of most likely amount of proteins without cysteines in all identified proteins\n",
    "\n",
    "fig, ax = plt.subplots()\n",
    "ax.plot(x, pmf_false_p, 'bo')\n",
    "ax.vlines(x, 0, pmf_false_p, lw=2)\n",
    "plt.xlim(-5, 10)\n",
    "ax.set_xlabel('expected # of proteins without C in our identified proteins')\n",
    "ax.set_ylabel('hypergeom PMF')\n",
    "\n",
    "ax.annotate('local max = 2', xy=(np.argmax(pmf_false_p), pmf_false_p[np.argmax(pmf_false_p)]), xycoords='data',\n",
    "            xytext=(0.03, 0.9), textcoords='axes fraction',\n",
    "            va='top', ha='left',\n",
    "            arrowprops=dict(facecolor='black', shrink=0.001))\n",
    "\n",
    "# save\n",
    "plt.savefig(os.path.join(figures, 'hyper_false_p.png'))\n",
    "\n",
    "plt.show()"
   ]
  },
  {
   "cell_type": "code",
   "execution_count": 20,
   "id": "4f78ff8f",
   "metadata": {},
   "outputs": [
    {
     "name": "stdout",
     "output_type": "stream",
     "text": [
      "The difference between actual and expected amount of proteins without cysteines has a p-value=0.37. \n",
      "We have less false positives in the identified prenylated proteins than expected.\n"
     ]
    }
   ],
   "source": [
    "#  Fisher’s Exact Test\n",
    "\n",
    "p_value = fishers_exact_test(len(false_p), N, n, M)\n",
    "\n",
    "# h0: proteins with no C are equally likely in both groups (independence)\n",
    "# OR: There is no difference in the proportion of proteins with no C in both groups\n",
    "# OR: A random table would have the probability of equal or less than the input table\n",
    "\n",
    "# hA: The variables are not independent (one proportion is different to the other)\n",
    "# OR: The the proportions of no C proteins are not equivalent in both groups\n",
    "\n",
    "print('The difference between actual and expected amount of proteins without cysteines has a p-value=', \n",
    "      round(p_value, 2), '. \\nWe have less false positives in the identified prenylated proteins than expected.', sep='')"
   ]
  },
  {
   "cell_type": "markdown",
   "id": "34fb4d2d",
   "metadata": {},
   "source": [
    "# Identified prenylated proteins"
   ]
  },
  {
   "cell_type": "markdown",
   "id": "3d0cfc1f",
   "metadata": {},
   "source": [
    "## New identified prenylated proteins"
   ]
  },
  {
   "cell_type": "code",
   "execution_count": 21,
   "id": "6e192013",
   "metadata": {},
   "outputs": [],
   "source": [
    "# To gain more knowledge about the identified prenylated proteins, they will also be searched in UniProt and the same variables \n",
    "# as in 'uniprot_ext' are saved in 'new_all_ext'"
   ]
  },
  {
   "cell_type": "code",
   "execution_count": 22,
   "id": "2faf3200",
   "metadata": {},
   "outputs": [
    {
     "name": "stdout",
     "output_type": "stream",
     "text": [
      "All newly identified prenylated proteins: 18\n"
     ]
    }
   ],
   "source": [
    "# Of all identified proteins, keep only those IDs not present in known prenylated proteins list\n",
    "new_all = [x for x in all_found if x not in list(set(all_UP['ID']))]\n",
    "\n",
    "print('All newly identified prenylated proteins:', len(new_all))"
   ]
  },
  {
   "cell_type": "code",
   "execution_count": 23,
   "id": "249d386f",
   "metadata": {},
   "outputs": [],
   "source": [
    "# create uniprot sparql readable input for all found proteins that were not previously know to be prenylated\n",
    "up_input = ' '.join(['uniprotkb:' + str(s) for s in new_all])"
   ]
  },
  {
   "cell_type": "code",
   "execution_count": 24,
   "id": "ebd3aa43",
   "metadata": {},
   "outputs": [],
   "source": [
    "# load sparqle query2 results\n",
    "new_all_ext = pd.read_csv(os.path.join(datafolder, 'UniProt_SPARQL_queries', 'up_output_new_proteins_16.01.23.csv'), sep=';')"
   ]
  },
  {
   "cell_type": "code",
   "execution_count": 25,
   "id": "a5d0b506",
   "metadata": {},
   "outputs": [
    {
     "name": "stderr",
     "output_type": "stream",
     "text": [
      "C:\\Users\\ale\\DataspellProjects\\Prenylation_manuscript_pmc_biology\\Th1_FTI_results_Faz_only\\functions.py:66: SettingWithCopyWarning: \n",
      "A value is trying to be set on a copy of a slice from a DataFrame\n",
      "\n",
      "See the caveats in the documentation: https://pandas.pydata.org/pandas-docs/stable/user_guide/indexing.html#returning-a-view-versus-a-copy\n",
      "  any_df['substrate'][i] = re.sub(combined_pat, '', sub)\n",
      "C:\\Users\\ale\\DataspellProjects\\Prenylation_manuscript_pmc_biology\\Th1_FTI_results_Faz_only\\functions.py:66: SettingWithCopyWarning: \n",
      "A value is trying to be set on a copy of a slice from a DataFrame\n",
      "\n",
      "See the caveats in the documentation: https://pandas.pydata.org/pandas-docs/stable/user_guide/indexing.html#returning-a-view-versus-a-copy\n",
      "  any_df['substrate'][i] = re.sub(combined_pat, '', sub)\n",
      "C:\\Users\\ale\\DataspellProjects\\Prenylation_manuscript_pmc_biology\\Th1_FTI_results_Faz_only\\functions.py:66: SettingWithCopyWarning: \n",
      "A value is trying to be set on a copy of a slice from a DataFrame\n",
      "\n",
      "See the caveats in the documentation: https://pandas.pydata.org/pandas-docs/stable/user_guide/indexing.html#returning-a-view-versus-a-copy\n",
      "  any_df['substrate'][i] = re.sub(combined_pat, '', sub)\n",
      "C:\\Users\\ale\\DataspellProjects\\Prenylation_manuscript_pmc_biology\\Th1_FTI_results_Faz_only\\functions.py:66: SettingWithCopyWarning: \n",
      "A value is trying to be set on a copy of a slice from a DataFrame\n",
      "\n",
      "See the caveats in the documentation: https://pandas.pydata.org/pandas-docs/stable/user_guide/indexing.html#returning-a-view-versus-a-copy\n",
      "  any_df['substrate'][i] = re.sub(combined_pat, '', sub)\n",
      "C:\\Users\\ale\\DataspellProjects\\Prenylation_manuscript_pmc_biology\\Th1_FTI_results_Faz_only\\functions.py:66: SettingWithCopyWarning: \n",
      "A value is trying to be set on a copy of a slice from a DataFrame\n",
      "\n",
      "See the caveats in the documentation: https://pandas.pydata.org/pandas-docs/stable/user_guide/indexing.html#returning-a-view-versus-a-copy\n",
      "  any_df['substrate'][i] = re.sub(combined_pat, '', sub)\n",
      "C:\\Users\\ale\\DataspellProjects\\Prenylation_manuscript_pmc_biology\\Th1_FTI_results_Faz_only\\functions.py:66: SettingWithCopyWarning: \n",
      "A value is trying to be set on a copy of a slice from a DataFrame\n",
      "\n",
      "See the caveats in the documentation: https://pandas.pydata.org/pandas-docs/stable/user_guide/indexing.html#returning-a-view-versus-a-copy\n",
      "  any_df['substrate'][i] = re.sub(combined_pat, '', sub)\n",
      "C:\\Users\\ale\\DataspellProjects\\Prenylation_manuscript_pmc_biology\\Th1_FTI_results_Faz_only\\functions.py:66: SettingWithCopyWarning: \n",
      "A value is trying to be set on a copy of a slice from a DataFrame\n",
      "\n",
      "See the caveats in the documentation: https://pandas.pydata.org/pandas-docs/stable/user_guide/indexing.html#returning-a-view-versus-a-copy\n",
      "  any_df['substrate'][i] = re.sub(combined_pat, '', sub)\n",
      "C:\\Users\\ale\\DataspellProjects\\Prenylation_manuscript_pmc_biology\\Th1_FTI_results_Faz_only\\functions.py:66: SettingWithCopyWarning: \n",
      "A value is trying to be set on a copy of a slice from a DataFrame\n",
      "\n",
      "See the caveats in the documentation: https://pandas.pydata.org/pandas-docs/stable/user_guide/indexing.html#returning-a-view-versus-a-copy\n",
      "  any_df['substrate'][i] = re.sub(combined_pat, '', sub)\n",
      "C:\\Users\\ale\\DataspellProjects\\Prenylation_manuscript_pmc_biology\\Th1_FTI_results_Faz_only\\functions.py:66: SettingWithCopyWarning: \n",
      "A value is trying to be set on a copy of a slice from a DataFrame\n",
      "\n",
      "See the caveats in the documentation: https://pandas.pydata.org/pandas-docs/stable/user_guide/indexing.html#returning-a-view-versus-a-copy\n",
      "  any_df['substrate'][i] = re.sub(combined_pat, '', sub)\n",
      "C:\\Users\\ale\\DataspellProjects\\Prenylation_manuscript_pmc_biology\\Th1_FTI_results_Faz_only\\functions.py:66: SettingWithCopyWarning: \n",
      "A value is trying to be set on a copy of a slice from a DataFrame\n",
      "\n",
      "See the caveats in the documentation: https://pandas.pydata.org/pandas-docs/stable/user_guide/indexing.html#returning-a-view-versus-a-copy\n",
      "  any_df['substrate'][i] = re.sub(combined_pat, '', sub)\n",
      "C:\\Users\\ale\\DataspellProjects\\Prenylation_manuscript_pmc_biology\\Th1_FTI_results_Faz_only\\functions.py:66: SettingWithCopyWarning: \n",
      "A value is trying to be set on a copy of a slice from a DataFrame\n",
      "\n",
      "See the caveats in the documentation: https://pandas.pydata.org/pandas-docs/stable/user_guide/indexing.html#returning-a-view-versus-a-copy\n",
      "  any_df['substrate'][i] = re.sub(combined_pat, '', sub)\n",
      "C:\\Users\\ale\\DataspellProjects\\Prenylation_manuscript_pmc_biology\\Th1_FTI_results_Faz_only\\functions.py:66: SettingWithCopyWarning: \n",
      "A value is trying to be set on a copy of a slice from a DataFrame\n",
      "\n",
      "See the caveats in the documentation: https://pandas.pydata.org/pandas-docs/stable/user_guide/indexing.html#returning-a-view-versus-a-copy\n",
      "  any_df['substrate'][i] = re.sub(combined_pat, '', sub)\n",
      "C:\\Users\\ale\\DataspellProjects\\Prenylation_manuscript_pmc_biology\\Th1_FTI_results_Faz_only\\functions.py:66: SettingWithCopyWarning: \n",
      "A value is trying to be set on a copy of a slice from a DataFrame\n",
      "\n",
      "See the caveats in the documentation: https://pandas.pydata.org/pandas-docs/stable/user_guide/indexing.html#returning-a-view-versus-a-copy\n",
      "  any_df['substrate'][i] = re.sub(combined_pat, '', sub)\n",
      "C:\\Users\\ale\\DataspellProjects\\Prenylation_manuscript_pmc_biology\\Th1_FTI_results_Faz_only\\functions.py:66: SettingWithCopyWarning: \n",
      "A value is trying to be set on a copy of a slice from a DataFrame\n",
      "\n",
      "See the caveats in the documentation: https://pandas.pydata.org/pandas-docs/stable/user_guide/indexing.html#returning-a-view-versus-a-copy\n",
      "  any_df['substrate'][i] = re.sub(combined_pat, '', sub)\n",
      "C:\\Users\\ale\\DataspellProjects\\Prenylation_manuscript_pmc_biology\\Th1_FTI_results_Faz_only\\functions.py:66: SettingWithCopyWarning: \n",
      "A value is trying to be set on a copy of a slice from a DataFrame\n",
      "\n",
      "See the caveats in the documentation: https://pandas.pydata.org/pandas-docs/stable/user_guide/indexing.html#returning-a-view-versus-a-copy\n",
      "  any_df['substrate'][i] = re.sub(combined_pat, '', sub)\n",
      "C:\\Users\\ale\\DataspellProjects\\Prenylation_manuscript_pmc_biology\\Th1_FTI_results_Faz_only\\functions.py:66: SettingWithCopyWarning: \n",
      "A value is trying to be set on a copy of a slice from a DataFrame\n",
      "\n",
      "See the caveats in the documentation: https://pandas.pydata.org/pandas-docs/stable/user_guide/indexing.html#returning-a-view-versus-a-copy\n",
      "  any_df['substrate'][i] = re.sub(combined_pat, '', sub)\n",
      "C:\\Users\\ale\\DataspellProjects\\Prenylation_manuscript_pmc_biology\\Th1_FTI_results_Faz_only\\functions.py:66: SettingWithCopyWarning: \n",
      "A value is trying to be set on a copy of a slice from a DataFrame\n",
      "\n",
      "See the caveats in the documentation: https://pandas.pydata.org/pandas-docs/stable/user_guide/indexing.html#returning-a-view-versus-a-copy\n",
      "  any_df['substrate'][i] = re.sub(combined_pat, '', sub)\n",
      "C:\\Users\\ale\\DataspellProjects\\Prenylation_manuscript_pmc_biology\\Th1_FTI_results_Faz_only\\functions.py:66: SettingWithCopyWarning: \n",
      "A value is trying to be set on a copy of a slice from a DataFrame\n",
      "\n",
      "See the caveats in the documentation: https://pandas.pydata.org/pandas-docs/stable/user_guide/indexing.html#returning-a-view-versus-a-copy\n",
      "  any_df['substrate'][i] = re.sub(combined_pat, '', sub)\n",
      "C:\\Users\\ale\\DataspellProjects\\Prenylation_manuscript_pmc_biology\\Th1_FTI_results_Faz_only\\functions.py:66: SettingWithCopyWarning: \n",
      "A value is trying to be set on a copy of a slice from a DataFrame\n",
      "\n",
      "See the caveats in the documentation: https://pandas.pydata.org/pandas-docs/stable/user_guide/indexing.html#returning-a-view-versus-a-copy\n",
      "  any_df['substrate'][i] = re.sub(combined_pat, '', sub)\n",
      "C:\\Users\\ale\\DataspellProjects\\Prenylation_manuscript_pmc_biology\\Th1_FTI_results_Faz_only\\functions.py:66: SettingWithCopyWarning: \n",
      "A value is trying to be set on a copy of a slice from a DataFrame\n",
      "\n",
      "See the caveats in the documentation: https://pandas.pydata.org/pandas-docs/stable/user_guide/indexing.html#returning-a-view-versus-a-copy\n",
      "  any_df['substrate'][i] = re.sub(combined_pat, '', sub)\n",
      "C:\\Users\\ale\\DataspellProjects\\Prenylation_manuscript_pmc_biology\\Th1_FTI_results_Faz_only\\functions.py:66: SettingWithCopyWarning: \n",
      "A value is trying to be set on a copy of a slice from a DataFrame\n",
      "\n",
      "See the caveats in the documentation: https://pandas.pydata.org/pandas-docs/stable/user_guide/indexing.html#returning-a-view-versus-a-copy\n",
      "  any_df['substrate'][i] = re.sub(combined_pat, '', sub)\n",
      "C:\\Users\\ale\\DataspellProjects\\Prenylation_manuscript_pmc_biology\\Th1_FTI_results_Faz_only\\functions.py:66: SettingWithCopyWarning: \n",
      "A value is trying to be set on a copy of a slice from a DataFrame\n",
      "\n",
      "See the caveats in the documentation: https://pandas.pydata.org/pandas-docs/stable/user_guide/indexing.html#returning-a-view-versus-a-copy\n",
      "  any_df['substrate'][i] = re.sub(combined_pat, '', sub)\n",
      "C:\\Users\\ale\\DataspellProjects\\Prenylation_manuscript_pmc_biology\\Th1_FTI_results_Faz_only\\functions.py:66: SettingWithCopyWarning: \n",
      "A value is trying to be set on a copy of a slice from a DataFrame\n",
      "\n",
      "See the caveats in the documentation: https://pandas.pydata.org/pandas-docs/stable/user_guide/indexing.html#returning-a-view-versus-a-copy\n",
      "  any_df['substrate'][i] = re.sub(combined_pat, '', sub)\n",
      "C:\\Users\\ale\\DataspellProjects\\Prenylation_manuscript_pmc_biology\\Th1_FTI_results_Faz_only\\functions.py:66: SettingWithCopyWarning: \n",
      "A value is trying to be set on a copy of a slice from a DataFrame\n",
      "\n",
      "See the caveats in the documentation: https://pandas.pydata.org/pandas-docs/stable/user_guide/indexing.html#returning-a-view-versus-a-copy\n",
      "  any_df['substrate'][i] = re.sub(combined_pat, '', sub)\n",
      "C:\\Users\\ale\\DataspellProjects\\Prenylation_manuscript_pmc_biology\\Th1_FTI_results_Faz_only\\functions.py:63: SettingWithCopyWarning: \n",
      "A value is trying to be set on a copy of a slice from a DataFrame\n",
      "\n",
      "See the caveats in the documentation: https://pandas.pydata.org/pandas-docs/stable/user_guide/indexing.html#returning-a-view-versus-a-copy\n",
      "  any_df['substrate'][i] = any_df['name'][i]\n",
      "C:\\Users\\ale\\DataspellProjects\\Prenylation_manuscript_pmc_biology\\Th1_FTI_results_Faz_only\\functions.py:63: SettingWithCopyWarning: \n",
      "A value is trying to be set on a copy of a slice from a DataFrame\n",
      "\n",
      "See the caveats in the documentation: https://pandas.pydata.org/pandas-docs/stable/user_guide/indexing.html#returning-a-view-versus-a-copy\n",
      "  any_df['substrate'][i] = any_df['name'][i]\n",
      "C:\\Users\\ale\\DataspellProjects\\Prenylation_manuscript_pmc_biology\\Th1_FTI_results_Faz_only\\functions.py:63: SettingWithCopyWarning: \n",
      "A value is trying to be set on a copy of a slice from a DataFrame\n",
      "\n",
      "See the caveats in the documentation: https://pandas.pydata.org/pandas-docs/stable/user_guide/indexing.html#returning-a-view-versus-a-copy\n",
      "  any_df['substrate'][i] = any_df['name'][i]\n",
      "C:\\Users\\ale\\DataspellProjects\\Prenylation_manuscript_pmc_biology\\Th1_FTI_results_Faz_only\\functions.py:63: SettingWithCopyWarning: \n",
      "A value is trying to be set on a copy of a slice from a DataFrame\n",
      "\n",
      "See the caveats in the documentation: https://pandas.pydata.org/pandas-docs/stable/user_guide/indexing.html#returning-a-view-versus-a-copy\n",
      "  any_df['substrate'][i] = any_df['name'][i]\n",
      "C:\\Users\\ale\\DataspellProjects\\Prenylation_manuscript_pmc_biology\\Th1_FTI_results_Faz_only\\functions.py:66: SettingWithCopyWarning: \n",
      "A value is trying to be set on a copy of a slice from a DataFrame\n",
      "\n",
      "See the caveats in the documentation: https://pandas.pydata.org/pandas-docs/stable/user_guide/indexing.html#returning-a-view-versus-a-copy\n",
      "  any_df['substrate'][i] = re.sub(combined_pat, '', sub)\n",
      "C:\\Users\\ale\\DataspellProjects\\Prenylation_manuscript_pmc_biology\\Th1_FTI_results_Faz_only\\functions.py:66: SettingWithCopyWarning: \n",
      "A value is trying to be set on a copy of a slice from a DataFrame\n",
      "\n",
      "See the caveats in the documentation: https://pandas.pydata.org/pandas-docs/stable/user_guide/indexing.html#returning-a-view-versus-a-copy\n",
      "  any_df['substrate'][i] = re.sub(combined_pat, '', sub)\n",
      "C:\\Users\\ale\\DataspellProjects\\Prenylation_manuscript_pmc_biology\\Th1_FTI_results_Faz_only\\functions.py:66: SettingWithCopyWarning: \n",
      "A value is trying to be set on a copy of a slice from a DataFrame\n",
      "\n",
      "See the caveats in the documentation: https://pandas.pydata.org/pandas-docs/stable/user_guide/indexing.html#returning-a-view-versus-a-copy\n",
      "  any_df['substrate'][i] = re.sub(combined_pat, '', sub)\n",
      "C:\\Users\\ale\\DataspellProjects\\Prenylation_manuscript_pmc_biology\\Th1_FTI_results_Faz_only\\functions.py:66: SettingWithCopyWarning: \n",
      "A value is trying to be set on a copy of a slice from a DataFrame\n",
      "\n",
      "See the caveats in the documentation: https://pandas.pydata.org/pandas-docs/stable/user_guide/indexing.html#returning-a-view-versus-a-copy\n",
      "  any_df['substrate'][i] = re.sub(combined_pat, '', sub)\n",
      "C:\\Users\\ale\\DataspellProjects\\Prenylation_manuscript_pmc_biology\\Th1_FTI_results_Faz_only\\functions.py:66: SettingWithCopyWarning: \n",
      "A value is trying to be set on a copy of a slice from a DataFrame\n",
      "\n",
      "See the caveats in the documentation: https://pandas.pydata.org/pandas-docs/stable/user_guide/indexing.html#returning-a-view-versus-a-copy\n",
      "  any_df['substrate'][i] = re.sub(combined_pat, '', sub)\n",
      "C:\\Users\\ale\\DataspellProjects\\Prenylation_manuscript_pmc_biology\\Th1_FTI_results_Faz_only\\functions.py:66: SettingWithCopyWarning: \n",
      "A value is trying to be set on a copy of a slice from a DataFrame\n",
      "\n",
      "See the caveats in the documentation: https://pandas.pydata.org/pandas-docs/stable/user_guide/indexing.html#returning-a-view-versus-a-copy\n",
      "  any_df['substrate'][i] = re.sub(combined_pat, '', sub)\n",
      "C:\\Users\\ale\\DataspellProjects\\Prenylation_manuscript_pmc_biology\\Th1_FTI_results_Faz_only\\functions.py:66: SettingWithCopyWarning: \n",
      "A value is trying to be set on a copy of a slice from a DataFrame\n",
      "\n",
      "See the caveats in the documentation: https://pandas.pydata.org/pandas-docs/stable/user_guide/indexing.html#returning-a-view-versus-a-copy\n",
      "  any_df['substrate'][i] = re.sub(combined_pat, '', sub)\n",
      "C:\\Users\\ale\\DataspellProjects\\Prenylation_manuscript_pmc_biology\\Th1_FTI_results_Faz_only\\functions.py:66: SettingWithCopyWarning: \n",
      "A value is trying to be set on a copy of a slice from a DataFrame\n",
      "\n",
      "See the caveats in the documentation: https://pandas.pydata.org/pandas-docs/stable/user_guide/indexing.html#returning-a-view-versus-a-copy\n",
      "  any_df['substrate'][i] = re.sub(combined_pat, '', sub)\n",
      "C:\\Users\\ale\\DataspellProjects\\Prenylation_manuscript_pmc_biology\\Th1_FTI_results_Faz_only\\functions.py:63: SettingWithCopyWarning: \n",
      "A value is trying to be set on a copy of a slice from a DataFrame\n",
      "\n",
      "See the caveats in the documentation: https://pandas.pydata.org/pandas-docs/stable/user_guide/indexing.html#returning-a-view-versus-a-copy\n",
      "  any_df['substrate'][i] = any_df['name'][i]\n",
      "C:\\Users\\ale\\DataspellProjects\\Prenylation_manuscript_pmc_biology\\Th1_FTI_results_Faz_only\\functions.py:63: SettingWithCopyWarning: \n",
      "A value is trying to be set on a copy of a slice from a DataFrame\n",
      "\n",
      "See the caveats in the documentation: https://pandas.pydata.org/pandas-docs/stable/user_guide/indexing.html#returning-a-view-versus-a-copy\n",
      "  any_df['substrate'][i] = any_df['name'][i]\n",
      "C:\\Users\\ale\\DataspellProjects\\Prenylation_manuscript_pmc_biology\\Th1_FTI_results_Faz_only\\functions.py:63: SettingWithCopyWarning: \n",
      "A value is trying to be set on a copy of a slice from a DataFrame\n",
      "\n",
      "See the caveats in the documentation: https://pandas.pydata.org/pandas-docs/stable/user_guide/indexing.html#returning-a-view-versus-a-copy\n",
      "  any_df['substrate'][i] = any_df['name'][i]\n",
      "C:\\Users\\ale\\DataspellProjects\\Prenylation_manuscript_pmc_biology\\Th1_FTI_results_Faz_only\\functions.py:63: SettingWithCopyWarning: \n",
      "A value is trying to be set on a copy of a slice from a DataFrame\n",
      "\n",
      "See the caveats in the documentation: https://pandas.pydata.org/pandas-docs/stable/user_guide/indexing.html#returning-a-view-versus-a-copy\n",
      "  any_df['substrate'][i] = any_df['name'][i]\n",
      "C:\\Users\\ale\\DataspellProjects\\Prenylation_manuscript_pmc_biology\\Th1_FTI_results_Faz_only\\functions.py:63: SettingWithCopyWarning: \n",
      "A value is trying to be set on a copy of a slice from a DataFrame\n",
      "\n",
      "See the caveats in the documentation: https://pandas.pydata.org/pandas-docs/stable/user_guide/indexing.html#returning-a-view-versus-a-copy\n",
      "  any_df['substrate'][i] = any_df['name'][i]\n",
      "C:\\Users\\ale\\DataspellProjects\\Prenylation_manuscript_pmc_biology\\Th1_FTI_results_Faz_only\\functions.py:63: SettingWithCopyWarning: \n",
      "A value is trying to be set on a copy of a slice from a DataFrame\n",
      "\n",
      "See the caveats in the documentation: https://pandas.pydata.org/pandas-docs/stable/user_guide/indexing.html#returning-a-view-versus-a-copy\n",
      "  any_df['substrate'][i] = any_df['name'][i]\n",
      "C:\\Users\\ale\\DataspellProjects\\Prenylation_manuscript_pmc_biology\\Th1_FTI_results_Faz_only\\functions.py:63: SettingWithCopyWarning: \n",
      "A value is trying to be set on a copy of a slice from a DataFrame\n",
      "\n",
      "See the caveats in the documentation: https://pandas.pydata.org/pandas-docs/stable/user_guide/indexing.html#returning-a-view-versus-a-copy\n",
      "  any_df['substrate'][i] = any_df['name'][i]\n",
      "C:\\Users\\ale\\DataspellProjects\\Prenylation_manuscript_pmc_biology\\Th1_FTI_results_Faz_only\\functions.py:63: SettingWithCopyWarning: \n",
      "A value is trying to be set on a copy of a slice from a DataFrame\n",
      "\n",
      "See the caveats in the documentation: https://pandas.pydata.org/pandas-docs/stable/user_guide/indexing.html#returning-a-view-versus-a-copy\n",
      "  any_df['substrate'][i] = any_df['name'][i]\n",
      "C:\\Users\\ale\\DataspellProjects\\Prenylation_manuscript_pmc_biology\\Th1_FTI_results_Faz_only\\functions.py:63: SettingWithCopyWarning: \n",
      "A value is trying to be set on a copy of a slice from a DataFrame\n",
      "\n",
      "See the caveats in the documentation: https://pandas.pydata.org/pandas-docs/stable/user_guide/indexing.html#returning-a-view-versus-a-copy\n",
      "  any_df['substrate'][i] = any_df['name'][i]\n",
      "C:\\Users\\ale\\DataspellProjects\\Prenylation_manuscript_pmc_biology\\Th1_FTI_results_Faz_only\\functions.py:63: SettingWithCopyWarning: \n",
      "A value is trying to be set on a copy of a slice from a DataFrame\n",
      "\n",
      "See the caveats in the documentation: https://pandas.pydata.org/pandas-docs/stable/user_guide/indexing.html#returning-a-view-versus-a-copy\n",
      "  any_df['substrate'][i] = any_df['name'][i]\n",
      "C:\\Users\\ale\\DataspellProjects\\Prenylation_manuscript_pmc_biology\\Th1_FTI_results_Faz_only\\functions.py:63: SettingWithCopyWarning: \n",
      "A value is trying to be set on a copy of a slice from a DataFrame\n",
      "\n",
      "See the caveats in the documentation: https://pandas.pydata.org/pandas-docs/stable/user_guide/indexing.html#returning-a-view-versus-a-copy\n",
      "  any_df['substrate'][i] = any_df['name'][i]\n",
      "C:\\Users\\ale\\DataspellProjects\\Prenylation_manuscript_pmc_biology\\Th1_FTI_results_Faz_only\\functions.py:63: SettingWithCopyWarning: \n",
      "A value is trying to be set on a copy of a slice from a DataFrame\n",
      "\n",
      "See the caveats in the documentation: https://pandas.pydata.org/pandas-docs/stable/user_guide/indexing.html#returning-a-view-versus-a-copy\n",
      "  any_df['substrate'][i] = any_df['name'][i]\n",
      "C:\\Users\\ale\\DataspellProjects\\Prenylation_manuscript_pmc_biology\\Th1_FTI_results_Faz_only\\functions.py:66: SettingWithCopyWarning: \n",
      "A value is trying to be set on a copy of a slice from a DataFrame\n",
      "\n",
      "See the caveats in the documentation: https://pandas.pydata.org/pandas-docs/stable/user_guide/indexing.html#returning-a-view-versus-a-copy\n",
      "  any_df['substrate'][i] = re.sub(combined_pat, '', sub)\n",
      "C:\\Users\\ale\\DataspellProjects\\Prenylation_manuscript_pmc_biology\\Th1_FTI_results_Faz_only\\functions.py:66: SettingWithCopyWarning: \n",
      "A value is trying to be set on a copy of a slice from a DataFrame\n",
      "\n",
      "See the caveats in the documentation: https://pandas.pydata.org/pandas-docs/stable/user_guide/indexing.html#returning-a-view-versus-a-copy\n",
      "  any_df['substrate'][i] = re.sub(combined_pat, '', sub)\n",
      "C:\\Users\\ale\\DataspellProjects\\Prenylation_manuscript_pmc_biology\\Th1_FTI_results_Faz_only\\functions.py:66: SettingWithCopyWarning: \n",
      "A value is trying to be set on a copy of a slice from a DataFrame\n",
      "\n",
      "See the caveats in the documentation: https://pandas.pydata.org/pandas-docs/stable/user_guide/indexing.html#returning-a-view-versus-a-copy\n",
      "  any_df['substrate'][i] = re.sub(combined_pat, '', sub)\n",
      "C:\\Users\\ale\\DataspellProjects\\Prenylation_manuscript_pmc_biology\\Th1_FTI_results_Faz_only\\functions.py:63: SettingWithCopyWarning: \n",
      "A value is trying to be set on a copy of a slice from a DataFrame\n",
      "\n",
      "See the caveats in the documentation: https://pandas.pydata.org/pandas-docs/stable/user_guide/indexing.html#returning-a-view-versus-a-copy\n",
      "  any_df['substrate'][i] = any_df['name'][i]\n",
      "C:\\Users\\ale\\DataspellProjects\\Prenylation_manuscript_pmc_biology\\Th1_FTI_results_Faz_only\\functions.py:63: SettingWithCopyWarning: \n",
      "A value is trying to be set on a copy of a slice from a DataFrame\n",
      "\n",
      "See the caveats in the documentation: https://pandas.pydata.org/pandas-docs/stable/user_guide/indexing.html#returning-a-view-versus-a-copy\n",
      "  any_df['substrate'][i] = any_df['name'][i]\n",
      "C:\\Users\\ale\\DataspellProjects\\Prenylation_manuscript_pmc_biology\\Th1_FTI_results_Faz_only\\functions.py:63: SettingWithCopyWarning: \n",
      "A value is trying to be set on a copy of a slice from a DataFrame\n",
      "\n",
      "See the caveats in the documentation: https://pandas.pydata.org/pandas-docs/stable/user_guide/indexing.html#returning-a-view-versus-a-copy\n",
      "  any_df['substrate'][i] = any_df['name'][i]\n",
      "C:\\Users\\ale\\DataspellProjects\\Prenylation_manuscript_pmc_biology\\Th1_FTI_results_Faz_only\\functions.py:63: SettingWithCopyWarning: \n",
      "A value is trying to be set on a copy of a slice from a DataFrame\n",
      "\n",
      "See the caveats in the documentation: https://pandas.pydata.org/pandas-docs/stable/user_guide/indexing.html#returning-a-view-versus-a-copy\n",
      "  any_df['substrate'][i] = any_df['name'][i]\n",
      "C:\\Users\\ale\\DataspellProjects\\Prenylation_manuscript_pmc_biology\\Th1_FTI_results_Faz_only\\functions.py:66: SettingWithCopyWarning: \n",
      "A value is trying to be set on a copy of a slice from a DataFrame\n",
      "\n",
      "See the caveats in the documentation: https://pandas.pydata.org/pandas-docs/stable/user_guide/indexing.html#returning-a-view-versus-a-copy\n",
      "  any_df['substrate'][i] = re.sub(combined_pat, '', sub)\n",
      "C:\\Users\\ale\\DataspellProjects\\Prenylation_manuscript_pmc_biology\\Th1_FTI_results_Faz_only\\functions.py:66: SettingWithCopyWarning: \n",
      "A value is trying to be set on a copy of a slice from a DataFrame\n",
      "\n",
      "See the caveats in the documentation: https://pandas.pydata.org/pandas-docs/stable/user_guide/indexing.html#returning-a-view-versus-a-copy\n",
      "  any_df['substrate'][i] = re.sub(combined_pat, '', sub)\n",
      "C:\\Users\\ale\\DataspellProjects\\Prenylation_manuscript_pmc_biology\\Th1_FTI_results_Faz_only\\functions.py:66: SettingWithCopyWarning: \n",
      "A value is trying to be set on a copy of a slice from a DataFrame\n",
      "\n",
      "See the caveats in the documentation: https://pandas.pydata.org/pandas-docs/stable/user_guide/indexing.html#returning-a-view-versus-a-copy\n",
      "  any_df['substrate'][i] = re.sub(combined_pat, '', sub)\n",
      "C:\\Users\\ale\\DataspellProjects\\Prenylation_manuscript_pmc_biology\\Th1_FTI_results_Faz_only\\functions.py:66: SettingWithCopyWarning: \n",
      "A value is trying to be set on a copy of a slice from a DataFrame\n",
      "\n",
      "See the caveats in the documentation: https://pandas.pydata.org/pandas-docs/stable/user_guide/indexing.html#returning-a-view-versus-a-copy\n",
      "  any_df['substrate'][i] = re.sub(combined_pat, '', sub)\n",
      "C:\\Users\\ale\\DataspellProjects\\Prenylation_manuscript_pmc_biology\\Th1_FTI_results_Faz_only\\functions.py:66: SettingWithCopyWarning: \n",
      "A value is trying to be set on a copy of a slice from a DataFrame\n",
      "\n",
      "See the caveats in the documentation: https://pandas.pydata.org/pandas-docs/stable/user_guide/indexing.html#returning-a-view-versus-a-copy\n",
      "  any_df['substrate'][i] = re.sub(combined_pat, '', sub)\n",
      "C:\\Users\\ale\\DataspellProjects\\Prenylation_manuscript_pmc_biology\\Th1_FTI_results_Faz_only\\functions.py:66: SettingWithCopyWarning: \n",
      "A value is trying to be set on a copy of a slice from a DataFrame\n",
      "\n",
      "See the caveats in the documentation: https://pandas.pydata.org/pandas-docs/stable/user_guide/indexing.html#returning-a-view-versus-a-copy\n",
      "  any_df['substrate'][i] = re.sub(combined_pat, '', sub)\n",
      "C:\\Users\\ale\\DataspellProjects\\Prenylation_manuscript_pmc_biology\\Th1_FTI_results_Faz_only\\functions.py:66: SettingWithCopyWarning: \n",
      "A value is trying to be set on a copy of a slice from a DataFrame\n",
      "\n",
      "See the caveats in the documentation: https://pandas.pydata.org/pandas-docs/stable/user_guide/indexing.html#returning-a-view-versus-a-copy\n",
      "  any_df['substrate'][i] = re.sub(combined_pat, '', sub)\n",
      "C:\\Users\\ale\\DataspellProjects\\Prenylation_manuscript_pmc_biology\\Th1_FTI_results_Faz_only\\functions.py:66: SettingWithCopyWarning: \n",
      "A value is trying to be set on a copy of a slice from a DataFrame\n",
      "\n",
      "See the caveats in the documentation: https://pandas.pydata.org/pandas-docs/stable/user_guide/indexing.html#returning-a-view-versus-a-copy\n",
      "  any_df['substrate'][i] = re.sub(combined_pat, '', sub)\n",
      "C:\\Users\\ale\\DataspellProjects\\Prenylation_manuscript_pmc_biology\\Th1_FTI_results_Faz_only\\functions.py:66: SettingWithCopyWarning: \n",
      "A value is trying to be set on a copy of a slice from a DataFrame\n",
      "\n",
      "See the caveats in the documentation: https://pandas.pydata.org/pandas-docs/stable/user_guide/indexing.html#returning-a-view-versus-a-copy\n",
      "  any_df['substrate'][i] = re.sub(combined_pat, '', sub)\n",
      "C:\\Users\\ale\\DataspellProjects\\Prenylation_manuscript_pmc_biology\\Th1_FTI_results_Faz_only\\functions.py:63: SettingWithCopyWarning: \n",
      "A value is trying to be set on a copy of a slice from a DataFrame\n",
      "\n",
      "See the caveats in the documentation: https://pandas.pydata.org/pandas-docs/stable/user_guide/indexing.html#returning-a-view-versus-a-copy\n",
      "  any_df['substrate'][i] = any_df['name'][i]\n",
      "C:\\Users\\ale\\DataspellProjects\\Prenylation_manuscript_pmc_biology\\Th1_FTI_results_Faz_only\\functions.py:63: SettingWithCopyWarning: \n",
      "A value is trying to be set on a copy of a slice from a DataFrame\n",
      "\n",
      "See the caveats in the documentation: https://pandas.pydata.org/pandas-docs/stable/user_guide/indexing.html#returning-a-view-versus-a-copy\n",
      "  any_df['substrate'][i] = any_df['name'][i]\n"
     ]
    }
   ],
   "source": [
    "# Preprocess raw UniProt output\n",
    "new_all_ext = preprocess(new_all_ext)\n",
    "new_all_ext = new_all_ext[new_all_ext['ID'].isin(pd.Series(new_all))]\n",
    "\n",
    "new_all_ext = new_all_ext.groupby('ID').agg(set).reset_index()\n",
    "new_all_ext = clean_agg(new_all_ext)"
   ]
  },
  {
   "cell_type": "code",
   "execution_count": 26,
   "id": "02ce6173",
   "metadata": {},
   "outputs": [],
   "source": [
    "# Initialize motif column with 0\n",
    "new_all_ext['motif'] = np.nan\n",
    "\n",
    "# Initialize pep column with 0\n",
    "new_all_ext['pep'] = np.nan\n",
    "\n",
    "# Initialize Exp moiety column with 0\n",
    "new_all_ext['Exp_moiety'] = 0\n",
    "\n",
    "for ID in new_all_ext['ID']:\n",
    "    if ID in list(all_found):\n",
    "        new_all_ext.loc[new_all_ext['ID'] == ID, 'Exp_moiety'] = \"S-farnesyl cysteine\"\n",
    "#save\n",
    "new_all_ext.to_csv(os.path.join(datafolder, 'identified_proteins', 'identified_novel.csv'), sep=',', index=False)"
   ]
  },
  {
   "cell_type": "markdown",
   "id": "01ab7de9",
   "metadata": {},
   "source": [
    "## Known identified prenylated proteins"
   ]
  },
  {
   "cell_type": "code",
   "execution_count": 27,
   "id": "799b39dc",
   "metadata": {},
   "outputs": [],
   "source": [
    "identified_known = all_UP[all_UP['ID'].isin(all_found)].reset_index(drop=True)"
   ]
  },
  {
   "cell_type": "code",
   "execution_count": 28,
   "id": "ce27d701",
   "metadata": {},
   "outputs": [],
   "source": [
    "# Initialize Exp moiety column with 0\n",
    "identified_known['Exp_moiety'] = 0\n",
    "\n",
    "for ID in identified_known['ID']:\n",
    "    if ID in list(all_found):\n",
    "        identified_known.loc[identified_known['ID'] == ID, 'Exp_moiety'] = \"S-farnesyl cysteine\""
   ]
  },
  {
   "cell_type": "code",
   "execution_count": 29,
   "id": "ab134150",
   "metadata": {},
   "outputs": [],
   "source": [
    "#save\n",
    "identified_known.to_csv(os.path.join(datafolder, 'identified_proteins', 'identified_known.csv'), sep=',', index=False)"
   ]
  },
  {
   "cell_type": "markdown",
   "id": "1bb5f907",
   "metadata": {},
   "source": [
    "## All identified prenylated proteins"
   ]
  },
  {
   "cell_type": "code",
   "execution_count": 30,
   "id": "f263b94d",
   "metadata": {},
   "outputs": [],
   "source": [
    "identified_all = pd.concat( [new_all_ext, identified_known], ignore_index=True)\n",
    "\n",
    "#save\n",
    "identified_all.to_csv(os.path.join(datafolder, 'identified_proteins', 'identified_all.csv'), sep=',', index=False)"
   ]
  },
  {
   "cell_type": "markdown",
   "id": "8e275518",
   "metadata": {},
   "source": [
    "# Pre-processing of disulfide bonds output .csv file from UniProt"
   ]
  },
  {
   "cell_type": "code",
   "execution_count": 31,
   "id": "a26dccfc",
   "metadata": {},
   "outputs": [],
   "source": [
    "# identified prenylated proteins"
   ]
  },
  {
   "cell_type": "code",
   "execution_count": 32,
   "id": "c0ed4d22",
   "metadata": {},
   "outputs": [],
   "source": [
    "up_input = ' '.join(['uniprotkb:' + str(s) for s in all_found])"
   ]
  },
  {
   "cell_type": "code",
   "execution_count": 33,
   "id": "f4dd2334",
   "metadata": {},
   "outputs": [],
   "source": [
    "# clean SPARQL output\n",
    "\n",
    "#bonded = pd.read_csv(os.path.join(datafolder, 'UniProt_SPARQL_queries', 'up_output_multi_disulfid_16.01.23.csv'), sep=';')\n",
    "\n",
    "#bonded = bonded.dropna().reset_index(drop=True).rename(columns={'primaryAccession': 'ID', 'index': 'bond_Cpos'})\n",
    "\n",
    "#for i, m in enumerate(bonded['bond_Cpos']):\n",
    "    #bonded['bond_Cpos'][i] = re.sub(r'\\^.*', '', str(m))\n",
    "\n",
    "# remove unreliable entries\n",
    "#bonded = bonded.loc[bonded['evidenceCode'] != 'ECO_0000250']\n",
    "#bonded = bonded.drop(['evidenceCode'], axis=1).reset_index(drop=True)\n",
    "\n",
    "#bonded.to_csv(os.path.join(datafolder, 'UniProt_SPARQL_queries', 'up_output_multi_disulfid_16.01.23.csv'), sep=';', index=False)"
   ]
  }
 ],
 "metadata": {
  "kernelspec": {
   "display_name": "Python 3 (ipykernel)",
   "language": "python",
   "name": "python3"
  },
  "language_info": {
   "codemirror_mode": {
    "name": "ipython",
    "version": 3
   },
   "file_extension": ".py",
   "mimetype": "text/x-python",
   "name": "python",
   "nbconvert_exporter": "python",
   "pygments_lexer": "ipython3",
   "version": "3.8.17"
  },
  "toc": {
   "base_numbering": 1,
   "nav_menu": {
    "height": "308px",
    "width": "351px"
   },
   "number_sections": true,
   "sideBar": true,
   "skip_h1_title": false,
   "title_cell": "Table of Contents",
   "title_sidebar": "Contents",
   "toc_cell": true,
   "toc_position": {
    "height": "calc(100% - 180px)",
    "left": "10px",
    "top": "150px",
    "width": "291.333px"
   },
   "toc_section_display": true,
   "toc_window_display": false
  }
 },
 "nbformat": 4,
 "nbformat_minor": 5
}
