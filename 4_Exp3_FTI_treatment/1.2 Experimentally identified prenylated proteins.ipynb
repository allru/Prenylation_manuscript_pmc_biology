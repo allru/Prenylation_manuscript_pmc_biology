{
 "cells": [
  {
   "cell_type": "markdown",
   "id": "e868f53e",
   "metadata": {
    "toc": true
   },
   "source": [
    "<h1>Table of Contents<span class=\"tocSkip\"></span></h1>\n",
    "<div class=\"toc\"><ul class=\"toc-item\"><li><span><a href=\"#Identified-prenylated-proteins\" data-toc-modified-id=\"Identified-prenylated-proteins-1\"><span class=\"toc-item-num\">1&nbsp;&nbsp;</span>Identified prenylated proteins</a></span></li><li><span><a href=\"#How-many-of-the-identified-proteins-have-been-previously-known-to-be-farnesylated-or-geranylgeranylated?\" data-toc-modified-id=\"How-many-of-the-identified-proteins-have-been-previously-known-to-be-farnesylated-or-geranylgeranylated?-2\"><span class=\"toc-item-num\">2&nbsp;&nbsp;</span>How many of the identified proteins have been previously known to be farnesylated or geranylgeranylated?</a></span></li><li><span><a href=\"#Enrichment?-Hypergeometric-distribution-and-Fisher's-exact-test\" data-toc-modified-id=\"Enrichment?-Hypergeometric-distribution-and-Fisher's-exact-test-3\"><span class=\"toc-item-num\">3&nbsp;&nbsp;</span>Enrichment? Hypergeometric distribution and Fisher's exact test</a></span></li><li><span><a href=\"#Proteins-known-to-be-prenylated-&amp;-found-in-other-experiments\" data-toc-modified-id=\"Proteins-known-to-be-prenylated-&amp;-found-in-other-experiments-4\"><span class=\"toc-item-num\">4&nbsp;&nbsp;</span>Proteins known to be prenylated &amp; found in other experiments</a></span><ul class=\"toc-item\"><li><span><a href=\"#Comparison-to-Exp2\" data-toc-modified-id=\"Comparison-to-Exp2-4.1\"><span class=\"toc-item-num\">4.1&nbsp;&nbsp;</span>Comparison to Exp2</a></span></li><li><span><a href=\"#Comparison-to-Exp3\" data-toc-modified-id=\"Comparison-to-Exp3-4.2\"><span class=\"toc-item-num\">4.2&nbsp;&nbsp;</span>Comparison to Exp3</a></span></li></ul></li><li><span><a href=\"#Proteins-NOT-known-to-be-prenylated-&amp;-found-in-other-experiments\" data-toc-modified-id=\"Proteins-NOT-known-to-be-prenylated-&amp;-found-in-other-experiments-5\"><span class=\"toc-item-num\">5&nbsp;&nbsp;</span>Proteins NOT known to be prenylated &amp; found in other experiments</a></span><ul class=\"toc-item\"><li><span><a href=\"#Comparison-to-Exp2\" data-toc-modified-id=\"Comparison-to-Exp2-5.1\"><span class=\"toc-item-num\">5.1&nbsp;&nbsp;</span>Comparison to Exp2</a></span></li><li><span><a href=\"#Comparison-to-Exp3\" data-toc-modified-id=\"Comparison-to-Exp3-5.2\"><span class=\"toc-item-num\">5.2&nbsp;&nbsp;</span>Comparison to Exp3</a></span></li></ul></li><li><span><a href=\"#Proteins-NOT-known-to-be-prenylated-&amp;-NOT-found-in-other-experiments\" data-toc-modified-id=\"Proteins-NOT-known-to-be-prenylated-&amp;-NOT-found-in-other-experiments-6\"><span class=\"toc-item-num\">6&nbsp;&nbsp;</span>Proteins NOT known to be prenylated &amp; NOT found in other experiments</a></span></li><li><span><a href=\"#Robust-identified-prenylated-proteins\" data-toc-modified-id=\"Robust-identified-prenylated-proteins-7\"><span class=\"toc-item-num\">7&nbsp;&nbsp;</span>Robust identified prenylated proteins</a></span></li></ul></div>"
   ]
  },
  {
   "cell_type": "code",
   "execution_count": null,
   "id": "c76eb8c2",
   "metadata": {},
   "outputs": [],
   "source": [
    "import sys\n",
    "import os\n",
    "import session_info\n",
    "\n",
    "# Add the '0_functions' folder to sys.path\n",
    "sys.path.append(os.path.join(os.getcwd(), '..', '0_functions'))"
   ]
  },
  {
   "cell_type": "code",
   "execution_count": 1,
   "id": "d8c16426",
   "metadata": {},
   "outputs": [],
   "source": [
    "import pandas as pd\n",
    "import numpy as np\n",
    "from functions import clean_agg\n",
    "from functions import fishers_exact_test\n",
    "from scipy.stats import hypergeom\n",
    "from matplotlib_venn import venn2\n",
    "from matplotlib import pyplot as plt"
   ]
  },
  {
   "cell_type": "code",
   "execution_count": 2,
   "id": "71b33deb",
   "metadata": {},
   "outputs": [
    {
     "data": {
      "text/html": [
       "<details>\n",
       "<summary>Click to view session information</summary>\n",
       "<pre>\n",
       "-----\n",
       "functions           NA\n",
       "matplotlib          3.7.0\n",
       "matplotlib_venn     0.11.7\n",
       "numpy               1.24.4\n",
       "pandas              2.0.3\n",
       "scipy               1.10.1\n",
       "session_info        1.0.0\n",
       "-----\n",
       "</pre>\n",
       "<details>\n",
       "<summary>Click to view modules imported as dependencies</summary>\n",
       "<pre>\n",
       "Bio                         1.83\n",
       "PIL                         10.0.1\n",
       "anyio                       NA\n",
       "asttokens                   NA\n",
       "attr                        23.1.0\n",
       "attrs                       23.1.0\n",
       "babel                       2.11.0\n",
       "backcall                    0.2.0\n",
       "bottleneck                  1.3.7\n",
       "brotli                      NA\n",
       "certifi                     2024.08.30\n",
       "cffi                        1.16.0\n",
       "charset_normalizer          2.0.4\n",
       "colorama                    0.4.6\n",
       "comm                        0.1.2\n",
       "cycler                      0.10.0\n",
       "cython_runtime              NA\n",
       "dateutil                    2.8.2\n",
       "debugpy                     1.6.7\n",
       "decorator                   5.1.1\n",
       "defusedxml                  0.7.1\n",
       "executing                   0.8.3\n",
       "fastjsonschema              NA\n",
       "idna                        3.4\n",
       "importlib_metadata          NA\n",
       "importlib_resources         NA\n",
       "ipykernel                   6.25.0\n",
       "ipython_genutils            0.2.0\n",
       "jedi                        0.18.1\n",
       "jinja2                      3.1.2\n",
       "json5                       NA\n",
       "jsonschema                  4.19.2\n",
       "jsonschema_specifications   NA\n",
       "jupyter_events              0.8.0\n",
       "jupyter_server              2.10.0\n",
       "jupyterlab_server           2.25.1\n",
       "kiwisolver                  1.4.4\n",
       "markupsafe                  2.1.1\n",
       "mpl_toolkits                NA\n",
       "nbformat                    5.9.2\n",
       "nt                          NA\n",
       "numexpr                     2.8.4\n",
       "overrides                   NA\n",
       "packaging                   23.1\n",
       "parso                       0.8.3\n",
       "pickleshare                 0.7.5\n",
       "pkg_resources               NA\n",
       "platformdirs                3.10.0\n",
       "prometheus_client           NA\n",
       "prompt_toolkit              3.0.36\n",
       "psutil                      5.9.0\n",
       "pure_eval                   0.2.2\n",
       "pydev_ipython               NA\n",
       "pydevconsole                NA\n",
       "pydevd                      2.9.5\n",
       "pydevd_file_utils           NA\n",
       "pydevd_plugins              NA\n",
       "pydevd_tracing              NA\n",
       "pygments                    2.11.2\n",
       "pyparsing                   3.0.9\n",
       "pythoncom                   NA\n",
       "pythonjsonlogger            NA\n",
       "pytz                        2023.3.post1\n",
       "pywintypes                  NA\n",
       "referencing                 NA\n",
       "requests                    2.31.0\n",
       "rfc3339_validator           0.1.4\n",
       "rfc3986_validator           0.1.1\n",
       "rpds                        NA\n",
       "send2trash                  NA\n",
       "six                         1.16.0\n",
       "sniffio                     1.2.0\n",
       "socks                       1.7.1\n",
       "stack_data                  0.2.0\n",
       "tornado                     6.3.3\n",
       "traitlets                   5.7.1\n",
       "typing_extensions           NA\n",
       "urllib3                     1.26.18\n",
       "wcwidth                     0.2.5\n",
       "websocket                   0.58.0\n",
       "yaml                        6.0.1\n",
       "zipp                        NA\n",
       "zmq                         25.1.0\n",
       "</pre>\n",
       "</details> <!-- seems like this ends pre, so might as well be explicit -->\n",
       "<pre>\n",
       "-----\n",
       "IPython             8.12.2\n",
       "jupyter_client      8.6.0\n",
       "jupyter_core        5.2.0\n",
       "jupyterlab          3.6.3\n",
       "notebook            6.1.5\n",
       "-----\n",
       "Python 3.8.17 (default, Jul  5 2023, 20:44:21) [MSC v.1916 64 bit (AMD64)]\n",
       "Windows-10-10.0.19045-SP0\n",
       "-----\n",
       "Session information updated at 2024-11-18 11:59\n",
       "</pre>\n",
       "</details>"
      ],
      "text/plain": [
       "<IPython.core.display.HTML object>"
      ]
     },
     "execution_count": 2,
     "metadata": {},
     "output_type": "execute_result"
    }
   ],
   "source": [
    "# Display session information\n",
    "session_info.show()"
   ]
  },
  {
   "cell_type": "code",
   "execution_count": 3,
   "id": "be4d0ad6",
   "metadata": {},
   "outputs": [],
   "source": [
    "pd.set_option('display.max_colwidth', None)\n",
    "pd.set_option('display.max_rows', None)"
   ]
  },
  {
   "cell_type": "code",
   "execution_count": 4,
   "id": "87dc9ad1",
   "metadata": {},
   "outputs": [],
   "source": [
    "datafolder = 'data'\n",
    "figures = 'data/figures'\n",
    "known_proteins_datafolder = '../Known_prenylated_proteins/data'"
   ]
  },
  {
   "cell_type": "code",
   "execution_count": 5,
   "id": "1e1672fa",
   "metadata": {},
   "outputs": [],
   "source": [
    "# Load data\n",
    "\n",
    "# Uniprot known prenylated proteins\n",
    "all_UP = pd.read_csv(os.path.join(known_proteins_datafolder, 'known_proteins', 'known_all.csv'), sep=';')\n",
    "F_UP = pd.read_csv(os.path.join(known_proteins_datafolder, 'known_proteins', 'known_F.csv'), sep=';')\n",
    "GG_UP = pd.read_csv(os.path.join(known_proteins_datafolder, 'known_proteins', 'known_GG.csv'), sep=';')\n",
    "\n",
    "# All identified prenylated proteins\n",
    "all_found = pd.read_csv(os.path.join(datafolder, 'identified_proteins', 'identified_all.csv'), sep=',')\n",
    "known_found = pd.read_csv(os.path.join(datafolder, 'identified_proteins', 'identified_known.csv'), sep=',')\n",
    "novel_found = pd.read_csv(os.path.join(datafolder, 'identified_proteins', 'identified_novel.csv'), sep=',')"
   ]
  },
  {
   "cell_type": "markdown",
   "id": "c195779a",
   "metadata": {},
   "source": [
    "# Identified prenylated proteins"
   ]
  },
  {
   "cell_type": "code",
   "execution_count": 6,
   "id": "1b3861a2",
   "metadata": {},
   "outputs": [
    {
     "name": "stdout",
     "output_type": "stream",
     "text": [
      "All identified: 49\n"
     ]
    }
   ],
   "source": [
    "print('All identified:', len(all_found))"
   ]
  },
  {
   "cell_type": "markdown",
   "id": "a2f6022b",
   "metadata": {},
   "source": [
    "# How many of the identified proteins have been previously known to be farnesylated or geranylgeranylated? "
   ]
  },
  {
   "cell_type": "code",
   "execution_count": 7,
   "id": "7d9db97e",
   "metadata": {},
   "outputs": [
    {
     "name": "stdout",
     "output_type": "stream",
     "text": [
      "All known identified: 31 , F known identified: 28 , GG known identified: 3\n"
     ]
    }
   ],
   "source": [
    "all_known_identified = all_UP[all_UP['ID'].isin(all_found['ID'])]\n",
    "\n",
    "F_known_identified = F_UP[F_UP['ID'].isin(all_found['ID'])]\n",
    "GG_known_identified = GG_UP[GG_UP['ID'].isin(all_found['ID'])]\n",
    "\n",
    "print('All known identified:', len(all_known_identified), ', F known identified:', len(F_known_identified), \n",
    "      ', GG known identified:', len(GG_known_identified))"
   ]
  },
  {
   "cell_type": "code",
   "execution_count": 8,
   "id": "5a088861",
   "metadata": {},
   "outputs": [
    {
     "data": {
      "image/png": "[encoded data removed]",
      "text/plain": [
       "<Figure size 1000x600 with 1 Axes>"
      ]
     },
     "metadata": {},
     "output_type": "display_data"
    }
   ],
   "source": [
    "motifs = (\"all\", \"F only\", \"GG only\")\n",
    "group_counts = {\n",
    "    'known': [len(all_UP), len(F_UP), len(GG_UP)],\n",
    "    'known identified': [len(all_known_identified), len(F_known_identified), len(GG_known_identified)],\n",
    "}\n",
    "\n",
    "plt.rcParams['axes.prop_cycle'] = plt.cycler(color=['tab:green', 'tab:blue'])\n",
    "\n",
    "group_proportions = {key: [(x / len(all_UP)) * 100 for x in value] for key, value in group_counts.items()}\n",
    "\n",
    "group_labels = {key: [f\"{round(prop, 1)}%\\n({count})\" for prop, count in zip(group_proportions[key], group_counts[key])] for key in group_counts}\n",
    "\n",
    "x = np.arange(len(motifs))\n",
    "width = 0.4\n",
    "multiplier = 1 - (len(group_counts) - 1) / 2\n",
    "\n",
    "fig, ax = plt.subplots(figsize=(10, 6))\n",
    "\n",
    "for i, (attribute, measurement) in enumerate(group_proportions.items()):\n",
    "    offset = width * (multiplier + i)\n",
    "    rects = ax.bar(x + offset, measurement, width, label=attribute)\n",
    "    ax.bar_label(rects, group_labels[attribute], padding=3)\n",
    "\n",
    "ax.set_ylabel('proportion')\n",
    "ax.set_title('Known prenylated proteins proportions')\n",
    "ax.set_xticks(x + width, motifs)\n",
    "ax.legend(loc='upper right', ncols=3)\n",
    "ax.set_ylim(0, 100)\n",
    "plt.rcParams.update({'font.size': 13})\n",
    "\n",
    "# save\n",
    "plt.savefig(os.path.join(figures, 'bars_known_proteins.png'))\n",
    "\n",
    "plt.show()\n"
   ]
  },
  {
   "cell_type": "code",
   "execution_count": 9,
   "id": "71009b3d",
   "metadata": {},
   "outputs": [
    {
     "data": {
      "image/png": "[encoded data removed]",
      "text/plain": [
       "<Figure size 1000x600 with 1 Axes>"
      ]
     },
     "metadata": {},
     "output_type": "display_data"
    }
   ],
   "source": [
    "# Overlap all known proteins and all identified proteins\n",
    "# all\n",
    "\n",
    "set_known = set(all_UP['ID'])\n",
    "set_identified = set(all_found['ID'])\n",
    "\n",
    "# Calculate the subsets for the Venn diagram\n",
    "subset_known_only = len(set_known - set_identified)\n",
    "subset_identified_only = len(set_identified - set_known)\n",
    "subset_both = len(set_known & set_identified)\n",
    "\n",
    "sets = {\n",
    "    '01': subset_known_only,\n",
    "    '10': subset_identified_only,\n",
    "    '11': subset_both\n",
    "}\n",
    "\n",
    "plt.figure(figsize=(10, 6))\n",
    "ax = plt.gca()\n",
    "v = venn2(subsets=sets, set_labels=('', ''), ax=ax, set_colors=('royalblue', 'tab:green'), alpha=0.7)\n",
    "\n",
    "h = []\n",
    "for i in sets:\n",
    "    h.append(v.get_patch_by_id(i))\n",
    "\n",
    "l = ['known', 'novel identified', 'known identified']\n",
    "\n",
    "ax.legend(handles=h, labels=l, title=\"counts\", loc='lower right')\n",
    "\n",
    "plt.title('All known and identified prenylated proteins')\n",
    "\n",
    "# save\n",
    "plt.savefig(os.path.join(figures, 'venn_known_identified.png'))\n",
    "\n",
    "plt.show()"
   ]
  },
  {
   "cell_type": "code",
   "execution_count": 10,
   "id": "b3d39715",
   "metadata": {},
   "outputs": [
    {
     "data": {
      "text/html": [
       "<div>\n",
       "<style scoped>\n",
       "    .dataframe tbody tr th:only-of-type {\n",
       "        vertical-align: middle;\n",
       "    }\n",
       "\n",
       "    .dataframe tbody tr th {\n",
       "        vertical-align: top;\n",
       "    }\n",
       "\n",
       "    .dataframe thead th {\n",
       "        text-align: right;\n",
       "    }\n",
       "</style>\n",
       "<table border=\"1\" class=\"dataframe\">\n",
       "  <thead>\n",
       "    <tr style=\"text-align: right;\">\n",
       "      <th></th>\n",
       "      <th>ID</th>\n",
       "      <th>name</th>\n",
       "      <th>fullName</th>\n",
       "      <th>substrate</th>\n",
       "      <th>location</th>\n",
       "      <th>moiety</th>\n",
       "      <th>AminoAcid</th>\n",
       "      <th>position</th>\n",
       "      <th>evidenceCode</th>\n",
       "      <th>publication</th>\n",
       "      <th>ProteinEntryReviewed</th>\n",
       "      <th>motif</th>\n",
       "      <th>pep</th>\n",
       "      <th>Exp_moiety</th>\n",
       "    </tr>\n",
       "  </thead>\n",
       "  <tbody>\n",
       "    <tr>\n",
       "      <th>0</th>\n",
       "      <td>Q15669</td>\n",
       "      <td>RHOH</td>\n",
       "      <td>Rho-related GTP-binding protein RhoH</td>\n",
       "      <td>Rho</td>\n",
       "      <td>Membrane</td>\n",
       "      <td>S-geranylgeranyl cysteine</td>\n",
       "      <td>C</td>\n",
       "      <td>-4</td>\n",
       "      <td>ECO_0000250</td>\n",
       "      <td>NaN</td>\n",
       "      <td>True</td>\n",
       "      <td>CXXX</td>\n",
       "      <td>LFSINECKIF</td>\n",
       "      <td>S-farnesyl cysteine</td>\n",
       "    </tr>\n",
       "    <tr>\n",
       "      <th>1</th>\n",
       "      <td>Q8WV99</td>\n",
       "      <td>ZFN2B</td>\n",
       "      <td>AN1-type zinc finger protein 2B</td>\n",
       "      <td>ZFN2B</td>\n",
       "      <td>Membrane</td>\n",
       "      <td>S-geranylgeranyl cysteine</td>\n",
       "      <td>C</td>\n",
       "      <td>-4</td>\n",
       "      <td>ECO_0000250</td>\n",
       "      <td>NaN</td>\n",
       "      <td>True</td>\n",
       "      <td>CXXX</td>\n",
       "      <td>SSKPSNCSLC</td>\n",
       "      <td>S-farnesyl cysteine</td>\n",
       "    </tr>\n",
       "    <tr>\n",
       "      <th>2</th>\n",
       "      <td>Q9Y3L5</td>\n",
       "      <td>RAP2C</td>\n",
       "      <td>Ras-related protein Rap-2c</td>\n",
       "      <td>Ras</td>\n",
       "      <td>Membrane</td>\n",
       "      <td>S-geranylgeranyl cysteine</td>\n",
       "      <td>C</td>\n",
       "      <td>-4</td>\n",
       "      <td>ECO_0000250</td>\n",
       "      <td>NaN</td>\n",
       "      <td>True</td>\n",
       "      <td>CAAX</td>\n",
       "      <td>DQCCTTCVVQ</td>\n",
       "      <td>S-farnesyl cysteine</td>\n",
       "    </tr>\n",
       "  </tbody>\n",
       "</table>\n",
       "</div>"
      ],
      "text/plain": [
       "       ID   name                              fullName substrate  location  \\\n",
       "0  Q15669   RHOH  Rho-related GTP-binding protein RhoH       Rho  Membrane   \n",
       "1  Q8WV99  ZFN2B       AN1-type zinc finger protein 2B     ZFN2B  Membrane   \n",
       "2  Q9Y3L5  RAP2C            Ras-related protein Rap-2c       Ras  Membrane   \n",
       "\n",
       "                      moiety AminoAcid  position evidenceCode publication  \\\n",
       "0  S-geranylgeranyl cysteine         C        -4  ECO_0000250         NaN   \n",
       "1  S-geranylgeranyl cysteine         C        -4  ECO_0000250         NaN   \n",
       "2  S-geranylgeranyl cysteine         C        -4  ECO_0000250         NaN   \n",
       "\n",
       "   ProteinEntryReviewed motif         pep           Exp_moiety  \n",
       "0                  True  CXXX  LFSINECKIF  S-farnesyl cysteine  \n",
       "1                  True  CXXX  SSKPSNCSLC  S-farnesyl cysteine  \n",
       "2                  True  CAAX  DQCCTTCVVQ  S-farnesyl cysteine  "
      ]
     },
     "execution_count": 10,
     "metadata": {},
     "output_type": "execute_result"
    }
   ],
   "source": [
    "# Identified proteins are known to be prenylated but not with the same moiety as the known ones!\n",
    "\n",
    "known_found.query('moiety != Exp_moiety').reset_index(drop=True)"
   ]
  },
  {
   "cell_type": "markdown",
   "id": "27661fb7",
   "metadata": {},
   "source": [
    "# Enrichment? Hypergeometric distribution and Fisher's exact test"
   ]
  },
  {
   "cell_type": "code",
   "execution_count": 11,
   "id": "8f9647dd",
   "metadata": {},
   "outputs": [
    {
     "name": "stdout",
     "output_type": "stream",
     "text": [
      "Premise: randomly choose 49 proteins from the human proteome.\n",
      "Expected N of known prenylated proteins:  0\n",
      "Actual N of identified known prenylated proteins:  31\n"
     ]
    },
    {
     "data": {
      "image/png": "[encoded data removed]",
      "text/plain": [
       "<Figure size 640x480 with 1 Axes>"
      ]
     },
     "metadata": {},
     "output_type": "display_data"
    },
    {
     "name": "stdout",
     "output_type": "stream",
     "text": [
      "The difference between actual and expected amount of proteins has a p-value=1.57e-55(****). \n",
      "We have significantly more enriched proteins than randomly expected.\n"
     ]
    }
   ],
   "source": [
    "# -> We have a collection of 20'000 proteins in the human proteome, of which 183 are known to be prenylated.\n",
    "# We want to know the probability of finding a given number of prenylated proteins if we randomly choose N of \n",
    "# the 20'000 human proteins.\n",
    "\n",
    "print('Premise: randomly choose', len(all_found), 'proteins from the human proteome.')\n",
    "\n",
    "[M, n, N] = [25866, len(all_UP), len(all_found)]\n",
    "\n",
    "rv = hypergeom(M, n, N)\n",
    "x = np.arange(0, n+1)\n",
    "\n",
    "pmf_all_p = rv.pmf(x)\n",
    "\n",
    "print('Expected N of known prenylated proteins: ', np.argmax(pmf_all_p))\n",
    "print('Actual N of identified known prenylated proteins: ', len(all_known_identified))\n",
    "\n",
    "fig, ax = plt.subplots()\n",
    "ax.plot(x, pmf_all_p, 'bo')\n",
    "ax.vlines(x, 0, pmf_all_p, lw=2)\n",
    "plt.xlim(-5, 5)\n",
    "ax.set_xlabel('expected # of prenylated proteins in pool of proteins')\n",
    "ax.set_ylabel('hypergeom PMF')\n",
    "\n",
    "ax.annotate('local max = 0', xy=(np.argmax(pmf_all_p), pmf_all_p[np.argmax(pmf_all_p)]), xycoords='data',\n",
    "            xytext=(0.1, 0.9), textcoords='axes fraction',\n",
    "            va='top', ha='left',\n",
    "            arrowprops=dict(facecolor='black'))\n",
    "\n",
    "plt.show()\n",
    "\n",
    "p_value = fishers_exact_test(len(all_known_identified), N, n, M)\n",
    "\n",
    "print('The difference between actual and expected amount of proteins has a p-value=', \n",
    "      \"{:.2e}\".format(p_value), '(****). \\nWe have significantly more enriched proteins than randomly expected.', sep='')"
   ]
  },
  {
   "cell_type": "markdown",
   "id": "3174765c",
   "metadata": {},
   "source": [
    "# On the basis of what information?"
   ]
  },
  {
   "cell_type": "code",
   "execution_count": 12,
   "id": "31dad013",
   "metadata": {},
   "outputs": [],
   "source": [
    "# List of identified proteins that are in the uniprot list, already known to be prenylated\n",
    "\n",
    "# isolate the evidence code of these identified known proteins\n",
    "evidence = known_found[['ID', 'evidenceCode', 'publication']]\n",
    "evidence = evidence.drop_duplicates()\n",
    "\n",
    "# aggregate on ID to get one entry per protein\n",
    "agg_evidence = evidence.groupby('ID').agg(set).reset_index()\n",
    "agg_evidence = clean_agg(agg_evidence)"
   ]
  },
  {
   "cell_type": "code",
   "execution_count": 13,
   "id": "679ffd05",
   "metadata": {},
   "outputs": [
    {
     "data": {
      "text/plain": [
       "evidenceCode\n",
       "ECO_0000269                                      17\n",
       "ECO_0000250                                       6\n",
       "extended_search                                   6\n",
       "['ECO_0000305', 'ECO_0000269', 'ECO_0007744']     1\n",
       "['ECO_0000269', 'ECO_0007744']                    1\n",
       "Name: count, dtype: int64"
      ]
     },
     "execution_count": 13,
     "metadata": {},
     "output_type": "execute_result"
    }
   ],
   "source": [
    "# Count how many proteins have which evidence code\n",
    "\n",
    "agg_evidence['evidenceCode'].value_counts()\n",
    "\n",
    "# ECO_0000269    Experimental evidence (experimental + manual assertion)\n",
    "# ECO_0000250    Sequence similarity evidence (manual assertion)\n",
    "# ECO_0007744    Combinatorial evidence (manual assertion)\n",
    "# ECO_0000305    Curator inference evidence (manual assertion)"
   ]
  },
  {
   "cell_type": "code",
   "execution_count": 14,
   "id": "bc824940",
   "metadata": {},
   "outputs": [
    {
     "name": "stdout",
     "output_type": "stream",
     "text": [
      "evidenceCode\n",
      "ECO_0000269                                      17\n",
      "extended_search                                   6\n",
      "['ECO_0000305', 'ECO_0000269', 'ECO_0007744']     1\n",
      "['ECO_0000269', 'ECO_0007744']                    1\n",
      "Name: count, dtype: int64\n"
     ]
    }
   ],
   "source": [
    "# evidence codes of identified known proteins that have a publication\n",
    "\n",
    "df = agg_evidence[agg_evidence['publication'].notna()]\n",
    "\n",
    "print(df['evidenceCode'].value_counts())"
   ]
  },
  {
   "cell_type": "code",
   "execution_count": null,
   "id": "a39a481e",
   "metadata": {},
   "outputs": [],
   "source": []
  }
 ],
 "metadata": {
  "kernelspec": {
   "display_name": "Python 3 (ipykernel)",
   "language": "python",
   "name": "python3"
  },
  "language_info": {
   "codemirror_mode": {
    "name": "ipython",
    "version": 3
   },
   "file_extension": ".py",
   "mimetype": "text/x-python",
   "name": "python",
   "nbconvert_exporter": "python",
   "pygments_lexer": "ipython3",
   "version": "3.8.18"
  },
  "toc": {
   "base_numbering": 1,
   "nav_menu": {},
   "number_sections": true,
   "sideBar": true,
   "skip_h1_title": false,
   "title_cell": "Table of Contents",
   "title_sidebar": "Contents",
   "toc_cell": true,
   "toc_position": {
    "height": "calc(100% - 180px)",
    "left": "10px",
    "top": "150px",
    "width": "317.9px"
   },
   "toc_section_display": true,
   "toc_window_display": false
  }
 },
 "nbformat": 4,
 "nbformat_minor": 5
}
