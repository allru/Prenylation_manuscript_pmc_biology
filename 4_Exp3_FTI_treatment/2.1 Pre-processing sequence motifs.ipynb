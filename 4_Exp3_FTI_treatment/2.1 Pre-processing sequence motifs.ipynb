{
 "cells": [
  {
   "cell_type": "markdown",
   "id": "2798b1e4",
   "metadata": {
    "toc": true
   },
   "source": [
    "<h1>Table of Contents<span class=\"tocSkip\"></span></h1>\n",
    "<div class=\"toc\"><ul class=\"toc-item\"><li><span><a href=\"#Get-all-motifs\" data-toc-modified-id=\"Get-all-motifs-1\"><span class=\"toc-item-num\">1&nbsp;&nbsp;</span>Get all motifs</a></span><ul class=\"toc-item\"><li><span><a href=\"#Canonical-motifs\" data-toc-modified-id=\"Canonical-motifs-1.1\"><span class=\"toc-item-num\">1.1&nbsp;&nbsp;</span>Canonical motifs</a></span></li><li><span><a href=\"#Other-motifs\" data-toc-modified-id=\"Other-motifs-1.2\"><span class=\"toc-item-num\">1.2&nbsp;&nbsp;</span>Other motifs</a></span></li><li><span><a href=\"#New-C-term-motifs\" data-toc-modified-id=\"New-C-term-motifs-1.3\"><span class=\"toc-item-num\">1.3&nbsp;&nbsp;</span>New C-term motifs</a></span></li><li><span><a href=\"#Internal-motifs\" data-toc-modified-id=\"Internal-motifs-1.4\"><span class=\"toc-item-num\">1.4&nbsp;&nbsp;</span>Internal motifs</a></span><ul class=\"toc-item\"><li><span><a href=\"#Excursion-most-N-terminal-cysteine-positions-of-internally-prenylated-proteins\" data-toc-modified-id=\"Excursion-most-N-terminal-cysteine-positions-of-internally-prenylated-proteins-1.4.1\"><span class=\"toc-item-num\">1.4.1&nbsp;&nbsp;</span>Excursion most N-terminal cysteine positions of internally prenylated proteins</a></span></li></ul></li><li><span><a href=\"#Save-fasta-file-with-correct-actualized-isoforms-and-motif-information\" data-toc-modified-id=\"Save-fasta-file-with-correct-actualized-isoforms-and-motif-information-1.5\"><span class=\"toc-item-num\">1.5&nbsp;&nbsp;</span>Save fasta file with correct actualized isoforms and motif information</a></span></li><li><span><a href=\"#Add-new-motif-information-to-dfs-of-identified-proteins\" data-toc-modified-id=\"Add-new-motif-information-to-dfs-of-identified-proteins-1.6\"><span class=\"toc-item-num\">1.6&nbsp;&nbsp;</span>Add new motif information to dfs of identified proteins</a></span></li></ul></li></ul></div>"
   ]
  },
  {
   "cell_type": "code",
   "execution_count": null,
   "id": "1eed3ca1",
   "metadata": {},
   "outputs": [],
   "source": [
    "import sys\n",
    "import os\n",
    "import session_info\n",
    "\n",
    "# Add the '0_functions' folder to sys.path\n",
    "sys.path.append(os.path.join(os.getcwd(), '..', '0_functions'))"
   ]
  },
  {
   "cell_type": "code",
   "execution_count": 1,
   "id": "1780e960",
   "metadata": {},
   "outputs": [],
   "source": [
    "import pandas as pd\n",
    "import numpy as np\n",
    "import matplotlib.pyplot as plt\n",
    "from functions import read_fastafile\n",
    "from functions import pep_Cterm"
   ]
  },
  {
   "cell_type": "code",
   "execution_count": 2,
   "id": "0e041a41",
   "metadata": {},
   "outputs": [
    {
     "data": {
      "text/html": [
       "<details>\n",
       "<summary>Click to view session information</summary>\n",
       "<pre>\n",
       "-----\n",
       "functions           NA\n",
       "matplotlib          3.7.0\n",
       "numpy               1.24.4\n",
       "pandas              2.0.3\n",
       "session_info        1.0.0\n",
       "-----\n",
       "</pre>\n",
       "<details>\n",
       "<summary>Click to view modules imported as dependencies</summary>\n",
       "<pre>\n",
       "Bio                         1.83\n",
       "PIL                         10.0.1\n",
       "anyio                       NA\n",
       "asttokens                   NA\n",
       "attr                        23.1.0\n",
       "attrs                       23.1.0\n",
       "babel                       2.11.0\n",
       "backcall                    0.2.0\n",
       "bottleneck                  1.3.7\n",
       "brotli                      NA\n",
       "certifi                     2024.08.30\n",
       "cffi                        1.16.0\n",
       "charset_normalizer          2.0.4\n",
       "colorama                    0.4.6\n",
       "comm                        0.1.2\n",
       "cycler                      0.10.0\n",
       "cython_runtime              NA\n",
       "dateutil                    2.8.2\n",
       "debugpy                     1.6.7\n",
       "decorator                   5.1.1\n",
       "defusedxml                  0.7.1\n",
       "executing                   0.8.3\n",
       "fastjsonschema              NA\n",
       "idna                        3.4\n",
       "importlib_metadata          NA\n",
       "importlib_resources         NA\n",
       "ipykernel                   6.25.0\n",
       "ipython_genutils            0.2.0\n",
       "jedi                        0.18.1\n",
       "jinja2                      3.1.2\n",
       "json5                       NA\n",
       "jsonschema                  4.19.2\n",
       "jsonschema_specifications   NA\n",
       "jupyter_events              0.8.0\n",
       "jupyter_server              2.10.0\n",
       "jupyterlab_server           2.25.1\n",
       "kiwisolver                  1.4.4\n",
       "markupsafe                  2.1.1\n",
       "mpl_toolkits                NA\n",
       "nbformat                    5.9.2\n",
       "nt                          NA\n",
       "numexpr                     2.8.4\n",
       "overrides                   NA\n",
       "packaging                   23.1\n",
       "parso                       0.8.3\n",
       "pickleshare                 0.7.5\n",
       "pkg_resources               NA\n",
       "platformdirs                3.10.0\n",
       "prometheus_client           NA\n",
       "prompt_toolkit              3.0.36\n",
       "psutil                      5.9.0\n",
       "pure_eval                   0.2.2\n",
       "pydev_ipython               NA\n",
       "pydevconsole                NA\n",
       "pydevd                      2.9.5\n",
       "pydevd_file_utils           NA\n",
       "pydevd_plugins              NA\n",
       "pydevd_tracing              NA\n",
       "pygments                    2.11.2\n",
       "pyparsing                   3.0.9\n",
       "pythoncom                   NA\n",
       "pythonjsonlogger            NA\n",
       "pytz                        2023.3.post1\n",
       "pywintypes                  NA\n",
       "referencing                 NA\n",
       "requests                    2.31.0\n",
       "rfc3339_validator           0.1.4\n",
       "rfc3986_validator           0.1.1\n",
       "rpds                        NA\n",
       "scipy                       1.10.1\n",
       "send2trash                  NA\n",
       "six                         1.16.0\n",
       "sniffio                     1.2.0\n",
       "socks                       1.7.1\n",
       "stack_data                  0.2.0\n",
       "tornado                     6.3.3\n",
       "traitlets                   5.7.1\n",
       "typing_extensions           NA\n",
       "urllib3                     1.26.18\n",
       "wcwidth                     0.2.5\n",
       "websocket                   0.58.0\n",
       "yaml                        6.0.1\n",
       "zipp                        NA\n",
       "zmq                         25.1.0\n",
       "</pre>\n",
       "</details> <!-- seems like this ends pre, so might as well be explicit -->\n",
       "<pre>\n",
       "-----\n",
       "IPython             8.12.2\n",
       "jupyter_client      8.6.0\n",
       "jupyter_core        5.2.0\n",
       "jupyterlab          3.6.3\n",
       "notebook            6.1.5\n",
       "-----\n",
       "Python 3.8.17 (default, Jul  5 2023, 20:44:21) [MSC v.1916 64 bit (AMD64)]\n",
       "Windows-10-10.0.19045-SP0\n",
       "-----\n",
       "Session information updated at 2024-11-18 12:08\n",
       "</pre>\n",
       "</details>"
      ],
      "text/plain": [
       "<IPython.core.display.HTML object>"
      ]
     },
     "execution_count": 2,
     "metadata": {},
     "output_type": "execute_result"
    }
   ],
   "source": [
    "# Display session information\n",
    "session_info.show()"
   ]
  },
  {
   "cell_type": "code",
   "execution_count": 3,
   "id": "f5ea5302",
   "metadata": {},
   "outputs": [],
   "source": [
    "pd.set_option('display.max_colwidth', None)\n",
    "pd.set_option('display.max_columns', None)\n",
    "pd.set_option('display.max_rows', None)"
   ]
  },
  {
   "cell_type": "code",
   "execution_count": 4,
   "id": "8ce823b0",
   "metadata": {},
   "outputs": [],
   "source": [
    "datafolder = 'data'\n",
    "known_proteins_datafolder = '../Known_prenylated_proteins/data'\n",
    "figures = 'data/figures'\n",
    "PSSMSearch = 'data/PssmSearch'"
   ]
  },
  {
   "cell_type": "code",
   "execution_count": 5,
   "id": "806a037b",
   "metadata": {},
   "outputs": [],
   "source": [
    "# Load data\n",
    "\n",
    "# All identified prenylated proteins that contain a cysteine\n",
    "all_found = pd.read_csv(os.path.join(datafolder, 'identified_proteins', 'identified_all.csv'), sep=',')\n",
    "known_found = pd.read_csv(os.path.join(datafolder, 'identified_proteins', 'identified_known.csv'), sep=',')\n",
    "novel_found = pd.read_csv(os.path.join(datafolder, 'identified_proteins', 'identified_novel.csv'), sep=',')\n",
    "\n",
    "# clean FASTA file of all identified proteins\n",
    "fasta = pd.read_csv(os.path.join(datafolder, 'identified_proteins', 'clean_fasta_seqs_identified_prots.csv'), sep=',')"
   ]
  },
  {
   "cell_type": "markdown",
   "id": "885c4a95",
   "metadata": {},
   "source": [
    "# Get all motifs"
   ]
  },
  {
   "cell_type": "markdown",
   "id": "54266adb",
   "metadata": {},
   "source": [
    "##### Identified prenylated proteins"
   ]
  },
  {
   "cell_type": "code",
   "execution_count": 6,
   "id": "d7d4b788",
   "metadata": {},
   "outputs": [
    {
     "name": "stdout",
     "output_type": "stream",
     "text": [
      "All identified: 49\n"
     ]
    }
   ],
   "source": [
    "print('All identified:', len(all_found))"
   ]
  },
  {
   "cell_type": "markdown",
   "id": "fde3b4b9",
   "metadata": {},
   "source": [
    "##### Known identified prenylated proteins"
   ]
  },
  {
   "cell_type": "code",
   "execution_count": 7,
   "id": "cce57d1a",
   "metadata": {},
   "outputs": [
    {
     "name": "stdout",
     "output_type": "stream",
     "text": [
      "All known identified:  31\n"
     ]
    }
   ],
   "source": [
    "print('All known identified: ', len(known_found))"
   ]
  },
  {
   "cell_type": "markdown",
   "id": "2d177626",
   "metadata": {},
   "source": [
    "##### Novel identified prenylated proteins"
   ]
  },
  {
   "cell_type": "code",
   "execution_count": 8,
   "id": "81693f9c",
   "metadata": {},
   "outputs": [
    {
     "name": "stdout",
     "output_type": "stream",
     "text": [
      "All known identified:  18\n"
     ]
    }
   ],
   "source": [
    "print('All known identified: ', len(novel_found))"
   ]
  },
  {
   "cell_type": "markdown",
   "id": "e254f9e6",
   "metadata": {},
   "source": [
    "## Canonical motifs"
   ]
  },
  {
   "cell_type": "code",
   "execution_count": 9,
   "id": "ab0d780a",
   "metadata": {},
   "outputs": [],
   "source": [
    "# fasta contains the sequences of all identified proteins"
   ]
  },
  {
   "cell_type": "code",
   "execution_count": 10,
   "id": "cf91a8a7",
   "metadata": {},
   "outputs": [
    {
     "data": {
      "text/html": [
       "<div>\n",
       "<style scoped>\n",
       "    .dataframe tbody tr th:only-of-type {\n",
       "        vertical-align: middle;\n",
       "    }\n",
       "\n",
       "    .dataframe tbody tr th {\n",
       "        vertical-align: top;\n",
       "    }\n",
       "\n",
       "    .dataframe thead th {\n",
       "        text-align: right;\n",
       "    }\n",
       "</style>\n",
       "<table border=\"1\" class=\"dataframe\">\n",
       "  <thead>\n",
       "    <tr style=\"text-align: right;\">\n",
       "      <th></th>\n",
       "      <th>ID</th>\n",
       "      <th>seqID</th>\n",
       "      <th>seq</th>\n",
       "      <th>len</th>\n",
       "    </tr>\n",
       "  </thead>\n",
       "  <tbody>\n",
       "    <tr>\n",
       "      <th>28</th>\n",
       "      <td>Q99733</td>\n",
       "      <td>sp|Q99733|NP1L4_HUMAN</td>\n",
       "      <td>MADHSFSDGVPSDSVEAAKNASNTEKLTDQVMQNPRVLAALQERLDNVPHTPSSYIETLPKAVKRRINALKQLQVRCAHIEAKFYEEVHDLERKYAALYQPLFDKRREFITGDVEPTDAESEWHSENEEEEKLAGDMKSKVVVTEKAAATAEEPDPKGIPEFWFTIFRNVDMLSELVQEYDEPILKHLQDIKVKFSDPGQPMSFVLEFHFEPNDYFTNSVLTKTYKMKSEPDKADPFSFEGPEIVDCDGCTIDWKKGKNVTVKTIKKKQKHKGRGTVRTITKQVPNESFFNFFNPLKASGDGESLDEDSEFTLASDFEIGHFFRERIVPRAVLYFTGEAIEDDDNFEEGEEGEEEELEGDEEGEDEDDAEINPKV</td>\n",
       "      <td>375</td>\n",
       "    </tr>\n",
       "  </tbody>\n",
       "</table>\n",
       "</div>"
      ],
      "text/plain": [
       "        ID                  seqID  \\\n",
       "28  Q99733  sp|Q99733|NP1L4_HUMAN   \n",
       "\n",
       "                                                                                                                                                                                                                                                                                                                                                                                        seq  \\\n",
       "28  MADHSFSDGVPSDSVEAAKNASNTEKLTDQVMQNPRVLAALQERLDNVPHTPSSYIETLPKAVKRRINALKQLQVRCAHIEAKFYEEVHDLERKYAALYQPLFDKRREFITGDVEPTDAESEWHSENEEEEKLAGDMKSKVVVTEKAAATAEEPDPKGIPEFWFTIFRNVDMLSELVQEYDEPILKHLQDIKVKFSDPGQPMSFVLEFHFEPNDYFTNSVLTKTYKMKSEPDKADPFSFEGPEIVDCDGCTIDWKKGKNVTVKTIKKKQKHKGRGTVRTITKQVPNESFFNFFNPLKASGDGESLDEDSEFTLASDFEIGHFFRERIVPRAVLYFTGEAIEDDDNFEEGEEGEEEELEGDEEGEDEDDAEINPKV   \n",
       "\n",
       "    len  \n",
       "28  375  "
      ]
     },
     "execution_count": 10,
     "metadata": {},
     "output_type": "execute_result"
    }
   ],
   "source": [
    "# change sequence isoform of NP1L4! Q99733-2\n",
    "fasta[fasta['ID'] == 'Q99733']"
   ]
  },
  {
   "cell_type": "code",
   "execution_count": 11,
   "id": "64d8ba43",
   "metadata": {},
   "outputs": [],
   "source": [
    "fasta.loc[28, 'seq'] = \"MADHSFSDGVPSDSVEAAKNASNTEKLTDQVMQNPRVLAALQERLDNVPHTPSSYIETLPKAVKRRINALKQLQVRCAHIEAKFYEEVHDLERKYAALYQPLFDKRREFITGDVEPTDAESEWHSENEEEEKLAGDMKSKVVVTEKAAATAEEPDPKGIPEFWFTIFRNVDMLSELVQEYDEPILKHLQDIKVKFSDPGQPMSFVLEFHFEPNDYFTNSVLTKTYKMKSEPDKADPFSFEGPEIVDCDGCTIDWKKGKNVTVKTIKKKQKHKGRGTVRTITKQVPNESFFNFFNPLKASGDGESLDEDSEFTLASDFEIGHFFRERIVPRAVLYFTGEAIEDDDNFEEGEEGEEEELEGDEEGEDEDDAEINPKKEPSQPAECKQQ\""
   ]
  },
  {
   "cell_type": "code",
   "execution_count": 12,
   "id": "f58af616",
   "metadata": {},
   "outputs": [],
   "source": [
    "# Add number of cysteines found in whole sequence\n",
    "fasta['Ccount'] = fasta['seq'].str.count('C')"
   ]
  },
  {
   "cell_type": "code",
   "execution_count": 13,
   "id": "6f3c4124",
   "metadata": {},
   "outputs": [],
   "source": [
    "# Add position of the first C counting from the end of the sequence backwards\n",
    "fasta['Cpos'] = [-next((pos for pos, amino in enumerate(reversed(seq), 1) if amino == 'C'), 0) for seq in fasta['seq']]"
   ]
  },
  {
   "cell_type": "code",
   "execution_count": 14,
   "id": "390e0279",
   "metadata": {},
   "outputs": [],
   "source": [
    "# Pipeline for detecting canonical motifs\n",
    "\n",
    "aliph_AA = ['A', 'G', 'V', 'I', 'L']\n",
    "\n",
    "motifs = {\n",
    "    \"CAAX\": lambda seq: seq[-4] == 'C' and seq[-3] in aliph_AA and seq[-2] in aliph_AA,\n",
    "    \"CXXX\": lambda seq: seq[-4] == 'C',\n",
    "    \"CCC\": lambda seq: seq.endswith('CCC'),\n",
    "    \"CXC\": lambda seq: seq[-3] == 'C' and seq[-1] == 'C',\n",
    "    \"CCX\": lambda seq: seq[-3] == 'C' and seq[-2] == 'C',\n",
    "    \"CC\": lambda seq: seq[-2] == 'C' and seq[-1] == 'C',\n",
    "    \"C\": lambda seq: seq[-1] == 'C'\n",
    "}"
   ]
  },
  {
   "cell_type": "code",
   "execution_count": 15,
   "id": "fff9bf40",
   "metadata": {},
   "outputs": [
    {
     "name": "stdout",
     "output_type": "stream",
     "text": [
      "All identified: 49 \n",
      "\n",
      "CAAX:  \t14\t(35 remaining)\n",
      "CXXX:  \t28\t(7 remaining)\n",
      "CCC:  \t0\t(7 remaining)\n",
      "CXC:  \t0\t(7 remaining)\n",
      "CCX:  \t0\t(7 remaining)\n",
      "CC:  \t0\t(7 remaining)\n",
      "C:  \t1\t(6 remaining)\n",
      "\n",
      "Identified proteins with canonical motifs: 43\t(6 remaining)\n",
      "Check total: 49\n"
     ]
    }
   ],
   "source": [
    "print('All identified:', len(fasta), '\\n')\n",
    "\n",
    "# Iteratively filter for each motif\n",
    "for motif_name, condition in motifs.items():\n",
    "    motif_df = fasta[fasta['seq'].apply(condition)].reset_index(drop=True)\n",
    "\n",
    "    # annotate motif in df\n",
    "    motif_df['motif'] = f'{motif_name}'\n",
    "    \n",
    "    globals()[f'fasta_{motif_name}'] = motif_df # Create a new variable with the name based on the motif\n",
    "    \n",
    "    fasta = fasta[~fasta['ID'].isin(motif_df['ID'])]  # Remove identified sequences\n",
    "    print(f'{motif_name}:  \\t', len(motif_df), '\\t(', len(fasta), ' remaining)', sep='')\n",
    "\n",
    "# Recap\n",
    "fasta_canon = pd.concat([fasta_CAAX, fasta_CXXX, fasta_CXC, fasta_CCX, fasta_CC, fasta_C], ignore_index=True)\n",
    "print('\\nIdentified proteins with canonical motifs: ', len(fasta_canon), '\\t(', len(fasta), ' remaining)', sep='')\n",
    "print('Check total:', len(fasta_canon) + len(fasta))"
   ]
  },
  {
   "cell_type": "code",
   "execution_count": 16,
   "id": "461dde69",
   "metadata": {},
   "outputs": [],
   "source": [
    "# find if other sequence isoforms of these 6 proteins might have a canonical motif"
   ]
  },
  {
   "cell_type": "code",
   "execution_count": 17,
   "id": "41b3ed57",
   "metadata": {},
   "outputs": [],
   "source": [
    "# check all isoforms of novel identified prenylated proteins\n",
    "# create uniprot sparql readable input \n",
    "up_input = ' '.join([s for s in fasta['ID']])"
   ]
  },
  {
   "cell_type": "code",
   "execution_count": 18,
   "id": "71e5225f",
   "metadata": {},
   "outputs": [],
   "source": [
    "# FASTA file of all novel identified proteins, downloaded from uniprot \n",
    "fasta_iso = read_fastafile(os.path.join(datafolder, 'fasta_files', 'idmapping_2024_03_11_iso_novel.fasta'))"
   ]
  },
  {
   "cell_type": "code",
   "execution_count": 19,
   "id": "104cc3b5",
   "metadata": {},
   "outputs": [],
   "source": [
    "# Clean up the 'ID' column\n",
    "fasta_iso['ID'] = fasta_iso['ID'].str.split('-').str[0]"
   ]
  },
  {
   "cell_type": "code",
   "execution_count": 20,
   "id": "c0bf4b81",
   "metadata": {},
   "outputs": [],
   "source": [
    "# Add number of cysteines found in whole sequence\n",
    "fasta_iso['Ccount'] = fasta_iso['seq'].str.count('C')"
   ]
  },
  {
   "cell_type": "code",
   "execution_count": 21,
   "id": "774edd51",
   "metadata": {},
   "outputs": [],
   "source": [
    "# Add position of the first C counting from the end of the sequence backwards\n",
    "fasta_iso['Cpos'] = [-next((pos for pos, amino in enumerate(reversed(seq), 1) if amino == 'C'), 0) for seq in fasta_iso['seq']]"
   ]
  },
  {
   "cell_type": "code",
   "execution_count": 22,
   "id": "478913a7",
   "metadata": {},
   "outputs": [
    {
     "name": "stdout",
     "output_type": "stream",
     "text": [
      "All remaining: 6 \n",
      "\n",
      "CAAX:  \t0\t(8 remaining)\n",
      "CXXX:  \t0\t(8 remaining)\n",
      "CCC:  \t0\t(8 remaining)\n",
      "CXC:  \t0\t(8 remaining)\n",
      "CCX:  \t0\t(8 remaining)\n",
      "CC:  \t0\t(8 remaining)\n",
      "C:  \t0\t(8 remaining)\n",
      "\n",
      "Identified proteins with canonical motifs: 0\t(6 proteins remaining)\n",
      "Check total: 6\n"
     ]
    }
   ],
   "source": [
    "# repeat whole procedure for searching canonical motifs\n",
    "print('All remaining:', len(fasta_iso['ID'].unique()), '\\n')\n",
    "\n",
    "# Iteratively filter for each motif\n",
    "for motif_name, condition in motifs.items():\n",
    "    motif_df = fasta_iso[fasta_iso['seq'].apply(condition)].reset_index(drop=True)\n",
    "\n",
    "    # annotate motif in df\n",
    "    motif_df['motif'] = f'{motif_name}'\n",
    "    \n",
    "    globals()[f'fasta_iso_{motif_name}'] = motif_df # Create a new variable with the name based on the motif\n",
    "    \n",
    "    fasta_iso = fasta_iso[~fasta_iso['ID'].isin(motif_df['ID'])]  # Remove identified sequences\n",
    "    print(f'{motif_name}:  \\t', len(motif_df), '\\t(', len(fasta_iso), ' remaining)', sep='')\n",
    "    \n",
    "# Recap\n",
    "fasta_canon_iso = pd.concat([fasta_iso_CAAX, fasta_iso_CXXX, fasta_iso_CXC, fasta_iso_CCX, fasta_iso_CC, fasta_iso_C], ignore_index=True)\n",
    "print('\\nIdentified proteins with canonical motifs: ', len(fasta_canon_iso['ID'].unique()), '\\t(', len(fasta_iso['ID'].unique()), ' proteins remaining)', sep='')\n",
    "print('Check total:', len(fasta_canon_iso['ID'].unique()) + len(fasta_iso['ID'].unique()))"
   ]
  },
  {
   "cell_type": "code",
   "execution_count": 23,
   "id": "57799c47",
   "metadata": {},
   "outputs": [],
   "source": [
    "# found proteins that have a canonical motif in their isoform: 0"
   ]
  },
  {
   "cell_type": "code",
   "execution_count": 24,
   "id": "c2674a19",
   "metadata": {},
   "outputs": [
    {
     "data": {
      "image/png": "[encoded data removed]",
      "text/plain": [
       "<Figure size 2000x600 with 1 Axes>"
      ]
     },
     "metadata": {},
     "output_type": "display_data"
    }
   ],
   "source": [
    "# Histogram of canonical motifs\n",
    "\n",
    "# position of the first C counting from the end of the sequence backwards\n",
    "# for the bar plots only\n",
    "pos = fasta_canon['Cpos']\n",
    "\n",
    "# Filter data within the range from -100 to -1\n",
    "filtered_data = [x for x in pos if -130 <= x <= -1]\n",
    "\n",
    "# Specify the desired bin edges\n",
    "bin_edges = list(range(-130, 1))\n",
    "\n",
    "# Set the figure size (adjust these values as needed)\n",
    "plt.figure(figsize=(20, 6))\n",
    "\n",
    "# Create a histogram with custom bin edges\n",
    "plt.hist(filtered_data, bins=bin_edges, edgecolor='black', align='left')\n",
    "plt.xlabel('Most C-terminal cysteine position')\n",
    "plt.ylabel('Protein count')\n",
    "plt.title(f'Identified proteins with canonical motif (N={len(pos)})')\n",
    "\n",
    "# Customize x-axis ticks and labels\n",
    "plt.xticks(range(-130, 0), rotation=90)\n",
    "\n",
    "# Set x-axis limits to match the data range\n",
    "plt.xlim(-131, -0)\n",
    "\n",
    "# Show the plot\n",
    "plt.show()"
   ]
  },
  {
   "cell_type": "code",
   "execution_count": 25,
   "id": "3af0cccc",
   "metadata": {},
   "outputs": [],
   "source": [
    "# update fasta\n",
    "# remove all protein sequence forms\n",
    "fasta = fasta.loc[~fasta['ID'].isin(fasta_canon['ID'])]\n",
    "\n",
    "# re-add only the needed isoforms with canonical motif\n",
    "fasta = pd.concat([fasta, fasta_canon], ignore_index=True).reset_index(drop=True)"
   ]
  },
  {
   "cell_type": "markdown",
   "id": "73637125",
   "metadata": {},
   "source": [
    "## Other motifs"
   ]
  },
  {
   "cell_type": "code",
   "execution_count": 26,
   "id": "e993fd53",
   "metadata": {},
   "outputs": [
    {
     "name": "stdout",
     "output_type": "stream",
     "text": [
      "Found proteins with other motif: 6 proteins, 8 sequences\n"
     ]
    }
   ],
   "source": [
    "# Continue with proteins that have no canonical motif in any sequence isoform\n",
    "print('Found proteins with other motif:', len(fasta_iso['ID'].unique()), 'proteins,', len(fasta_iso), 'sequences')"
   ]
  },
  {
   "cell_type": "code",
   "execution_count": 27,
   "id": "0182a1a1",
   "metadata": {},
   "outputs": [
    {
     "name": "stdout",
     "output_type": "stream",
     "text": [
      "Before removing doubles:  8\n"
     ]
    }
   ],
   "source": [
    "print('Before removing doubles: ', len(fasta_iso))"
   ]
  },
  {
   "cell_type": "code",
   "execution_count": 28,
   "id": "93a59e37",
   "metadata": {},
   "outputs": [],
   "source": [
    "# proteins that have the same ID, pep, Ccount and Cpos are regarded as double, keep first one\n",
    "fasta_found_double = fasta_iso[fasta_iso.duplicated(subset=['ID', 'Ccount', 'Cpos'])]\n",
    "\n",
    "# -> remove them from fasta_found_iso\n",
    "# the first occurence is kept, the df contains only the doubles\n",
    "# merge and don't keep dublicates to remove them fro df\n",
    "fasta_iso = pd.concat([fasta_iso, fasta_found_double], ignore_index=True).drop_duplicates(keep=False).reset_index(drop=True)"
   ]
  },
  {
   "cell_type": "code",
   "execution_count": 29,
   "id": "60b64632",
   "metadata": {},
   "outputs": [
    {
     "name": "stdout",
     "output_type": "stream",
     "text": [
      "After removing doubles:  7\n"
     ]
    }
   ],
   "source": [
    "print('After removing doubles: ', len(fasta_iso))"
   ]
  },
  {
   "cell_type": "code",
   "execution_count": 30,
   "id": "57fcd647",
   "metadata": {},
   "outputs": [
    {
     "data": {
      "image/png": "[encoded data removed]",
      "text/plain": [
       "<Figure size 2000x600 with 1 Axes>"
      ]
     },
     "metadata": {},
     "output_type": "display_data"
    }
   ],
   "source": [
    "# Histogram of most C-terminal cysteine positions, including all isoforms\n",
    "\n",
    "# Cpos is the most C-terminal cysteine\n",
    "pos = fasta_iso['Cpos'].tolist()\n",
    "\n",
    "# Filter data within the range from -100 to -1\n",
    "filtered_data = [x for x in pos if -130 <= x <= -1]\n",
    "\n",
    "# Specify the desired bin edges\n",
    "bin_edges = list(range(-130, 1))\n",
    "\n",
    "# Set the figure size (adjust these values as needed)\n",
    "plt.figure(figsize=(20, 6))\n",
    "\n",
    "# Create a histogram with custom bin edges\n",
    "plt.hist(filtered_data, bins=bin_edges, edgecolor='black', align='left')\n",
    "plt.xlabel('Most C-terminal cysteine position')\n",
    "plt.ylabel('Protein count')\n",
    "plt.title(f'Proteins without canonical motif: Including all isoforms (N={len(pos)})')\n",
    "\n",
    "# Customize x-axis ticks and labels\n",
    "plt.xticks(range(-130, 0), rotation=90)\n",
    "\n",
    "# Set x-axis limits to match the data range\n",
    "plt.xlim(-131, -0)\n",
    "plt.ylim(0, 30)\n",
    "\n",
    "# Show the plot\n",
    "plt.show()"
   ]
  },
  {
   "cell_type": "code",
   "execution_count": 31,
   "id": "c9622d37",
   "metadata": {},
   "outputs": [
    {
     "name": "stdout",
     "output_type": "stream",
     "text": [
      "Found proteins no canonical motif, no alternative isoforms: 5\n",
      "Found proteins no canonical motif, multiple alternative isoforms: 1 proteins, 2 possible sequences\n"
     ]
    }
   ],
   "source": [
    "# occurences of sequences per protein ID\n",
    "v = fasta_iso.ID.value_counts()\n",
    "\n",
    "# proteins that don't have an isoform sequence alternative\n",
    "fasta_found_no_alternative = fasta_iso[~fasta_iso.ID.isin(v.index[v.gt(1)])].reset_index(drop=True)\n",
    "print('Found proteins no canonical motif, no alternative isoforms:', len(fasta_found_no_alternative))\n",
    "\n",
    "# proteins with more than one isoforms alternatives\n",
    "fasta_found_iso = fasta_iso[fasta_iso.ID.isin(v.index[v.gt(1)])].reset_index(drop=True)\n",
    "print('Found proteins no canonical motif, multiple alternative isoforms:', len(fasta_found_iso['ID'].unique()), 'proteins,', len(fasta_found_iso), 'possible sequences')"
   ]
  },
  {
   "cell_type": "code",
   "execution_count": 32,
   "id": "6cef8242",
   "metadata": {},
   "outputs": [
    {
     "data": {
      "image/png": "[encoded data removed]",
      "text/plain": [
       "<Figure size 2000x600 with 1 Axes>"
      ]
     },
     "metadata": {},
     "output_type": "display_data"
    }
   ],
   "source": [
    "# Histogram of one most C-terminal cysteine position per protein, no alternative, no doubles\n",
    "\n",
    "# Cpos is the most C-terminal cysteine\n",
    "pos = fasta_found_no_alternative['Cpos'].tolist()\n",
    "\n",
    "# Filter data within the range from -30 to -1\n",
    "filtered_data = [x for x in pos if -130 <= x <= -1]\n",
    "\n",
    "# Specify the desired bin edges\n",
    "bin_edges = list(range(-130, 1))\n",
    "\n",
    "# Set the figure size (adjust these values as needed)\n",
    "plt.figure(figsize=(20, 6))\n",
    "\n",
    "# Create a histogram with custom bin edges\n",
    "plt.hist(filtered_data, bins=bin_edges, edgecolor='black', align='left')\n",
    "plt.xlabel('most C-terminal cysteine position')\n",
    "plt.ylabel('protein count')\n",
    "plt.title(f'Proteins without canonical motif: no isoform alternative (N={len(pos)})')\n",
    "\n",
    "# Set custom x-tick values and labels\n",
    "plt.xticks(range(-130, 0))\n",
    "plt.xticks(rotation=90)\n",
    "\n",
    "# Set x-axis limits to match the data range\n",
    "plt.xlim(-131, -0)\n",
    "plt.ylim(0, 30)\n",
    "\n",
    "plt.show()"
   ]
  },
  {
   "cell_type": "code",
   "execution_count": 33,
   "id": "ed6b6456",
   "metadata": {},
   "outputs": [
    {
     "data": {
      "image/png": "[encoded data removed]",
      "text/plain": [
       "<Figure size 2000x600 with 1 Axes>"
      ]
     },
     "metadata": {},
     "output_type": "display_data"
    }
   ],
   "source": [
    "# Histogram of one most C-terminal cysteine position per protein, multiple alternatives only\n",
    "\n",
    "# Cpos is the most C-terminal cysteine\n",
    "pos = fasta_found_iso['Cpos'].tolist()\n",
    "\n",
    "# Filter data within the range from -30 to -1\n",
    "filtered_data = [x for x in pos if -130 <= x <= -1]\n",
    "\n",
    "# Specify the desired bin edges\n",
    "bin_edges = list(range(-130, 1))\n",
    "\n",
    "# Set the figure size (adjust these values as needed)\n",
    "plt.figure(figsize=(20, 6))\n",
    "\n",
    "# Create a histogram with custom bin edges\n",
    "plt.hist(filtered_data, bins=bin_edges, edgecolor='black', align='left')\n",
    "plt.xlabel('most C-terminal cysteine position')\n",
    "plt.ylabel('protein count')\n",
    "plt.title(f'Proteins without canonical motif: multiple alternatives only (N={len(pos)})')\n",
    "\n",
    "# Set custom x-tick values and labels\n",
    "plt.xticks(range(-130, 0))\n",
    "plt.xticks(rotation=90)\n",
    "\n",
    "# Set x-axis limits to match the data range\n",
    "plt.xlim(-131, 0)\n",
    "plt.ylim(0, 30)\n",
    "\n",
    "plt.show()"
   ]
  },
  {
   "cell_type": "markdown",
   "id": "ff74fc20",
   "metadata": {},
   "source": [
    "## New C-term motifs"
   ]
  },
  {
   "cell_type": "code",
   "execution_count": 34,
   "id": "786f2326",
   "metadata": {},
   "outputs": [],
   "source": [
    "# Out of all sequence forms choose those with new C-term\n",
    "found_newCterm = fasta_iso[fasta_iso['Cpos'].isin([-5, -3, -2])].reset_index(drop=True)"
   ]
  },
  {
   "cell_type": "code",
   "execution_count": 35,
   "id": "303a6d5f",
   "metadata": {},
   "outputs": [
    {
     "name": "stdout",
     "output_type": "stream",
     "text": [
      "New C-term motif: 0 isoforms, 0 proteins\n"
     ]
    }
   ],
   "source": [
    "print('New C-term motif:', len(found_newCterm), 'isoforms,',  len(found_newCterm['ID'].unique()), 'proteins')"
   ]
  },
  {
   "cell_type": "markdown",
   "id": "c8a4fea5",
   "metadata": {},
   "source": [
    "## Internal motifs"
   ]
  },
  {
   "cell_type": "code",
   "execution_count": 36,
   "id": "78010787",
   "metadata": {},
   "outputs": [],
   "source": [
    "# Proteins with no canonical motif (found_canon) or new C-term motif (found_newCterm) in canonical sequence or isoform\n",
    "fasta_internal = fasta[~fasta['ID'].isin(fasta_canon['ID'])]\n",
    "fasta_internal = fasta_internal[~fasta_internal['ID'].isin(found_newCterm['ID'])]"
   ]
  },
  {
   "cell_type": "code",
   "execution_count": 37,
   "id": "c4f5e47a",
   "metadata": {},
   "outputs": [
    {
     "data": {
      "text/html": [
       "<div>\n",
       "<style scoped>\n",
       "    .dataframe tbody tr th:only-of-type {\n",
       "        vertical-align: middle;\n",
       "    }\n",
       "\n",
       "    .dataframe tbody tr th {\n",
       "        vertical-align: top;\n",
       "    }\n",
       "\n",
       "    .dataframe thead th {\n",
       "        text-align: right;\n",
       "    }\n",
       "</style>\n",
       "<table border=\"1\" class=\"dataframe\">\n",
       "  <thead>\n",
       "    <tr style=\"text-align: right;\">\n",
       "      <th></th>\n",
       "      <th>ID</th>\n",
       "      <th>seqID</th>\n",
       "      <th>seq</th>\n",
       "      <th>len</th>\n",
       "      <th>Ccount</th>\n",
       "      <th>Cpos</th>\n",
       "      <th>motif</th>\n",
       "    </tr>\n",
       "  </thead>\n",
       "  <tbody>\n",
       "  </tbody>\n",
       "</table>\n",
       "</div>"
      ],
      "text/plain": [
       "Empty DataFrame\n",
       "Columns: [ID, seqID, seq, len, Ccount, Cpos, motif]\n",
       "Index: []"
      ]
     },
     "execution_count": 37,
     "metadata": {},
     "output_type": "execute_result"
    }
   ],
   "source": [
    "# reminder, false positive identified proteins with cysteine in isoform sequence\n",
    "fasta_internal[fasta_internal['seqID'].str.contains('-')].reset_index(drop=True)"
   ]
  },
  {
   "cell_type": "markdown",
   "id": "0bffed3b",
   "metadata": {},
   "source": [
    "## Save fasta file with correct actualized isoforms and motif information"
   ]
  },
  {
   "cell_type": "code",
   "execution_count": 38,
   "id": "851f5b30",
   "metadata": {},
   "outputs": [
    {
     "name": "stdout",
     "output_type": "stream",
     "text": [
      "Canonical motif: 43 , New-C-terminal motif: 0 , Internal cysteines: 6\n",
      "Total: 49\n"
     ]
    }
   ],
   "source": [
    "# Recap\n",
    "print('Canonical motif:', len(fasta_canon), ', New-C-terminal motif:', len(found_newCterm), ', Internal cysteines:', len(fasta_internal))\n",
    "print('Total:', len(fasta_canon)+ len(found_newCterm)+ len(fasta_internal))\n",
    "\n",
    "# 4 proteins with cysteines only in isoforms (see Notebook 2.1) will be excluded from fasta_internal in structure analysis\n",
    "# because AlphaFold doesn't contain 3D structures of isoforms"
   ]
  },
  {
   "cell_type": "code",
   "execution_count": 39,
   "id": "e1c5256a",
   "metadata": {},
   "outputs": [],
   "source": [
    "# add pep column for C-terminal peptides\n",
    "pep_Cterm(fasta_canon)\n",
    "fasta_internal['pep'] = np.nan"
   ]
  },
  {
   "cell_type": "code",
   "execution_count": 40,
   "id": "c3ccbdf0",
   "metadata": {},
   "outputs": [],
   "source": [
    "# add name column from Uniprot info\n",
    "fasta_canon = fasta_canon.merge(all_found[['ID', 'name']], on='ID', how='left')\n",
    "fasta_internal = fasta_internal.merge(all_found[['ID', 'name']], on='ID', how='left')"
   ]
  },
  {
   "cell_type": "code",
   "execution_count": 41,
   "id": "a4348a09",
   "metadata": {},
   "outputs": [],
   "source": [
    "# Reorder the columns to place 'name' as the second column\n",
    "columns_order = ['ID', 'name'] + [col for col in fasta_canon.columns if col not in ['ID', 'name']]\n",
    "\n",
    "fasta_canon = fasta_canon[columns_order]\n",
    "fasta_internal = fasta_internal[columns_order]"
   ]
  },
  {
   "cell_type": "code",
   "execution_count": 42,
   "id": "0e0f6946",
   "metadata": {},
   "outputs": [],
   "source": [
    "# merge all three gourps to one df\n",
    "fasta = pd.concat([fasta_canon, fasta_internal], ignore_index=True)"
   ]
  },
  {
   "cell_type": "code",
   "execution_count": 43,
   "id": "f7abcae2",
   "metadata": {},
   "outputs": [],
   "source": [
    "# Update cysteine position to match motif\n",
    "fasta['Cpos'] = None\n",
    "\n",
    "for i, motif in enumerate(fasta['motif']):\n",
    "    \n",
    "    if motif == 'CAAX' or motif == 'CXXX':\n",
    "        fasta.at[i, 'Cpos'] = -4\n",
    "        \n",
    "    elif motif == 'CXC':\n",
    "        fasta.at[i, 'Cpos'] = [-3, -1]\n",
    "        \n",
    "    elif motif == 'CCX':\n",
    "        fasta.at[i, 'Cpos'] = [-3, -2]\n",
    "        \n",
    "    elif motif == 'CC':\n",
    "        fasta.at[i, 'Cpos'] = [-2, -1]\n",
    "        \n",
    "    elif motif == 'C':\n",
    "        fasta.at[i, 'Cpos'] = -1\n",
    "        \n",
    "    elif motif == 'CX':\n",
    "        fasta.at[i, 'Cpos'] = -2\n",
    "\n",
    "    elif motif == 'CXX':\n",
    "        fasta.at[i, 'Cpos'] = -3\n",
    "        \n",
    "    elif motif == 'CXXXX':\n",
    "        fasta.at[i, 'Cpos'] = -5\n",
    "\n",
    "    elif motif == 'CCC':\n",
    "        fasta.at[i, 'Cpos'] = [-3, -2, -1]"
   ]
  },
  {
   "cell_type": "code",
   "execution_count": 44,
   "id": "7058dec8",
   "metadata": {},
   "outputs": [],
   "source": [
    "fasta['motif'] = fasta['motif'].fillna('internal')"
   ]
  },
  {
   "cell_type": "code",
   "execution_count": 45,
   "id": "a3fd0863",
   "metadata": {},
   "outputs": [],
   "source": [
    "# save\n",
    "fasta.to_csv(os.path.join(datafolder, 'identified_proteins', 'final_fasta_seqs_identified_prots.csv'), sep=',', index=False)"
   ]
  },
  {
   "cell_type": "markdown",
   "id": "737fca37",
   "metadata": {},
   "source": [
    "## Add new motif information to dfs of identified proteins"
   ]
  },
  {
   "cell_type": "code",
   "execution_count": 46,
   "id": "f9468858",
   "metadata": {},
   "outputs": [],
   "source": [
    "# Replace 'motif' values in 'all_found' with values from 'fasta' based on matching 'ID'\n",
    "all_found['motif'] = all_found['ID'].map(fasta.set_index('ID')['motif'])\n",
    "novel_found['motif'] = novel_found['ID'].map(fasta.set_index('ID')['motif'])\n",
    "\n",
    "# Replace 'pep' values in 'all_found' with values from 'fasta' based on matching 'ID'\n",
    "all_found['pep'] = all_found['ID'].map(fasta.set_index('ID')['pep'])\n",
    "novel_found['pep'] = novel_found['ID'].map(fasta.set_index('ID')['pep'])\n",
    "\n",
    "# save\n",
    "all_found.to_csv(os.path.join(datafolder, 'identified_proteins', 'identified_all_motif.csv'), sep=',', index=False)\n",
    "novel_found.to_csv(os.path.join(datafolder, 'identified_proteins', 'identified_novel_motif.csv'), sep=',', index=False)"
   ]
  },
  {
   "cell_type": "code",
   "execution_count": null,
   "id": "9211005c",
   "metadata": {},
   "outputs": [],
   "source": []
  }
 ],
 "metadata": {
  "kernelspec": {
   "display_name": "Python 3 (ipykernel)",
   "language": "python",
   "name": "python3"
  },
  "language_info": {
   "codemirror_mode": {
    "name": "ipython",
    "version": 3
   },
   "file_extension": ".py",
   "mimetype": "text/x-python",
   "name": "python",
   "nbconvert_exporter": "python",
   "pygments_lexer": "ipython3",
   "version": "3.8.18"
  },
  "toc": {
   "base_numbering": 1,
   "nav_menu": {
    "height": "239px",
    "width": "368px"
   },
   "number_sections": true,
   "sideBar": true,
   "skip_h1_title": false,
   "title_cell": "Table of Contents",
   "title_sidebar": "Contents",
   "toc_cell": true,
   "toc_position": {
    "height": "628.45px",
    "left": "10px",
    "top": "150px",
    "width": "304.033px"
   },
   "toc_section_display": true,
   "toc_window_display": false
  }
 },
 "nbformat": 4,
 "nbformat_minor": 5
}
