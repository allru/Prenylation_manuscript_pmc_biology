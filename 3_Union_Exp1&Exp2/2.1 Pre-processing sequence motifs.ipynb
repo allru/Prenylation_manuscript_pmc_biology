{
 "cells": [
  {
   "cell_type": "markdown",
   "id": "21eff843",
   "metadata": {
    "toc": true
   },
   "source": [
    "<h1>Table of Contents<span class=\"tocSkip\"></span></h1>\n",
    "<div class=\"toc\"><ul class=\"toc-item\"><li><span><a href=\"#Get-all-motifs\" data-toc-modified-id=\"Get-all-motifs-1\"><span class=\"toc-item-num\">1&nbsp;&nbsp;</span>Get all motifs</a></span><ul class=\"toc-item\"><li><span><a href=\"#Canonical-motifs\" data-toc-modified-id=\"Canonical-motifs-1.1\"><span class=\"toc-item-num\">1.1&nbsp;&nbsp;</span>Canonical motifs</a></span></li><li><span><a href=\"#Other-motifs\" data-toc-modified-id=\"Other-motifs-1.2\"><span class=\"toc-item-num\">1.2&nbsp;&nbsp;</span>Other motifs</a></span></li><li><span><a href=\"#New-C-term-motifs\" data-toc-modified-id=\"New-C-term-motifs-1.3\"><span class=\"toc-item-num\">1.3&nbsp;&nbsp;</span>New C-term motifs</a></span></li><li><span><a href=\"#Internal-motifs\" data-toc-modified-id=\"Internal-motifs-1.4\"><span class=\"toc-item-num\">1.4&nbsp;&nbsp;</span>Internal motifs</a></span><ul class=\"toc-item\"><li><span><a href=\"#Excursion-most-N-terminal-cysteine-positions-of-internally-prenylated-proteins\" data-toc-modified-id=\"Excursion-most-N-terminal-cysteine-positions-of-internally-prenylated-proteins-1.4.1\"><span class=\"toc-item-num\">1.4.1&nbsp;&nbsp;</span>Excursion most N-terminal cysteine positions of internally prenylated proteins</a></span></li></ul></li><li><span><a href=\"#Save-fasta-file-with-correct-actualized-isoforms-and-motif-information\" data-toc-modified-id=\"Save-fasta-file-with-correct-actualized-isoforms-and-motif-information-1.5\"><span class=\"toc-item-num\">1.5&nbsp;&nbsp;</span>Save fasta file with correct actualized isoforms and motif information</a></span></li><li><span><a href=\"#Add-new-motif-information-to-dfs-of-identified-proteins\" data-toc-modified-id=\"Add-new-motif-information-to-dfs-of-identified-proteins-1.6\"><span class=\"toc-item-num\">1.6&nbsp;&nbsp;</span>Add new motif information to dfs of identified proteins</a></span></li></ul></li></ul></div>"
   ]
  },
  {
   "cell_type": "code",
   "execution_count": 1,
   "id": "a98d7478",
   "metadata": {},
   "outputs": [],
   "source": [
    "import sys\n",
    "import os\n",
    "import session_info\n",
    "\n",
    "# Add the '0_functions' folder to sys.path\n",
    "sys.path.append(os.path.join(os.getcwd(), '..', '0_functions'))"
   ]
  },
  {
   "cell_type": "code",
   "execution_count": 2,
   "id": "cfe84f44",
   "metadata": {
    "ExecuteTime": {
     "end_time": "2024-10-29T16:42:45.006982Z",
     "start_time": "2024-10-29T16:42:43.043026Z"
    }
   },
   "outputs": [],
   "source": [
    "import pandas as pd\n",
    "import numpy as np\n",
    "import matplotlib.pyplot as plt\n",
    "from functions import read_fastafile\n",
    "from functions import pep_Cterm"
   ]
  },
  {
   "cell_type": "code",
   "execution_count": 3,
   "id": "05439ef9",
   "metadata": {
    "ExecuteTime": {
     "end_time": "2024-10-29T16:42:46.596901Z",
     "start_time": "2024-10-29T16:42:45.006982Z"
    }
   },
   "outputs": [
    {
     "data": {
      "text/html": [
       "<details>\n",
       "<summary>Click to view session information</summary>\n",
       "<pre>\n",
       "-----\n",
       "functions           NA\n",
       "matplotlib          3.7.0\n",
       "numpy               1.24.3\n",
       "pandas              2.0.3\n",
       "session_info        1.0.0\n",
       "-----\n",
       "</pre>\n",
       "<details>\n",
       "<summary>Click to view modules imported as dependencies</summary>\n",
       "<pre>\n",
       "Bio                         1.83\n",
       "PIL                         10.0.1\n",
       "anyio                       NA\n",
       "asttokens                   NA\n",
       "attr                        23.1.0\n",
       "attrs                       23.1.0\n",
       "babel                       2.11.0\n",
       "backcall                    0.2.0\n",
       "beta_ufunc                  NA\n",
       "binom_ufunc                 NA\n",
       "bottleneck                  1.3.7\n",
       "brotli                      NA\n",
       "certifi                     2024.08.30\n",
       "cffi                        1.16.0\n",
       "charset_normalizer          2.0.4\n",
       "colorama                    0.4.6\n",
       "comm                        0.1.2\n",
       "cycler                      0.10.0\n",
       "cython_runtime              NA\n",
       "dateutil                    2.8.2\n",
       "debugpy                     1.6.7\n",
       "decorator                   5.1.1\n",
       "defusedxml                  0.7.1\n",
       "executing                   0.8.3\n",
       "fastjsonschema              NA\n",
       "hypergeom_ufunc             NA\n",
       "idna                        3.4\n",
       "importlib_metadata          NA\n",
       "importlib_resources         NA\n",
       "invgauss_ufunc              NA\n",
       "ipykernel                   6.25.0\n",
       "ipython_genutils            0.2.0\n",
       "jedi                        0.18.1\n",
       "jinja2                      3.1.2\n",
       "json5                       NA\n",
       "jsonschema                  4.19.2\n",
       "jsonschema_specifications   NA\n",
       "jupyter_events              0.8.0\n",
       "jupyter_server              2.10.0\n",
       "jupyterlab_server           2.25.1\n",
       "kiwisolver                  1.4.4\n",
       "markupsafe                  2.1.1\n",
       "mkl                         2.4.0\n",
       "mpl_toolkits                NA\n",
       "nbformat                    5.9.2\n",
       "nbinom_ufunc                NA\n",
       "ncf_ufunc                   NA\n",
       "nct_ufunc                   NA\n",
       "ncx2_ufunc                  NA\n",
       "nt                          NA\n",
       "numexpr                     2.8.4\n",
       "overrides                   NA\n",
       "packaging                   23.1\n",
       "parso                       0.8.3\n",
       "pickleshare                 0.7.5\n",
       "pkg_resources               NA\n",
       "platformdirs                3.10.0\n",
       "prometheus_client           NA\n",
       "prompt_toolkit              3.0.36\n",
       "psutil                      5.9.0\n",
       "pure_eval                   0.2.2\n",
       "pydev_ipython               NA\n",
       "pydevconsole                NA\n",
       "pydevd                      2.9.5\n",
       "pydevd_file_utils           NA\n",
       "pydevd_plugins              NA\n",
       "pydevd_tracing              NA\n",
       "pygments                    2.11.2\n",
       "pyparsing                   3.0.9\n",
       "pythoncom                   NA\n",
       "pythonjsonlogger            NA\n",
       "pytz                        2023.3.post1\n",
       "pywintypes                  NA\n",
       "referencing                 NA\n",
       "requests                    2.31.0\n",
       "rfc3339_validator           0.1.4\n",
       "rfc3986_validator           0.1.1\n",
       "rpds                        NA\n",
       "scipy                       1.10.1\n",
       "send2trash                  NA\n",
       "six                         1.16.0\n",
       "skewnorm_ufunc              NA\n",
       "sniffio                     1.2.0\n",
       "socks                       1.7.1\n",
       "stack_data                  0.2.0\n",
       "tornado                     6.3.3\n",
       "traitlets                   5.7.1\n",
       "typing_extensions           NA\n",
       "urllib3                     1.26.18\n",
       "wcwidth                     0.2.5\n",
       "websocket                   0.58.0\n",
       "yaml                        6.0.1\n",
       "zipp                        NA\n",
       "zmq                         25.1.0\n",
       "</pre>\n",
       "</details> <!-- seems like this ends pre, so might as well be explicit -->\n",
       "<pre>\n",
       "-----\n",
       "IPython             8.12.2\n",
       "jupyter_client      8.6.0\n",
       "jupyter_core        5.2.0\n",
       "jupyterlab          3.6.3\n",
       "notebook            6.1.5\n",
       "-----\n",
       "Python 3.8.18 (default, Sep 11 2023, 13:47:48) [MSC v.1916 64 bit (AMD64)]\n",
       "Windows-10-10.0.19045-SP0\n",
       "-----\n",
       "Session information updated at 2025-01-08 21:05\n",
       "</pre>\n",
       "</details>"
      ],
      "text/plain": [
       "<IPython.core.display.HTML object>"
      ]
     },
     "execution_count": 3,
     "metadata": {},
     "output_type": "execute_result"
    }
   ],
   "source": [
    "# Display session information\n",
    "session_info.show()"
   ]
  },
  {
   "cell_type": "code",
   "execution_count": 4,
   "id": "1cba06b1",
   "metadata": {
    "ExecuteTime": {
     "end_time": "2024-10-29T16:42:46.612632Z",
     "start_time": "2024-10-29T16:42:46.596901Z"
    }
   },
   "outputs": [],
   "source": [
    "pd.set_option('display.max_colwidth', None)\n",
    "pd.set_option('display.max_columns', None)\n",
    "pd.set_option('display.max_rows', None)"
   ]
  },
  {
   "cell_type": "code",
   "execution_count": 5,
   "id": "538c8cd2",
   "metadata": {
    "ExecuteTime": {
     "end_time": "2024-10-29T16:42:46.660434Z",
     "start_time": "2024-10-29T16:42:46.614698Z"
    }
   },
   "outputs": [],
   "source": [
    "datafolder = 'data'\n",
    "known_proteins_datafolder = '../Known_prenylated_proteins/data'\n",
    "figures = 'data/figures'\n",
    "PSSMSearch = 'data/PssmSearch'"
   ]
  },
  {
   "cell_type": "code",
   "execution_count": 6,
   "id": "8abf0efb",
   "metadata": {
    "ExecuteTime": {
     "end_time": "2024-10-29T16:42:46.776845Z",
     "start_time": "2024-10-29T16:42:46.663326Z"
    }
   },
   "outputs": [],
   "source": [
    "# Load data\n",
    "\n",
    "# All identified prenylated proteins that contain a cysteine\n",
    "all_found = pd.read_csv(os.path.join(datafolder, 'identified_proteins', 'identified_all.csv'), sep=',')\n",
    "known_found = pd.read_csv(os.path.join(datafolder, 'identified_proteins', 'identified_known.csv'), sep=',')\n",
    "novel_found = pd.read_csv(os.path.join(datafolder, 'identified_proteins', 'identified_novel.csv'), sep=',')\n",
    "\n",
    "# clean FASTA file of all identified proteins\n",
    "fasta = pd.read_csv(os.path.join(datafolder, 'identified_proteins', 'clean_fasta_seqs_identified_prots.csv'), sep=',')\n",
    "\n",
    "# Master file\n",
    "master_df = pd.read_csv(os.path.join('..', 'master_df.csv'), sep=',')"
   ]
  },
  {
   "cell_type": "markdown",
   "id": "39485297",
   "metadata": {},
   "source": [
    "# Get all motifs"
   ]
  },
  {
   "cell_type": "markdown",
   "id": "1978d924",
   "metadata": {},
   "source": [
    "##### Identified prenylated proteins"
   ]
  },
  {
   "cell_type": "code",
   "execution_count": 7,
   "id": "5dd53bdc",
   "metadata": {
    "ExecuteTime": {
     "end_time": "2024-10-29T16:42:46.796842Z",
     "start_time": "2024-10-29T16:42:46.776845Z"
    }
   },
   "outputs": [
    {
     "name": "stdout",
     "output_type": "stream",
     "text": [
      "All identified: 636 , F only identified: 274 , GG only identified: 159 , F & GG identified: 203\n"
     ]
    }
   ],
   "source": [
    "F_found = all_found[all_found['Exp_moiety'] == 'S-farnesyl cysteine']\n",
    "GG_found = all_found[all_found['Exp_moiety'] == 'S-geranylgeranyl cysteine']\n",
    "F_GG_found = all_found[all_found['Exp_moiety'] == '[S-farnesyl cysteine, S-geranylgeranyl cysteine]']\n",
    "\n",
    "print('All identified:', len(all_found), ', F only identified:', len(F_found), ', GG only identified:', len(GG_found), ', F & GG identified:', len(F_GG_found))"
   ]
  },
  {
   "cell_type": "markdown",
   "id": "9330de56",
   "metadata": {},
   "source": [
    "##### Known identified prenylated proteins"
   ]
  },
  {
   "cell_type": "code",
   "execution_count": 8,
   "id": "2e9907d0",
   "metadata": {
    "ExecuteTime": {
     "end_time": "2024-10-29T16:42:46.811967Z",
     "start_time": "2024-10-29T16:42:46.797845Z"
    }
   },
   "outputs": [
    {
     "name": "stdout",
     "output_type": "stream",
     "text": [
      "All known identified: 78, F known identified: 40, GG known identified: 15, F & GG known identified: 23\n"
     ]
    }
   ],
   "source": [
    "known_F_found = F_found[F_found['ID'].isin(known_found['ID'])]\n",
    "known_GG_found = GG_found[GG_found['ID'].isin(known_found['ID'])]\n",
    "known_F_GG_found = F_GG_found[F_GG_found['ID'].isin(known_found['ID'])]\n",
    "\n",
    "print('All known identified: ', len(known_found), ', F known identified: ', len(known_F_found), ', GG known identified: ', \n",
    "      len(known_GG_found), ', F & GG known identified: ', len(known_F_GG_found), sep='')"
   ]
  },
  {
   "cell_type": "markdown",
   "id": "501628f0",
   "metadata": {},
   "source": [
    "##### Novel identified prenylated proteins"
   ]
  },
  {
   "cell_type": "code",
   "execution_count": 9,
   "id": "53c7a14b",
   "metadata": {
    "ExecuteTime": {
     "end_time": "2024-10-29T16:42:46.831681Z",
     "start_time": "2024-10-29T16:42:46.811967Z"
    }
   },
   "outputs": [
    {
     "name": "stdout",
     "output_type": "stream",
     "text": [
      "All novel identified: 558, F novel identified: 234, GG novel identified: 144, F & GG novel identified: 180\n"
     ]
    }
   ],
   "source": [
    "novel_F_found = F_found[F_found['ID'].isin(novel_found['ID'])]\n",
    "novel_GG_found = GG_found[GG_found['ID'].isin(novel_found['ID'])]\n",
    "novel_F_GG_found = F_GG_found[F_GG_found['ID'].isin(novel_found['ID'])]\n",
    "\n",
    "print('All novel identified: ', len(novel_found), ', F novel identified: ', len(novel_F_found), ', GG novel identified: ', \n",
    "      len(novel_GG_found), ', F & GG novel identified: ', len(novel_F_GG_found), sep='')"
   ]
  },
  {
   "cell_type": "markdown",
   "id": "4c930680",
   "metadata": {},
   "source": [
    "## Canonical motifs"
   ]
  },
  {
   "cell_type": "code",
   "execution_count": 10,
   "id": "ed053c47",
   "metadata": {
    "ExecuteTime": {
     "end_time": "2024-10-29T16:42:46.847086Z",
     "start_time": "2024-10-29T16:42:46.831681Z"
    }
   },
   "outputs": [],
   "source": [
    "# fasta contains the sequences of all identified proteins"
   ]
  },
  {
   "cell_type": "code",
   "execution_count": 11,
   "id": "67e1c468",
   "metadata": {
    "ExecuteTime": {
     "end_time": "2024-10-29T16:42:46.872008Z",
     "start_time": "2024-10-29T16:42:46.852755Z"
    }
   },
   "outputs": [
    {
     "data": {
      "text/html": [
       "<div>\n",
       "<style scoped>\n",
       "    .dataframe tbody tr th:only-of-type {\n",
       "        vertical-align: middle;\n",
       "    }\n",
       "\n",
       "    .dataframe tbody tr th {\n",
       "        vertical-align: top;\n",
       "    }\n",
       "\n",
       "    .dataframe thead th {\n",
       "        text-align: right;\n",
       "    }\n",
       "</style>\n",
       "<table border=\"1\" class=\"dataframe\">\n",
       "  <thead>\n",
       "    <tr style=\"text-align: right;\">\n",
       "      <th></th>\n",
       "      <th>ID</th>\n",
       "      <th>seqID</th>\n",
       "      <th>seq</th>\n",
       "      <th>len</th>\n",
       "    </tr>\n",
       "  </thead>\n",
       "  <tbody>\n",
       "    <tr>\n",
       "      <th>542</th>\n",
       "      <td>Q99733</td>\n",
       "      <td>sp|Q99733|NP1L4_HUMAN</td>\n",
       "      <td>MADHSFSDGVPSDSVEAAKNASNTEKLTDQVMQNPRVLAALQERLDNVPHTPSSYIETLPKAVKRRINALKQLQVRCAHIEAKFYEEVHDLERKYAALYQPLFDKRREFITGDVEPTDAESEWHSENEEEEKLAGDMKSKVVVTEKAAATAEEPDPKGIPEFWFTIFRNVDMLSELVQEYDEPILKHLQDIKVKFSDPGQPMSFVLEFHFEPNDYFTNSVLTKTYKMKSEPDKADPFSFEGPEIVDCDGCTIDWKKGKNVTVKTIKKKQKHKGRGTVRTITKQVPNESFFNFFNPLKASGDGESLDEDSEFTLASDFEIGHFFRERIVPRAVLYFTGEAIEDDDNFEEGEEGEEEELEGDEEGEDEDDAEINPKV</td>\n",
       "      <td>375</td>\n",
       "    </tr>\n",
       "  </tbody>\n",
       "</table>\n",
       "</div>"
      ],
      "text/plain": [
       "         ID                  seqID  \\\n",
       "542  Q99733  sp|Q99733|NP1L4_HUMAN   \n",
       "\n",
       "                                                                                                                                                                                                                                                                                                                                                                                         seq  \\\n",
       "542  MADHSFSDGVPSDSVEAAKNASNTEKLTDQVMQNPRVLAALQERLDNVPHTPSSYIETLPKAVKRRINALKQLQVRCAHIEAKFYEEVHDLERKYAALYQPLFDKRREFITGDVEPTDAESEWHSENEEEEKLAGDMKSKVVVTEKAAATAEEPDPKGIPEFWFTIFRNVDMLSELVQEYDEPILKHLQDIKVKFSDPGQPMSFVLEFHFEPNDYFTNSVLTKTYKMKSEPDKADPFSFEGPEIVDCDGCTIDWKKGKNVTVKTIKKKQKHKGRGTVRTITKQVPNESFFNFFNPLKASGDGESLDEDSEFTLASDFEIGHFFRERIVPRAVLYFTGEAIEDDDNFEEGEEGEEEELEGDEEGEDEDDAEINPKV   \n",
       "\n",
       "     len  \n",
       "542  375  "
      ]
     },
     "execution_count": 11,
     "metadata": {},
     "output_type": "execute_result"
    }
   ],
   "source": [
    "# change sequence isoform of NP1L4! Q99733-2 and PLAK2! Q9Y2D5-8 \n",
    "fasta[fasta['ID'] == 'Q99733']"
   ]
  },
  {
   "cell_type": "code",
   "execution_count": 12,
   "id": "11d0bd68",
   "metadata": {
    "ExecuteTime": {
     "end_time": "2024-10-29T16:42:46.891621Z",
     "start_time": "2024-10-29T16:42:46.872008Z"
    }
   },
   "outputs": [
    {
     "data": {
      "text/html": [
       "<div>\n",
       "<style scoped>\n",
       "    .dataframe tbody tr th:only-of-type {\n",
       "        vertical-align: middle;\n",
       "    }\n",
       "\n",
       "    .dataframe tbody tr th {\n",
       "        vertical-align: top;\n",
       "    }\n",
       "\n",
       "    .dataframe thead th {\n",
       "        text-align: right;\n",
       "    }\n",
       "</style>\n",
       "<table border=\"1\" class=\"dataframe\">\n",
       "  <thead>\n",
       "    <tr style=\"text-align: right;\">\n",
       "      <th></th>\n",
       "      <th>ID</th>\n",
       "      <th>seqID</th>\n",
       "      <th>seq</th>\n",
       "      <th>len</th>\n",
       "    </tr>\n",
       "  </thead>\n",
       "  <tbody>\n",
       "  </tbody>\n",
       "</table>\n",
       "</div>"
      ],
      "text/plain": [
       "Empty DataFrame\n",
       "Columns: [ID, seqID, seq, len]\n",
       "Index: []"
      ]
     },
     "execution_count": 12,
     "metadata": {},
     "output_type": "execute_result"
    }
   ],
   "source": [
    "fasta[fasta['ID'] == 'Q9Y2D5']"
   ]
  },
  {
   "cell_type": "code",
   "execution_count": 13,
   "id": "4b5e9bae",
   "metadata": {
    "ExecuteTime": {
     "end_time": "2024-10-29T16:42:46.911791Z",
     "start_time": "2024-10-29T16:42:46.894992Z"
    }
   },
   "outputs": [],
   "source": [
    "fasta.loc[542, 'seq'] = \"MADHSFSDGVPSDSVEAAKNASNTEKLTDQVMQNPRVLAALQERLDNVPHTPSSYIETLPKAVKRRINALKQLQVRCAHIEAKFYEEVHDLERKYAALYQPLFDKRREFITGDVEPTDAESEWHSENEEEEKLAGDMKSKVVVTEKAAATAEEPDPKGIPEFWFTIFRNVDMLSELVQEYDEPILKHLQDIKVKFSDPGQPMSFVLEFHFEPNDYFTNSVLTKTYKMKSEPDKADPFSFEGPEIVDCDGCTIDWKKGKNVTVKTIKKKQKHKGRGTVRTITKQVPNESFFNFFNPLKASGDGESLDEDSEFTLASDFEIGHFFRERIVPRAVLYFTGEAIEDDDNFEEGEEGEEEELEGDEEGEDEDDAEINPKKEPSQPAECKQQ\""
   ]
  },
  {
   "cell_type": "code",
   "execution_count": 14,
   "id": "5806ed2b",
   "metadata": {
    "ExecuteTime": {
     "end_time": "2024-10-29T16:42:46.926938Z",
     "start_time": "2024-10-29T16:42:46.911791Z"
    }
   },
   "outputs": [],
   "source": [
    "# Add number of cysteines found in whole sequence\n",
    "fasta['Ccount'] = fasta['seq'].str.count('C')"
   ]
  },
  {
   "cell_type": "code",
   "execution_count": 15,
   "id": "d6e9b60b",
   "metadata": {
    "ExecuteTime": {
     "end_time": "2024-10-29T16:42:46.946939Z",
     "start_time": "2024-10-29T16:42:46.930253Z"
    }
   },
   "outputs": [],
   "source": [
    "# Add position of the first C counting from the end of the sequence backwards\n",
    "fasta['Cpos'] = [-next((pos for pos, amino in enumerate(reversed(seq), 1) if amino == 'C'), 0) for seq in fasta['seq']]"
   ]
  },
  {
   "cell_type": "code",
   "execution_count": 16,
   "id": "02bfc14e",
   "metadata": {
    "ExecuteTime": {
     "end_time": "2024-10-29T16:42:46.966896Z",
     "start_time": "2024-10-29T16:42:46.946939Z"
    }
   },
   "outputs": [],
   "source": [
    "# Pipeline for detecting canonical motifs\n",
    "\n",
    "aliph_AA = ['A', 'G', 'V', 'I', 'L']\n",
    "\n",
    "motifs = {\n",
    "    \"CAAX\": lambda seq: seq[-4] == 'C' and seq[-3] in aliph_AA and seq[-2] in aliph_AA,\n",
    "    \"CXXX\": lambda seq: seq[-4] == 'C',\n",
    "    \"CCC\": lambda seq: seq.endswith('CCC'),\n",
    "    \"CXC\": lambda seq: seq[-3] == 'C' and seq[-1] == 'C',\n",
    "    \"CCX\": lambda seq: seq[-3] == 'C' and seq[-2] == 'C',\n",
    "    \"CC\": lambda seq: seq[-2] == 'C' and seq[-1] == 'C',\n",
    "    \"C\": lambda seq: seq[-1] == 'C'\n",
    "}"
   ]
  },
  {
   "cell_type": "code",
   "execution_count": 17,
   "id": "b615136b",
   "metadata": {
    "ExecuteTime": {
     "end_time": "2024-10-29T16:42:47.001901Z",
     "start_time": "2024-10-29T16:42:46.967598Z"
    }
   },
   "outputs": [
    {
     "name": "stdout",
     "output_type": "stream",
     "text": [
      "All identified: 636 \n",
      "\n",
      "CAAX:  \t30\t(606 remaining)\n",
      "CXXX:  \t46\t(560 remaining)\n",
      "CCC:  \t0\t(560 remaining)\n",
      "CXC:  \t13\t(547 remaining)\n",
      "CCX:  \t2\t(545 remaining)\n",
      "CC:  \t5\t(540 remaining)\n",
      "C:  \t8\t(532 remaining)\n",
      "\n",
      "Identified proteins with canonical motifs: 104\t(532 remaining)\n",
      "Check total: 636\n"
     ]
    }
   ],
   "source": [
    "print('All identified:', len(fasta), '\\n')\n",
    "\n",
    "# Iteratively filter for each motif\n",
    "for motif_name, condition in motifs.items():\n",
    "    motif_df = fasta[fasta['seq'].apply(condition)].reset_index(drop=True)\n",
    "\n",
    "    # annotate motif in df\n",
    "    motif_df['motif'] = f'{motif_name}'\n",
    "    \n",
    "    globals()[f'fasta_{motif_name}'] = motif_df # Create a new variable with the name based on the motif\n",
    "    \n",
    "    fasta = fasta[~fasta['ID'].isin(motif_df['ID'])]  # Remove identified sequences\n",
    "    print(f'{motif_name}:  \\t', len(motif_df), '\\t(', len(fasta), ' remaining)', sep='')\n",
    "\n",
    "# Recap\n",
    "fasta_canon = pd.concat([fasta_CAAX, fasta_CXXX, fasta_CXC, fasta_CCX, fasta_CC, fasta_C], ignore_index=True)\n",
    "print('\\nIdentified proteins with canonical motifs: ', len(fasta_canon), '\\t(', len(fasta), ' remaining)', sep='')\n",
    "print('Check total:', len(fasta_canon) + len(fasta))"
   ]
  },
  {
   "cell_type": "code",
   "execution_count": 18,
   "id": "a663d0a1",
   "metadata": {
    "ExecuteTime": {
     "end_time": "2024-10-29T16:42:47.021605Z",
     "start_time": "2024-10-29T16:42:47.001901Z"
    }
   },
   "outputs": [],
   "source": [
    "# find if other sequence isoforms of these 532 proteins might have a canonical motif"
   ]
  },
  {
   "cell_type": "code",
   "execution_count": 19,
   "id": "7c6d9eab",
   "metadata": {
    "ExecuteTime": {
     "end_time": "2024-10-29T16:42:47.036777Z",
     "start_time": "2024-10-29T16:42:47.021605Z"
    }
   },
   "outputs": [],
   "source": [
    "# check all isoforms of novel identified prenylated proteins\n",
    "# create uniprot sparql readable input \n",
    "up_input = ' '.join([s for s in fasta['ID']])"
   ]
  },
  {
   "cell_type": "code",
   "execution_count": 20,
   "id": "6d117b61",
   "metadata": {
    "ExecuteTime": {
     "end_time": "2024-10-29T16:42:47.106740Z",
     "start_time": "2024-10-29T16:42:47.039679Z"
    }
   },
   "outputs": [],
   "source": [
    "# FASTA file of all novel identified proteins, downloaded from uniprot \n",
    "fasta_iso = read_fastafile(os.path.join(datafolder, 'fasta_files', 'idmapping_2023_10_03_iso_novel.fasta'))"
   ]
  },
  {
   "cell_type": "code",
   "execution_count": 21,
   "id": "3d56902b",
   "metadata": {
    "ExecuteTime": {
     "end_time": "2024-10-29T16:42:47.127013Z",
     "start_time": "2024-10-29T16:42:47.106740Z"
    }
   },
   "outputs": [],
   "source": [
    "# Clean up the 'ID' column\n",
    "fasta_iso['ID'] = fasta_iso['ID'].str.split('-').str[0]"
   ]
  },
  {
   "cell_type": "code",
   "execution_count": 22,
   "id": "c384e37d",
   "metadata": {
    "ExecuteTime": {
     "end_time": "2024-10-29T16:42:47.146809Z",
     "start_time": "2024-10-29T16:42:47.127214Z"
    }
   },
   "outputs": [],
   "source": [
    "# Add number of cysteines found in whole sequence\n",
    "fasta_iso['Ccount'] = fasta_iso['seq'].str.count('C')"
   ]
  },
  {
   "cell_type": "code",
   "execution_count": 23,
   "id": "3e487212",
   "metadata": {
    "ExecuteTime": {
     "end_time": "2024-10-29T16:42:47.181849Z",
     "start_time": "2024-10-29T16:42:47.149381Z"
    }
   },
   "outputs": [],
   "source": [
    "# Add position of the first C counting from the end of the sequence backwards\n",
    "fasta_iso['Cpos'] = [-next((pos for pos, amino in enumerate(reversed(seq), 1) if amino == 'C'), 0) for seq in fasta_iso['seq']]"
   ]
  },
  {
   "cell_type": "code",
   "execution_count": 24,
   "id": "242823e4",
   "metadata": {
    "ExecuteTime": {
     "end_time": "2024-10-29T16:42:47.201615Z",
     "start_time": "2024-10-29T16:42:47.181849Z"
    }
   },
   "outputs": [
    {
     "data": {
      "text/plain": [
       "532"
      ]
     },
     "execution_count": 24,
     "metadata": {},
     "output_type": "execute_result"
    }
   ],
   "source": [
    "len(fasta_iso['ID'].unique())"
   ]
  },
  {
   "cell_type": "code",
   "execution_count": 25,
   "id": "5faa111a",
   "metadata": {
    "ExecuteTime": {
     "end_time": "2024-10-29T16:42:47.236999Z",
     "start_time": "2024-10-29T16:42:47.201615Z"
    }
   },
   "outputs": [
    {
     "name": "stdout",
     "output_type": "stream",
     "text": [
      "All remaining: 532 \n",
      "\n",
      "CAAX:  \t0\t(1182 remaining)\n",
      "CXXX:  \t8\t(1153 remaining)\n",
      "CCC:  \t1\t(1150 remaining)\n",
      "CXC:  \t0\t(1150 remaining)\n",
      "CCX:  \t0\t(1150 remaining)\n",
      "CC:  \t0\t(1150 remaining)\n",
      "C:  \t6\t(1136 remaining)\n",
      "\n",
      "Identified proteins with canonical motifs: 13\t(518 proteins remaining)\n",
      "Check total: 531\n"
     ]
    }
   ],
   "source": [
    "# repeat whole procedure for searching canonical motifs\n",
    "print('All remaining:', len(fasta_iso['ID'].unique()), '\\n')\n",
    "\n",
    "# Iteratively filter for each motif\n",
    "for motif_name, condition in motifs.items():\n",
    "    motif_df = fasta_iso[fasta_iso['seq'].apply(condition)].reset_index(drop=True)\n",
    "\n",
    "    # annotate motif in df\n",
    "    motif_df['motif'] = f'{motif_name}'\n",
    "    \n",
    "    globals()[f'fasta_iso_{motif_name}'] = motif_df # Create a new variable with the name based on the motif\n",
    "    \n",
    "    fasta_iso = fasta_iso[~fasta_iso['ID'].isin(motif_df['ID'])]  # Remove identified sequences\n",
    "    print(f'{motif_name}:  \\t', len(motif_df), '\\t(', len(fasta_iso), ' remaining)', sep='')\n",
    "    \n",
    "# Recap\n",
    "fasta_canon_iso = pd.concat([fasta_iso_CAAX, fasta_iso_CXXX, fasta_iso_CXC, fasta_iso_CCX, fasta_iso_CC, fasta_iso_C], ignore_index=True)\n",
    "print('\\nIdentified proteins with canonical motifs: ', len(fasta_canon_iso['ID'].unique()), '\\t(', len(fasta_iso['ID'].unique()), ' proteins remaining)', sep='')\n",
    "print('Check total:', len(fasta_canon_iso['ID'].unique()) + len(fasta_iso['ID'].unique()))"
   ]
  },
  {
   "cell_type": "code",
   "execution_count": 26,
   "id": "3d855113",
   "metadata": {
    "ExecuteTime": {
     "end_time": "2024-10-29T16:42:47.256701Z",
     "start_time": "2024-10-29T16:42:47.239549Z"
    }
   },
   "outputs": [],
   "source": [
    "# Manually re-add CCC internal to fasta_iso\n",
    "fasta_iso = pd.concat([fasta_iso, fasta_iso_CCC])"
   ]
  },
  {
   "cell_type": "code",
   "execution_count": 27,
   "id": "0d1beae5",
   "metadata": {
    "ExecuteTime": {
     "end_time": "2024-10-29T16:42:47.276663Z",
     "start_time": "2024-10-29T16:42:47.257499Z"
    }
   },
   "outputs": [
    {
     "data": {
      "text/html": [
       "<div>\n",
       "<style scoped>\n",
       "    .dataframe tbody tr th:only-of-type {\n",
       "        vertical-align: middle;\n",
       "    }\n",
       "\n",
       "    .dataframe tbody tr th {\n",
       "        vertical-align: top;\n",
       "    }\n",
       "\n",
       "    .dataframe thead th {\n",
       "        text-align: right;\n",
       "    }\n",
       "</style>\n",
       "<table border=\"1\" class=\"dataframe\">\n",
       "  <thead>\n",
       "    <tr style=\"text-align: right;\">\n",
       "      <th></th>\n",
       "      <th>ID</th>\n",
       "      <th>seqID</th>\n",
       "      <th>seq</th>\n",
       "      <th>len</th>\n",
       "      <th>Ccount</th>\n",
       "      <th>Cpos</th>\n",
       "      <th>motif</th>\n",
       "    </tr>\n",
       "  </thead>\n",
       "  <tbody>\n",
       "    <tr>\n",
       "      <th>0</th>\n",
       "      <td>O15400</td>\n",
       "      <td>sp|O15400-2|STX7_HUMAN</td>\n",
       "      <td>MSYTPGVGGDPAQLAQRISSNIQKITQCSVEIQRTLNQLGTPQDSPELRQQLQQKQQYTNQLAKETDKYIKEFGSLPTTPSEQRQRKIQKDRLVAEFTTSLTNFQKVQRQAAEREKEFVARVRASSRVSGSFPEDSSKERNLVSWESQTQPQVQVQDEEITEDDLRLIHERESSIRQLEADIMDINEIFKDLGMMIHEQGDVIDSIEANVENAEVHVQQANQQLSRAADYQKKDSCMLM</td>\n",
       "      <td>239</td>\n",
       "      <td>2</td>\n",
       "      <td>-4</td>\n",
       "      <td>CXXX</td>\n",
       "    </tr>\n",
       "    <tr>\n",
       "      <th>1</th>\n",
       "      <td>P16298</td>\n",
       "      <td>sp|P16298-2|PP2BB_HUMAN</td>\n",
       "      <td>MAAPEPARAAPPPPPPPPPPPGADRVVKAVPFPPTHRLTSEEVFDLDGIPRVDVLKNHLVKEGRVDEEIALRIINEGAAILRREKTMIEVEAPITVCGDIHGQFFDLMKLFEVGGSPANTRYLFLGDYVDRGYFSIEHVLGTEDISINPHNNINECVLYLWVLKILYPSTLFLLRGNHECRHLTEYFTFKQECKIKYSERVYEACMEAFDSLPLAALLNQQFLCVHGGLSPEIHTLDDIRRLDRFKEPPAFGPMCDLLWSDPSEDFGNEKSQEHFSHNTVRGCSYFYNYPAVCEFLQNNNLLSIIRAHEAQDAGYRMYRKSQTTGFPSLITIFSAPNYLDVYNNKAAVLKYENNVMNIRQFNCSPHPYWLPNFMDVFTWSLPFVGEKVTEMLVNVLSICSDDELMTEGEDQFDGSAAARKEIIRNKIRAIGKMARVFSVLREESESVLTLKGLTPTGMLPSGVLAGGRQTLQSGNDVMQLAVPQMDWGTPHSFANNSHNACREFLLFFSSCLSS</td>\n",
       "      <td>514</td>\n",
       "      <td>13</td>\n",
       "      <td>-4</td>\n",
       "      <td>CXXX</td>\n",
       "    </tr>\n",
       "    <tr>\n",
       "      <th>2</th>\n",
       "      <td>P28907</td>\n",
       "      <td>sp|P28907-2|CD38_HUMAN</td>\n",
       "      <td>MANCEFSPVSGDKPCCRLSRRAQLCLGVSILVLILVVVLAVVVPRWRQQWSGPGTTKRFPETVLARCVKYTEIHPEMRHVDCQSVWDAFKGAFISKHPCNITEEDYQPLMKLGTQTVPCNKK</td>\n",
       "      <td>122</td>\n",
       "      <td>8</td>\n",
       "      <td>-4</td>\n",
       "      <td>CXXX</td>\n",
       "    </tr>\n",
       "    <tr>\n",
       "      <th>3</th>\n",
       "      <td>Q14697</td>\n",
       "      <td>sp|Q14697-3|GANAB_HUMAN</td>\n",
       "      <td>MAAVAAVAARRRRSWASLVLAFLGVCLGITLAVDRSNFKTCEESSFCKCCWC</td>\n",
       "      <td>52</td>\n",
       "      <td>6</td>\n",
       "      <td>-1</td>\n",
       "      <td>CXXX</td>\n",
       "    </tr>\n",
       "    <tr>\n",
       "      <th>4</th>\n",
       "      <td>Q5T9A4</td>\n",
       "      <td>sp|Q5T9A4-2|ATD3B_HUMAN</td>\n",
       "      <td>MCLCRPLLPQRAQYQDKLARQRYEDQLKQQQLLNEENLRKQEESVQKQEAMRRATVEREMELRHKNEMLRVETEARARAKAERENADIIREQIRLKASEHRQTVLESIRTAGTLFGEGFRAFVTDRDKVTATVNIFIKQGWQVAERQHVGASWSPRSCPCRLCTAL</td>\n",
       "      <td>166</td>\n",
       "      <td>5</td>\n",
       "      <td>-4</td>\n",
       "      <td>CXXX</td>\n",
       "    </tr>\n",
       "    <tr>\n",
       "      <th>5</th>\n",
       "      <td>Q7RTN6</td>\n",
       "      <td>sp|Q7RTN6-2|STRAA_HUMAN</td>\n",
       "      <td>MSFLTNDASSESIASFSKQEVMSSFLPEGGCYELLTVIGKGFEDLMTVNLARYKPTGEYVTVRRINLEACSNEMVTFLQGELHVSKLFNHPNIVPYRATFIADNELWVVTSFMAYGSAKDLICTHFMDGMNELAIAYILQGVLKALDYIHHMGYVHRSVKASHILISVDGKVYLSGLRSNLSMISHGQRQRVVHDFPKYSVKVLPWLSPEVLQQNLQGYDAKSDIYSVGITACELANGHVPFKDMPATQMLLEKLNGTVPCLLDTSTIPAEELTMSPSRSVANSGLSDSLTTSTPRPSNGDSPSHPYHRTFSPHFHHFVEQCLQRNPDARYPCWPGPGLRESRGCSGG</td>\n",
       "      <td>348</td>\n",
       "      <td>8</td>\n",
       "      <td>-4</td>\n",
       "      <td>CXXX</td>\n",
       "    </tr>\n",
       "    <tr>\n",
       "      <th>6</th>\n",
       "      <td>Q7Z434</td>\n",
       "      <td>sp|Q7Z434-3|MAVS_HUMAN</td>\n",
       "      <td>MPFAEDKTYKYICRNFSNFCNVDVVEILPYLPCLTARDQDRLRATCTLSGNRDTLWHLFNTLQLPTWAGEETPGGQSSGRGLDFSSLTSGAVWLWQMSDFWSCFSTWTVSIWLILHWVLLRLNLQVFAKCLAQSKWPLLLPSLSCPTW</td>\n",
       "      <td>148</td>\n",
       "      <td>7</td>\n",
       "      <td>-4</td>\n",
       "      <td>CXXX</td>\n",
       "    </tr>\n",
       "    <tr>\n",
       "      <th>7</th>\n",
       "      <td>Q9NQ55</td>\n",
       "      <td>sp|Q9NQ55-3|SSF1_HUMAN</td>\n",
       "      <td>MGQSGRSRHQKRARAQAQLRNLEAYAANPHSFVFTRGCTGRNIRQLSLDVRRVMEPLTASRLQVRKKNSLKDCVAVAGPLGVTHFLILSKTETNVYFKLMRLPGGPTLTFQVKKYSLVRDVVSSLRRHRMHEQQFAHPPLLVLNSFGPHGMHVKLMATMFQNLFPSINVHKVNLNTIKRCLLIDYNPDSQELDFRHYSIKVVPVGASRGMKKLLQEKFPNMSRLQDISELLATGAGLSESEAEPDGDHNITELPQAVAGRGNMRAQQSAVRLTEIGPRMTLQLIKVQEGVGEGKVMFHSFVSKTEEELQAILEAKEKKLRLKAQRQAQQAQNVQRKQEQREAHRKKSLEGMKKARVGGSDEEASGIPSRTASLELGEDDDEQEDDDIEYFCQAVGEAPSEDLFPEAKQKRLAKSPGRKRKRWEMDRGRGRLCDQKFPKTKDKSQGAQVPSPALPTSWQLPTTNSVGSRGTSCGPYWWLSSWWPWPAMAWPCTASASGSSAHGTPPWSSLSSWQSATCSAP</td>\n",
       "      <td>520</td>\n",
       "      <td>8</td>\n",
       "      <td>-4</td>\n",
       "      <td>CXXX</td>\n",
       "    </tr>\n",
       "    <tr>\n",
       "      <th>8</th>\n",
       "      <td>P53985</td>\n",
       "      <td>sp|P53985-2|MOT1_HUMAN</td>\n",
       "      <td>MPPAVGGPVGYTPPDGGWGWAVVIGAFISIGFSYAFPKSITVFFKEIEGIFHATTSEVSWISSIMLAVMYGGGPISSILVNKYGSRIVMIVGGCLSGCGLIAASFCNTVQQLYVCIGVIGGLGLAFNLNPALTMIGKYFYKRRPLANGLAMAGSPVFLCTLAPLNQVFFGIFGWRGSFLILGGLLLNCCVAGALMRPIGPKPTKAGKDKSKASLEKAGKSGVKKDLHDANTDLIGRHPKQEKRSVFQTINQFLDLTLFTHRGFLLYLSGNVIMFFGLFAPLVFLSSYGKSQHYSSEKSAFLLSILAFVDMVARPSMGLVANTKPIRPRIQYFFAASVVANGVCHMLAPLSTTYVGFCVYAGFFGFAFGWLSSVLFETLMDLVGPQRFSSAVGLVTIVECCPVLLGPPLLGIVYLPTNVGLLQNKHVRWEC</td>\n",
       "      <td>430</td>\n",
       "      <td>12</td>\n",
       "      <td>-1</td>\n",
       "      <td>C</td>\n",
       "    </tr>\n",
       "    <tr>\n",
       "      <th>9</th>\n",
       "      <td>Q13190</td>\n",
       "      <td>sp|Q13190-3|STX5_HUMAN</td>\n",
       "      <td>MSCRDRTQEFLSACKSLQTRQNGIQTNKPALRAVRQRSEFTLMAKRIGKDLSNTFAKLEKLTILAKRKSLFDDKAVEIEELTYIIKQDINSLNKQIAQLQDFVRAKGSQSGRHLQTHSNTIVVSLQSKLASMSNDFKSVLEVRTENLKQQRSRREQFSRAPVSALPLAPNHLGGGAVVLGAESHASKDVAIDMMDSRTSQQLQLIDEQDSYIQSRADTMQNIESTIVELGSIFQQLAHMVKEQEETIQSVLLFPLLPALSPGSTRTC</td>\n",
       "      <td>267</td>\n",
       "      <td>3</td>\n",
       "      <td>-1</td>\n",
       "      <td>C</td>\n",
       "    </tr>\n",
       "    <tr>\n",
       "      <th>10</th>\n",
       "      <td>Q13190</td>\n",
       "      <td>sp|Q13190-4|STX5_HUMAN</td>\n",
       "      <td>MIPRKRYGSKNTDQGVYLGLSKTQVLSPATAGSSSSDIAPLPPPVTLVPPPPDTMSCRDRTQEFLSACKSLQTRQNGIQTNKPALRAVRQRSEFTLMAKRIGKDLSNTFAKLEKLTILAKRKSLFDDKAVEIEELTYIIKQDINSLNKQIAQLQDFVRAKGSQSGRHLQTHSNTIVVSLQSKLASMSNDFKSVLEVRTENLKQQRSRREQFSRAPVSALPLAPNHLGGGAVVLGAESHASKDVAIDMMDSRTSQQLQLIDEQDSYIQSRADTMQNIESTIVELGSIFQQLAHMVKEQEETIQSVLLFPLLPALSPGSTRTC</td>\n",
       "      <td>321</td>\n",
       "      <td>3</td>\n",
       "      <td>-1</td>\n",
       "      <td>C</td>\n",
       "    </tr>\n",
       "    <tr>\n",
       "      <th>11</th>\n",
       "      <td>Q7Z4H7</td>\n",
       "      <td>sp|Q7Z4H7-2|HAUS6_HUMAN</td>\n",
       "      <td>MSSASVTAFEKEHLWMYLQALGFEPGPATIACGKIVSHTHLGVNMFDKLNRDAFHIISYFLFQVLDQSLTKEVFKFCWPPFDQKSDTEFRKHCCEWIKRISGECGSSFPQVVGSLFLSPGGPKFIHLMYHFARFVAMKYIKSNSKNSSHHFVETFNIKPQDLHKCIARCHFARSRFLQILQRQDCVTQKYQENAQLSVKQVRNLRSECIGLENQIKKMEPYDDHSNMEEKIQKVRSLWASVNETLMFLEKEREVVSSVLSLVNQYALDGTNVAINIPRLLLDKIEKQMFQLHIGNVYEAGKLNLLTVIQLLNEVLKVMKYERCQADQARLTVDLHYLEKETKFQKERLSDLKHMRYRIKDDLTTIRHSVVEKQGEWHKKWKEFLGLSPFSLIKGWTPSVDLLPPMSPLSFDPASEEVYAKSILCQYPASLPDAHKQHNQENGCRGDSDTLGALHDLANSPASFLSQSVSSSDRNSVTVLEKDTKMGTPKEKNEAISKKIPEFEVENSPLSDVAKNTESSAFGGSLPAKKSDPFQKEQDHLVEEVARAVLSDSPQLSEGKEIKLEELIDSLGSNPFLTRNQIPRTPENLSKLIMLSVTFFFHRHNHC</td>\n",
       "      <td>606</td>\n",
       "      <td>13</td>\n",
       "      <td>-1</td>\n",
       "      <td>C</td>\n",
       "    </tr>\n",
       "    <tr>\n",
       "      <th>12</th>\n",
       "      <td>Q8NBN3</td>\n",
       "      <td>sp|Q8NBN3-2|TM87A_HUMAN</td>\n",
       "      <td>MAAAAWLQVLPVILLLLGAHPSPLSFFSAGPATVAAADRSKWHIPIPSGKNYFSFGKILFRNTTIFLKFDGEPCDLSLNITWYLKSADCYNEIYNFKAEEVELYLEKLKEKRGLSGKYQTSSKLFQNCSELFKTQTFSGDFMHRLPLLGEKQEAKENGTNLTFIGDKTIQMPFLKKHFLDC</td>\n",
       "      <td>181</td>\n",
       "      <td>4</td>\n",
       "      <td>-1</td>\n",
       "      <td>C</td>\n",
       "    </tr>\n",
       "    <tr>\n",
       "      <th>13</th>\n",
       "      <td>Q99735</td>\n",
       "      <td>sp|Q99735-2|MGST2_HUMAN</td>\n",
       "      <td>MAGNSILLAAVSILSACQQSYFALQVGKARLKYKVTPPAVTGSPEFERVFRAHFCYLSGSGVHIWPSPILLGIFRSC</td>\n",
       "      <td>77</td>\n",
       "      <td>3</td>\n",
       "      <td>-1</td>\n",
       "      <td>C</td>\n",
       "    </tr>\n",
       "  </tbody>\n",
       "</table>\n",
       "</div>"
      ],
      "text/plain": [
       "        ID                    seqID  \\\n",
       "0   O15400   sp|O15400-2|STX7_HUMAN   \n",
       "1   P16298  sp|P16298-2|PP2BB_HUMAN   \n",
       "2   P28907   sp|P28907-2|CD38_HUMAN   \n",
       "3   Q14697  sp|Q14697-3|GANAB_HUMAN   \n",
       "4   Q5T9A4  sp|Q5T9A4-2|ATD3B_HUMAN   \n",
       "5   Q7RTN6  sp|Q7RTN6-2|STRAA_HUMAN   \n",
       "6   Q7Z434   sp|Q7Z434-3|MAVS_HUMAN   \n",
       "7   Q9NQ55   sp|Q9NQ55-3|SSF1_HUMAN   \n",
       "8   P53985   sp|P53985-2|MOT1_HUMAN   \n",
       "9   Q13190   sp|Q13190-3|STX5_HUMAN   \n",
       "10  Q13190   sp|Q13190-4|STX5_HUMAN   \n",
       "11  Q7Z4H7  sp|Q7Z4H7-2|HAUS6_HUMAN   \n",
       "12  Q8NBN3  sp|Q8NBN3-2|TM87A_HUMAN   \n",
       "13  Q99735  sp|Q99735-2|MGST2_HUMAN   \n",
       "\n",
       "                                                                                                                                                                                                                                                                                                                                                                                                                                                                                                                                                                                                                               seq  \\\n",
       "0                                                                                                                                                                                                                                                                                                                                                                                  MSYTPGVGGDPAQLAQRISSNIQKITQCSVEIQRTLNQLGTPQDSPELRQQLQQKQQYTNQLAKETDKYIKEFGSLPTTPSEQRQRKIQKDRLVAEFTTSLTNFQKVQRQAAEREKEFVARVRASSRVSGSFPEDSSKERNLVSWESQTQPQVQVQDEEITEDDLRLIHERESSIRQLEADIMDINEIFKDLGMMIHEQGDVIDSIEANVENAEVHVQQANQQLSRAADYQKKDSCMLM   \n",
       "1                                                                                               MAAPEPARAAPPPPPPPPPPPGADRVVKAVPFPPTHRLTSEEVFDLDGIPRVDVLKNHLVKEGRVDEEIALRIINEGAAILRREKTMIEVEAPITVCGDIHGQFFDLMKLFEVGGSPANTRYLFLGDYVDRGYFSIEHVLGTEDISINPHNNINECVLYLWVLKILYPSTLFLLRGNHECRHLTEYFTFKQECKIKYSERVYEACMEAFDSLPLAALLNQQFLCVHGGLSPEIHTLDDIRRLDRFKEPPAFGPMCDLLWSDPSEDFGNEKSQEHFSHNTVRGCSYFYNYPAVCEFLQNNNLLSIIRAHEAQDAGYRMYRKSQTTGFPSLITIFSAPNYLDVYNNKAAVLKYENNVMNIRQFNCSPHPYWLPNFMDVFTWSLPFVGEKVTEMLVNVLSICSDDELMTEGEDQFDGSAAARKEIIRNKIRAIGKMARVFSVLREESESVLTLKGLTPTGMLPSGVLAGGRQTLQSGNDVMQLAVPQMDWGTPHSFANNSHNACREFLLFFSSCLSS   \n",
       "2                                                                                                                                                                                                                                                                                                                                                                                                                                                                                                       MANCEFSPVSGDKPCCRLSRRAQLCLGVSILVLILVVVLAVVVPRWRQQWSGPGTTKRFPETVLARCVKYTEIHPEMRHVDCQSVWDAFKGAFISKHPCNITEEDYQPLMKLGTQTVPCNKK   \n",
       "3                                                                                                                                                                                                                                                                                                                                                                                                                                                                                                                                                                             MAAVAAVAARRRRSWASLVLAFLGVCLGITLAVDRSNFKTCEESSFCKCCWC   \n",
       "4                                                                                                                                                                                                                                                                                                                                                                                                                                                           MCLCRPLLPQRAQYQDKLARQRYEDQLKQQQLLNEENLRKQEESVQKQEAMRRATVEREMELRHKNEMLRVETEARARAKAERENADIIREQIRLKASEHRQTVLESIRTAGTLFGEGFRAFVTDRDKVTATVNIFIKQGWQVAERQHVGASWSPRSCPCRLCTAL   \n",
       "5                                                                                                                                                                                                                                                                     MSFLTNDASSESIASFSKQEVMSSFLPEGGCYELLTVIGKGFEDLMTVNLARYKPTGEYVTVRRINLEACSNEMVTFLQGELHVSKLFNHPNIVPYRATFIADNELWVVTSFMAYGSAKDLICTHFMDGMNELAIAYILQGVLKALDYIHHMGYVHRSVKASHILISVDGKVYLSGLRSNLSMISHGQRQRVVHDFPKYSVKVLPWLSPEVLQQNLQGYDAKSDIYSVGITACELANGHVPFKDMPATQMLLEKLNGTVPCLLDTSTIPAEELTMSPSRSVANSGLSDSLTTSTPRPSNGDSPSHPYHRTFSPHFHHFVEQCLQRNPDARYPCWPGPGLRESRGCSGG   \n",
       "6                                                                                                                                                                                                                                                                                                                                                                                                                                                                             MPFAEDKTYKYICRNFSNFCNVDVVEILPYLPCLTARDQDRLRATCTLSGNRDTLWHLFNTLQLPTWAGEETPGGQSSGRGLDFSSLTSGAVWLWQMSDFWSCFSTWTVSIWLILHWVLLRLNLQVFAKCLAQSKWPLLLPSLSCPTW   \n",
       "7                                                                                         MGQSGRSRHQKRARAQAQLRNLEAYAANPHSFVFTRGCTGRNIRQLSLDVRRVMEPLTASRLQVRKKNSLKDCVAVAGPLGVTHFLILSKTETNVYFKLMRLPGGPTLTFQVKKYSLVRDVVSSLRRHRMHEQQFAHPPLLVLNSFGPHGMHVKLMATMFQNLFPSINVHKVNLNTIKRCLLIDYNPDSQELDFRHYSIKVVPVGASRGMKKLLQEKFPNMSRLQDISELLATGAGLSESEAEPDGDHNITELPQAVAGRGNMRAQQSAVRLTEIGPRMTLQLIKVQEGVGEGKVMFHSFVSKTEEELQAILEAKEKKLRLKAQRQAQQAQNVQRKQEQREAHRKKSLEGMKKARVGGSDEEASGIPSRTASLELGEDDDEQEDDDIEYFCQAVGEAPSEDLFPEAKQKRLAKSPGRKRKRWEMDRGRGRLCDQKFPKTKDKSQGAQVPSPALPTSWQLPTTNSVGSRGTSCGPYWWLSSWWPWPAMAWPCTASASGSSAHGTPPWSSLSSWQSATCSAP   \n",
       "8                                                                                                                                                                                   MPPAVGGPVGYTPPDGGWGWAVVIGAFISIGFSYAFPKSITVFFKEIEGIFHATTSEVSWISSIMLAVMYGGGPISSILVNKYGSRIVMIVGGCLSGCGLIAASFCNTVQQLYVCIGVIGGLGLAFNLNPALTMIGKYFYKRRPLANGLAMAGSPVFLCTLAPLNQVFFGIFGWRGSFLILGGLLLNCCVAGALMRPIGPKPTKAGKDKSKASLEKAGKSGVKKDLHDANTDLIGRHPKQEKRSVFQTINQFLDLTLFTHRGFLLYLSGNVIMFFGLFAPLVFLSSYGKSQHYSSEKSAFLLSILAFVDMVARPSMGLVANTKPIRPRIQYFFAASVVANGVCHMLAPLSTTYVGFCVYAGFFGFAFGWLSSVLFETLMDLVGPQRFSSAVGLVTIVECCPVLLGPPLLGIVYLPTNVGLLQNKHVRWEC   \n",
       "9                                                                                                                                                                                                                                                                                                                                                      MSCRDRTQEFLSACKSLQTRQNGIQTNKPALRAVRQRSEFTLMAKRIGKDLSNTFAKLEKLTILAKRKSLFDDKAVEIEELTYIIKQDINSLNKQIAQLQDFVRAKGSQSGRHLQTHSNTIVVSLQSKLASMSNDFKSVLEVRTENLKQQRSRREQFSRAPVSALPLAPNHLGGGAVVLGAESHASKDVAIDMMDSRTSQQLQLIDEQDSYIQSRADTMQNIESTIVELGSIFQQLAHMVKEQEETIQSVLLFPLLPALSPGSTRTC   \n",
       "10                                                                                                                                                                                                                                                                                               MIPRKRYGSKNTDQGVYLGLSKTQVLSPATAGSSSSDIAPLPPPVTLVPPPPDTMSCRDRTQEFLSACKSLQTRQNGIQTNKPALRAVRQRSEFTLMAKRIGKDLSNTFAKLEKLTILAKRKSLFDDKAVEIEELTYIIKQDINSLNKQIAQLQDFVRAKGSQSGRHLQTHSNTIVVSLQSKLASMSNDFKSVLEVRTENLKQQRSRREQFSRAPVSALPLAPNHLGGGAVVLGAESHASKDVAIDMMDSRTSQQLQLIDEQDSYIQSRADTMQNIESTIVELGSIFQQLAHMVKEQEETIQSVLLFPLLPALSPGSTRTC   \n",
       "11  MSSASVTAFEKEHLWMYLQALGFEPGPATIACGKIVSHTHLGVNMFDKLNRDAFHIISYFLFQVLDQSLTKEVFKFCWPPFDQKSDTEFRKHCCEWIKRISGECGSSFPQVVGSLFLSPGGPKFIHLMYHFARFVAMKYIKSNSKNSSHHFVETFNIKPQDLHKCIARCHFARSRFLQILQRQDCVTQKYQENAQLSVKQVRNLRSECIGLENQIKKMEPYDDHSNMEEKIQKVRSLWASVNETLMFLEKEREVVSSVLSLVNQYALDGTNVAINIPRLLLDKIEKQMFQLHIGNVYEAGKLNLLTVIQLLNEVLKVMKYERCQADQARLTVDLHYLEKETKFQKERLSDLKHMRYRIKDDLTTIRHSVVEKQGEWHKKWKEFLGLSPFSLIKGWTPSVDLLPPMSPLSFDPASEEVYAKSILCQYPASLPDAHKQHNQENGCRGDSDTLGALHDLANSPASFLSQSVSSSDRNSVTVLEKDTKMGTPKEKNEAISKKIPEFEVENSPLSDVAKNTESSAFGGSLPAKKSDPFQKEQDHLVEEVARAVLSDSPQLSEGKEIKLEELIDSLGSNPFLTRNQIPRTPENLSKLIMLSVTFFFHRHNHC   \n",
       "12                                                                                                                                                                                                                                                                                                                                                                                                                                           MAAAAWLQVLPVILLLLGAHPSPLSFFSAGPATVAAADRSKWHIPIPSGKNYFSFGKILFRNTTIFLKFDGEPCDLSLNITWYLKSADCYNEIYNFKAEEVELYLEKLKEKRGLSGKYQTSSKLFQNCSELFKTQTFSGDFMHRLPLLGEKQEAKENGTNLTFIGDKTIQMPFLKKHFLDC   \n",
       "13                                                                                                                                                                                                                                                                                                                                                                                                                                                                                                                                                   MAGNSILLAAVSILSACQQSYFALQVGKARLKYKVTPPAVTGSPEFERVFRAHFCYLSGSGVHIWPSPILLGIFRSC   \n",
       "\n",
       "    len  Ccount  Cpos motif  \n",
       "0   239       2    -4  CXXX  \n",
       "1   514      13    -4  CXXX  \n",
       "2   122       8    -4  CXXX  \n",
       "3    52       6    -1  CXXX  \n",
       "4   166       5    -4  CXXX  \n",
       "5   348       8    -4  CXXX  \n",
       "6   148       7    -4  CXXX  \n",
       "7   520       8    -4  CXXX  \n",
       "8   430      12    -1     C  \n",
       "9   267       3    -1     C  \n",
       "10  321       3    -1     C  \n",
       "11  606      13    -1     C  \n",
       "12  181       4    -1     C  \n",
       "13   77       3    -1     C  "
      ]
     },
     "execution_count": 27,
     "metadata": {},
     "output_type": "execute_result"
    }
   ],
   "source": [
    "# found proteins that have a canonical motif in their isoform\n",
    "fasta_canon_iso"
   ]
  },
  {
   "cell_type": "code",
   "execution_count": 28,
   "id": "8fea5e3a",
   "metadata": {
    "ExecuteTime": {
     "end_time": "2024-10-29T16:42:47.291707Z",
     "start_time": "2024-10-29T16:42:47.276663Z"
    }
   },
   "outputs": [],
   "source": [
    "# for double entries, remove the isoform with less total cysteines\n",
    "fasta_canon_iso = fasta_canon_iso.drop([fasta_canon_iso.index[10]]).reset_index(drop=True)"
   ]
  },
  {
   "cell_type": "code",
   "execution_count": 29,
   "id": "bc6e4a08",
   "metadata": {
    "ExecuteTime": {
     "end_time": "2024-10-29T16:42:47.311625Z",
     "start_time": "2024-10-29T16:42:47.301534Z"
    }
   },
   "outputs": [
    {
     "name": "stdout",
     "output_type": "stream",
     "text": [
      "117 identified proteins with canonical motif, of which 13 are isoforms.\n"
     ]
    }
   ],
   "source": [
    "# Add these new found proteins with canonical motif to found_canon\n",
    "found_canon = pd.concat([fasta_canon, fasta_canon_iso], ignore_index=True).reset_index(drop=True)\n",
    "\n",
    "print(len(found_canon), 'identified proteins with canonical motif, of which', len(fasta_canon_iso), 'are isoforms.')"
   ]
  },
  {
   "cell_type": "code",
   "execution_count": 30,
   "id": "037c6282",
   "metadata": {
    "ExecuteTime": {
     "end_time": "2024-10-29T16:42:47.328270Z",
     "start_time": "2024-10-29T16:42:47.311625Z"
    }
   },
   "outputs": [],
   "source": [
    "# update fasta\n",
    "# remove all protein sequence forms\n",
    "fasta = fasta.loc[~fasta['ID'].isin(found_canon['ID'])]\n",
    "# re-add only the needed isoforms with canonical motif\n",
    "fasta = pd.concat([fasta, found_canon], ignore_index=True).reset_index(drop=True)"
   ]
  },
  {
   "cell_type": "code",
   "execution_count": 31,
   "id": "e18c760f",
   "metadata": {
    "ExecuteTime": {
     "end_time": "2024-10-29T16:42:48.396795Z",
     "start_time": "2024-10-29T16:42:47.331778Z"
    }
   },
   "outputs": [
    {
     "data": {
      "image/png": "[encoded data removed]",
      "text/plain": [
       "<Figure size 2000x600 with 1 Axes>"
      ]
     },
     "metadata": {},
     "output_type": "display_data"
    }
   ],
   "source": [
    "# Histogram of canonical motifs\n",
    "\n",
    "# position of the first C counting from the end of the sequence backwards\n",
    "# for the bar plots only\n",
    "pos = found_canon['Cpos']\n",
    "\n",
    "# Filter data within the range from -100 to -1\n",
    "filtered_data = [x for x in pos if -130 <= x <= -1]\n",
    "\n",
    "# Specify the desired bin edges\n",
    "bin_edges = list(range(-130, 1))\n",
    "\n",
    "# Set the figure size (adjust these values as needed)\n",
    "plt.figure(figsize=(20, 6))\n",
    "\n",
    "# Create a histogram with custom bin edges\n",
    "plt.hist(filtered_data, bins=bin_edges, edgecolor='black', align='left')\n",
    "plt.xlabel('Most C-terminal cysteine position')\n",
    "plt.ylabel('Protein count')\n",
    "plt.title(f'Identified proteins with canonical motif (N={len(pos)})')\n",
    "\n",
    "# Customize x-axis ticks and labels\n",
    "plt.xticks(range(-130, 0), rotation=90)\n",
    "\n",
    "# Set x-axis limits to match the data range\n",
    "plt.xlim(-131, -0)\n",
    "\n",
    "# Show the plot\n",
    "plt.show()"
   ]
  },
  {
   "cell_type": "markdown",
   "id": "d1ed3b94",
   "metadata": {},
   "source": [
    "## Other motifs"
   ]
  },
  {
   "cell_type": "code",
   "execution_count": 32,
   "id": "edcdb61d",
   "metadata": {
    "ExecuteTime": {
     "end_time": "2024-10-29T16:42:48.411962Z",
     "start_time": "2024-10-29T16:42:48.396795Z"
    }
   },
   "outputs": [
    {
     "name": "stdout",
     "output_type": "stream",
     "text": [
      "Found proteins with other motif: 519 proteins, 1137 sequences\n"
     ]
    }
   ],
   "source": [
    "# Continue with proteins that have no canonical motif in any sequence isoform\n",
    "print('Found proteins with other motif:', len(fasta_iso['ID'].unique()), 'proteins,', len(fasta_iso), 'sequences')"
   ]
  },
  {
   "cell_type": "code",
   "execution_count": 33,
   "id": "707872a6",
   "metadata": {
    "ExecuteTime": {
     "end_time": "2024-10-29T16:42:48.431845Z",
     "start_time": "2024-10-29T16:42:48.413704Z"
    }
   },
   "outputs": [],
   "source": [
    "# check in UniProt for chains that may end in a canonical motif, use only canonical sequences ID\n",
    "up_input = ' '.join(['uniprotkb:' + str(s) for s in fasta_iso['ID'].unique()])"
   ]
  },
  {
   "cell_type": "code",
   "execution_count": 34,
   "id": "fe388087",
   "metadata": {
    "ExecuteTime": {
     "end_time": "2024-10-29T16:42:48.471656Z",
     "start_time": "2024-10-29T16:42:48.431845Z"
    }
   },
   "outputs": [],
   "source": [
    "all_chains = pd.read_csv(os.path.join(datafolder, 'UniProt_SPARQL_queries', 'up_output_chains_03.10.23.csv'), sep=';')"
   ]
  },
  {
   "cell_type": "code",
   "execution_count": 35,
   "id": "9c0acaa4",
   "metadata": {
    "ExecuteTime": {
     "end_time": "2024-10-29T16:42:48.491934Z",
     "start_time": "2024-10-29T16:42:48.471656Z"
    }
   },
   "outputs": [],
   "source": [
    "# drop rows with NaN\n",
    "all_chains =  all_chains.dropna().reset_index(drop=True)"
   ]
  },
  {
   "cell_type": "code",
   "execution_count": 36,
   "id": "aeba59ef",
   "metadata": {
    "ExecuteTime": {
     "end_time": "2024-10-29T16:42:48.616884Z",
     "start_time": "2024-10-29T16:42:48.492210Z"
    }
   },
   "outputs": [
    {
     "name": "stderr",
     "output_type": "stream",
     "text": [
      "C:\\Users\\ale\\AppData\\Local\\Temp\\ipykernel_1548\\3009046649.py:30: SettingWithCopyWarning: \n",
      "A value is trying to be set on a copy of a slice from a DataFrame\n",
      "\n",
      "See the caveats in the documentation: https://pandas.pydata.org/pandas-docs/stable/user_guide/indexing.html#returning-a-view-versus-a-copy\n",
      "  all_chains[\"Cpos\"][i] = [all_chains['secondC'][i], all_chains['Cpos'][i]]\n"
     ]
    }
   ],
   "source": [
    "# repeat whole procedure for searching canonical motifs\n",
    "all_chains['Ccount'] = all_chains['seq'].str.count('C')\n",
    "\n",
    "# annotate the position of the first C counting from the end of the sequence backwards\n",
    "all_chains['Cpos'] = [-next((pos for pos, amino in enumerate(reversed(seq), 1) if amino == 'C'), 0) for seq in all_chains['seq']]\n",
    "\n",
    "# annotate the second C counting from the back of the fasta_found_new sequence\n",
    "count = 0\n",
    "secondC = []\n",
    "\n",
    "for i in range(len(all_chains)):\n",
    "    if all_chains['Ccount'][i] > 1:\n",
    "        for pos, amino in enumerate(reversed(all_chains['seq'][i])):\n",
    "            if amino == 'C':\n",
    "                count += 1\n",
    "            if count == 2:\n",
    "                secondC.append([i, -(pos+1)])\n",
    "                count = 0\n",
    "                break\n",
    "\n",
    "secondC = pd.DataFrame(secondC, columns=['idx','secondC']).set_index('idx')\n",
    "all_chains = all_chains.join(secondC)\n",
    "all_chains['secondC'] = all_chains['secondC'].astype('Int64')\n",
    "\n",
    "all_chains['Cpos'] = all_chains['Cpos'].astype(object)\n",
    "\n",
    "for i in all_chains.index.values:\n",
    "    if pd.isna(all_chains['secondC'][i]) == False:\n",
    "        if (all_chains['secondC'][i]) - (all_chains['Cpos'][i]) >= -2:\n",
    "            all_chains[\"Cpos\"][i] = [all_chains['secondC'][i], all_chains['Cpos'][i]]\n",
    "\n",
    "all_chains = all_chains.drop(columns=['secondC'])\n",
    "\n",
    "# add column with motif for motifs that correspond to the gold standard found in UniProt\n",
    "for i, pos in enumerate(all_chains['Cpos']):\n",
    "    if pos == [-3, -1]:\n",
    "        all_chains.at[i, 'motif'] = 'CXC'\n",
    "    if pos == [-2, -1]:\n",
    "        all_chains.at[i, 'motif'] = 'CC'\n",
    "    if pos == [-4, -3]:\n",
    "        all_chains.at[i, 'motif'] = 'CCXX'\n",
    "    if pos == [-5, -4]:\n",
    "        all_chains.at[i, 'motif'] = 'CCXXX'\n",
    "    if pos == [-3, -2]:\n",
    "        all_chains.at[i, 'motif'] = 'CCX'\n",
    "    else:\n",
    "        all_chains['motif'] = np.nan\n",
    "        \n",
    "# unpack Cs in close proximity and run search for -4 and -1. It doesn't matter if we have [-6, -4]. It still counts as canonical CXXX\n",
    "for i, row in all_chains.iterrows():\n",
    "    if pd.isna(row['motif']) and isinstance(row['Cpos'], list):\n",
    "        all_chains.at[i, 'Cpos'] = row['Cpos'][1]\n",
    "        \n",
    "# add column with motif for motifs that correspond to the gold standard found in UniProt\n",
    "for i, pos in enumerate(all_chains['Cpos']):\n",
    "    if pos == -4:\n",
    "        all_chains.at[i, 'motif'] = 'CXXX'\n",
    "    if pos == -1:\n",
    "        all_chains.at[i, 'motif'] = 'C'"
   ]
  },
  {
   "cell_type": "code",
   "execution_count": 37,
   "id": "9db81a56",
   "metadata": {
    "ExecuteTime": {
     "end_time": "2024-10-29T16:42:48.631971Z",
     "start_time": "2024-10-29T16:42:48.616884Z"
    }
   },
   "outputs": [
    {
     "data": {
      "text/html": [
       "<div>\n",
       "<style scoped>\n",
       "    .dataframe tbody tr th:only-of-type {\n",
       "        vertical-align: middle;\n",
       "    }\n",
       "\n",
       "    .dataframe tbody tr th {\n",
       "        vertical-align: top;\n",
       "    }\n",
       "\n",
       "    .dataframe thead th {\n",
       "        text-align: right;\n",
       "    }\n",
       "</style>\n",
       "<table border=\"1\" class=\"dataframe\">\n",
       "  <thead>\n",
       "    <tr style=\"text-align: right;\">\n",
       "      <th></th>\n",
       "      <th>ID</th>\n",
       "      <th>seq</th>\n",
       "      <th>Ccount</th>\n",
       "      <th>Cpos</th>\n",
       "      <th>motif</th>\n",
       "    </tr>\n",
       "  </thead>\n",
       "  <tbody>\n",
       "  </tbody>\n",
       "</table>\n",
       "</div>"
      ],
      "text/plain": [
       "Empty DataFrame\n",
       "Columns: [ID, seq, Ccount, Cpos, motif]\n",
       "Index: []"
      ]
     },
     "execution_count": 37,
     "metadata": {},
     "output_type": "execute_result"
    }
   ],
   "source": [
    "# canonical motif in any chain\n",
    "all_chains[~all_chains['motif'].isna()]"
   ]
  },
  {
   "cell_type": "code",
   "execution_count": 38,
   "id": "460e15b8",
   "metadata": {
    "ExecuteTime": {
     "end_time": "2024-10-29T16:42:48.651959Z",
     "start_time": "2024-10-29T16:42:48.632307Z"
    }
   },
   "outputs": [],
   "source": [
    "# back to the normal sequences"
   ]
  },
  {
   "cell_type": "code",
   "execution_count": 39,
   "id": "b09170b1",
   "metadata": {
    "ExecuteTime": {
     "end_time": "2024-10-29T16:42:48.667123Z",
     "start_time": "2024-10-29T16:42:48.651959Z"
    }
   },
   "outputs": [
    {
     "name": "stdout",
     "output_type": "stream",
     "text": [
      "Before removing doubles:  1137\n"
     ]
    }
   ],
   "source": [
    "print('Before removing doubles: ', len(fasta_iso))"
   ]
  },
  {
   "cell_type": "code",
   "execution_count": 40,
   "id": "918b360c",
   "metadata": {
    "ExecuteTime": {
     "end_time": "2024-10-29T16:42:48.686596Z",
     "start_time": "2024-10-29T16:42:48.668369Z"
    }
   },
   "outputs": [],
   "source": [
    "# proteins that have the same ID, pep, Ccount and Cpos are regarded as double, keep first one\n",
    "fasta_found_double = fasta_iso[fasta_iso.duplicated(subset=['ID', 'Ccount', 'Cpos'])]\n",
    "\n",
    "# -> remove them from fasta_found_iso\n",
    "# the first occurence is kept, the df contains only the doubles\n",
    "# merge and don't keep dublicates to remove them fro df\n",
    "fasta_iso = pd.concat([fasta_iso, fasta_found_double], ignore_index=True).drop_duplicates(keep=False).reset_index(drop=True)"
   ]
  },
  {
   "cell_type": "code",
   "execution_count": 41,
   "id": "aa2dadbc",
   "metadata": {
    "ExecuteTime": {
     "end_time": "2024-10-29T16:42:48.706752Z",
     "start_time": "2024-10-29T16:42:48.686596Z"
    }
   },
   "outputs": [
    {
     "name": "stdout",
     "output_type": "stream",
     "text": [
      "After removing doubles:  935\n"
     ]
    }
   ],
   "source": [
    "print('After removing doubles: ', len(fasta_iso))"
   ]
  },
  {
   "cell_type": "code",
   "execution_count": 42,
   "id": "5aacd207",
   "metadata": {
    "ExecuteTime": {
     "end_time": "2024-10-29T16:42:50.125924Z",
     "start_time": "2024-10-29T16:42:48.706752Z"
    }
   },
   "outputs": [
    {
     "data": {
      "image/png": "[encoded data removed]",
      "text/plain": [
       "<Figure size 2000x600 with 1 Axes>"
      ]
     },
     "metadata": {},
     "output_type": "display_data"
    }
   ],
   "source": [
    "# Histogram of most C-terminal cysteine positions, including all isoforms\n",
    "\n",
    "# Cpos is the most C-terminal cysteine\n",
    "pos = fasta_iso['Cpos'].tolist()\n",
    "\n",
    "# Filter data within the range from -100 to -1\n",
    "filtered_data = [x for x in pos if -130 <= x <= -1]\n",
    "\n",
    "# Specify the desired bin edges\n",
    "bin_edges = list(range(-130, 1))\n",
    "\n",
    "# Set the figure size (adjust these values as needed)\n",
    "plt.figure(figsize=(20, 6))\n",
    "\n",
    "# Create a histogram with custom bin edges\n",
    "plt.hist(filtered_data, bins=bin_edges, edgecolor='black', align='left')\n",
    "plt.xlabel('Most C-terminal cysteine position')\n",
    "plt.ylabel('Protein count')\n",
    "plt.title(f'Proteins without canonical motif: Including all isoforms (N={len(pos)})')\n",
    "\n",
    "# Customize x-axis ticks and labels\n",
    "plt.xticks(range(-130, 0), rotation=90)\n",
    "\n",
    "# Set x-axis limits to match the data range\n",
    "plt.xlim(-131, -0)\n",
    "plt.ylim(0, 30)\n",
    "\n",
    "# Show the plot\n",
    "plt.show()"
   ]
  },
  {
   "cell_type": "code",
   "execution_count": 43,
   "id": "1aa42746",
   "metadata": {
    "ExecuteTime": {
     "end_time": "2024-10-29T16:42:50.141535Z",
     "start_time": "2024-10-29T16:42:50.127516Z"
    }
   },
   "outputs": [
    {
     "name": "stdout",
     "output_type": "stream",
     "text": [
      "Found proteins no canonical motif, no alternative isoforms: 263\n",
      "Found proteins no canonical motif, multiple alternative isoforms: 256 proteins, 672 possible sequences\n"
     ]
    }
   ],
   "source": [
    "# occurences of sequences per protein ID\n",
    "v = fasta_iso.ID.value_counts()\n",
    "\n",
    "# proteins that don't have an isoform sequence alternative\n",
    "fasta_found_no_alternative = fasta_iso[~fasta_iso.ID.isin(v.index[v.gt(1)])].reset_index(drop=True)\n",
    "print('Found proteins no canonical motif, no alternative isoforms:', len(fasta_found_no_alternative))\n",
    "\n",
    "# proteins with more than one isoforms alternatives\n",
    "fasta_found_iso = fasta_iso[fasta_iso.ID.isin(v.index[v.gt(1)])].reset_index(drop=True)\n",
    "print('Found proteins no canonical motif, multiple alternative isoforms:', len(fasta_found_iso['ID'].unique()), 'proteins,', len(fasta_found_iso), 'possible sequences')"
   ]
  },
  {
   "cell_type": "code",
   "execution_count": 44,
   "id": "fdc3249d",
   "metadata": {
    "ExecuteTime": {
     "end_time": "2024-10-29T16:42:51.651526Z",
     "start_time": "2024-10-29T16:42:50.141535Z"
    }
   },
   "outputs": [
    {
     "data": {
      "image/png": "[encoded data removed]",
      "text/plain": [
       "<Figure size 2000x600 with 1 Axes>"
      ]
     },
     "metadata": {},
     "output_type": "display_data"
    }
   ],
   "source": [
    "# Histogram of one most C-terminal cysteine position per protein, no alternative, no doubles\n",
    "\n",
    "# Cpos is the most C-terminal cysteine\n",
    "pos = fasta_found_no_alternative['Cpos'].tolist()\n",
    "\n",
    "# Filter data within the range from -30 to -1\n",
    "filtered_data = [x for x in pos if -130 <= x <= -1]\n",
    "\n",
    "# Specify the desired bin edges\n",
    "bin_edges = list(range(-130, 1))\n",
    "\n",
    "# Set the figure size (adjust these values as needed)\n",
    "plt.figure(figsize=(20, 6))\n",
    "\n",
    "# Create a histogram with custom bin edges\n",
    "plt.hist(filtered_data, bins=bin_edges, edgecolor='black', align='left')\n",
    "plt.xlabel('most C-terminal cysteine position')\n",
    "plt.ylabel('protein count')\n",
    "plt.title(f'Proteins without canonical motif: no isoform alternative (N={len(pos)})')\n",
    "\n",
    "# Set custom x-tick values and labels\n",
    "plt.xticks(range(-130, 0))\n",
    "plt.xticks(rotation=90)\n",
    "\n",
    "# Set x-axis limits to match the data range\n",
    "plt.xlim(-131, -0)\n",
    "plt.ylim(0, 30)\n",
    "\n",
    "plt.show()"
   ]
  },
  {
   "cell_type": "code",
   "execution_count": 45,
   "id": "08782362",
   "metadata": {
    "ExecuteTime": {
     "end_time": "2024-10-29T16:42:53.304891Z",
     "start_time": "2024-10-29T16:42:51.651526Z"
    }
   },
   "outputs": [
    {
     "data": {
      "image/png": "[encoded data removed]",
      "text/plain": [
       "<Figure size 2000x600 with 1 Axes>"
      ]
     },
     "metadata": {},
     "output_type": "display_data"
    }
   ],
   "source": [
    "# Histogram of one most C-terminal cysteine position per protein, multiple alternatives only\n",
    "\n",
    "# Cpos is the most C-terminal cysteine\n",
    "pos = fasta_found_iso['Cpos'].tolist()\n",
    "\n",
    "# Filter data within the range from -30 to -1\n",
    "filtered_data = [x for x in pos if -130 <= x <= -1]\n",
    "\n",
    "# Specify the desired bin edges\n",
    "bin_edges = list(range(-130, 1))\n",
    "\n",
    "# Set the figure size (adjust these values as needed)\n",
    "plt.figure(figsize=(20, 6))\n",
    "\n",
    "# Create a histogram with custom bin edges\n",
    "plt.hist(filtered_data, bins=bin_edges, edgecolor='black', align='left')\n",
    "plt.xlabel('most C-terminal cysteine position')\n",
    "plt.ylabel('protein count')\n",
    "plt.title(f'Proteins without canonical motif: multiple alternatives only (N={len(pos)})')\n",
    "\n",
    "# Set custom x-tick values and labels\n",
    "plt.xticks(range(-130, 0))\n",
    "plt.xticks(rotation=90)\n",
    "\n",
    "# Set x-axis limits to match the data range\n",
    "plt.xlim(-131, 0)\n",
    "plt.ylim(0, 30)\n",
    "\n",
    "plt.show()"
   ]
  },
  {
   "cell_type": "markdown",
   "id": "77b46926",
   "metadata": {},
   "source": [
    "## New C-term motifs"
   ]
  },
  {
   "cell_type": "code",
   "execution_count": 46,
   "id": "b11a6058",
   "metadata": {
    "ExecuteTime": {
     "end_time": "2024-10-29T16:42:53.337048Z",
     "start_time": "2024-10-29T16:42:53.306928Z"
    }
   },
   "outputs": [
    {
     "data": {
      "text/html": [
       "<div>\n",
       "<style scoped>\n",
       "    .dataframe tbody tr th:only-of-type {\n",
       "        vertical-align: middle;\n",
       "    }\n",
       "\n",
       "    .dataframe tbody tr th {\n",
       "        vertical-align: top;\n",
       "    }\n",
       "\n",
       "    .dataframe thead th {\n",
       "        text-align: right;\n",
       "    }\n",
       "</style>\n",
       "<table border=\"1\" class=\"dataframe\">\n",
       "  <thead>\n",
       "    <tr style=\"text-align: right;\">\n",
       "      <th></th>\n",
       "      <th>ID</th>\n",
       "      <th>seqID</th>\n",
       "      <th>seq</th>\n",
       "      <th>len</th>\n",
       "      <th>Ccount</th>\n",
       "      <th>Cpos</th>\n",
       "      <th>motif</th>\n",
       "    </tr>\n",
       "  </thead>\n",
       "  <tbody>\n",
       "    <tr>\n",
       "      <th>934</th>\n",
       "      <td>Q8IZ83</td>\n",
       "      <td>sp|Q8IZ83-2|A16A1_HUMAN</td>\n",
       "      <td>MAATRAGPRAREIFTSLEYGPVPESHACALAWLDTQDRCLGHYVNGKWLKPEHRNSVPCQDPITGENLASCLQAQAEDVAAAVEAARMAFKGWSAHPGVVRAQHLTRLAEVIQKHQRLLWTLESLVTGRAVREVRDGDVQLAQQLLHYHAIQASTQEEALAGWEPMGVIGLILPPTFSFLEMMWRICPALAVGCTVVALVPPASPAPLLLAQLAGELGPFPGILNVLSGPASLVPILASQPGIRKVAFCGAPEVPSGQGSWRNAAGGRKAPPAAELGGVPRKGVPFDGAWRESVRSWAWRWGRSRCCC</td>\n",
       "      <td>308</td>\n",
       "      <td>10</td>\n",
       "      <td>-1</td>\n",
       "      <td>CCC</td>\n",
       "    </tr>\n",
       "  </tbody>\n",
       "</table>\n",
       "</div>"
      ],
      "text/plain": [
       "         ID                    seqID  \\\n",
       "934  Q8IZ83  sp|Q8IZ83-2|A16A1_HUMAN   \n",
       "\n",
       "                                                                                                                                                                                                                                                                                                                      seq  \\\n",
       "934  MAATRAGPRAREIFTSLEYGPVPESHACALAWLDTQDRCLGHYVNGKWLKPEHRNSVPCQDPITGENLASCLQAQAEDVAAAVEAARMAFKGWSAHPGVVRAQHLTRLAEVIQKHQRLLWTLESLVTGRAVREVRDGDVQLAQQLLHYHAIQASTQEEALAGWEPMGVIGLILPPTFSFLEMMWRICPALAVGCTVVALVPPASPAPLLLAQLAGELGPFPGILNVLSGPASLVPILASQPGIRKVAFCGAPEVPSGQGSWRNAAGGRKAPPAAELGGVPRKGVPFDGAWRESVRSWAWRWGRSRCCC   \n",
       "\n",
       "     len  Ccount  Cpos motif  \n",
       "934  308      10    -1   CCC  "
      ]
     },
     "execution_count": 46,
     "metadata": {},
     "output_type": "execute_result"
    }
   ],
   "source": [
    "# Previously found CCC\n",
    "fasta_iso[fasta_iso['motif'] == 'CCC']"
   ]
  },
  {
   "cell_type": "code",
   "execution_count": 47,
   "id": "0126e03c",
   "metadata": {
    "ExecuteTime": {
     "end_time": "2024-10-29T16:42:53.372108Z",
     "start_time": "2024-10-29T16:42:53.337048Z"
    }
   },
   "outputs": [],
   "source": [
    "# Out of all sequence forms choose those with new C-term\n",
    "found_newCterm = fasta_iso[fasta_iso['Cpos'].isin([-5, -3, -2])].reset_index(drop=True)"
   ]
  },
  {
   "cell_type": "code",
   "execution_count": 48,
   "id": "44a82066",
   "metadata": {
    "ExecuteTime": {
     "end_time": "2024-10-29T16:42:53.391791Z",
     "start_time": "2024-10-29T16:42:53.372108Z"
    }
   },
   "outputs": [
    {
     "name": "stdout",
     "output_type": "stream",
     "text": [
      "New C-term motif: 54 isoforms, 43 proteins\n"
     ]
    }
   ],
   "source": [
    "print('New C-term motif:', len(found_newCterm), 'isoforms,',  len(found_newCterm['ID'].unique()), 'proteins')"
   ]
  },
  {
   "cell_type": "code",
   "execution_count": 49,
   "id": "2a71f130",
   "metadata": {
    "ExecuteTime": {
     "end_time": "2024-10-29T16:42:53.442129Z",
     "start_time": "2024-10-29T16:42:53.426980Z"
    }
   },
   "outputs": [],
   "source": [
    "# keep canonical sequence, if present\n",
    "found_newCterm_no_iso = found_newCterm.loc[~found_newCterm['seqID'].str.contains('-')]\n",
    "\n",
    "# remove all entries that are not isoforms\n",
    "found_newCterm = found_newCterm[~found_newCterm['ID'].isin(found_newCterm_no_iso['ID'])]\n",
    "\n",
    "# re-add only canonical sequence form\n",
    "found_newCterm = pd.concat([found_newCterm, found_newCterm_no_iso], ignore_index=True).reset_index(drop=True)"
   ]
  },
  {
   "cell_type": "code",
   "execution_count": 50,
   "id": "45dfca36",
   "metadata": {
    "ExecuteTime": {
     "end_time": "2024-10-29T16:42:53.462110Z",
     "start_time": "2024-10-29T16:42:53.442129Z"
    }
   },
   "outputs": [
    {
     "name": "stdout",
     "output_type": "stream",
     "text": [
      "New C-term motif: 46 isoforms, 43 proteins\n"
     ]
    }
   ],
   "source": [
    "# Mismatch sequence number and protein ID number?\n",
    "print('New C-term motif:', len(found_newCterm), 'isoforms,',  len(found_newCterm['ID'].unique()), 'proteins')"
   ]
  },
  {
   "cell_type": "code",
   "execution_count": 51,
   "id": "dd74a74e",
   "metadata": {
    "ExecuteTime": {
     "end_time": "2024-10-29T16:42:53.481791Z",
     "start_time": "2024-10-29T16:42:53.462110Z"
    }
   },
   "outputs": [
    {
     "data": {
      "text/html": [
       "<div>\n",
       "<style scoped>\n",
       "    .dataframe tbody tr th:only-of-type {\n",
       "        vertical-align: middle;\n",
       "    }\n",
       "\n",
       "    .dataframe tbody tr th {\n",
       "        vertical-align: top;\n",
       "    }\n",
       "\n",
       "    .dataframe thead th {\n",
       "        text-align: right;\n",
       "    }\n",
       "</style>\n",
       "<table border=\"1\" class=\"dataframe\">\n",
       "  <thead>\n",
       "    <tr style=\"text-align: right;\">\n",
       "      <th></th>\n",
       "      <th>ID</th>\n",
       "      <th>seqID</th>\n",
       "      <th>seq</th>\n",
       "      <th>len</th>\n",
       "      <th>Ccount</th>\n",
       "      <th>Cpos</th>\n",
       "      <th>motif</th>\n",
       "    </tr>\n",
       "  </thead>\n",
       "  <tbody>\n",
       "    <tr>\n",
       "      <th>12</th>\n",
       "      <td>Q93038</td>\n",
       "      <td>sp|Q93038-12|TNR25_HUMAN</td>\n",
       "      <td>MEQRPRGCAAVAAALLLVLLGARAQGGTRSPRCDCAGDFHKKIGLFCCRGCPAGHYLKAPCTEPCGNSTCLVCPQDTFLAWENHHNSECARCQACDEQASQVALENCSAVADTRCGCKPGWFVECQVSQCVSSSPFYCQPCLDCGALHRHTRLLCSRRDTDCGTCLPGFYEHGDGCVSCPTPPPSLAGAPWGAVQSAVPLSVAGGRVGGVLGMRVGELGWTEGRRVRRGATTQHPPAAFSVLGPGAPGWPCGPPPAWGHPDLHIPPLLASQAPGYCR</td>\n",
       "      <td>277</td>\n",
       "      <td>28</td>\n",
       "      <td>-2</td>\n",
       "      <td>NaN</td>\n",
       "    </tr>\n",
       "    <tr>\n",
       "      <th>13</th>\n",
       "      <td>Q93038</td>\n",
       "      <td>sp|Q93038-4|TNR25_HUMAN</td>\n",
       "      <td>MEQRPRGCAAVAAALLLVLLGARAQGGTRSPRCDCAGDFHKKIGLFCCRGCPAGHYLKAPCTEPCGNSTCLVCPQDTFLAWENHHNSECARCQACDEQASQVALENCSAVADTRCGCKPGWFVECQVSQCVSSSPFYCQPCLDCGALHRHTRLLCSRRDTDCGTCLPGFYEHGDGCVSCPTSTLGSCPERCAAVCGWRQSRWCAGNARGRTGMDRGEAGEEGGNHPTPTSCFQCSGSRCSWLALWSPSCLGPP</td>\n",
       "      <td>253</td>\n",
       "      <td>34</td>\n",
       "      <td>-5</td>\n",
       "      <td>NaN</td>\n",
       "    </tr>\n",
       "    <tr>\n",
       "      <th>14</th>\n",
       "      <td>Q93038</td>\n",
       "      <td>sp|Q93038-5|TNR25_HUMAN</td>\n",
       "      <td>MEQRPRGCAAVAAALLLVLLGARAQGGTRSPRCDCAGDFHKKIGLFCCRGCPAGHYLKAPCTEPCGNSTCLVCPQDTFLAWENHHNSECARCQACDEQASQVALENCSAVADTRCGCKPGWFVECQVSQCVSSSPFYCQPCLDCGALHRHTRLLCSRRDTDCGTCLPGFYEHGDGCVSCPT</td>\n",
       "      <td>181</td>\n",
       "      <td>26</td>\n",
       "      <td>-3</td>\n",
       "      <td>NaN</td>\n",
       "    </tr>\n",
       "    <tr>\n",
       "      <th>15</th>\n",
       "      <td>Q93038</td>\n",
       "      <td>sp|Q93038-6|TNR25_HUMAN</td>\n",
       "      <td>MEQRPRGCAAVAAALLLVLLGARAQGGTRSPRCDCAGDFHKKIGLFCCRGCPAASQVALENCSAVADTRCGCKPGWFVECQVSQCVSSSPFYCQPCLDCGALHRHTRLLCSRRDTDCGTCLPGFYEHGDGCVSCPT</td>\n",
       "      <td>136</td>\n",
       "      <td>19</td>\n",
       "      <td>-3</td>\n",
       "      <td>NaN</td>\n",
       "    </tr>\n",
       "  </tbody>\n",
       "</table>\n",
       "</div>"
      ],
      "text/plain": [
       "        ID                     seqID  \\\n",
       "12  Q93038  sp|Q93038-12|TNR25_HUMAN   \n",
       "13  Q93038   sp|Q93038-4|TNR25_HUMAN   \n",
       "14  Q93038   sp|Q93038-5|TNR25_HUMAN   \n",
       "15  Q93038   sp|Q93038-6|TNR25_HUMAN   \n",
       "\n",
       "                                                                                                                                                                                                                                                                                      seq  \\\n",
       "12  MEQRPRGCAAVAAALLLVLLGARAQGGTRSPRCDCAGDFHKKIGLFCCRGCPAGHYLKAPCTEPCGNSTCLVCPQDTFLAWENHHNSECARCQACDEQASQVALENCSAVADTRCGCKPGWFVECQVSQCVSSSPFYCQPCLDCGALHRHTRLLCSRRDTDCGTCLPGFYEHGDGCVSCPTPPPSLAGAPWGAVQSAVPLSVAGGRVGGVLGMRVGELGWTEGRRVRRGATTQHPPAAFSVLGPGAPGWPCGPPPAWGHPDLHIPPLLASQAPGYCR   \n",
       "13                          MEQRPRGCAAVAAALLLVLLGARAQGGTRSPRCDCAGDFHKKIGLFCCRGCPAGHYLKAPCTEPCGNSTCLVCPQDTFLAWENHHNSECARCQACDEQASQVALENCSAVADTRCGCKPGWFVECQVSQCVSSSPFYCQPCLDCGALHRHTRLLCSRRDTDCGTCLPGFYEHGDGCVSCPTSTLGSCPERCAAVCGWRQSRWCAGNARGRTGMDRGEAGEEGGNHPTPTSCFQCSGSRCSWLALWSPSCLGPP   \n",
       "14                                                                                                  MEQRPRGCAAVAAALLLVLLGARAQGGTRSPRCDCAGDFHKKIGLFCCRGCPAGHYLKAPCTEPCGNSTCLVCPQDTFLAWENHHNSECARCQACDEQASQVALENCSAVADTRCGCKPGWFVECQVSQCVSSSPFYCQPCLDCGALHRHTRLLCSRRDTDCGTCLPGFYEHGDGCVSCPT   \n",
       "15                                                                                                                                               MEQRPRGCAAVAAALLLVLLGARAQGGTRSPRCDCAGDFHKKIGLFCCRGCPAASQVALENCSAVADTRCGCKPGWFVECQVSQCVSSSPFYCQPCLDCGALHRHTRLLCSRRDTDCGTCLPGFYEHGDGCVSCPT   \n",
       "\n",
       "    len  Ccount  Cpos motif  \n",
       "12  277      28    -2   NaN  \n",
       "13  253      34    -5   NaN  \n",
       "14  181      26    -3   NaN  \n",
       "15  136      19    -3   NaN  "
      ]
     },
     "execution_count": 51,
     "metadata": {},
     "output_type": "execute_result"
    }
   ],
   "source": [
    "# choose! can only keep one\n",
    "found_newCterm[found_newCterm['ID'].isin(['Q93038'])]"
   ]
  },
  {
   "cell_type": "code",
   "execution_count": 52,
   "id": "b34563ef",
   "metadata": {
    "ExecuteTime": {
     "end_time": "2024-10-29T16:42:53.501661Z",
     "start_time": "2024-10-29T16:42:53.483351Z"
    }
   },
   "outputs": [],
   "source": [
    "# keep isoform with most cysteines\n",
    "found_newCterm = found_newCterm.drop(index=[12, 14, 15]).reset_index(drop=True)"
   ]
  },
  {
   "cell_type": "code",
   "execution_count": 53,
   "id": "3eed2186",
   "metadata": {
    "ExecuteTime": {
     "end_time": "2024-10-29T16:42:53.516882Z",
     "start_time": "2024-10-29T16:42:53.501661Z"
    }
   },
   "outputs": [],
   "source": [
    "# add new C-term motif \n",
    "for i, pos in enumerate(found_newCterm['Cpos']):\n",
    "    if pos == -5:\n",
    "        found_newCterm.at[i, 'motif'] = 'CXXXX'\n",
    "    elif pos == -3:\n",
    "        found_newCterm.at[i, 'motif'] = 'CXX'\n",
    "    elif pos == -2:\n",
    "        found_newCterm.at[i, 'motif'] = 'CX'"
   ]
  },
  {
   "cell_type": "code",
   "execution_count": 54,
   "id": "2752a481",
   "metadata": {
    "ExecuteTime": {
     "end_time": "2024-10-29T16:42:53.537100Z",
     "start_time": "2024-10-29T16:42:53.517881Z"
    },
    "scrolled": true
   },
   "outputs": [
    {
     "name": "stdout",
     "output_type": "stream",
     "text": [
      "New C-term motif: 43 isoforms, 43 proteins\n"
     ]
    }
   ],
   "source": [
    "# Check\n",
    "print('New C-term motif:', len(found_newCterm), 'isoforms,',  len(found_newCterm['ID'].unique()), 'proteins')"
   ]
  },
  {
   "cell_type": "code",
   "execution_count": 55,
   "id": "e78f010b",
   "metadata": {
    "ExecuteTime": {
     "end_time": "2024-10-29T16:42:53.556762Z",
     "start_time": "2024-10-29T16:42:53.537100Z"
    }
   },
   "outputs": [],
   "source": [
    "# Add CCC protein\n",
    "found_newCterm = pd.concat([found_newCterm, fasta_iso[fasta_iso['motif'] == 'CCC']])"
   ]
  },
  {
   "cell_type": "code",
   "execution_count": 56,
   "id": "a36a8179",
   "metadata": {
    "ExecuteTime": {
     "end_time": "2024-10-29T16:42:53.581967Z",
     "start_time": "2024-10-29T16:42:53.562694Z"
    }
   },
   "outputs": [],
   "source": [
    "# clean up fasta_iso \n",
    "fasta_iso = fasta_iso[~fasta_iso['ID'].isin(found_newCterm['ID'])]"
   ]
  },
  {
   "cell_type": "code",
   "execution_count": 57,
   "id": "fd5aca5b",
   "metadata": {
    "ExecuteTime": {
     "end_time": "2024-10-29T16:42:53.601674Z",
     "start_time": "2024-10-29T16:42:53.581967Z"
    }
   },
   "outputs": [],
   "source": [
    "# Remember we had proteins that don't contain any cysteines in their canonical sequence\n",
    "fasta_iso = fasta_iso[fasta_iso['seq'].str.contains('C')]"
   ]
  },
  {
   "cell_type": "code",
   "execution_count": 58,
   "id": "7dab3fe0",
   "metadata": {
    "ExecuteTime": {
     "end_time": "2024-10-29T16:42:53.616841Z",
     "start_time": "2024-10-29T16:42:53.601674Z"
    }
   },
   "outputs": [],
   "source": [
    "# keep canonical sequence, if present\n",
    "fasta_iso_reduced = fasta_iso.loc[~fasta_iso['seqID'].str.contains('-')]\n",
    "\n",
    "# re-add the proteins without C in canonical sequence \n",
    "lost = fasta_iso[~fasta_iso.ID.isin(fasta_iso_reduced.ID)].reset_index(drop=True)\n",
    "\n",
    "found_internal = pd.concat([fasta_iso_reduced, lost]).reset_index(drop=True)"
   ]
  },
  {
   "cell_type": "code",
   "execution_count": 59,
   "id": "54a20d2a",
   "metadata": {
    "ExecuteTime": {
     "end_time": "2024-10-29T16:42:53.636881Z",
     "start_time": "2024-10-29T16:42:53.617954Z"
    }
   },
   "outputs": [
    {
     "data": {
      "text/plain": [
       "(475, 44)"
      ]
     },
     "execution_count": 59,
     "metadata": {},
     "output_type": "execute_result"
    }
   ],
   "source": [
    "len(found_internal), len(found_newCterm)"
   ]
  },
  {
   "cell_type": "code",
   "execution_count": 60,
   "id": "bb25a820",
   "metadata": {
    "ExecuteTime": {
     "end_time": "2024-10-29T16:42:53.651960Z",
     "start_time": "2024-10-29T16:42:53.636881Z"
    }
   },
   "outputs": [],
   "source": [
    "no_canon_motif = pd.concat([found_internal, found_newCterm])"
   ]
  },
  {
   "cell_type": "code",
   "execution_count": 61,
   "id": "13501aa6",
   "metadata": {
    "ExecuteTime": {
     "end_time": "2024-10-29T16:42:53.671696Z",
     "start_time": "2024-10-29T16:42:53.653928Z"
    }
   },
   "outputs": [
    {
     "data": {
      "text/plain": [
       "519"
      ]
     },
     "execution_count": 61,
     "metadata": {},
     "output_type": "execute_result"
    }
   ],
   "source": [
    "len(no_canon_motif)"
   ]
  },
  {
   "cell_type": "code",
   "execution_count": 62,
   "id": "f8af8adc",
   "metadata": {
    "ExecuteTime": {
     "end_time": "2024-10-29T16:42:54.756899Z",
     "start_time": "2024-10-29T16:42:53.671696Z"
    }
   },
   "outputs": [
    {
     "data": {
      "image/png": "[encoded data removed]",
      "text/plain": [
       "<Figure size 2000x600 with 1 Axes>"
      ]
     },
     "metadata": {},
     "output_type": "display_data"
    }
   ],
   "source": [
    "# Histogram of one most C-terminal cysteine position per protein, no alternatives + New C-terminal motifs\n",
    "\n",
    "# Cpos is the most C-terminal cysteine\n",
    "pos = no_canon_motif['Cpos'].tolist()\n",
    "\n",
    "# Filter data within the range from -30 to -1\n",
    "filtered_data = [x for x in pos if -130 <= x <= -1]\n",
    "\n",
    "# Specify the desired bin edges\n",
    "bin_edges = list(range(-130, 1))\n",
    "\n",
    "# Set the figure size (adjust these values as needed)\n",
    "plt.figure(figsize=(20, 6))\n",
    "\n",
    "# Create a histogram with custom bin edges\n",
    "plt.hist(filtered_data, bins=bin_edges, edgecolor='black', align='left')\n",
    "plt.xlabel('most C-terminal cysteine position')\n",
    "plt.ylabel('protein count')\n",
    "plt.title(f'Proteins without canonical motif: no alternatives, including new C-term proteins (N={len(pos)})')\n",
    "\n",
    "# Set custom x-tick values and labels\n",
    "plt.xticks(range(-130, 0))\n",
    "plt.xticks(rotation=90)\n",
    "\n",
    "# Set x-axis limits to match the data range\n",
    "plt.xlim(-131, 0)\n",
    "plt.ylim(0, 30)\n",
    "\n",
    "plt.show()"
   ]
  },
  {
   "cell_type": "markdown",
   "id": "a39ff43e",
   "metadata": {},
   "source": [
    "## Internal motifs"
   ]
  },
  {
   "cell_type": "code",
   "execution_count": 63,
   "id": "a0aff9a6",
   "metadata": {
    "ExecuteTime": {
     "end_time": "2024-10-29T16:42:54.776885Z",
     "start_time": "2024-10-29T16:42:54.756899Z"
    }
   },
   "outputs": [],
   "source": [
    "# Proteins with no canonical motif (found_canon) or new C-term motif (found_newCterm) in canonical sequence or isoform"
   ]
  },
  {
   "cell_type": "code",
   "execution_count": 64,
   "id": "a03cc670",
   "metadata": {
    "ExecuteTime": {
     "end_time": "2024-10-29T16:42:56.197139Z",
     "start_time": "2024-10-29T16:42:54.778343Z"
    }
   },
   "outputs": [
    {
     "data": {
      "image/png": "[encoded data removed]",
      "text/plain": [
       "<Figure size 2000x600 with 1 Axes>"
      ]
     },
     "metadata": {},
     "output_type": "display_data"
    }
   ],
   "source": [
    "# Histogram of one most C-terminal cysteine position per protein, no sequence alternative, only internal cysteines\n",
    "\n",
    "# Cpos is the most C-terminal cysteine\n",
    "pos = found_internal['Cpos'].tolist()\n",
    "\n",
    "# Filter data within the range from -30 to -1\n",
    "filtered_data = [x for x in pos if -130 <= x <= -1]\n",
    "\n",
    "# Specify the desired bin edges\n",
    "bin_edges = list(range(-130, 1))\n",
    "\n",
    "# Set the figure size (adjust these values as needed)\n",
    "plt.figure(figsize=(20, 6))\n",
    "\n",
    "# Create a histogram with custom bin edges\n",
    "plt.hist(filtered_data, bins=bin_edges, edgecolor='black', align='left')\n",
    "plt.xlabel('most C-terminal cysteine position')\n",
    "plt.ylabel('protein count')\n",
    "plt.title(f'Proteins without canonical motif: no isoform alternative, only internal cysteines (N={len(pos)})')\n",
    "\n",
    "# Set custom x-tick values and labels\n",
    "plt.xticks(range(-130, 0))\n",
    "plt.xticks(rotation=90)\n",
    "\n",
    "# Set x-axis limits to match the data range\n",
    "plt.xlim(-131, 0)\n",
    "plt.ylim(0, 30)\n",
    "\n",
    "plt.show()"
   ]
  },
  {
   "cell_type": "markdown",
   "id": "73585efa",
   "metadata": {},
   "source": [
    "### Excursion most N-terminal cysteine positions of internally prenylated proteins"
   ]
  },
  {
   "cell_type": "code",
   "execution_count": 65,
   "id": "6f0bf5f4",
   "metadata": {
    "ExecuteTime": {
     "end_time": "2024-10-29T16:42:56.212787Z",
     "start_time": "2024-10-29T16:42:56.198168Z"
    }
   },
   "outputs": [],
   "source": [
    "# get the position of the most N-terminal cysteine per protein\n",
    "found_internal['Npos'] = found_internal['seq'].apply(lambda x: int(x.find('C') + 1))"
   ]
  },
  {
   "cell_type": "code",
   "execution_count": 66,
   "id": "cf9c6545",
   "metadata": {
    "ExecuteTime": {
     "end_time": "2024-10-29T16:42:57.817204Z",
     "start_time": "2024-10-29T16:42:56.214782Z"
    }
   },
   "outputs": [
    {
     "data": {
      "image/png": "[encoded data removed]",
      "text/plain": [
       "<Figure size 2000x600 with 1 Axes>"
      ]
     },
     "metadata": {},
     "output_type": "display_data"
    }
   ],
   "source": [
    "# Histogram of one most N-terminal cysteine position per protein, internal\n",
    "\n",
    "pos = found_internal['Npos']\n",
    "\n",
    "# Filter data within the range from 0 to 130\n",
    "filtered_data = [x for x in pos if 0 <= x < 131]\n",
    "\n",
    "# Specify the desired bin edges\n",
    "bin_edges = list(range(1, 131))\n",
    "\n",
    "# Set the figure size (adjust these values as needed)\n",
    "plt.figure(figsize=(20, 6))\n",
    "\n",
    "# Create a histogram with custom bin edges\n",
    "plt.hist(filtered_data, bins=bin_edges, edgecolor='black', align='left')\n",
    "plt.xlabel('most N-terminal cysteine position')\n",
    "plt.ylabel('protein count')\n",
    "plt.title(f'Proteins without canonical motif: no isoform alternative (N={len(pos)})')\n",
    "\n",
    "# Set custom x-tick values and labels\n",
    "plt.xticks(range(1, 131))\n",
    "plt.xticks(rotation=90)\n",
    "\n",
    "# Set x-axis limits to match the data range\n",
    "plt.xlim(0, 131)\n",
    "plt.ylim(0, 30)\n",
    "\n",
    "plt.show()"
   ]
  },
  {
   "cell_type": "code",
   "execution_count": 67,
   "id": "02a7422d",
   "metadata": {
    "ExecuteTime": {
     "end_time": "2024-10-29T16:42:57.832552Z",
     "start_time": "2024-10-29T16:42:57.818434Z"
    }
   },
   "outputs": [],
   "source": [
    "# comparison with background"
   ]
  },
  {
   "cell_type": "markdown",
   "id": "973c8da6",
   "metadata": {},
   "source": [
    "## Save fasta file with correct actualized isoforms and motif information"
   ]
  },
  {
   "cell_type": "code",
   "execution_count": 68,
   "id": "f9b62f8e",
   "metadata": {
    "ExecuteTime": {
     "end_time": "2024-10-29T16:42:57.866960Z",
     "start_time": "2024-10-29T16:42:57.834839Z"
    }
   },
   "outputs": [
    {
     "name": "stdout",
     "output_type": "stream",
     "text": [
      "Canonical motif: 117 , New-C-terminal motif: 44 , Internal cysteines: 475\n",
      "Total: 636\n"
     ]
    }
   ],
   "source": [
    "# Recap\n",
    "print('Canonical motif:', len(found_canon), ', New-C-terminal motif:', len(found_newCterm), ', Internal cysteines:', len(found_internal))\n",
    "print('Total:', len(found_canon)+ len(found_newCterm)+ len(found_internal))"
   ]
  },
  {
   "cell_type": "code",
   "execution_count": 69,
   "id": "d21339c4",
   "metadata": {
    "ExecuteTime": {
     "end_time": "2024-10-29T16:42:57.882071Z",
     "start_time": "2024-10-29T16:42:57.866960Z"
    }
   },
   "outputs": [],
   "source": [
    "# drop now unnecessary N-pos column\n",
    "found_internal = found_internal.drop(columns=['Npos'])"
   ]
  },
  {
   "cell_type": "code",
   "execution_count": 70,
   "id": "9b874ce0",
   "metadata": {
    "ExecuteTime": {
     "end_time": "2024-10-29T16:42:57.901723Z",
     "start_time": "2024-10-29T16:42:57.882071Z"
    }
   },
   "outputs": [],
   "source": [
    "# add pep column for C-terminal peptides\n",
    "pep_Cterm(found_canon)\n",
    "pep_Cterm(found_newCterm)\n",
    "found_internal['pep'] = np.nan"
   ]
  },
  {
   "cell_type": "code",
   "execution_count": 71,
   "id": "c8f91d4e",
   "metadata": {
    "ExecuteTime": {
     "end_time": "2024-10-29T16:42:57.936827Z",
     "start_time": "2024-10-29T16:42:57.902356Z"
    }
   },
   "outputs": [],
   "source": [
    "# add name column from Uniprot info\n",
    "found_canon = found_canon.merge(all_found[['ID', 'name']], on='ID', how='left')\n",
    "found_newCterm = found_newCterm.merge(all_found[['ID', 'name']], on='ID', how='left')\n",
    "found_internal = found_internal.merge(all_found[['ID', 'name']], on='ID', how='left')"
   ]
  },
  {
   "cell_type": "code",
   "execution_count": 72,
   "id": "1e139c5b",
   "metadata": {
    "ExecuteTime": {
     "end_time": "2024-10-29T16:42:57.951892Z",
     "start_time": "2024-10-29T16:42:57.936827Z"
    }
   },
   "outputs": [],
   "source": [
    "# Reorder the columns to place 'name' as the second column\n",
    "columns_order = ['ID', 'name'] + [col for col in found_canon.columns if col not in ['ID', 'name']]\n",
    "\n",
    "found_canon = found_canon[columns_order]\n",
    "found_newCterm = found_newCterm[columns_order]\n",
    "found_internal = found_internal[columns_order]"
   ]
  },
  {
   "cell_type": "code",
   "execution_count": 73,
   "id": "c1fd800d",
   "metadata": {
    "ExecuteTime": {
     "end_time": "2024-10-29T16:42:57.976616Z",
     "start_time": "2024-10-29T16:42:57.951892Z"
    }
   },
   "outputs": [],
   "source": [
    "# merge all three gourps to one df\n",
    "fasta = pd.concat([found_canon, found_newCterm, found_internal], ignore_index=True)"
   ]
  },
  {
   "cell_type": "code",
   "execution_count": 74,
   "id": "118a33d9",
   "metadata": {
    "ExecuteTime": {
     "end_time": "2024-10-29T16:42:57.991939Z",
     "start_time": "2024-10-29T16:42:57.977358Z"
    }
   },
   "outputs": [],
   "source": [
    "# Update cysteine position to match motif\n",
    "fasta['Cpos'] = None\n",
    "\n",
    "for i, motif in enumerate(fasta['motif']):\n",
    "    \n",
    "    if motif == 'CAAX' or motif == 'CXXX':\n",
    "        fasta.at[i, 'Cpos'] = -4\n",
    "        \n",
    "    elif motif == 'CXC':\n",
    "        fasta.at[i, 'Cpos'] = [-3, -1]\n",
    "        \n",
    "    elif motif == 'CCX':\n",
    "        fasta.at[i, 'Cpos'] = [-3, -2]\n",
    "        \n",
    "    elif motif == 'CC':\n",
    "        fasta.at[i, 'Cpos'] = [-2, -1]\n",
    "        \n",
    "    elif motif == 'C':\n",
    "        fasta.at[i, 'Cpos'] = -1\n",
    "        \n",
    "    elif motif == 'CX':\n",
    "        fasta.at[i, 'Cpos'] = -2\n",
    "\n",
    "    elif motif == 'CXX':\n",
    "        fasta.at[i, 'Cpos'] = -3\n",
    "        \n",
    "    elif motif == 'CXXXX':\n",
    "        fasta.at[i, 'Cpos'] = -5\n",
    "\n",
    "    elif motif == 'CCC':\n",
    "        fasta.at[i, 'Cpos'] = [-3, -2, -1]"
   ]
  },
  {
   "cell_type": "code",
   "execution_count": 75,
   "id": "e3f15ba8",
   "metadata": {
    "ExecuteTime": {
     "end_time": "2024-10-29T16:42:58.016876Z",
     "start_time": "2024-10-29T16:42:57.991939Z"
    }
   },
   "outputs": [],
   "source": [
    "# save\n",
    "fasta.to_csv(os.path.join(datafolder, 'identified_proteins', 'final_fasta_seqs_identified_prots.csv'), sep=',', index=False)"
   ]
  },
  {
   "cell_type": "code",
   "execution_count": 76,
   "id": "626c68fe",
   "metadata": {
    "ExecuteTime": {
     "end_time": "2024-10-29T16:42:58.187040Z",
     "start_time": "2024-10-29T16:42:58.016876Z"
    }
   },
   "outputs": [
    {
     "data": {
      "text/plain": [
       "Index(['ID', 'name', 'seqID', 'seq', 'len', 'Ccount', 'Cpos', 'motif', 'pep'], dtype='object')"
      ]
     },
     "execution_count": 76,
     "metadata": {},
     "output_type": "execute_result"
    }
   ],
   "source": [
    "fasta.columns"
   ]
  },
  {
   "cell_type": "markdown",
   "id": "497f4551",
   "metadata": {},
   "source": [
    "## Update master file"
   ]
  },
  {
   "cell_type": "code",
   "execution_count": 77,
   "id": "3cdbb1ee",
   "metadata": {},
   "outputs": [],
   "source": [
    "# Add all motifs \n",
    "master_df['Motif'] = None  # Initialize the new column\n",
    "\n",
    "# Assign values based on membership in each found DataFrame\n",
    "master_df.loc[master_df['Protein_ID'].isin(found_canon['ID']), 'Motif'] = 0\n",
    "master_df.loc[master_df['Protein_ID'].isin(found_newCterm['ID']), 'Motif'] = 1\n",
    "master_df.loc[master_df['Protein_ID'].isin(found_internal['ID']), 'Motif'] = 2"
   ]
  },
  {
   "cell_type": "code",
   "execution_count": 78,
   "id": "6debebfa",
   "metadata": {},
   "outputs": [],
   "source": [
    "# Add motif column with cysteine position\n",
    "\n",
    "# Define motifs for Known and New\n",
    "known_motifs = [\"CAAX\", \"CXXX\", \"CXC\", \"CCX\", \"CC\", \"C\"]\n",
    "new_motifs = [\"CXXXX\", \"CXX\", \"CX\", \"CCC\"]\n",
    "\n",
    "# Initialize Known Motif columns\n",
    "for motif in known_motifs:\n",
    "    master_df[f\"Known_Motif_{motif}\"] = np.nan\n",
    "\n",
    "# Initialize New Motif columns\n",
    "for motif in new_motifs:\n",
    "    master_df[f\"New_Motif_{motif}\"] = np.nan\n",
    "    \n",
    "# Create a lookup dictionary from fasta\n",
    "fasta_dict = fasta.set_index('ID')[['motif', 'Cpos']].to_dict('index')\n",
    "\n",
    "# Populate Known and New Motif columns dynamically\n",
    "for motif in known_motifs + new_motifs:\n",
    "    if motif in known_motifs:\n",
    "        column_name = f\"Known_Motif_{motif}\"\n",
    "    elif motif in new_motifs:\n",
    "        column_name = f\"New_Motif_{motif}\"\n",
    "    \n",
    "    # Populate the column\n",
    "    master_df[column_name] = master_df['Protein_ID'].apply(\n",
    "        lambda pid: fasta_dict[pid]['Cpos'] if pid in fasta_dict and fasta_dict[pid]['motif'] == motif else np.nan\n",
    "    )"
   ]
  },
  {
   "cell_type": "code",
   "execution_count": 79,
   "id": "49f6c653",
   "metadata": {},
   "outputs": [],
   "source": [
    "# Update information on sequence isoforms\n",
    "\n",
    "# Create a dictionary to map Protein_ID to seqID\n",
    "id_to_pattern = dict(zip(fasta[\"ID\"], fasta[\"seqID\"]))\n",
    "\n",
    "# Map Protein_ID to seqID in master_df and extract the pattern\n",
    "master_df[\"non_canonical_isoform\"] = master_df[\"Protein_ID\"].map(id_to_pattern).str.extract(r'-(\\d+)\\|')"
   ]
  },
  {
   "cell_type": "code",
   "execution_count": 80,
   "id": "9a9150f8",
   "metadata": {},
   "outputs": [],
   "source": [
    "# Save in general folder\n",
    "master_df.to_csv(os.path.join('..', 'master_df.csv'), sep=',', index=False)"
   ]
  },
  {
   "cell_type": "markdown",
   "id": "3d455f72",
   "metadata": {},
   "source": [
    "## Add new motif information to dfs of identified proteins"
   ]
  },
  {
   "cell_type": "code",
   "execution_count": 81,
   "id": "2c50caf0",
   "metadata": {},
   "outputs": [],
   "source": [
    "# Replace 'motif' values in 'all_found' with values from 'fasta' based on matching 'ID'\n",
    "all_found['motif'] = all_found['ID'].map(fasta.set_index('ID')['motif'])\n",
    "novel_found['motif'] = novel_found['ID'].map(fasta.set_index('ID')['motif'])\n",
    "\n",
    "# Replace NaN values in 'motif' column with 'internal'\n",
    "all_found['motif'] = all_found['motif'].fillna('internal')\n",
    "novel_found['motif'] = novel_found['motif'].fillna('internal')\n",
    "\n",
    "# save\n",
    "all_found.to_csv(os.path.join(datafolder, 'identified_proteins', 'identified_all_motif.csv'), sep=',', index=False)\n",
    "novel_found.to_csv(os.path.join(datafolder, 'identified_proteins', 'identified_novel_motif.csv'), sep=',', index=False)"
   ]
  },
  {
   "cell_type": "code",
   "execution_count": 82,
   "id": "51cb71be",
   "metadata": {
    "ExecuteTime": {
     "end_time": "2024-10-29T16:42:58.261586Z",
     "start_time": "2024-10-29T16:42:58.228544Z"
    }
   },
   "outputs": [],
   "source": [
    "# create identified F, GG, F & GG\n",
    "identified_F = all_found[all_found['Exp_moiety'] == 'S-farnesyl cysteine']\n",
    "identified_GG = all_found[all_found['Exp_moiety'] == 'S-geranylgeranyl cysteine']\n",
    "identified_F_GG = all_found[all_found['Exp_moiety'] == '[S-farnesyl cysteine, S-geranylgeranyl cysteine]']\n",
    "\n",
    "# save\n",
    "identified_F.to_csv(os.path.join(datafolder, 'identified_proteins', 'identified_F.csv'), sep=',', index=False)\n",
    "identified_GG.to_csv(os.path.join(datafolder, 'identified_proteins', 'identified_GG.csv'), sep=',', index=False)\n",
    "identified_F_GG.to_csv(os.path.join(datafolder, 'identified_proteins', 'identified_F_GG.csv'), sep=',', index=False)"
   ]
  },
  {
   "cell_type": "code",
   "execution_count": null,
   "id": "cc1e6c35",
   "metadata": {},
   "outputs": [],
   "source": []
  }
 ],
 "metadata": {
  "kernelspec": {
   "display_name": "Python 3 (ipykernel)",
   "language": "python",
   "name": "python3"
  },
  "language_info": {
   "codemirror_mode": {
    "name": "ipython",
    "version": 3
   },
   "file_extension": ".py",
   "mimetype": "text/x-python",
   "name": "python",
   "nbconvert_exporter": "python",
   "pygments_lexer": "ipython3",
   "version": "3.8.18"
  },
  "toc": {
   "base_numbering": 1,
   "nav_menu": {
    "height": "239px",
    "width": "368px"
   },
   "number_sections": true,
   "sideBar": true,
   "skip_h1_title": false,
   "title_cell": "Table of Contents",
   "title_sidebar": "Contents",
   "toc_cell": true,
   "toc_position": {
    "height": "628.45px",
    "left": "10px",
    "top": "150px",
    "width": "304.033px"
   },
   "toc_section_display": true,
   "toc_window_display": false
  }
 },
 "nbformat": 4,
 "nbformat_minor": 5
}
