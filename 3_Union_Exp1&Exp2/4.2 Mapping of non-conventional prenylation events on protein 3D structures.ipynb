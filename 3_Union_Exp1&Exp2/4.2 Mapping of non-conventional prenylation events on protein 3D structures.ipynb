{
 "cells": [
  {
   "cell_type": "markdown",
   "metadata": {
    "toc": true
   },
   "source": [
    "<h1>Table of Contents<span class=\"tocSkip\"></span></h1>\n",
    "<div class=\"toc\"><ul class=\"toc-item\"><li><span><a href=\"#What-are-the-probable-sites-of-prenyl-attachment-of-non-conventional-protein-prenylation-events?\" data-toc-modified-id=\"What-are-the-probable-sites-of-prenyl-attachment-of-non-conventional-protein-prenylation-events?-1\"><span class=\"toc-item-num\">1&nbsp;&nbsp;</span>What are the probable sites of prenyl attachment of non-conventional protein prenylation events?</a></span><ul class=\"toc-item\"><li><span><a href=\"#Annotate-secondary-structure-of-cysteines\" data-toc-modified-id=\"Annotate-secondary-structure-of-cysteines-1.1\"><span class=\"toc-item-num\">1.1&nbsp;&nbsp;</span>Annotate secondary structure of cysteines</a></span></li><li><span><a href=\"#Search-for-most-accessible-cysteines\" data-toc-modified-id=\"Search-for-most-accessible-cysteines-1.2\"><span class=\"toc-item-num\">1.2&nbsp;&nbsp;</span>Search for most accessible cysteines</a></span></li></ul></li><li><span><a href=\"#SequenceLogos-for-internally-prenylated-proteins-with-1-most-accessible-cysteine\" data-toc-modified-id=\"SequenceLogos-for-internally-prenylated-proteins-with-1-most-accessible-cysteine-2\"><span class=\"toc-item-num\">2&nbsp;&nbsp;</span>SequenceLogos for internally prenylated proteins with 1 most accessible cysteine</a></span><ul class=\"toc-item\"><li><span><a href=\"#Sorted-by-accessibility\" data-toc-modified-id=\"Sorted-by-accessibility-2.1\"><span class=\"toc-item-num\">2.1&nbsp;&nbsp;</span>Sorted by accessibility</a></span></li><li><span><a href=\"#Sorted-by-moiety\" data-toc-modified-id=\"Sorted-by-moiety-2.2\"><span class=\"toc-item-num\">2.2&nbsp;&nbsp;</span>Sorted by moiety</a></span></li><li><span><a href=\"#Sorted-by-secondary-structure\" data-toc-modified-id=\"Sorted-by-secondary-structure-2.3\"><span class=\"toc-item-num\">2.3&nbsp;&nbsp;</span>Sorted by secondary structure</a></span></li><li><span><a href=\"#Hypergeometric-distribution-and-Fisher's-exact-test\" data-toc-modified-id=\"Hypergeometric-distribution-and-Fisher's-exact-test-2.4\"><span class=\"toc-item-num\">2.4&nbsp;&nbsp;</span>Hypergeometric distribution and Fisher's exact test</a></span></li></ul></li><li><span><a href=\"#Search-for-double-prenylated-cysteines\" data-toc-modified-id=\"Search-for-double-prenylated-cysteines-3\"><span class=\"toc-item-num\">3&nbsp;&nbsp;</span>Search for double prenylated cysteines</a></span></li></ul></div>"
   ]
  },
  {
   "cell_type": "code",
   "execution_count": 1,
   "metadata": {},
   "outputs": [],
   "source": [
    "import sys\n",
    "import os\n",
    "import session_info\n",
    "\n",
    "# Add the '0_functions' folder to sys.path\n",
    "sys.path.append(os.path.join(os.getcwd(), '..', '0_functions'))"
   ]
  },
  {
   "cell_type": "code",
   "execution_count": 2,
   "metadata": {},
   "outputs": [],
   "source": [
    "import pandas as pd\n",
    "#from structuremap_annotation import annotate_structuremap\n",
    "from functions import clean_agg\n",
    "from functions import Urn\n",
    "from functions import fishers_exact_test\n",
    "from functions import annotate_most_accs_C\n",
    "import scipy.stats as stats\n",
    "import matplotlib.pyplot as plt\n",
    "import seaborn as sns"
   ]
  },
  {
   "cell_type": "code",
   "execution_count": 3,
   "metadata": {},
   "outputs": [
    {
     "data": {
      "text/html": [
       "<details>\n",
       "<summary>Click to view session information</summary>\n",
       "<pre>\n",
       "-----\n",
       "functions           NA\n",
       "matplotlib          3.7.0\n",
       "pandas              2.0.3\n",
       "scipy               1.10.1\n",
       "seaborn             0.13.2\n",
       "session_info        1.0.0\n",
       "-----\n",
       "</pre>\n",
       "<details>\n",
       "<summary>Click to view modules imported as dependencies</summary>\n",
       "<pre>\n",
       "Bio                         1.83\n",
       "PIL                         10.0.1\n",
       "anyio                       NA\n",
       "asttokens                   NA\n",
       "attr                        23.1.0\n",
       "attrs                       23.1.0\n",
       "babel                       2.11.0\n",
       "backcall                    0.2.0\n",
       "beta_ufunc                  NA\n",
       "binom_ufunc                 NA\n",
       "bottleneck                  1.3.7\n",
       "brotli                      NA\n",
       "certifi                     2024.08.30\n",
       "cffi                        1.16.0\n",
       "charset_normalizer          2.0.4\n",
       "colorama                    0.4.6\n",
       "comm                        0.1.2\n",
       "cycler                      0.10.0\n",
       "cython_runtime              NA\n",
       "dateutil                    2.8.2\n",
       "debugpy                     1.6.7\n",
       "decorator                   5.1.1\n",
       "defusedxml                  0.7.1\n",
       "executing                   0.8.3\n",
       "fastjsonschema              NA\n",
       "hypergeom_ufunc             NA\n",
       "idna                        3.4\n",
       "importlib_metadata          NA\n",
       "importlib_resources         NA\n",
       "invgauss_ufunc              NA\n",
       "ipykernel                   6.25.0\n",
       "ipython_genutils            0.2.0\n",
       "ipywidgets                  7.6.5\n",
       "jedi                        0.18.1\n",
       "jinja2                      3.1.2\n",
       "json5                       NA\n",
       "jsonschema                  4.19.2\n",
       "jsonschema_specifications   NA\n",
       "jupyter_events              0.8.0\n",
       "jupyter_server              2.10.0\n",
       "jupyterlab_server           2.25.1\n",
       "kiwisolver                  1.4.4\n",
       "markupsafe                  2.1.1\n",
       "mkl                         2.4.0\n",
       "mpl_toolkits                NA\n",
       "nbformat                    5.9.2\n",
       "nbinom_ufunc                NA\n",
       "ncf_ufunc                   NA\n",
       "nct_ufunc                   NA\n",
       "ncx2_ufunc                  NA\n",
       "nt                          NA\n",
       "numexpr                     2.8.4\n",
       "numpy                       1.24.3\n",
       "overrides                   NA\n",
       "packaging                   23.1\n",
       "parso                       0.8.3\n",
       "pickleshare                 0.7.5\n",
       "pkg_resources               NA\n",
       "platformdirs                3.10.0\n",
       "prometheus_client           NA\n",
       "prompt_toolkit              3.0.36\n",
       "psutil                      5.9.0\n",
       "pure_eval                   0.2.2\n",
       "pydev_ipython               NA\n",
       "pydevconsole                NA\n",
       "pydevd                      2.9.5\n",
       "pydevd_file_utils           NA\n",
       "pydevd_plugins              NA\n",
       "pydevd_tracing              NA\n",
       "pygments                    2.11.2\n",
       "pyparsing                   3.0.9\n",
       "pythoncom                   NA\n",
       "pythonjsonlogger            NA\n",
       "pytz                        2023.3.post1\n",
       "pywintypes                  NA\n",
       "referencing                 NA\n",
       "requests                    2.31.0\n",
       "rfc3339_validator           0.1.4\n",
       "rfc3986_validator           0.1.1\n",
       "rpds                        NA\n",
       "send2trash                  NA\n",
       "six                         1.16.0\n",
       "skewnorm_ufunc              NA\n",
       "sniffio                     1.2.0\n",
       "socks                       1.7.1\n",
       "stack_data                  0.2.0\n",
       "statsmodels                 0.13.1\n",
       "tornado                     6.3.3\n",
       "traitlets                   5.7.1\n",
       "typing_extensions           NA\n",
       "urllib3                     1.26.18\n",
       "wcwidth                     0.2.5\n",
       "websocket                   0.58.0\n",
       "yaml                        6.0.1\n",
       "zipp                        NA\n",
       "zmq                         25.1.0\n",
       "</pre>\n",
       "</details> <!-- seems like this ends pre, so might as well be explicit -->\n",
       "<pre>\n",
       "-----\n",
       "IPython             8.12.2\n",
       "jupyter_client      8.6.0\n",
       "jupyter_core        5.2.0\n",
       "jupyterlab          3.6.3\n",
       "notebook            6.1.5\n",
       "-----\n",
       "Python 3.8.18 (default, Sep 11 2023, 13:47:48) [MSC v.1916 64 bit (AMD64)]\n",
       "Windows-10-10.0.19045-SP0\n",
       "-----\n",
       "Session information updated at 2025-01-08 21:08\n",
       "</pre>\n",
       "</details>"
      ],
      "text/plain": [
       "<IPython.core.display.HTML object>"
      ]
     },
     "execution_count": 3,
     "metadata": {},
     "output_type": "execute_result"
    }
   ],
   "source": [
    "# Display session information\n",
    "session_info.show()"
   ]
  },
  {
   "cell_type": "code",
   "execution_count": 4,
   "metadata": {},
   "outputs": [],
   "source": [
    "# Set options to display all rows and columns\n",
    "pd.set_option('display.max_rows', None)\n",
    "pd.set_option('display.max_columns', None)"
   ]
  },
  {
   "cell_type": "code",
   "execution_count": 5,
   "metadata": {},
   "outputs": [],
   "source": [
    "# Load data\n",
    "datafolder = 'data'\n",
    "PSSMSearch = 'data\\PSSMSearch'\n",
    "Foldseek = 'data\\Foldseek'\n",
    "Background = r'C:\\Users\\ale\\DataspellProjects\\CodeSIAF\\Background\\data'\n",
    "\n",
    "# Internally prenylated proteins\n",
    "F_internal = pd.read_csv(os.path.join(datafolder, 'identified_proteins', 'F_internal.csv'), sep=',')\n",
    "GG_internal = pd.read_csv(os.path.join(datafolder, 'identified_proteins', 'GG_internal.csv'), sep=',')\n",
    "F_GG_internal = pd.read_csv(os.path.join(datafolder, 'identified_proteins', 'F_GG_internal.csv'), sep=',')\n",
    "\n",
    "UP_new = pd.read_csv(os.path.join(datafolder, 'identified_proteins', 'identified_novel_motif.csv'), sep=',')\n",
    "\n",
    "# Master file\n",
    "master_df = pd.read_csv(os.path.join('..', 'master_df.csv'), sep=',')"
   ]
  },
  {
   "cell_type": "markdown",
   "metadata": {},
   "source": [
    "# What are the probable sites of prenyl attachment of non-conventional protein prenylation events?\n",
    "\n",
    "Mapping of the cysteine sequence motifs onto the protein 3D structure "
   ]
  },
  {
   "cell_type": "code",
   "execution_count": 6,
   "metadata": {},
   "outputs": [
    {
     "name": "stdout",
     "output_type": "stream",
     "text": [
      "F internal proteins: 184, GG internal proteins: 133, F & GG internal proteins: 157\n"
     ]
    }
   ],
   "source": [
    "print('F internal proteins: ', len(F_internal['ID'].unique()), ', GG internal proteins: ',len(GG_internal['ID'].unique()), \n",
    "       ', F & GG internal proteins: ',len(F_GG_internal['ID'].unique()), sep='')"
   ]
  },
  {
   "cell_type": "code",
   "execution_count": 7,
   "metadata": {},
   "outputs": [
    {
     "name": "stdout",
     "output_type": "stream",
     "text": [
      "All internally prenylated proteins: 474\n"
     ]
    }
   ],
   "source": [
    "# Concatenate F, GG, F_GG dfs for Structuremap analysis of all internally prenylated proteins\n",
    "\n",
    "pren_internal = pd.concat([F_internal, GG_internal, F_GG_internal]).reset_index(drop=True)\n",
    "\n",
    "print('All internally prenylated proteins:', len(pren_internal['ID'].unique()))"
   ]
  },
  {
   "cell_type": "code",
   "execution_count": 8,
   "metadata": {},
   "outputs": [
    {
     "data": {
      "text/html": [
       "<div>\n",
       "<style scoped>\n",
       "    .dataframe tbody tr th:only-of-type {\n",
       "        vertical-align: middle;\n",
       "    }\n",
       "\n",
       "    .dataframe tbody tr th {\n",
       "        vertical-align: top;\n",
       "    }\n",
       "\n",
       "    .dataframe thead th {\n",
       "        text-align: right;\n",
       "    }\n",
       "</style>\n",
       "<table border=\"1\" class=\"dataframe\">\n",
       "  <thead>\n",
       "    <tr style=\"text-align: right;\">\n",
       "      <th></th>\n",
       "      <th>ID</th>\n",
       "      <th>seqID</th>\n",
       "      <th>seq</th>\n",
       "      <th>len</th>\n",
       "      <th>Cpos</th>\n",
       "      <th>Ccount</th>\n",
       "      <th>motif</th>\n",
       "      <th>N_Cpos</th>\n",
       "      <th>Count_all</th>\n",
       "      <th>pep</th>\n",
       "      <th>pepCCC</th>\n",
       "      <th>pepCC</th>\n",
       "      <th>pepCXC</th>\n",
       "      <th>pepC</th>\n",
       "    </tr>\n",
       "  </thead>\n",
       "  <tbody>\n",
       "  </tbody>\n",
       "</table>\n",
       "</div>"
      ],
      "text/plain": [
       "Empty DataFrame\n",
       "Columns: [ID, seqID, seq, len, Cpos, Ccount, motif, N_Cpos, Count_all, pep, pepCCC, pepCC, pepCXC, pepC]\n",
       "Index: []"
      ]
     },
     "execution_count": 8,
     "metadata": {},
     "output_type": "execute_result"
    }
   ],
   "source": [
    "pren_internal[pren_internal['seq'].isna()]"
   ]
  },
  {
   "cell_type": "code",
   "execution_count": 9,
   "metadata": {},
   "outputs": [],
   "source": [
    "# Check and remove proteins for which we only have sequence isoforms to work with\n",
    "# AlphaFold doesn't yet contain 3D structures of isoforms\n",
    "\n",
    "F_internal = F_internal[~F_internal['seqID'].str.contains('-')]\n",
    "GG_internal = GG_internal[~GG_internal['seqID'].str.contains('-')]\n",
    "F_GG_internal = F_GG_internal[~F_GG_internal['seqID'].str.contains('-')]\n",
    "\n",
    "pren_internal = pren_internal[~pren_internal['seqID'].str.contains('-')]"
   ]
  },
  {
   "cell_type": "code",
   "execution_count": 10,
   "metadata": {},
   "outputs": [
    {
     "name": "stdout",
     "output_type": "stream",
     "text": [
      "F internal proteins: 180, GG internal proteins: 133, F & GG internal proteins: 157\n",
      "All internally prenylated proteins: 470\n"
     ]
    }
   ],
   "source": [
    "print('F internal proteins: ', len(F_internal['ID'].unique()), ', GG internal proteins: ',len(GG_internal['ID'].unique()), \n",
    "       ', F & GG internal proteins: ',len(F_GG_internal['ID'].unique()), sep='')\n",
    "print('All internally prenylated proteins:', len(pren_internal['ID'].unique()))\n",
    "\n",
    "# 4 farnesylated proteins fell out"
   ]
  },
  {
   "cell_type": "code",
   "execution_count": 11,
   "metadata": {},
   "outputs": [
    {
     "data": {
      "text/plain": [
       "4796"
      ]
     },
     "execution_count": 11,
     "metadata": {},
     "output_type": "execute_result"
    }
   ],
   "source": [
    "len(pren_internal)"
   ]
  },
  {
   "cell_type": "code",
   "execution_count": 12,
   "metadata": {},
   "outputs": [
    {
     "data": {
      "text/html": [
       "<div>\n",
       "<style scoped>\n",
       "    .dataframe tbody tr th:only-of-type {\n",
       "        vertical-align: middle;\n",
       "    }\n",
       "\n",
       "    .dataframe tbody tr th {\n",
       "        vertical-align: top;\n",
       "    }\n",
       "\n",
       "    .dataframe thead th {\n",
       "        text-align: right;\n",
       "    }\n",
       "</style>\n",
       "<table border=\"1\" class=\"dataframe\">\n",
       "  <thead>\n",
       "    <tr style=\"text-align: right;\">\n",
       "      <th></th>\n",
       "      <th>ID</th>\n",
       "      <th>seqID</th>\n",
       "      <th>seq</th>\n",
       "      <th>len</th>\n",
       "      <th>Cpos</th>\n",
       "      <th>Ccount</th>\n",
       "      <th>motif</th>\n",
       "      <th>N_Cpos</th>\n",
       "      <th>Count_all</th>\n",
       "      <th>pep</th>\n",
       "      <th>pepCCC</th>\n",
       "      <th>pepCC</th>\n",
       "      <th>pepCXC</th>\n",
       "      <th>pepC</th>\n",
       "    </tr>\n",
       "  </thead>\n",
       "  <tbody>\n",
       "    <tr>\n",
       "      <th>4277</th>\n",
       "      <td>Q8TCD1</td>\n",
       "      <td>sp|Q8TCD1|CR032_HUMAN</td>\n",
       "      <td>MVCIPCIVIPVLLWIYKKFLEPYIYPLVSPFVSRIWPKKAIQESND...</td>\n",
       "      <td>76</td>\n",
       "      <td>-74</td>\n",
       "      <td>3</td>\n",
       "      <td>NaN</td>\n",
       "      <td>3</td>\n",
       "      <td>3</td>\n",
       "      <td>MVCIPCIV</td>\n",
       "      <td>NaN</td>\n",
       "      <td>NaN</td>\n",
       "      <td>NaN</td>\n",
       "      <td>NaN</td>\n",
       "    </tr>\n",
       "    <tr>\n",
       "      <th>4278</th>\n",
       "      <td>Q8TCD1</td>\n",
       "      <td>sp|Q8TCD1|CR032_HUMAN</td>\n",
       "      <td>MVCIPCIVIPVLLWIYKKFLEPYIYPLVSPFVSRIWPKKAIQESND...</td>\n",
       "      <td>76</td>\n",
       "      <td>-71</td>\n",
       "      <td>3</td>\n",
       "      <td>NaN</td>\n",
       "      <td>6</td>\n",
       "      <td>3</td>\n",
       "      <td>MVCIPCIVIPV</td>\n",
       "      <td>NaN</td>\n",
       "      <td>NaN</td>\n",
       "      <td>NaN</td>\n",
       "      <td>MVCIPCIVIPV</td>\n",
       "    </tr>\n",
       "    <tr>\n",
       "      <th>4279</th>\n",
       "      <td>Q8TCD1</td>\n",
       "      <td>sp|Q8TCD1|CR032_HUMAN</td>\n",
       "      <td>MVCIPCIVIPVLLWIYKKFLEPYIYPLVSPFVSRIWPKKAIQESND...</td>\n",
       "      <td>76</td>\n",
       "      <td>-6</td>\n",
       "      <td>3</td>\n",
       "      <td>NaN</td>\n",
       "      <td>71</td>\n",
       "      <td>3</td>\n",
       "      <td>GPTEICDKKKD</td>\n",
       "      <td>NaN</td>\n",
       "      <td>NaN</td>\n",
       "      <td>NaN</td>\n",
       "      <td>GPTEICDKKKD</td>\n",
       "    </tr>\n",
       "  </tbody>\n",
       "</table>\n",
       "</div>"
      ],
      "text/plain": [
       "          ID                  seqID  \\\n",
       "4277  Q8TCD1  sp|Q8TCD1|CR032_HUMAN   \n",
       "4278  Q8TCD1  sp|Q8TCD1|CR032_HUMAN   \n",
       "4279  Q8TCD1  sp|Q8TCD1|CR032_HUMAN   \n",
       "\n",
       "                                                    seq  len  Cpos  Ccount  \\\n",
       "4277  MVCIPCIVIPVLLWIYKKFLEPYIYPLVSPFVSRIWPKKAIQESND...   76   -74       3   \n",
       "4278  MVCIPCIVIPVLLWIYKKFLEPYIYPLVSPFVSRIWPKKAIQESND...   76   -71       3   \n",
       "4279  MVCIPCIVIPVLLWIYKKFLEPYIYPLVSPFVSRIWPKKAIQESND...   76    -6       3   \n",
       "\n",
       "      motif  N_Cpos  Count_all          pep pepCCC pepCC pepCXC         pepC  \n",
       "4277    NaN       3          3     MVCIPCIV    NaN   NaN    NaN          NaN  \n",
       "4278    NaN       6          3  MVCIPCIVIPV    NaN   NaN    NaN  MVCIPCIVIPV  \n",
       "4279    NaN      71          3  GPTEICDKKKD    NaN   NaN    NaN  GPTEICDKKKD  "
      ]
     },
     "execution_count": 12,
     "metadata": {},
     "output_type": "execute_result"
    }
   ],
   "source": [
    "pren_internal[pren_internal['ID'] == 'Q8TCD1']"
   ]
  },
  {
   "cell_type": "markdown",
   "metadata": {},
   "source": [
    "## Annotate secondary structure of cysteines"
   ]
  },
  {
   "cell_type": "code",
   "execution_count": 13,
   "metadata": {},
   "outputs": [],
   "source": [
    "# run Structuremap \n",
    "\n",
    "#annotate_structuremap(pren_internal, \"up_output_multi_disulfid_04.10.23.csv\", group='all_pren', max_dist=30, max_angle=180)"
   ]
  },
  {
   "cell_type": "markdown",
   "metadata": {},
   "source": [
    "## Search for most accessible cysteines"
   ]
  },
  {
   "cell_type": "code",
   "execution_count": 14,
   "metadata": {},
   "outputs": [],
   "source": [
    "# load\n",
    "pren_intern_pep = pd.read_csv(os.path.join(datafolder, 'AlphaFold_annotated', 'all_pren_structure.csv'), sep=',')"
   ]
  },
  {
   "cell_type": "code",
   "execution_count": 15,
   "metadata": {},
   "outputs": [
    {
     "name": "stdout",
     "output_type": "stream",
     "text": [
      "total of Cs in internally prenylated proteins: 4482\n",
      "total of internally prenylated proteins: 462\n"
     ]
    }
   ],
   "source": [
    "print('total of Cs in internally prenylated proteins:', len(pren_intern_pep))\n",
    "print('total of internally prenylated proteins:', len(pren_intern_pep['ID'].unique()))"
   ]
  },
  {
   "cell_type": "code",
   "execution_count": 16,
   "metadata": {},
   "outputs": [
    {
     "data": {
      "text/html": [
       "<div>\n",
       "<style scoped>\n",
       "    .dataframe tbody tr th:only-of-type {\n",
       "        vertical-align: middle;\n",
       "    }\n",
       "\n",
       "    .dataframe tbody tr th {\n",
       "        vertical-align: top;\n",
       "    }\n",
       "\n",
       "    .dataframe thead th {\n",
       "        text-align: right;\n",
       "    }\n",
       "</style>\n",
       "<table border=\"1\" class=\"dataframe\">\n",
       "  <thead>\n",
       "    <tr style=\"text-align: right;\">\n",
       "      <th></th>\n",
       "      <th>ID</th>\n",
       "      <th>seqID</th>\n",
       "    </tr>\n",
       "  </thead>\n",
       "  <tbody>\n",
       "    <tr>\n",
       "      <th>0</th>\n",
       "      <td>O94915</td>\n",
       "      <td>sp|O94915|FRYL_HUMAN</td>\n",
       "    </tr>\n",
       "    <tr>\n",
       "      <th>1</th>\n",
       "      <td>P04114</td>\n",
       "      <td>sp|P04114|APOB_HUMAN</td>\n",
       "    </tr>\n",
       "    <tr>\n",
       "      <th>2</th>\n",
       "      <td>P78527</td>\n",
       "      <td>sp|P78527|PRKDC_HUMAN</td>\n",
       "    </tr>\n",
       "    <tr>\n",
       "      <th>3</th>\n",
       "      <td>Q16850</td>\n",
       "      <td>sp|Q16850|CP51A_HUMAN</td>\n",
       "    </tr>\n",
       "    <tr>\n",
       "      <th>4</th>\n",
       "      <td>Q6ZNJ1</td>\n",
       "      <td>sp|Q6ZNJ1|NBEL2_HUMAN</td>\n",
       "    </tr>\n",
       "    <tr>\n",
       "      <th>5</th>\n",
       "      <td>Q9BQE4</td>\n",
       "      <td>sp|Q9BQE4|SELS_HUMAN</td>\n",
       "    </tr>\n",
       "    <tr>\n",
       "      <th>6</th>\n",
       "      <td>Q9C0D9</td>\n",
       "      <td>sp|Q9C0D9|EPT1_HUMAN</td>\n",
       "    </tr>\n",
       "    <tr>\n",
       "      <th>7</th>\n",
       "      <td>Q9Y4A5</td>\n",
       "      <td>sp|Q9Y4A5|TRRAP_HUMAN</td>\n",
       "    </tr>\n",
       "  </tbody>\n",
       "</table>\n",
       "</div>"
      ],
      "text/plain": [
       "       ID                  seqID\n",
       "0  O94915   sp|O94915|FRYL_HUMAN\n",
       "1  P04114   sp|P04114|APOB_HUMAN\n",
       "2  P78527  sp|P78527|PRKDC_HUMAN\n",
       "3  Q16850  sp|Q16850|CP51A_HUMAN\n",
       "4  Q6ZNJ1  sp|Q6ZNJ1|NBEL2_HUMAN\n",
       "5  Q9BQE4   sp|Q9BQE4|SELS_HUMAN\n",
       "6  Q9C0D9   sp|Q9C0D9|EPT1_HUMAN\n",
       "7  Q9Y4A5  sp|Q9Y4A5|TRRAP_HUMAN"
      ]
     },
     "execution_count": 16,
     "metadata": {},
     "output_type": "execute_result"
    }
   ],
   "source": [
    "# Check which proteins we lost during the AlpaFold analysis\n",
    "lost = pren_internal[~pren_internal['ID'].isin(pren_intern_pep['ID'])]\n",
    "lost = lost.groupby(['ID']).agg(set).reset_index()\n",
    "lost = clean_agg(lost)\n",
    "lost[['ID', 'seqID']]\n",
    "\n",
    "# 7 invalid proteins\n",
    "# 1 protein where AlphaFold contains the sequence isoform -2, not the canonical, must be a mistake in AlphaFold (Q16850|CP51A)"
   ]
  },
  {
   "cell_type": "code",
   "execution_count": 17,
   "metadata": {},
   "outputs": [
    {
     "data": {
      "text/plain": [
       "array(['ID', 'name', 'quality', 'structure_group', 'Ccount', 'Count_all',\n",
       "       'nAA_30_180_pae', 'len', 'Cpos', 'N_Cpos', 'pep', 'pepCCC',\n",
       "       'pepCC', 'pepCXC', 'pepC'], dtype=object)"
      ]
     },
     "execution_count": 17,
     "metadata": {},
     "output_type": "execute_result"
    }
   ],
   "source": [
    "pren_intern_pep.columns.values"
   ]
  },
  {
   "cell_type": "code",
   "execution_count": 18,
   "metadata": {},
   "outputs": [],
   "source": [
    "# annotate accessibility of cysteines based on pae value\n",
    "agg_pren_intern_accs = annotate_most_accs_C(pren_intern_pep)"
   ]
  },
  {
   "cell_type": "code",
   "execution_count": 19,
   "metadata": {},
   "outputs": [
    {
     "name": "stdout",
     "output_type": "stream",
     "text": [
      "Out of 462 prenylated proteins 205 have exactly 1 most accessible cysteine.\n"
     ]
    }
   ],
   "source": [
    "most_accs_all = agg_pren_intern_accs[agg_pren_intern_accs['accs_count'] == 1]\n",
    "\n",
    "print('Out of', len(agg_pren_intern_accs), 'prenylated proteins', \n",
    "      len(most_accs_all), 'have exactly 1 most accessible cysteine.')"
   ]
  },
  {
   "cell_type": "code",
   "execution_count": 20,
   "metadata": {},
   "outputs": [],
   "source": [
    "#Update master file\n",
    "\n",
    "# Add column pae_0 and fill with Cpos (1 most accessible cysteine at pae value 0, meaning no neighbours at 30 Angström distance)\n",
    "C1_at_0_pae = agg_pren_intern_accs[(agg_pren_intern_accs['accs_count'] == 1) & \n",
    "                                   (agg_pren_intern_accs['lowest_pae'] == 0)].reset_index(drop=True)\n",
    "master_df['pae_0'] = master_df['Protein_ID'].map(C1_at_0_pae.set_index('ID')['Cpos'])\n",
    "\n",
    "# Add column lowest_pae and fil with Cpos (1 most accessible cysteine at lowest pae value)\n",
    "C1_at_lowest_pae = agg_pren_intern_accs[(agg_pren_intern_accs['accs_count'] == 1) & \n",
    "                                        (agg_pren_intern_accs['lowest_pae'] != 0)].reset_index(drop=True)\n",
    "master_df['Lowest_pae'] = master_df['Protein_ID'].map(C1_at_lowest_pae.set_index('ID')['Cpos'])\n",
    "\n",
    "# Add the 11 AA long peptide with the most accessible 1 cysteine in the middle to the master dataframe\n",
    "pren_all_C1 = agg_pren_intern_accs[agg_pren_intern_accs['accs_count'] == 1]\n",
    "master_df['Internal_Motif'] = master_df['Protein_ID'].map(pren_all_C1.set_index('ID')['pep'])"
   ]
  },
  {
   "cell_type": "code",
   "execution_count": 21,
   "metadata": {},
   "outputs": [],
   "source": [
    "# save\n",
    "master_df.to_csv(os.path.join('..', 'master_df.csv'), sep=',', index=False)"
   ]
  },
  {
   "cell_type": "code",
   "execution_count": 22,
   "metadata": {},
   "outputs": [],
   "source": [
    "# True C1\n",
    "pren_Count_all_1 = C1_at_0_pae[C1_at_0_pae['Count_all'] == 1].reset_index(drop=True)"
   ]
  },
  {
   "cell_type": "code",
   "execution_count": 23,
   "metadata": {},
   "outputs": [],
   "source": [
    "# C1 after disregarding cysteines in disulfide bonds\n",
    "pren_Ccount_1 = C1_at_0_pae[(C1_at_0_pae['Ccount'] == 1) & \n",
    "                                             (C1_at_0_pae['Count_all'] != 1)].reset_index(drop=True)"
   ]
  },
  {
   "cell_type": "code",
   "execution_count": 24,
   "metadata": {},
   "outputs": [],
   "source": [
    "# Proteins with 1 cysteine at 0 pae (not smoothed) and multiple Ccount\n",
    "pren_pae_0 = C1_at_0_pae[(~C1_at_0_pae['ID'].isin(pren_Count_all_1['ID'])) & \n",
    "                          (~C1_at_0_pae['ID'].isin(pren_Ccount_1['ID']))]"
   ]
  },
  {
   "cell_type": "code",
   "execution_count": 25,
   "metadata": {},
   "outputs": [],
   "source": [
    "# Name change for consistency\n",
    "pren_lowest_pae_1 = C1_at_lowest_pae"
   ]
  },
  {
   "cell_type": "code",
   "execution_count": 26,
   "metadata": {},
   "outputs": [
    {
     "name": "stdout",
     "output_type": "stream",
     "text": [
      "0\n",
      "0\n",
      "6\n",
      "2\n",
      "8\n"
     ]
    }
   ],
   "source": [
    "# Cysteine positions for which we can't show the peptides in Sequence Logos because they are too N-terminal to align\n",
    "print(len(pren_Count_all_1[pren_Count_all_1['N_Cpos'] < 6]))\n",
    "print(len(pren_Ccount_1[pren_Ccount_1['N_Cpos'] < 6]))\n",
    "print(len(pren_pae_0[pren_pae_0['N_Cpos'] < 6]))\n",
    "print(len(pren_lowest_pae_1[pren_lowest_pae_1['N_Cpos'] < 6]))\n",
    "print(len(pren_all_C1[pren_all_C1['N_Cpos'] < 6]))"
   ]
  },
  {
   "cell_type": "code",
   "execution_count": 27,
   "metadata": {},
   "outputs": [
    {
     "data": {
      "text/html": [
       "<div>\n",
       "<style scoped>\n",
       "    .dataframe tbody tr th:only-of-type {\n",
       "        vertical-align: middle;\n",
       "    }\n",
       "\n",
       "    .dataframe tbody tr th {\n",
       "        vertical-align: top;\n",
       "    }\n",
       "\n",
       "    .dataframe thead th {\n",
       "        text-align: right;\n",
       "    }\n",
       "</style>\n",
       "<table border=\"1\" class=\"dataframe\">\n",
       "  <thead>\n",
       "    <tr style=\"text-align: right;\">\n",
       "      <th></th>\n",
       "      <th>ID</th>\n",
       "      <th>name</th>\n",
       "      <th>quality</th>\n",
       "      <th>structure_group</th>\n",
       "      <th>Ccount</th>\n",
       "      <th>Count_all</th>\n",
       "      <th>nAA_30_180_pae</th>\n",
       "      <th>len</th>\n",
       "      <th>Cpos</th>\n",
       "      <th>N_Cpos</th>\n",
       "      <th>pep</th>\n",
       "      <th>pepCCC</th>\n",
       "      <th>pepCC</th>\n",
       "      <th>pepCXC</th>\n",
       "      <th>pepC</th>\n",
       "      <th>lowest_pae</th>\n",
       "      <th>accs_count</th>\n",
       "    </tr>\n",
       "  </thead>\n",
       "  <tbody>\n",
       "    <tr>\n",
       "      <th>0</th>\n",
       "      <td>Q6PIU2</td>\n",
       "      <td>NCEH1</td>\n",
       "      <td>84.84</td>\n",
       "      <td>HELX</td>\n",
       "      <td>5</td>\n",
       "      <td>5</td>\n",
       "      <td>0</td>\n",
       "      <td>408</td>\n",
       "      <td>-404</td>\n",
       "      <td>5</td>\n",
       "      <td>MRSSCVLLTA</td>\n",
       "      <td>NaN</td>\n",
       "      <td>NaN</td>\n",
       "      <td>NaN</td>\n",
       "      <td>NaN</td>\n",
       "      <td>0</td>\n",
       "      <td>1</td>\n",
       "    </tr>\n",
       "    <tr>\n",
       "      <th>1</th>\n",
       "      <td>Q8IYT2</td>\n",
       "      <td>CMTR2</td>\n",
       "      <td>32.59</td>\n",
       "      <td>unstructured</td>\n",
       "      <td>33</td>\n",
       "      <td>33</td>\n",
       "      <td>0</td>\n",
       "      <td>770</td>\n",
       "      <td>-767</td>\n",
       "      <td>4</td>\n",
       "      <td>MSKCRKTPV</td>\n",
       "      <td>NaN</td>\n",
       "      <td>NaN</td>\n",
       "      <td>NaN</td>\n",
       "      <td>NaN</td>\n",
       "      <td>0</td>\n",
       "      <td>1</td>\n",
       "    </tr>\n",
       "    <tr>\n",
       "      <th>2</th>\n",
       "      <td>Q9Y2X0</td>\n",
       "      <td>MED16</td>\n",
       "      <td>26.11</td>\n",
       "      <td>unstructured</td>\n",
       "      <td>30</td>\n",
       "      <td>30</td>\n",
       "      <td>0</td>\n",
       "      <td>877</td>\n",
       "      <td>-876</td>\n",
       "      <td>2</td>\n",
       "      <td>MCDLRRP</td>\n",
       "      <td>NaN</td>\n",
       "      <td>NaN</td>\n",
       "      <td>NaN</td>\n",
       "      <td>NaN</td>\n",
       "      <td>0</td>\n",
       "      <td>1</td>\n",
       "    </tr>\n",
       "    <tr>\n",
       "      <th>3</th>\n",
       "      <td>Q9H6R6</td>\n",
       "      <td>ZDHC6</td>\n",
       "      <td>40.57</td>\n",
       "      <td>unstructured</td>\n",
       "      <td>19</td>\n",
       "      <td>19</td>\n",
       "      <td>0</td>\n",
       "      <td>413</td>\n",
       "      <td>-409</td>\n",
       "      <td>5</td>\n",
       "      <td>MGTFCSVIKF</td>\n",
       "      <td>NaN</td>\n",
       "      <td>NaN</td>\n",
       "      <td>NaN</td>\n",
       "      <td>NaN</td>\n",
       "      <td>0</td>\n",
       "      <td>1</td>\n",
       "    </tr>\n",
       "    <tr>\n",
       "      <th>4</th>\n",
       "      <td>P07686</td>\n",
       "      <td>HEXB</td>\n",
       "      <td>42.68</td>\n",
       "      <td>unstructured</td>\n",
       "      <td>8</td>\n",
       "      <td>8</td>\n",
       "      <td>0</td>\n",
       "      <td>556</td>\n",
       "      <td>-553</td>\n",
       "      <td>4</td>\n",
       "      <td>MELCGLGLP</td>\n",
       "      <td>NaN</td>\n",
       "      <td>NaN</td>\n",
       "      <td>NaN</td>\n",
       "      <td>NaN</td>\n",
       "      <td>0</td>\n",
       "      <td>1</td>\n",
       "    </tr>\n",
       "    <tr>\n",
       "      <th>5</th>\n",
       "      <td>O60725</td>\n",
       "      <td>ICMT</td>\n",
       "      <td>44.13</td>\n",
       "      <td>unstructured</td>\n",
       "      <td>7</td>\n",
       "      <td>7</td>\n",
       "      <td>0</td>\n",
       "      <td>284</td>\n",
       "      <td>-281</td>\n",
       "      <td>4</td>\n",
       "      <td>MAGCAARAP</td>\n",
       "      <td>NaN</td>\n",
       "      <td>NaN</td>\n",
       "      <td>NaN</td>\n",
       "      <td>NaN</td>\n",
       "      <td>0</td>\n",
       "      <td>1</td>\n",
       "    </tr>\n",
       "    <tr>\n",
       "      <th>6</th>\n",
       "      <td>Q12999</td>\n",
       "      <td>TSN31</td>\n",
       "      <td>59.48</td>\n",
       "      <td>unstructured</td>\n",
       "      <td>11</td>\n",
       "      <td>11</td>\n",
       "      <td>1</td>\n",
       "      <td>210</td>\n",
       "      <td>-208</td>\n",
       "      <td>3</td>\n",
       "      <td>MVCGGFAC</td>\n",
       "      <td>NaN</td>\n",
       "      <td>NaN</td>\n",
       "      <td>NaN</td>\n",
       "      <td>NaN</td>\n",
       "      <td>1</td>\n",
       "      <td>1</td>\n",
       "    </tr>\n",
       "    <tr>\n",
       "      <th>7</th>\n",
       "      <td>P27701</td>\n",
       "      <td>CD82</td>\n",
       "      <td>81.48</td>\n",
       "      <td>HELX</td>\n",
       "      <td>11</td>\n",
       "      <td>11</td>\n",
       "      <td>3</td>\n",
       "      <td>267</td>\n",
       "      <td>-263</td>\n",
       "      <td>5</td>\n",
       "      <td>MGSACIKVTK</td>\n",
       "      <td>NaN</td>\n",
       "      <td>NaN</td>\n",
       "      <td>NaN</td>\n",
       "      <td>NaN</td>\n",
       "      <td>3</td>\n",
       "      <td>1</td>\n",
       "    </tr>\n",
       "  </tbody>\n",
       "</table>\n",
       "</div>"
      ],
      "text/plain": [
       "       ID   name  quality structure_group  Ccount  Count_all  nAA_30_180_pae  \\\n",
       "0  Q6PIU2  NCEH1    84.84            HELX       5          5               0   \n",
       "1  Q8IYT2  CMTR2    32.59    unstructured      33         33               0   \n",
       "2  Q9Y2X0  MED16    26.11    unstructured      30         30               0   \n",
       "3  Q9H6R6  ZDHC6    40.57    unstructured      19         19               0   \n",
       "4  P07686   HEXB    42.68    unstructured       8          8               0   \n",
       "5  O60725   ICMT    44.13    unstructured       7          7               0   \n",
       "6  Q12999  TSN31    59.48    unstructured      11         11               1   \n",
       "7  P27701   CD82    81.48            HELX      11         11               3   \n",
       "\n",
       "   len  Cpos N_Cpos         pep  pepCCC pepCC pepCXC pepC  lowest_pae  \\\n",
       "0  408  -404      5  MRSSCVLLTA     NaN   NaN    NaN  NaN           0   \n",
       "1  770  -767      4   MSKCRKTPV     NaN   NaN    NaN  NaN           0   \n",
       "2  877  -876      2     MCDLRRP     NaN   NaN    NaN  NaN           0   \n",
       "3  413  -409      5  MGTFCSVIKF     NaN   NaN    NaN  NaN           0   \n",
       "4  556  -553      4   MELCGLGLP     NaN   NaN    NaN  NaN           0   \n",
       "5  284  -281      4   MAGCAARAP     NaN   NaN    NaN  NaN           0   \n",
       "6  210  -208      3    MVCGGFAC     NaN   NaN    NaN  NaN           1   \n",
       "7  267  -263      5  MGSACIKVTK     NaN   NaN    NaN  NaN           3   \n",
       "\n",
       "   accs_count  \n",
       "0           1  \n",
       "1           1  \n",
       "2           1  \n",
       "3           1  \n",
       "4           1  \n",
       "5           1  \n",
       "6           1  \n",
       "7           1  "
      ]
     },
     "execution_count": 27,
     "metadata": {},
     "output_type": "execute_result"
    }
   ],
   "source": [
    "most_accs_all[most_accs_all['N_Cpos'] < 6].reset_index(drop=True)"
   ]
  },
  {
   "cell_type": "code",
   "execution_count": 28,
   "metadata": {},
   "outputs": [],
   "source": [
    "# remove proteins with too short N-terminal peptides\n",
    "pren_pae_0 = pren_pae_0[pren_pae_0['N_Cpos'] >= 6].reset_index(drop=True)\n",
    "pren_lowest_pae_1 = pren_lowest_pae_1[pren_lowest_pae_1['N_Cpos'] >= 6].reset_index(drop=True)\n",
    "pren_all_C1 = pren_all_C1[pren_all_C1['N_Cpos'] >= 6].reset_index(drop=True)"
   ]
  },
  {
   "cell_type": "code",
   "execution_count": 29,
   "metadata": {},
   "outputs": [
    {
     "name": "stdout",
     "output_type": "stream",
     "text": [
      "20 5 124 48\n",
      "197\n"
     ]
    }
   ],
   "source": [
    "# All proteins with identifiable probably most accessible cysteine\n",
    "print(len(pren_Count_all_1), len(pren_Ccount_1), len(pren_pae_0), len(pren_lowest_pae_1))\n",
    "print(len(pren_all_C1))"
   ]
  },
  {
   "cell_type": "code",
   "execution_count": 30,
   "metadata": {},
   "outputs": [
    {
     "name": "stdout",
     "output_type": "stream",
     "text": [
      "72 51 74\n",
      "197\n"
     ]
    }
   ],
   "source": [
    "# Divide proteins with 1 most accessible cysteine by moiety\n",
    "F_Count_all_1 = pren_all_C1[pren_all_C1['ID'].isin(F_internal['ID'])]\n",
    "GG_Count_all_1 = pren_all_C1[pren_all_C1['ID'].isin(GG_internal['ID'])]\n",
    "F_GG_Count_all_1 = pren_all_C1[pren_all_C1['ID'].isin(F_GG_internal['ID'])]\n",
    "\n",
    "print(len(F_Count_all_1), len(GG_Count_all_1), len(F_GG_Count_all_1))\n",
    "print(len(F_Count_all_1)+ len(GG_Count_all_1)+ len(F_GG_Count_all_1))"
   ]
  },
  {
   "cell_type": "code",
   "execution_count": 31,
   "metadata": {},
   "outputs": [],
   "source": [
    "# Save df as c_positions.csv, to be read by Foldseek\n",
    "\n",
    "data = {\n",
    "    'F_Count_all_1': F_Count_all_1,\n",
    "    'GG_Count_all_1': GG_Count_all_1,\n",
    "    'F_GG_Count_all_1': F_GG_Count_all_1,\n",
    "    \n",
    "    'pren_Count_all_1': pren_Count_all_1,\n",
    "    'pren_Ccount_1': pren_Ccount_1,\n",
    "    'pren_pae_0': pren_pae_0,\n",
    "    'pren_lowest_pae_1': pren_lowest_pae_1,\n",
    "    \n",
    "    'pren_all_C1': pren_all_C1\n",
    "}\n",
    "\n",
    "# Create each directory and save corresponding DataFrame as CSV\n",
    "for directory_name, df in data.items():\n",
    "    directory_path = os.path.join(Foldseek, directory_name)\n",
    "    os.makedirs(directory_path, exist_ok=True)\n",
    "    csv_file_path = os.path.join(directory_path, 'c_positions.csv')\n",
    "    df.to_csv(csv_file_path, index=None, sep=',')"
   ]
  },
  {
   "cell_type": "markdown",
   "metadata": {},
   "source": [
    "# AlphaFold quality of probably prenylated cysteines"
   ]
  },
  {
   "cell_type": "code",
   "execution_count": 32,
   "metadata": {},
   "outputs": [
    {
     "name": "stdout",
     "output_type": "stream",
     "text": [
      "Shapiro-Wilk Test for Group 1: W=0.8445256352424622, p-value=3.05692455940601e-13\n"
     ]
    },
    {
     "data": {
      "image/png": "[encoded data removed]",
      "text/plain": [
       "<Figure size 1200x600 with 2 Axes>"
      ]
     },
     "metadata": {},
     "output_type": "display_data"
    }
   ],
   "source": [
    "# Check for Normality:\n",
    "# Use the Shapiro-Wilk test to check if the data follows a normal distribution.\n",
    "\n",
    "#    Ho(Accepted): Sample is from the normal distributions.(Po>0.05)\n",
    "#    Ha(Rejected): Sample is not from the normal distributions.\n",
    "\n",
    "# Perform the Shapiro-Wilk Test\n",
    "shapiro_group1 = stats.shapiro(pren_all_C1['quality'])\n",
    "print(f\"Shapiro-Wilk Test for Group 1: W={shapiro_group1[0]}, p-value={shapiro_group1[1]}\")\n",
    "\n",
    "# Visualize the Data\n",
    "fig, axes = plt.subplots(1, 2, figsize=(12, 6))\n",
    "\n",
    "# Histogram\n",
    "sns.histplot(pren_all_C1['quality'], kde=True, ax=axes[0], color='blue')\n",
    "axes[0].set_title('Group 1 Histogram')\n",
    "\n",
    "# Q-Q Plot\n",
    "stats.probplot(pren_all_C1['quality'], dist=\"norm\", plot=axes[1])\n",
    "axes[1].set_title('Group 1 Q-Q Plot')\n",
    "\n",
    "plt.tight_layout()\n",
    "plt.show()"
   ]
  },
  {
   "cell_type": "code",
   "execution_count": 33,
   "metadata": {},
   "outputs": [],
   "source": [
    "# Since the p-value is 4.27e-13 which is less than the alpha(0.05) we reject the null hypothesis i.e. \n",
    "# we have sufficient evidence to say that sample does not come from a normal distribution."
   ]
  },
  {
   "cell_type": "code",
   "execution_count": 34,
   "metadata": {},
   "outputs": [],
   "source": [
    "back_all_C1 = pd.read_csv(os.path.join(Background, 'AlphaFold_annotated\\pren_all_C1_quality.csv'), sep=',')"
   ]
  },
  {
   "cell_type": "code",
   "execution_count": 35,
   "metadata": {},
   "outputs": [
    {
     "name": "stdout",
     "output_type": "stream",
     "text": [
      "Mann-Whitney U Test: U=27261.0, p-value=0.4654189197078542\n"
     ]
    },
    {
     "data": {
      "image/png": "[encoded data removed]",
      "text/plain": [
       "<Figure size 1200x600 with 1 Axes>"
      ]
     },
     "metadata": {},
     "output_type": "display_data"
    }
   ],
   "source": [
    "# Perform the Mann-Whitney U Test for non normally distributed samples\n",
    "\n",
    "group1 = pren_all_C1['quality']\n",
    "group2 = back_all_C1['quality']\n",
    "\n",
    "mannwhitney_test = stats.mannwhitneyu(group1, group2, alternative='two-sided')\n",
    "print(f\"Mann-Whitney U Test: U={mannwhitney_test.statistic}, p-value={mannwhitney_test.pvalue}\")\n",
    "\n",
    "# Visualize the Data\n",
    "plt.figure(figsize=(12, 6))\n",
    "\n",
    "# Histograms\n",
    "sns.histplot(group1, kde=True, color='blue', label='pren_all_C1', stat=\"density\")\n",
    "sns.histplot(group2, kde=True, color='red', label='back_all_C1', alpha=0.6, stat=\"density\")\n",
    "plt.title('Histogram of pren_all_C1 and back_all_C1')\n",
    "plt.legend()\n",
    "plt.show()"
   ]
  },
  {
   "cell_type": "code",
   "execution_count": 36,
   "metadata": {},
   "outputs": [],
   "source": [
    "# The null hypothesis is that the distribution of the two groups is the same. We decide that a confidence level of 95% is \n",
    "# required to reject the null hypothesis in favor of the alternative that the distributions are different.\n",
    "\n",
    "# The difference in the two groups is not significant with p-value=0.46."
   ]
  },
  {
   "cell_type": "markdown",
   "metadata": {},
   "source": [
    "# SequenceLogos for internally prenylated proteins with 1 most accessible cysteine"
   ]
  },
  {
   "cell_type": "markdown",
   "metadata": {},
   "source": [
    "## Sorted by accessibility"
   ]
  },
  {
   "cell_type": "code",
   "execution_count": 37,
   "metadata": {},
   "outputs": [],
   "source": [
    "# save peptides in txt format for pssmsearch\n",
    "pren_Count_all_1['pep'].to_csv(os.path.join(PSSMSearch, 'structure', 'accessible', 'pren_Count_all_1.txt'), header=None, index=None, sep=' ')\n",
    "pren_Ccount_1['pep'].to_csv(os.path.join(PSSMSearch, 'structure', 'accessible', 'pren_Ccount_1.txt'), header=None, index=None, sep=' ')\n",
    "pren_pae_0['pep'].to_csv(os.path.join(PSSMSearch, 'structure', 'accessible', 'pren_pae_0.txt'), header=None, index=None, sep=' ')\n",
    "pren_lowest_pae_1['pep'].to_csv(os.path.join(PSSMSearch, 'structure', 'accessible', 'pren_lowest_pae_1.txt'), header=None, index=None, sep=' ')\n",
    "pren_all_C1['pep'].to_csv(os.path.join(PSSMSearch, 'structure', 'accessible', 'pren_all_C1.txt'), header=None, index=None, sep=' ')"
   ]
  },
  {
   "cell_type": "code",
   "execution_count": 38,
   "metadata": {},
   "outputs": [
    {
     "name": "stdout",
     "output_type": "stream",
     "text": [
      "pren_Count_all_1: 20\n",
      "pren_Ccount_1: 5\n",
      "pren_pae_0: 124\n",
      "pren_lowest_pae_1: 48\n",
      "pren_all_C1: 197\n"
     ]
    }
   ],
   "source": [
    "print('pren_Count_all_1:', len(pren_Count_all_1))\n",
    "print('pren_Ccount_1:', len(pren_Ccount_1))\n",
    "print('pren_pae_0:', len(pren_pae_0))\n",
    "print('pren_lowest_pae_1:', len(pren_lowest_pae_1))\n",
    "print('pren_all_C1:', len(pren_all_C1))"
   ]
  },
  {
   "cell_type": "markdown",
   "metadata": {},
   "source": [
    "## Sorted by moiety"
   ]
  },
  {
   "cell_type": "code",
   "execution_count": 39,
   "metadata": {},
   "outputs": [],
   "source": [
    "# save for PSSMSearch\n",
    "F_Count_all_1['pep'].to_csv(os.path.join(PSSMSearch, 'structure', 'accessible', 'F_all_C1.txt'), header=None, index=None, sep=' ')\n",
    "GG_Count_all_1['pep'].to_csv(os.path.join(PSSMSearch, 'structure', 'accessible', 'GG_all_C1.txt'), header=None, index=None, sep=' ')\n",
    "F_GG_Count_all_1['pep'].to_csv(os.path.join(PSSMSearch, 'structure', 'accessible', 'F_GG_all_C1.txt'), header=None, index=None, sep=' ')"
   ]
  },
  {
   "cell_type": "code",
   "execution_count": 40,
   "metadata": {},
   "outputs": [
    {
     "name": "stdout",
     "output_type": "stream",
     "text": [
      "Farnesylated: 72\n",
      "Geranylgeranylated: 51\n",
      "Farnesylated & Geranylgeranylated: 74\n"
     ]
    }
   ],
   "source": [
    "print('Farnesylated:', len(F_Count_all_1))\n",
    "print('Geranylgeranylated:', len(GG_Count_all_1))\n",
    "print('Farnesylated & Geranylgeranylated:', len(F_GG_Count_all_1))"
   ]
  },
  {
   "cell_type": "markdown",
   "metadata": {},
   "source": [
    "## Sorted by secondary structure"
   ]
  },
  {
   "cell_type": "code",
   "execution_count": 41,
   "metadata": {},
   "outputs": [],
   "source": [
    "# Define the list of structures for filtering\n",
    "structure_groups = ['BEND', 'HELX', 'STRN', 'TURN', 'unstructured']\n",
    "\n",
    "# Iterate over the list of structures to create df outputs\n",
    "\n",
    "# All internally prenylated proteinswith exactly 1 most accessible cysteine\n",
    "for structure in structure_groups:\n",
    "    exec(f\"{structure}_pren_intern_pep = pren_all_C1[pren_all_C1['structure_group'] == '{structure}'].reset_index(drop=True)\")\n",
    "    \n",
    "# All internally prenylated proteinswith exactly 1 most accessible cysteine\n",
    "for structure in structure_groups:\n",
    "    exec(f\"F_{structure}_pren_intern_pep = F_Count_all_1[F_Count_all_1['structure_group'] == '{structure}'].reset_index(drop=True)\")\n",
    "    \n",
    "# All internally prenylated proteinswith exactly 1 most accessible cysteine\n",
    "for structure in structure_groups:\n",
    "    exec(f\"GG_{structure}_pren_intern_pep = GG_Count_all_1[GG_Count_all_1['structure_group'] == '{structure}'].reset_index(drop=True)\")\n",
    "    \n",
    "# All internally prenylated proteinswith exactly 1 most accessible cysteine\n",
    "for structure in structure_groups:\n",
    "    exec(f\"F_GG_{structure}_pren_intern_pep = F_GG_Count_all_1[F_GG_Count_all_1['structure_group'] == '{structure}'].reset_index(drop=True)\")"
   ]
  },
  {
   "cell_type": "code",
   "execution_count": 42,
   "metadata": {},
   "outputs": [
    {
     "name": "stdout",
     "output_type": "stream",
     "text": [
      "Pren: BEND 15 , HELX 91 , STRN 15 , TURN 10 , unstructured 66\n",
      "F: BEND 9 , HELX 29 , STRN 8 , TURN 2 , unstructured 24\n",
      "GG: BEND 2 , HELX 26 , STRN 1 , TURN 3 , unstructured 19\n",
      "F & GG: BEND 4 , HELX 36 , STRN 6 , TURN 5 , unstructured 23\n"
     ]
    }
   ],
   "source": [
    "print('Pren: BEND', len(BEND_pren_intern_pep),', HELX', len(HELX_pren_intern_pep), ', STRN', len(STRN_pren_intern_pep),', TURN', \n",
    "      len(TURN_pren_intern_pep), ', unstructured', len(unstructured_pren_intern_pep))\n",
    "\n",
    "print('F: BEND', len(F_BEND_pren_intern_pep),', HELX', len(F_HELX_pren_intern_pep), ', STRN', len(F_STRN_pren_intern_pep),', TURN', \n",
    "      len(F_TURN_pren_intern_pep), ', unstructured', len(F_unstructured_pren_intern_pep))\n",
    "\n",
    "print('GG: BEND', len(GG_BEND_pren_intern_pep),', HELX', len(GG_HELX_pren_intern_pep), ', STRN', len(GG_STRN_pren_intern_pep),', TURN', \n",
    "      len(GG_TURN_pren_intern_pep), ', unstructured', len(GG_unstructured_pren_intern_pep))\n",
    "\n",
    "print('F & GG: BEND', len(F_GG_BEND_pren_intern_pep),', HELX', len(F_GG_HELX_pren_intern_pep), ', STRN', len(F_GG_STRN_pren_intern_pep),', TURN', \n",
    "      len(F_GG_TURN_pren_intern_pep), ', unstructured', len(F_GG_unstructured_pren_intern_pep))"
   ]
  },
  {
   "cell_type": "code",
   "execution_count": 43,
   "metadata": {},
   "outputs": [
    {
     "data": {
      "text/plain": [
       "\"\\nF_BEND_pren_intern_pep['pepC'].to_csv(os.path.join(PSSMSearch, 'structure', 'BEND_F_intern_pep.txt'), header=None, index=None, sep=' ')\\nF_HELX_pren_intern_pep['pepC'].to_csv(os.path.join(PSSMSearch, 'structure', 'HELX_F_intern_pep.txt'), header=None, index=None, sep=' ')\\nF_STRN_pren_intern_pep['pepC'].to_csv(os.path.join(PSSMSearch, 'structure', 'STRN_F_intern_pep.txt'), header=None, index=None, sep=' ')\\nF_TURN_pren_intern_pep['pepC'].to_csv(os.path.join(PSSMSearch, 'structure', 'TURN_F_intern_pep.txt'), header=None, index=None, sep=' ')\\nF_unstructured_pren_intern_pep['pepC'].to_csv(os.path.join(PSSMSearch, 'structure', 'unstructured_F_intern_pep.txt'), header=None, index=None, sep=' ')\\n\\nGG_BEND_pren_intern_pep['pepC'].to_csv(os.path.join(PSSMSearch, 'structure', 'BEND_GG_intern_pep.txt'), header=None, index=None, sep=' ')\\nGG_HELX_pren_intern_pep['pepC'].to_csv(os.path.join(PSSMSearch, 'structure', 'HELX_GG_intern_pep.txt'), header=None, index=None, sep=' ')\\nGG_STRN_pren_intern_pep['pepC'].to_csv(os.path.join(PSSMSearch, 'structure', 'STRN_GG_intern_pep.txt'), header=None, index=None, sep=' ')\\nGG_TURN_pren_intern_pep['pepC'].to_csv(os.path.join(PSSMSearch, 'structure', 'TURN_GG_intern_pep.txt'), header=None, index=None, sep=' ')\\nGG_unstructured_pren_intern_pep['pepC'].to_csv(os.path.join(PSSMSearch, 'structure', 'unstructured_GG_intern_pep.txt'), header=None, index=None, sep=' ')\\n\\nF_GG_BEND_pren_intern_pep['pepC'].to_csv(os.path.join(PSSMSearch, 'structure', 'BEND_F_GG_intern_pep.txt'), header=None, index=None, sep=' ')\\nF_GG_HELX_pren_intern_pep['pepC'].to_csv(os.path.join(PSSMSearch, 'structure', 'HELX_F_GG_intern_pep.txt'), header=None, index=None, sep=' ')\\nF_GG_STRN_pren_intern_pep['pepC'].to_csv(os.path.join(PSSMSearch, 'structure', 'STRN_F_GG_intern_pep.txt'), header=None, index=None, sep=' ')\\nF_GG_TURN_pren_intern_pep['pepC'].to_csv(os.path.join(PSSMSearch, 'structure', 'TURN_F_GG_intern_pep.txt'), header=None, index=None, sep=' ')\\nF_GG_unstructured_pren_intern_pep['pepC'].to_csv(os.path.join(PSSMSearch, 'structure', 'unstructured_F_GG_intern_pep.txt'), header=None, index=None, sep=' ')\\n\""
      ]
     },
     "execution_count": 43,
     "metadata": {},
     "output_type": "execute_result"
    }
   ],
   "source": [
    "# save peptides in txt format for pssmsearch\n",
    "BEND_pren_intern_pep['pep'].to_csv(os.path.join(PSSMSearch, 'structure', 'BEND_pren_intern_pep.txt'), header=None, index=None, sep=' ')\n",
    "HELX_pren_intern_pep['pep'].to_csv(os.path.join(PSSMSearch, 'structure', 'HELX_pren_intern_pep.txt'), header=None, index=None, sep=' ')\n",
    "STRN_pren_intern_pep['pep'].to_csv(os.path.join(PSSMSearch, 'structure', 'STRN_pren_intern_pep.txt'), header=None, index=None, sep=' ')\n",
    "TURN_pren_intern_pep['pep'].to_csv(os.path.join(PSSMSearch, 'structure', 'TURN_pren_intern_pep.txt'), header=None, index=None, sep=' ')\n",
    "unstructured_pren_intern_pep['pep'].to_csv(os.path.join(PSSMSearch, 'structure', 'unstructured_pren_intern_pep.txt'), header=None, index=None, sep=' ')\n",
    "'''\n",
    "F_BEND_pren_intern_pep['pepC'].to_csv(os.path.join(PSSMSearch, 'structure', 'BEND_F_intern_pep.txt'), header=None, index=None, sep=' ')\n",
    "F_HELX_pren_intern_pep['pepC'].to_csv(os.path.join(PSSMSearch, 'structure', 'HELX_F_intern_pep.txt'), header=None, index=None, sep=' ')\n",
    "F_STRN_pren_intern_pep['pepC'].to_csv(os.path.join(PSSMSearch, 'structure', 'STRN_F_intern_pep.txt'), header=None, index=None, sep=' ')\n",
    "F_TURN_pren_intern_pep['pepC'].to_csv(os.path.join(PSSMSearch, 'structure', 'TURN_F_intern_pep.txt'), header=None, index=None, sep=' ')\n",
    "F_unstructured_pren_intern_pep['pepC'].to_csv(os.path.join(PSSMSearch, 'structure', 'unstructured_F_intern_pep.txt'), header=None, index=None, sep=' ')\n",
    "\n",
    "GG_BEND_pren_intern_pep['pepC'].to_csv(os.path.join(PSSMSearch, 'structure', 'BEND_GG_intern_pep.txt'), header=None, index=None, sep=' ')\n",
    "GG_HELX_pren_intern_pep['pepC'].to_csv(os.path.join(PSSMSearch, 'structure', 'HELX_GG_intern_pep.txt'), header=None, index=None, sep=' ')\n",
    "GG_STRN_pren_intern_pep['pepC'].to_csv(os.path.join(PSSMSearch, 'structure', 'STRN_GG_intern_pep.txt'), header=None, index=None, sep=' ')\n",
    "GG_TURN_pren_intern_pep['pepC'].to_csv(os.path.join(PSSMSearch, 'structure', 'TURN_GG_intern_pep.txt'), header=None, index=None, sep=' ')\n",
    "GG_unstructured_pren_intern_pep['pepC'].to_csv(os.path.join(PSSMSearch, 'structure', 'unstructured_GG_intern_pep.txt'), header=None, index=None, sep=' ')\n",
    "\n",
    "F_GG_BEND_pren_intern_pep['pepC'].to_csv(os.path.join(PSSMSearch, 'structure', 'BEND_F_GG_intern_pep.txt'), header=None, index=None, sep=' ')\n",
    "F_GG_HELX_pren_intern_pep['pepC'].to_csv(os.path.join(PSSMSearch, 'structure', 'HELX_F_GG_intern_pep.txt'), header=None, index=None, sep=' ')\n",
    "F_GG_STRN_pren_intern_pep['pepC'].to_csv(os.path.join(PSSMSearch, 'structure', 'STRN_F_GG_intern_pep.txt'), header=None, index=None, sep=' ')\n",
    "F_GG_TURN_pren_intern_pep['pepC'].to_csv(os.path.join(PSSMSearch, 'structure', 'TURN_F_GG_intern_pep.txt'), header=None, index=None, sep=' ')\n",
    "F_GG_unstructured_pren_intern_pep['pepC'].to_csv(os.path.join(PSSMSearch, 'structure', 'unstructured_F_GG_intern_pep.txt'), header=None, index=None, sep=' ')\n",
    "'''"
   ]
  },
  {
   "cell_type": "markdown",
   "metadata": {},
   "source": [
    "## Hypergeometric distribution and Fisher's exact test"
   ]
  },
  {
   "cell_type": "code",
   "execution_count": 44,
   "metadata": {},
   "outputs": [],
   "source": [
    "# How many Cs per structure can we expect, based on the background? Are they significantly different from what we found?"
   ]
  },
  {
   "cell_type": "code",
   "execution_count": 45,
   "metadata": {},
   "outputs": [],
   "source": [
    "# Back: BEND 22 , HELX 115 , STRN 34 , TURN 17 , unstructured 108"
   ]
  },
  {
   "cell_type": "code",
   "execution_count": 46,
   "metadata": {},
   "outputs": [],
   "source": [
    "K_arr = [22, 115, 34, 17, 108] # background C distribution in the different secondary protein structures\n",
    "\n",
    "urn = Urn(K_arr)"
   ]
  },
  {
   "cell_type": "markdown",
   "metadata": {},
   "source": [
    "###### All prenylated"
   ]
  },
  {
   "cell_type": "code",
   "execution_count": 47,
   "metadata": {},
   "outputs": [
    {
     "name": "stdout",
     "output_type": "stream",
     "text": [
      "Expected distribution: [15, 77, 23, 11, 72]\n",
      "Actual distribution: 15 91 15 10 66\n"
     ]
    }
   ],
   "source": [
    "n = len(pren_all_C1) # number of draws, all Cs in internally prenylated proteins\n",
    "m, v = urn.moments(n) # mean, variance-covariance matrix\n",
    "\n",
    "print('Expected distribution:', [round(value) for value in m])\n",
    "print('Actual distribution:', len(BEND_pren_intern_pep), len(HELX_pren_intern_pep), len(STRN_pren_intern_pep), \n",
    "      len(TURN_pren_intern_pep), len(unstructured_pren_intern_pep))"
   ]
  },
  {
   "cell_type": "code",
   "execution_count": 48,
   "metadata": {},
   "outputs": [
    {
     "name": "stdout",
     "output_type": "stream",
     "text": [
      "BEND: p-value = 1.0\n",
      "HELX: p-value = 0.0002\n",
      "STRN: p-value = 0.0101\n",
      "TURN: p-value = 0.7871\n",
      "unstructured: p-value = 0.0748\n"
     ]
    }
   ],
   "source": [
    "# prenylated vs. background\n",
    "\n",
    "# Pren: BEND 15 , HELX 92 , STRN 15 , TURN 9 , unstructured 64\n",
    "# Back: BEND 22 , HELX 115 , STRN 33 , TURN 16 , unstructured 110\n",
    "\n",
    "print('BEND: p-value =', round(fishers_exact_test(len(BEND_pren_intern_pep), len(pren_all_C1), 22, 296), 4))\n",
    "print('HELX: p-value =', round(fishers_exact_test(len(HELX_pren_intern_pep), len(pren_all_C1), 115, 296), 4))\n",
    "print('STRN: p-value =', round(fishers_exact_test(len(STRN_pren_intern_pep), len(pren_all_C1), 33, 296), 4))\n",
    "print('TURN: p-value =', round(fishers_exact_test(len(TURN_pren_intern_pep), len(pren_all_C1), 16, 296), 4))\n",
    "print('unstructured: p-value =', round(fishers_exact_test(len(unstructured_pren_intern_pep), len(pren_all_C1), 110, 296), 4))"
   ]
  },
  {
   "cell_type": "markdown",
   "metadata": {},
   "source": [
    "##### F"
   ]
  },
  {
   "cell_type": "code",
   "execution_count": 49,
   "metadata": {},
   "outputs": [
    {
     "name": "stdout",
     "output_type": "stream",
     "text": [
      "Expected distribution: [5, 28, 8, 4, 26]\n",
      "Actual distribution: 9 29 8 2 24\n"
     ]
    }
   ],
   "source": [
    "n = len(F_Count_all_1) # number of draws\n",
    "m, v = urn.moments(n) # mean, variance-covariance matrix\n",
    "\n",
    "print('Expected distribution:', [round(value) for value in m])\n",
    "print('Actual distribution:', len(F_BEND_pren_intern_pep), len(F_HELX_pren_intern_pep), len(F_STRN_pren_intern_pep), \n",
    "      len(F_TURN_pren_intern_pep), len(F_unstructured_pren_intern_pep))"
   ]
  },
  {
   "cell_type": "code",
   "execution_count": 50,
   "metadata": {},
   "outputs": [
    {
     "name": "stdout",
     "output_type": "stream",
     "text": [
      "BEND: p-value = 0.0715\n",
      "HELX: p-value = 0.7826\n",
      "STRN: p-value = 1.0\n",
      "TURN: p-value = 0.3732\n",
      "unstructured: p-value = 0.485\n"
     ]
    }
   ],
   "source": [
    "# F vs. background\n",
    "\n",
    "# F: BEND 9 , HELX 29 , STRN 8 , TURN 2 , unstructured 22\n",
    "# Back: BEND 22 , HELX 115 , STRN 33 , TURN 16 , unstructured 110\n",
    "\n",
    "print('BEND: p-value =', round(fishers_exact_test(len(F_BEND_pren_intern_pep), len(F_Count_all_1), 22, 296), 4))\n",
    "print('HELX: p-value =', round(fishers_exact_test(len(F_HELX_pren_intern_pep), len(F_Count_all_1), 115, 296), 4))\n",
    "print('STRN: p-value =', round(fishers_exact_test(len(F_STRN_pren_intern_pep), len(F_Count_all_1), 33, 296), 4))\n",
    "print('TURN: p-value =', round(fishers_exact_test(len(F_TURN_pren_intern_pep), len(F_Count_all_1), 16, 296), 4))\n",
    "print('unstructured: p-value =', round(fishers_exact_test(len(F_unstructured_pren_intern_pep), len(F_Count_all_1), 110, 296), 4))"
   ]
  },
  {
   "cell_type": "markdown",
   "metadata": {},
   "source": [
    "##### GG"
   ]
  },
  {
   "cell_type": "code",
   "execution_count": 51,
   "metadata": {},
   "outputs": [
    {
     "name": "stdout",
     "output_type": "stream",
     "text": [
      "Expected distribution: [4, 20, 6, 3, 19]\n",
      "Actual distribution: 2 26 1 3 19\n"
     ]
    }
   ],
   "source": [
    "n = len(GG_Count_all_1) # number of draws\n",
    "m, v = urn.moments(n) # mean, variance-covariance matrix\n",
    "\n",
    "print('Expected distribution:', [round(value) for value in m])\n",
    "print('Actual distribution:', len(GG_BEND_pren_intern_pep), len(GG_HELX_pren_intern_pep), len(GG_STRN_pren_intern_pep), \n",
    "      len(GG_TURN_pren_intern_pep), len(GG_unstructured_pren_intern_pep))"
   ]
  },
  {
   "cell_type": "code",
   "execution_count": 52,
   "metadata": {},
   "outputs": [
    {
     "name": "stdout",
     "output_type": "stream",
     "text": [
      "BEND: p-value = 0.3895\n",
      "HELX: p-value = 0.0586\n",
      "STRN: p-value = 0.0247\n",
      "TURN: p-value = 0.744\n",
      "unstructured: p-value = 1.0\n"
     ]
    }
   ],
   "source": [
    "# GG vs. background\n",
    "\n",
    "# GG: BEND 2 , HELX 26 , STRN 1 , TURN 3 , unstructured 20\n",
    "# Back: BEND 22 , HELX 115 , STRN 33 , TURN 16 , unstructured 110\n",
    "\n",
    "print('BEND: p-value =', round(fishers_exact_test(len(GG_BEND_pren_intern_pep), len(GG_Count_all_1), 22, 296), 4))\n",
    "print('HELX: p-value =', round(fishers_exact_test(len(GG_HELX_pren_intern_pep), len(GG_Count_all_1), 115, 296), 4))\n",
    "print('STRN: p-value =', round(fishers_exact_test(len(GG_STRN_pren_intern_pep), len(GG_Count_all_1), 33, 296), 4))\n",
    "print('TURN: p-value =', round(fishers_exact_test(len(GG_TURN_pren_intern_pep), len(GG_Count_all_1), 16, 296), 4))\n",
    "print('unstructured: p-value =', round(fishers_exact_test(len(GG_unstructured_pren_intern_pep), len(GG_Count_all_1), 110, 296), 4))"
   ]
  },
  {
   "cell_type": "markdown",
   "metadata": {},
   "source": [
    "##### F & GG"
   ]
  },
  {
   "cell_type": "code",
   "execution_count": 53,
   "metadata": {},
   "outputs": [
    {
     "name": "stdout",
     "output_type": "stream",
     "text": [
      "Expected distribution: [6, 29, 8, 4, 27]\n",
      "Actual distribution: 4 36 6 5 23\n"
     ]
    }
   ],
   "source": [
    "n = len(F_GG_Count_all_1) # number of draws\n",
    "m, v = urn.moments(n) # mean, variance-covariance matrix\n",
    "\n",
    "print('Expected distribution:', [round(value) for value in m])\n",
    "print('Actual distribution:', len(F_GG_BEND_pren_intern_pep), len(F_GG_HELX_pren_intern_pep), len(F_GG_STRN_pren_intern_pep), \n",
    "      len(F_GG_TURN_pren_intern_pep), len(F_GG_unstructured_pren_intern_pep))"
   ]
  },
  {
   "cell_type": "code",
   "execution_count": 54,
   "metadata": {},
   "outputs": [
    {
     "name": "stdout",
     "output_type": "stream",
     "text": [
      "BEND: p-value = 0.6103\n",
      "HELX: p-value = 0.054\n",
      "STRN: p-value = 0.4\n",
      "TURN: p-value = 0.7729\n",
      "unstructured: p-value = 0.3291\n"
     ]
    }
   ],
   "source": [
    "# F_GG vs. background\n",
    "\n",
    "# F & GG: BEND 4 , HELX 37 , STRN 6 , TURN 4 , unstructured 22\n",
    "# Back: BEND 22 , HELX 115 , STRN 34 , TURN 17 , unstructured 108\n",
    "\n",
    "print('BEND: p-value =', round(fishers_exact_test(len(F_GG_BEND_pren_intern_pep), len(F_GG_Count_all_1), 22, 296), 4))\n",
    "print('HELX: p-value =', round(fishers_exact_test(len(F_GG_HELX_pren_intern_pep), len(F_GG_Count_all_1), 115, 296), 4))\n",
    "print('STRN: p-value =', round(fishers_exact_test(len(F_GG_STRN_pren_intern_pep), len(F_GG_Count_all_1), 34, 296), 4))\n",
    "print('TURN: p-value =', round(fishers_exact_test(len(F_GG_TURN_pren_intern_pep), len(F_GG_Count_all_1), 17, 296), 4))\n",
    "print('unstructured: p-value =', round(fishers_exact_test(len(F_GG_unstructured_pren_intern_pep), len(F_GG_Count_all_1), 108, 296), 4))"
   ]
  },
  {
   "cell_type": "markdown",
   "metadata": {},
   "source": [
    "# Search for double prenylated cysteines"
   ]
  },
  {
   "cell_type": "code",
   "execution_count": 55,
   "metadata": {},
   "outputs": [
    {
     "data": {
      "text/html": [
       "<div>\n",
       "<style scoped>\n",
       "    .dataframe tbody tr th:only-of-type {\n",
       "        vertical-align: middle;\n",
       "    }\n",
       "\n",
       "    .dataframe tbody tr th {\n",
       "        vertical-align: top;\n",
       "    }\n",
       "\n",
       "    .dataframe thead th {\n",
       "        text-align: right;\n",
       "    }\n",
       "</style>\n",
       "<table border=\"1\" class=\"dataframe\">\n",
       "  <thead>\n",
       "    <tr style=\"text-align: right;\">\n",
       "      <th></th>\n",
       "      <th>ID</th>\n",
       "      <th>name</th>\n",
       "      <th>quality</th>\n",
       "      <th>structure_group</th>\n",
       "      <th>Ccount</th>\n",
       "      <th>Count_all</th>\n",
       "      <th>nAA_30_180_pae</th>\n",
       "      <th>len</th>\n",
       "      <th>Cpos</th>\n",
       "      <th>N_Cpos</th>\n",
       "      <th>pep</th>\n",
       "      <th>pepCCC</th>\n",
       "      <th>pepCC</th>\n",
       "      <th>pepCXC</th>\n",
       "      <th>pepC</th>\n",
       "      <th>lowest_pae</th>\n",
       "      <th>accs_count</th>\n",
       "    </tr>\n",
       "  </thead>\n",
       "  <tbody>\n",
       "    <tr>\n",
       "      <th>0</th>\n",
       "      <td>Q6IAA8</td>\n",
       "      <td>LTOR1</td>\n",
       "      <td>NaN</td>\n",
       "      <td>unstructured</td>\n",
       "      <td>2</td>\n",
       "      <td>2</td>\n",
       "      <td>1</td>\n",
       "      <td>161</td>\n",
       "      <td>[-159, -158]</td>\n",
       "      <td>[3, 4]</td>\n",
       "      <td>[MGCCYSSE, MGCCYSSEN]</td>\n",
       "      <td>NaN</td>\n",
       "      <td>NaN</td>\n",
       "      <td>NaN</td>\n",
       "      <td>NaN</td>\n",
       "      <td>1</td>\n",
       "      <td>2</td>\n",
       "    </tr>\n",
       "    <tr>\n",
       "      <th>1</th>\n",
       "      <td>Q7KZN9</td>\n",
       "      <td>COX15</td>\n",
       "      <td>NaN</td>\n",
       "      <td>unstructured</td>\n",
       "      <td>6</td>\n",
       "      <td>6</td>\n",
       "      <td>1</td>\n",
       "      <td>410</td>\n",
       "      <td>[-380, -378]</td>\n",
       "      <td>[33, 31]</td>\n",
       "      <td>[APRAQCDCIRR, RAQCDCIRRPL]</td>\n",
       "      <td>NaN</td>\n",
       "      <td>NaN</td>\n",
       "      <td>RAQCDCIRR</td>\n",
       "      <td>NaN</td>\n",
       "      <td>1</td>\n",
       "      <td>2</td>\n",
       "    </tr>\n",
       "    <tr>\n",
       "      <th>2</th>\n",
       "      <td>Q8WWI5</td>\n",
       "      <td>CTL1</td>\n",
       "      <td>NaN</td>\n",
       "      <td>HELX</td>\n",
       "      <td>27</td>\n",
       "      <td>27</td>\n",
       "      <td>2</td>\n",
       "      <td>657</td>\n",
       "      <td>[-655, -654]</td>\n",
       "      <td>[3, 4]</td>\n",
       "      <td>[MGCCSSAS, MGCCSSASS]</td>\n",
       "      <td>NaN</td>\n",
       "      <td>NaN</td>\n",
       "      <td>NaN</td>\n",
       "      <td>NaN</td>\n",
       "      <td>2</td>\n",
       "      <td>2</td>\n",
       "    </tr>\n",
       "    <tr>\n",
       "      <th>3</th>\n",
       "      <td>Q08722</td>\n",
       "      <td>CD47</td>\n",
       "      <td>NaN</td>\n",
       "      <td>[unstructured, TURN]</td>\n",
       "      <td>3</td>\n",
       "      <td>7</td>\n",
       "      <td>1</td>\n",
       "      <td>323</td>\n",
       "      <td>[-310, -309]</td>\n",
       "      <td>[14, 15]</td>\n",
       "      <td>[LGSACCGSAQL, LLGSACCGSAQ]</td>\n",
       "      <td>NaN</td>\n",
       "      <td>LGSACCGSAQ</td>\n",
       "      <td>NaN</td>\n",
       "      <td>NaN</td>\n",
       "      <td>1</td>\n",
       "      <td>2</td>\n",
       "    </tr>\n",
       "    <tr>\n",
       "      <th>4</th>\n",
       "      <td>Q2TAA5</td>\n",
       "      <td>ALG11</td>\n",
       "      <td>NaN</td>\n",
       "      <td>[unstructured, HELX]</td>\n",
       "      <td>14</td>\n",
       "      <td>14</td>\n",
       "      <td>1</td>\n",
       "      <td>492</td>\n",
       "      <td>[-484, -482]</td>\n",
       "      <td>[9, 11]</td>\n",
       "      <td>[RSWCLCKLLRF, GERSWCLCKLL]</td>\n",
       "      <td>NaN</td>\n",
       "      <td>NaN</td>\n",
       "      <td>RSWCLCKLL</td>\n",
       "      <td>NaN</td>\n",
       "      <td>1</td>\n",
       "      <td>2</td>\n",
       "    </tr>\n",
       "    <tr>\n",
       "      <th>5</th>\n",
       "      <td>Q9UKR5</td>\n",
       "      <td>ERG28</td>\n",
       "      <td>NaN</td>\n",
       "      <td>HELX</td>\n",
       "      <td>2</td>\n",
       "      <td>2</td>\n",
       "      <td>1</td>\n",
       "      <td>140</td>\n",
       "      <td>[-76, -74]</td>\n",
       "      <td>[65, 67]</td>\n",
       "      <td>[VIRCLCAIDIH, SSVIRCLCAID]</td>\n",
       "      <td>NaN</td>\n",
       "      <td>NaN</td>\n",
       "      <td>VIRCLCAID</td>\n",
       "      <td>NaN</td>\n",
       "      <td>1</td>\n",
       "      <td>2</td>\n",
       "    </tr>\n",
       "    <tr>\n",
       "      <th>6</th>\n",
       "      <td>Q9NY35</td>\n",
       "      <td>CLDN1</td>\n",
       "      <td>NaN</td>\n",
       "      <td>HELX</td>\n",
       "      <td>12</td>\n",
       "      <td>12</td>\n",
       "      <td>4</td>\n",
       "      <td>253</td>\n",
       "      <td>[-92, -90]</td>\n",
       "      <td>[162, 164]</td>\n",
       "      <td>[IGLCACICRSL, LCACICRSLYP]</td>\n",
       "      <td>NaN</td>\n",
       "      <td>NaN</td>\n",
       "      <td>[LCACICRSL, IGLCACICR]</td>\n",
       "      <td>NaN</td>\n",
       "      <td>4</td>\n",
       "      <td>2</td>\n",
       "    </tr>\n",
       "    <tr>\n",
       "      <th>7</th>\n",
       "      <td>Q9H0R3</td>\n",
       "      <td>TM222</td>\n",
       "      <td>NaN</td>\n",
       "      <td>TURN</td>\n",
       "      <td>7</td>\n",
       "      <td>7</td>\n",
       "      <td>3</td>\n",
       "      <td>208</td>\n",
       "      <td>[-69, -68]</td>\n",
       "      <td>[140, 141]</td>\n",
       "      <td>[MHNLCCDNCHS, RMHNLCCDNCH]</td>\n",
       "      <td>NaN</td>\n",
       "      <td>MHNLCCDNCH</td>\n",
       "      <td>NaN</td>\n",
       "      <td>NaN</td>\n",
       "      <td>3</td>\n",
       "      <td>2</td>\n",
       "    </tr>\n",
       "    <tr>\n",
       "      <th>8</th>\n",
       "      <td>P05556</td>\n",
       "      <td>ITB1</td>\n",
       "      <td>NaN</td>\n",
       "      <td>[HELX, TURN]</td>\n",
       "      <td>2</td>\n",
       "      <td>58</td>\n",
       "      <td>1</td>\n",
       "      <td>798</td>\n",
       "      <td>[-783, -782]</td>\n",
       "      <td>[16, 17]</td>\n",
       "      <td>[ISSVCCVFAQT, LISSVCCVFAQ]</td>\n",
       "      <td>NaN</td>\n",
       "      <td>ISSVCCVFAQ</td>\n",
       "      <td>NaN</td>\n",
       "      <td>NaN</td>\n",
       "      <td>1</td>\n",
       "      <td>2</td>\n",
       "    </tr>\n",
       "    <tr>\n",
       "      <th>9</th>\n",
       "      <td>A5PLL7</td>\n",
       "      <td>PDES1</td>\n",
       "      <td>NaN</td>\n",
       "      <td>[unstructured, TURN]</td>\n",
       "      <td>8</td>\n",
       "      <td>8</td>\n",
       "      <td>1</td>\n",
       "      <td>270</td>\n",
       "      <td>[-250, -249]</td>\n",
       "      <td>[21, 22]</td>\n",
       "      <td>[DEASCCRWGAQ, EDEASCCRWGA]</td>\n",
       "      <td>NaN</td>\n",
       "      <td>DEASCCRWGA</td>\n",
       "      <td>NaN</td>\n",
       "      <td>NaN</td>\n",
       "      <td>1</td>\n",
       "      <td>2</td>\n",
       "    </tr>\n",
       "  </tbody>\n",
       "</table>\n",
       "</div>"
      ],
      "text/plain": [
       "       ID   name  quality       structure_group  Ccount  Count_all  \\\n",
       "0  Q6IAA8  LTOR1      NaN          unstructured       2          2   \n",
       "1  Q7KZN9  COX15      NaN          unstructured       6          6   \n",
       "2  Q8WWI5   CTL1      NaN                  HELX      27         27   \n",
       "3  Q08722   CD47      NaN  [unstructured, TURN]       3          7   \n",
       "4  Q2TAA5  ALG11      NaN  [unstructured, HELX]      14         14   \n",
       "5  Q9UKR5  ERG28      NaN                  HELX       2          2   \n",
       "6  Q9NY35  CLDN1      NaN                  HELX      12         12   \n",
       "7  Q9H0R3  TM222      NaN                  TURN       7          7   \n",
       "8  P05556   ITB1      NaN          [HELX, TURN]       2         58   \n",
       "9  A5PLL7  PDES1      NaN  [unstructured, TURN]       8          8   \n",
       "\n",
       "   nAA_30_180_pae  len          Cpos      N_Cpos                         pep  \\\n",
       "0               1  161  [-159, -158]      [3, 4]       [MGCCYSSE, MGCCYSSEN]   \n",
       "1               1  410  [-380, -378]    [33, 31]  [APRAQCDCIRR, RAQCDCIRRPL]   \n",
       "2               2  657  [-655, -654]      [3, 4]       [MGCCSSAS, MGCCSSASS]   \n",
       "3               1  323  [-310, -309]    [14, 15]  [LGSACCGSAQL, LLGSACCGSAQ]   \n",
       "4               1  492  [-484, -482]     [9, 11]  [RSWCLCKLLRF, GERSWCLCKLL]   \n",
       "5               1  140    [-76, -74]    [65, 67]  [VIRCLCAIDIH, SSVIRCLCAID]   \n",
       "6               4  253    [-92, -90]  [162, 164]  [IGLCACICRSL, LCACICRSLYP]   \n",
       "7               3  208    [-69, -68]  [140, 141]  [MHNLCCDNCHS, RMHNLCCDNCH]   \n",
       "8               1  798  [-783, -782]    [16, 17]  [ISSVCCVFAQT, LISSVCCVFAQ]   \n",
       "9               1  270  [-250, -249]    [21, 22]  [DEASCCRWGAQ, EDEASCCRWGA]   \n",
       "\n",
       "   pepCCC       pepCC                  pepCXC pepC  lowest_pae  accs_count  \n",
       "0     NaN         NaN                     NaN  NaN           1           2  \n",
       "1     NaN         NaN               RAQCDCIRR  NaN           1           2  \n",
       "2     NaN         NaN                     NaN  NaN           2           2  \n",
       "3     NaN  LGSACCGSAQ                     NaN  NaN           1           2  \n",
       "4     NaN         NaN               RSWCLCKLL  NaN           1           2  \n",
       "5     NaN         NaN               VIRCLCAID  NaN           1           2  \n",
       "6     NaN         NaN  [LCACICRSL, IGLCACICR]  NaN           4           2  \n",
       "7     NaN  MHNLCCDNCH                     NaN  NaN           3           2  \n",
       "8     NaN  ISSVCCVFAQ                     NaN  NaN           1           2  \n",
       "9     NaN  DEASCCRWGA                     NaN  NaN           1           2  "
      ]
     },
     "execution_count": 55,
     "metadata": {},
     "output_type": "execute_result"
    }
   ],
   "source": [
    "# Proteins with 2 most accessible cysteines in close proximity\n",
    "\n",
    "pren_accs_2 = agg_pren_intern_accs[(agg_pren_intern_accs['pepC'].isna()) & (agg_pren_intern_accs['accs_count'] == 2)].reset_index(drop=True)\n",
    "pren_accs_2"
   ]
  },
  {
   "cell_type": "code",
   "execution_count": 56,
   "metadata": {},
   "outputs": [
    {
     "data": {
      "text/html": [
       "<div>\n",
       "<style scoped>\n",
       "    .dataframe tbody tr th:only-of-type {\n",
       "        vertical-align: middle;\n",
       "    }\n",
       "\n",
       "    .dataframe tbody tr th {\n",
       "        vertical-align: top;\n",
       "    }\n",
       "\n",
       "    .dataframe thead th {\n",
       "        text-align: right;\n",
       "    }\n",
       "</style>\n",
       "<table border=\"1\" class=\"dataframe\">\n",
       "  <thead>\n",
       "    <tr style=\"text-align: right;\">\n",
       "      <th></th>\n",
       "      <th>ID</th>\n",
       "      <th>name</th>\n",
       "      <th>quality</th>\n",
       "      <th>structure_group</th>\n",
       "      <th>Ccount</th>\n",
       "      <th>Count_all</th>\n",
       "      <th>nAA_30_180_pae</th>\n",
       "      <th>len</th>\n",
       "      <th>Cpos</th>\n",
       "      <th>N_Cpos</th>\n",
       "      <th>pep</th>\n",
       "      <th>pepCCC</th>\n",
       "      <th>pepCC</th>\n",
       "      <th>pepCXC</th>\n",
       "      <th>pepC</th>\n",
       "      <th>lowest_pae</th>\n",
       "      <th>accs_count</th>\n",
       "    </tr>\n",
       "  </thead>\n",
       "  <tbody>\n",
       "    <tr>\n",
       "      <th>0</th>\n",
       "      <td>Q9UHG3</td>\n",
       "      <td>PCYOX</td>\n",
       "      <td>NaN</td>\n",
       "      <td>[BEND, unstructured, TURN]</td>\n",
       "      <td>7</td>\n",
       "      <td>7</td>\n",
       "      <td>2</td>\n",
       "      <td>505</td>\n",
       "      <td>[-486, -484, -482]</td>\n",
       "      <td>[24, 20, 22]</td>\n",
       "      <td>[LLLCSCGCPEG, LCSCGCPEGAE, LWLLLCSCGCP]</td>\n",
       "      <td>NaN</td>\n",
       "      <td>NaN</td>\n",
       "      <td>[LLLCSCGCP, LCSCGCPEG]</td>\n",
       "      <td>NaN</td>\n",
       "      <td>2</td>\n",
       "      <td>3</td>\n",
       "    </tr>\n",
       "  </tbody>\n",
       "</table>\n",
       "</div>"
      ],
      "text/plain": [
       "       ID   name  quality             structure_group  Ccount  Count_all  \\\n",
       "0  Q9UHG3  PCYOX      NaN  [BEND, unstructured, TURN]       7          7   \n",
       "\n",
       "   nAA_30_180_pae  len                Cpos        N_Cpos  \\\n",
       "0               2  505  [-486, -484, -482]  [24, 20, 22]   \n",
       "\n",
       "                                       pep  pepCCC pepCC  \\\n",
       "0  [LLLCSCGCPEG, LCSCGCPEGAE, LWLLLCSCGCP]     NaN   NaN   \n",
       "\n",
       "                   pepCXC pepC  lowest_pae  accs_count  \n",
       "0  [LLLCSCGCP, LCSCGCPEG]  NaN           2           3  "
      ]
     },
     "execution_count": 56,
     "metadata": {},
     "output_type": "execute_result"
    }
   ],
   "source": [
    "# Proteins with 3 most accessible cysteines in close proximity\n",
    "\n",
    "pren_accs_3 = agg_pren_intern_accs[(agg_pren_intern_accs['pepC'].isna()) & (agg_pren_intern_accs['accs_count'] == 3)].reset_index(drop=True)\n",
    "pren_accs_3"
   ]
  },
  {
   "cell_type": "code",
   "execution_count": null,
   "metadata": {},
   "outputs": [],
   "source": []
  }
 ],
 "metadata": {
  "kernelspec": {
   "display_name": "Python 3 (ipykernel)",
   "language": "python",
   "name": "python3"
  },
  "language_info": {
   "codemirror_mode": {
    "name": "ipython",
    "version": 3
   },
   "file_extension": ".py",
   "mimetype": "text/x-python",
   "name": "python",
   "nbconvert_exporter": "python",
   "pygments_lexer": "ipython3",
   "version": "3.8.18"
  },
  "toc": {
   "base_numbering": 1,
   "nav_menu": {},
   "number_sections": true,
   "sideBar": true,
   "skip_h1_title": false,
   "title_cell": "Table of Contents",
   "title_sidebar": "Contents",
   "toc_cell": true,
   "toc_position": {
    "height": "calc(100% - 180px)",
    "left": "10px",
    "top": "150px",
    "width": "361.9px"
   },
   "toc_section_display": true,
   "toc_window_display": false
  }
 },
 "nbformat": 4,
 "nbformat_minor": 4
}
