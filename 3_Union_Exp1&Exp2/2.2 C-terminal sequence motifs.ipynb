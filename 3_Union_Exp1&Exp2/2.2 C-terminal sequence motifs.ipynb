{
 "cells": [
  {
   "cell_type": "markdown",
   "id": "4a725146",
   "metadata": {
    "toc": true
   },
   "source": [
    "<h1>Table of Contents<span class=\"tocSkip\"></span></h1>\n",
    "<div class=\"toc\"><ul class=\"toc-item\"><li><span><a href=\"#Found-proteins-with-canonical-motifs\" data-toc-modified-id=\"Found-proteins-with-canonical-motifs-1\"><span class=\"toc-item-num\">1&nbsp;&nbsp;</span>Found proteins with canonical motifs</a></span><ul class=\"toc-item\"><li><span><a href=\"#Known-identified-with-canonical-motif\" data-toc-modified-id=\"Known-identified-with-canonical-motif-1.1\"><span class=\"toc-item-num\">1.1&nbsp;&nbsp;</span>Known identified with canonical motif</a></span></li><li><span><a href=\"#Novel-identified-with-canonical-motif\" data-toc-modified-id=\"Novel-identified-with-canonical-motif-1.2\"><span class=\"toc-item-num\">1.2&nbsp;&nbsp;</span>Novel identified with canonical motif</a></span></li></ul></li><li><span><a href=\"#Found-proteins-with-new-C-terminal-motifs\" data-toc-modified-id=\"Found-proteins-with-new-C-terminal-motifs-2\"><span class=\"toc-item-num\">2&nbsp;&nbsp;</span>Found proteins with new C-terminal motifs</a></span></li><li><span><a href=\"#Found-proteins-with-internal-cysteines-only\" data-toc-modified-id=\"Found-proteins-with-internal-cysteines-only-3\"><span class=\"toc-item-num\">3&nbsp;&nbsp;</span>Found proteins with internal cysteines only</a></span><ul class=\"toc-item\"><li><span><a href=\"#Characterize-internally-prenylated-proteins\" data-toc-modified-id=\"Characterize-internally-prenylated-proteins-3.1\"><span class=\"toc-item-num\">3.1&nbsp;&nbsp;</span>Characterize internally prenylated proteins</a></span></li></ul></li><li><span><a href=\"#Create-barplots-to-show-distribution-on-the-various-prenylation-motifs\" data-toc-modified-id=\"Create-barplots-to-show-distribution-on-the-various-prenylation-motifs-4\"><span class=\"toc-item-num\">4&nbsp;&nbsp;</span>Create barplots to show distribution on the various prenylation motifs</a></span><ul class=\"toc-item\"><li><span><a href=\"#Farnesylated-proteins\" data-toc-modified-id=\"Farnesylated-proteins-4.1\"><span class=\"toc-item-num\">4.1&nbsp;&nbsp;</span>Farnesylated proteins</a></span></li><li><span><a href=\"#Geranylgeranylated-proteins\" data-toc-modified-id=\"Geranylgeranylated-proteins-4.2\"><span class=\"toc-item-num\">4.2&nbsp;&nbsp;</span>Geranylgeranylated proteins</a></span></li><li><span><a href=\"#All-identified-pernylated-proteins\" data-toc-modified-id=\"All-identified-pernylated-proteins-4.3\"><span class=\"toc-item-num\">4.3&nbsp;&nbsp;</span>All identified pernylated proteins</a></span></li></ul></li><li><span><a href=\"#Sequence-logos\" data-toc-modified-id=\"Sequence-logos-5\"><span class=\"toc-item-num\">5&nbsp;&nbsp;</span>Sequence logos</a></span><ul class=\"toc-item\"><li><span><a href=\"#Canonical-motif,-known\" data-toc-modified-id=\"Canonical-motif,-known-5.1\"><span class=\"toc-item-num\">5.1&nbsp;&nbsp;</span>Canonical motif, known</a></span></li><li><span><a href=\"#Canonical-motif,-new\" data-toc-modified-id=\"Canonical-motif,-new-5.2\"><span class=\"toc-item-num\">5.2&nbsp;&nbsp;</span>Canonical motif, new</a></span></li><li><span><a href=\"#Canonical-motif,-all\" data-toc-modified-id=\"Canonical-motif,-all-5.3\"><span class=\"toc-item-num\">5.3&nbsp;&nbsp;</span>Canonical motif, all</a></span></li><li><span><a href=\"#New-C-terminal-motif\" data-toc-modified-id=\"New-C-terminal-motif-5.4\"><span class=\"toc-item-num\">5.4&nbsp;&nbsp;</span>New C-terminal motif</a></span></li></ul></li><li><span><a href=\"#Comparison-to-motifs-in-entire-human-proteome\" data-toc-modified-id=\"Comparison-to-motifs-in-entire-human-proteome-6\"><span class=\"toc-item-num\">6&nbsp;&nbsp;</span>Comparison to motifs in entire human proteome</a></span></li></ul></div>"
   ]
  },
  {
   "cell_type": "code",
   "execution_count": 1,
   "id": "d11bb9ff",
   "metadata": {},
   "outputs": [],
   "source": [
    "import sys\n",
    "import os\n",
    "import session_info\n",
    "\n",
    "# Add the '0_functions' folder to sys.path\n",
    "sys.path.append(os.path.join(os.getcwd(), '..', '0_functions'))"
   ]
  },
  {
   "cell_type": "code",
   "execution_count": 2,
   "id": "0b5300a7",
   "metadata": {
    "ExecuteTime": {
     "end_time": "2024-10-29T16:28:21.378481Z",
     "start_time": "2024-10-29T16:28:18.055369Z"
    }
   },
   "outputs": [],
   "source": [
    "import pandas as pd\n",
    "import matplotlib.pyplot as plt\n",
    "from plots import plot_grouped_bar_chart\n",
    "from functions import read_fastafile\n",
    "import dataframe_image as dfi"
   ]
  },
  {
   "cell_type": "code",
   "execution_count": 3,
   "id": "d198ebc5",
   "metadata": {
    "ExecuteTime": {
     "end_time": "2024-10-29T16:28:26.893304Z",
     "start_time": "2024-10-29T16:28:24.548475Z"
    }
   },
   "outputs": [
    {
     "data": {
      "text/html": [
       "<details>\n",
       "<summary>Click to view session information</summary>\n",
       "<pre>\n",
       "-----\n",
       "dataframe_image     NA\n",
       "functions           NA\n",
       "matplotlib          3.7.0\n",
       "pandas              2.0.3\n",
       "plots               NA\n",
       "session_info        1.0.0\n",
       "-----\n",
       "</pre>\n",
       "<details>\n",
       "<summary>Click to view modules imported as dependencies</summary>\n",
       "<pre>\n",
       "Bio                         1.83\n",
       "PIL                         10.0.1\n",
       "anyio                       NA\n",
       "asttokens                   NA\n",
       "attr                        23.1.0\n",
       "attrs                       23.1.0\n",
       "babel                       2.11.0\n",
       "backcall                    0.2.0\n",
       "beta_ufunc                  NA\n",
       "binom_ufunc                 NA\n",
       "bleach                      4.1.0\n",
       "bottleneck                  1.3.7\n",
       "brotli                      NA\n",
       "bs4                         4.12.2\n",
       "certifi                     2024.08.30\n",
       "cffi                        1.16.0\n",
       "charset_normalizer          2.0.4\n",
       "colorama                    0.4.6\n",
       "comm                        0.1.2\n",
       "cycler                      0.10.0\n",
       "cython_runtime              NA\n",
       "dateutil                    2.8.2\n",
       "debugpy                     1.6.7\n",
       "decorator                   5.1.1\n",
       "defusedxml                  0.7.1\n",
       "executing                   0.8.3\n",
       "fastjsonschema              NA\n",
       "hypergeom_ufunc             NA\n",
       "idna                        3.4\n",
       "importlib_metadata          NA\n",
       "importlib_resources         NA\n",
       "invgauss_ufunc              NA\n",
       "ipykernel                   6.25.0\n",
       "ipython_genutils            0.2.0\n",
       "ipywidgets                  7.6.5\n",
       "jedi                        0.18.1\n",
       "jinja2                      3.1.2\n",
       "json5                       NA\n",
       "jsonschema                  4.19.2\n",
       "jsonschema_specifications   NA\n",
       "jupyter_events              0.8.0\n",
       "jupyter_server              2.10.0\n",
       "jupyterlab_pygments         0.1.2\n",
       "jupyterlab_server           2.25.1\n",
       "kiwisolver                  1.4.4\n",
       "lxml                        4.9.3\n",
       "markupsafe                  2.1.1\n",
       "mistune                     2.0.4\n",
       "mkl                         2.4.0\n",
       "mpl_toolkits                NA\n",
       "nbclient                    0.8.0\n",
       "nbconvert                   7.10.0\n",
       "nbformat                    5.9.2\n",
       "nbinom_ufunc                NA\n",
       "ncf_ufunc                   NA\n",
       "nct_ufunc                   NA\n",
       "ncx2_ufunc                  NA\n",
       "nt                          NA\n",
       "numexpr                     2.8.4\n",
       "numpy                       1.24.3\n",
       "overrides                   NA\n",
       "packaging                   23.1\n",
       "pandocfilters               NA\n",
       "parso                       0.8.3\n",
       "pickleshare                 0.7.5\n",
       "pkg_resources               NA\n",
       "platformdirs                3.10.0\n",
       "prometheus_client           NA\n",
       "prompt_toolkit              3.0.36\n",
       "psutil                      5.9.0\n",
       "pure_eval                   0.2.2\n",
       "pydev_ipython               NA\n",
       "pydevconsole                NA\n",
       "pydevd                      2.9.5\n",
       "pydevd_file_utils           NA\n",
       "pydevd_plugins              NA\n",
       "pydevd_tracing              NA\n",
       "pygments                    2.11.2\n",
       "pyparsing                   3.0.9\n",
       "pythoncom                   NA\n",
       "pythonjsonlogger            NA\n",
       "pytz                        2023.3.post1\n",
       "pywintypes                  NA\n",
       "referencing                 NA\n",
       "requests                    2.31.0\n",
       "rfc3339_validator           0.1.4\n",
       "rfc3986_validator           0.1.1\n",
       "rpds                        NA\n",
       "scipy                       1.10.1\n",
       "seaborn                     0.13.2\n",
       "send2trash                  NA\n",
       "six                         1.16.0\n",
       "skewnorm_ufunc              NA\n",
       "sniffio                     1.2.0\n",
       "socks                       1.7.1\n",
       "soupsieve                   2.5\n",
       "stack_data                  0.2.0\n",
       "statsmodels                 0.13.1\n",
       "tornado                     6.3.3\n",
       "traitlets                   5.7.1\n",
       "typing_extensions           NA\n",
       "urllib3                     1.26.18\n",
       "wcwidth                     0.2.5\n",
       "webencodings                0.5.1\n",
       "websocket                   0.58.0\n",
       "yaml                        6.0.1\n",
       "zipp                        NA\n",
       "zmq                         25.1.0\n",
       "</pre>\n",
       "</details> <!-- seems like this ends pre, so might as well be explicit -->\n",
       "<pre>\n",
       "-----\n",
       "IPython             8.12.2\n",
       "jupyter_client      8.6.0\n",
       "jupyter_core        5.2.0\n",
       "jupyterlab          3.6.3\n",
       "notebook            6.1.5\n",
       "-----\n",
       "Python 3.8.18 (default, Sep 11 2023, 13:47:48) [MSC v.1916 64 bit (AMD64)]\n",
       "Windows-10-10.0.19045-SP0\n",
       "-----\n",
       "Session information updated at 2025-01-12 16:54\n",
       "</pre>\n",
       "</details>"
      ],
      "text/plain": [
       "<IPython.core.display.HTML object>"
      ]
     },
     "execution_count": 3,
     "metadata": {},
     "output_type": "execute_result"
    }
   ],
   "source": [
    "# Display session information\n",
    "session_info.show()"
   ]
  },
  {
   "cell_type": "code",
   "execution_count": 4,
   "id": "1041746e",
   "metadata": {
    "ExecuteTime": {
     "end_time": "2024-10-29T16:28:28.273162Z",
     "start_time": "2024-10-29T16:28:28.258025Z"
    }
   },
   "outputs": [],
   "source": [
    "pd.set_option('display.max_colwidth', None)\n",
    "pd.set_option('display.max_columns', None)\n",
    "pd.set_option('display.max_rows', None)"
   ]
  },
  {
   "cell_type": "code",
   "execution_count": 5,
   "id": "4f1c26bb",
   "metadata": {
    "ExecuteTime": {
     "end_time": "2024-10-29T16:28:29.857933Z",
     "start_time": "2024-10-29T16:28:29.839611Z"
    }
   },
   "outputs": [],
   "source": [
    "datafolder = 'data'\n",
    "known_proteins_datafolder = '../Known_prenylated_proteins/data'\n",
    "figures = 'data/figures'\n",
    "PSSMSearch = 'data/PssmSearch'"
   ]
  },
  {
   "cell_type": "code",
   "execution_count": 6,
   "id": "f5d93d9a",
   "metadata": {
    "ExecuteTime": {
     "end_time": "2024-10-29T16:28:32.823174Z",
     "start_time": "2024-10-29T16:28:32.688113Z"
    }
   },
   "outputs": [],
   "source": [
    "# Load data\n",
    "\n",
    "# All identified prenylated proteins that contain a cysteine\n",
    "all_found = pd.read_csv(os.path.join(datafolder, 'identified_proteins', 'identified_all_motif.csv'), sep=',')\n",
    "known_found = pd.read_csv(os.path.join(datafolder, 'identified_proteins', 'identified_known.csv'), sep=',')\n",
    "novel_found = pd.read_csv(os.path.join(datafolder, 'identified_proteins', 'identified_novel_motif.csv'), sep=',')\n",
    "\n",
    "F_found = pd.read_csv(os.path.join(datafolder, 'identified_proteins', 'identified_F.csv'), sep=',')\n",
    "GG_found = pd.read_csv(os.path.join(datafolder, 'identified_proteins', 'identified_GG.csv'), sep=',')\n",
    "F_GG_found = pd.read_csv(os.path.join(datafolder, 'identified_proteins', 'identified_F_GG.csv'), sep=',')\n",
    "\n",
    "# clean FASTA file of all identified proteins\n",
    "fasta = pd.read_csv(os.path.join(datafolder, 'identified_proteins', 'final_fasta_seqs_identified_prots.csv'), sep=',')"
   ]
  },
  {
   "cell_type": "markdown",
   "id": "02fba9df",
   "metadata": {},
   "source": [
    "##### Sequence motifs in identified prenylated proteins"
   ]
  },
  {
   "cell_type": "code",
   "execution_count": 7,
   "id": "7db14155",
   "metadata": {
    "ExecuteTime": {
     "end_time": "2024-10-29T16:28:38.515577Z",
     "start_time": "2024-10-29T16:28:38.484326Z"
    }
   },
   "outputs": [],
   "source": [
    "found_canon = all_found[all_found['motif'].isin(['CAAX', 'CXXX', 'CCXXX', 'CCXX', 'CCX', 'CXC', 'CC', 'C'])]\n",
    "found_newCterm = all_found[all_found['motif'].isin(['CXXXX', 'CXX', 'CX', 'CCC'])]\n",
    "found_internal = all_found[all_found['motif'] == 'internal']"
   ]
  },
  {
   "cell_type": "code",
   "execution_count": 8,
   "id": "ac9bc3f4",
   "metadata": {
    "ExecuteTime": {
     "end_time": "2024-10-29T16:28:39.583537Z",
     "start_time": "2024-10-29T16:28:39.563174Z"
    }
   },
   "outputs": [
    {
     "name": "stdout",
     "output_type": "stream",
     "text": [
      "Canonical motif: 117 , New-C-terminal motif: 44 , Internal cysteines: 475\n",
      "Total: 636\n"
     ]
    }
   ],
   "source": [
    "print('Canonical motif:', len(found_canon), ', New-C-terminal motif:', len(found_newCterm), ', Internal cysteines:', len(found_internal))\n",
    "print('Total:', len(found_canon)+ len(found_newCterm)+ len(found_internal))"
   ]
  },
  {
   "cell_type": "markdown",
   "id": "a28e4a80",
   "metadata": {},
   "source": [
    "# Found proteins with new C-terminal motifs"
   ]
  },
  {
   "cell_type": "code",
   "execution_count": 9,
   "id": "db8fbdc6",
   "metadata": {
    "ExecuteTime": {
     "end_time": "2024-10-29T16:28:57.281843Z",
     "start_time": "2024-10-29T16:28:55.507991Z"
    }
   },
   "outputs": [
    {
     "name": "stdout",
     "output_type": "stream",
     "text": [
      "C:\\Program Files\\Google\\Chrome\\Application\\chrome.exe\n",
      "Proteins with new C-terminal motif of all 636 identified proteins:\n"
     ]
    },
    {
     "data": {
      "text/html": [
       "<div>\n",
       "<style scoped>\n",
       "    .dataframe tbody tr th:only-of-type {\n",
       "        vertical-align: middle;\n",
       "    }\n",
       "\n",
       "    .dataframe tbody tr th {\n",
       "        vertical-align: top;\n",
       "    }\n",
       "\n",
       "    .dataframe thead th {\n",
       "        text-align: right;\n",
       "    }\n",
       "</style>\n",
       "<table border=\"1\" class=\"dataframe\">\n",
       "  <thead>\n",
       "    <tr style=\"text-align: right;\">\n",
       "      <th></th>\n",
       "      <th>motif</th>\n",
       "      <th>count</th>\n",
       "      <th>frequency</th>\n",
       "      <th>name</th>\n",
       "    </tr>\n",
       "  </thead>\n",
       "  <tbody>\n",
       "    <tr>\n",
       "      <th>0</th>\n",
       "      <td>CXX</td>\n",
       "      <td>16</td>\n",
       "      <td>2.5%</td>\n",
       "      <td>[SUMF1, STX11, HMGCL, PVR, S19A1, PUR6, BAX, HLAC, SFT2B, TMC6, AR6P6, CO3, HIBCH, REEP5, CHCH5, RIR1]</td>\n",
       "    </tr>\n",
       "    <tr>\n",
       "      <th>1</th>\n",
       "      <td>CX</td>\n",
       "      <td>15</td>\n",
       "      <td>2.4%</td>\n",
       "      <td>[HAUS5, SCP2, TPM4, MCRI2, TBK1, ASF1A, GCP3, ZAP70, PCBP1, PP4P1, XPO1, UBR7, TOP3B, ELMO1, FRG1]</td>\n",
       "    </tr>\n",
       "    <tr>\n",
       "      <th>2</th>\n",
       "      <td>CXXXX</td>\n",
       "      <td>12</td>\n",
       "      <td>1.9%</td>\n",
       "      <td>[NEK9, MINK1, ZN729, USF3, SYNE2, VIR, GDE1, NCDN, MTCH1, DPP4, UBE2O, TNR25]</td>\n",
       "    </tr>\n",
       "    <tr>\n",
       "      <th>3</th>\n",
       "      <td>CCC</td>\n",
       "      <td>1</td>\n",
       "      <td>0.2%</td>\n",
       "      <td>A16A1</td>\n",
       "    </tr>\n",
       "  </tbody>\n",
       "</table>\n",
       "</div>"
      ],
      "text/plain": [
       "   motif  count frequency  \\\n",
       "0    CXX     16      2.5%   \n",
       "1     CX     15      2.4%   \n",
       "2  CXXXX     12      1.9%   \n",
       "3    CCC      1      0.2%   \n",
       "\n",
       "                                                                                                     name  \n",
       "0  [SUMF1, STX11, HMGCL, PVR, S19A1, PUR6, BAX, HLAC, SFT2B, TMC6, AR6P6, CO3, HIBCH, REEP5, CHCH5, RIR1]  \n",
       "1      [HAUS5, SCP2, TPM4, MCRI2, TBK1, ASF1A, GCP3, ZAP70, PCBP1, PP4P1, XPO1, UBR7, TOP3B, ELMO1, FRG1]  \n",
       "2                           [NEK9, MINK1, ZN729, USF3, SYNE2, VIR, GDE1, NCDN, MTCH1, DPP4, UBE2O, TNR25]  \n",
       "3                                                                                                   A16A1  "
      ]
     },
     "metadata": {},
     "output_type": "display_data"
    }
   ],
   "source": [
    "# All identified newCterm,  frequency based o all identified\n",
    "newCterm_motif_counts = found_newCterm['motif'].value_counts()\n",
    "normalized_frequencies = (newCterm_motif_counts / len(all_found) * 100).round(1).astype(str) + '%'\n",
    "\n",
    "motif_counts_table = pd.DataFrame({'count': newCterm_motif_counts, 'frequency': normalized_frequencies}).reset_index().rename(columns={'index': 'motif'})\n",
    "\n",
    "new_canon = found_newCterm.groupby('motif')['name'].agg(set).reset_index()\n",
    "new_canon['name'] = [list(elem) if len(elem) > 1 else list(elem)[0] for elem in new_canon['name']]\n",
    "\n",
    "combined_df = pd.merge(motif_counts_table, new_canon, on='motif', how='inner')\n",
    "\n",
    "dfi.export(combined_df, os.path.join(datafolder, 'figures', 'ident_newCterm.png'))\n",
    "\n",
    "\n",
    "print('Proteins with new C-terminal motif of all', len(all_found), 'identified proteins:')\n",
    "display(combined_df)"
   ]
  },
  {
   "cell_type": "code",
   "execution_count": 10,
   "id": "cac430fe",
   "metadata": {},
   "outputs": [
    {
     "name": "stdout",
     "output_type": "stream",
     "text": [
      "Out of 274 novel identified farnesylated proteins 8.4 % have a new C-terminal motif. 23\n",
      "Out of 159 novel identified geranylgeranylated proteins 5.0 % have a new C-terminal motif. 8\n",
      "Out of 203 novel identified farnesylated or geranylgeranylated proteins 6.4 % have a new C-terminal motif. 13\n"
     ]
    }
   ],
   "source": [
    "# Novel identified farnesylated proteins with a new C-terminal motif\n",
    "new_CTerm_F = found_newCterm[found_newCterm['ID'].isin(F_found['ID'])]\n",
    "new_CTerm_GG = found_newCterm[found_newCterm['ID'].isin(GG_found['ID'])]\n",
    "new_CTerm_F_GG = found_newCterm[found_newCterm['ID'].isin(F_GG_found['ID'])]\n",
    "\n",
    "print('Out of', len(F_found), 'novel identified farnesylated proteins', round(len(new_CTerm_F) * 100 / len(F_found), 1), \n",
    "      '% have a new C-terminal motif.', len(new_CTerm_F))\n",
    "\n",
    "print('Out of', len(GG_found), 'novel identified geranylgeranylated proteins', round(len(new_CTerm_GG) * 100 / len(GG_found), 1), \n",
    "      '% have a new C-terminal motif.', len(new_CTerm_GG))\n",
    "\n",
    "print('Out of', len(F_GG_found), 'novel identified farnesylated or geranylgeranylated proteins', round(len(new_CTerm_F_GG) * 100 / len(F_GG_found), 1), \n",
    "      '% have a new C-terminal motif.', len(new_CTerm_F_GG))"
   ]
  },
  {
   "cell_type": "code",
   "execution_count": 11,
   "id": "26a7b6e5",
   "metadata": {},
   "outputs": [
    {
     "name": "stdout",
     "output_type": "stream",
     "text": [
      "C:\\Program Files\\Google\\Chrome\\Application\\chrome.exe\n",
      "Proteins with new C-terminal motif of the 274 identified farnesylated proteins:\n"
     ]
    },
    {
     "data": {
      "text/html": [
       "<div>\n",
       "<style scoped>\n",
       "    .dataframe tbody tr th:only-of-type {\n",
       "        vertical-align: middle;\n",
       "    }\n",
       "\n",
       "    .dataframe tbody tr th {\n",
       "        vertical-align: top;\n",
       "    }\n",
       "\n",
       "    .dataframe thead th {\n",
       "        text-align: right;\n",
       "    }\n",
       "</style>\n",
       "<table border=\"1\" class=\"dataframe\">\n",
       "  <thead>\n",
       "    <tr style=\"text-align: right;\">\n",
       "      <th></th>\n",
       "      <th>motif</th>\n",
       "      <th>count</th>\n",
       "      <th>frequency</th>\n",
       "      <th>name</th>\n",
       "    </tr>\n",
       "  </thead>\n",
       "  <tbody>\n",
       "    <tr>\n",
       "      <th>0</th>\n",
       "      <td>CX</td>\n",
       "      <td>11</td>\n",
       "      <td>4.0%</td>\n",
       "      <td>[HAUS5, SCP2, TPM4, MCRI2, ASF1A, ZAP70, PCBP1, UBR7, TBK1, ELMO1, FRG1]</td>\n",
       "    </tr>\n",
       "    <tr>\n",
       "      <th>1</th>\n",
       "      <td>CXX</td>\n",
       "      <td>8</td>\n",
       "      <td>2.9%</td>\n",
       "      <td>[SUMF1, HMGCL, PUR6, HLAC, TMC6, CO3, CHCH5, RIR1]</td>\n",
       "    </tr>\n",
       "    <tr>\n",
       "      <th>2</th>\n",
       "      <td>CXXXX</td>\n",
       "      <td>3</td>\n",
       "      <td>1.1%</td>\n",
       "      <td>[USF3, UBE2O, NEK9]</td>\n",
       "    </tr>\n",
       "    <tr>\n",
       "      <th>3</th>\n",
       "      <td>CCC</td>\n",
       "      <td>1</td>\n",
       "      <td>0.4%</td>\n",
       "      <td>A16A1</td>\n",
       "    </tr>\n",
       "  </tbody>\n",
       "</table>\n",
       "</div>"
      ],
      "text/plain": [
       "   motif  count frequency  \\\n",
       "0     CX     11      4.0%   \n",
       "1    CXX      8      2.9%   \n",
       "2  CXXXX      3      1.1%   \n",
       "3    CCC      1      0.4%   \n",
       "\n",
       "                                                                       name  \n",
       "0  [HAUS5, SCP2, TPM4, MCRI2, ASF1A, ZAP70, PCBP1, UBR7, TBK1, ELMO1, FRG1]  \n",
       "1                        [SUMF1, HMGCL, PUR6, HLAC, TMC6, CO3, CHCH5, RIR1]  \n",
       "2                                                       [USF3, UBE2O, NEK9]  \n",
       "3                                                                     A16A1  "
      ]
     },
     "metadata": {},
     "output_type": "display_data"
    }
   ],
   "source": [
    "# F identified newCterm\n",
    "newCterm_F_motif_counts = new_CTerm_F['motif'].value_counts()\n",
    "normalized_frequencies = (newCterm_F_motif_counts / len(F_found) * 100).round(1).astype(str) + '%'\n",
    "\n",
    "motif_counts_table = pd.DataFrame({'count': newCterm_F_motif_counts, 'frequency': normalized_frequencies}).reset_index().rename(columns={'index': 'motif'})\n",
    "\n",
    "new_canon = new_CTerm_F.groupby('motif')['name'].agg(set).reset_index()\n",
    "new_canon['name'] = [list(elem) if len(elem) > 1 else list(elem)[0] for elem in new_canon['name']]\n",
    "\n",
    "combined_df = pd.merge(motif_counts_table, new_canon, on='motif', how='inner')\n",
    "\n",
    "dfi.export(combined_df, (os.path.join(datafolder, 'figures', 'ident_newCterm_F.png')))\n",
    "\n",
    "print('Proteins with new C-terminal motif of the', len(F_found), 'identified farnesylated proteins:')\n",
    "display(combined_df)"
   ]
  },
  {
   "cell_type": "code",
   "execution_count": 12,
   "id": "c5cfe0d4",
   "metadata": {},
   "outputs": [
    {
     "name": "stdout",
     "output_type": "stream",
     "text": [
      "C:\\Program Files\\Google\\Chrome\\Application\\chrome.exe\n",
      "Proteins with new C-terminal motif of the 159 identified geranylgeranylated proteins:\n"
     ]
    },
    {
     "data": {
      "text/html": [
       "<div>\n",
       "<style scoped>\n",
       "    .dataframe tbody tr th:only-of-type {\n",
       "        vertical-align: middle;\n",
       "    }\n",
       "\n",
       "    .dataframe tbody tr th {\n",
       "        vertical-align: top;\n",
       "    }\n",
       "\n",
       "    .dataframe thead th {\n",
       "        text-align: right;\n",
       "    }\n",
       "</style>\n",
       "<table border=\"1\" class=\"dataframe\">\n",
       "  <thead>\n",
       "    <tr style=\"text-align: right;\">\n",
       "      <th></th>\n",
       "      <th>motif</th>\n",
       "      <th>count</th>\n",
       "      <th>frequency</th>\n",
       "      <th>name</th>\n",
       "    </tr>\n",
       "  </thead>\n",
       "  <tbody>\n",
       "    <tr>\n",
       "      <th>0</th>\n",
       "      <td>CXXXX</td>\n",
       "      <td>5</td>\n",
       "      <td>3.1%</td>\n",
       "      <td>[MINK1, ZN729, GDE1, NCDN, TNR25]</td>\n",
       "    </tr>\n",
       "    <tr>\n",
       "      <th>1</th>\n",
       "      <td>CXX</td>\n",
       "      <td>3</td>\n",
       "      <td>1.9%</td>\n",
       "      <td>[HIBCH, S19A1, AR6P6]</td>\n",
       "    </tr>\n",
       "  </tbody>\n",
       "</table>\n",
       "</div>"
      ],
      "text/plain": [
       "   motif  count frequency                               name\n",
       "0  CXXXX      5      3.1%  [MINK1, ZN729, GDE1, NCDN, TNR25]\n",
       "1    CXX      3      1.9%              [HIBCH, S19A1, AR6P6]"
      ]
     },
     "metadata": {},
     "output_type": "display_data"
    }
   ],
   "source": [
    "# GG identified newCterm\n",
    "newCterm_GG_motif_counts = new_CTerm_GG['motif'].value_counts()\n",
    "normalized_frequencies = (newCterm_GG_motif_counts / len(GG_found) * 100).round(1).astype(str) + '%'\n",
    "\n",
    "motif_counts_table = pd.DataFrame({'count': newCterm_GG_motif_counts, 'frequency': normalized_frequencies}).reset_index().rename(columns={'index': 'motif'})\n",
    "\n",
    "new_canon = new_CTerm_GG.groupby('motif')['name'].agg(set).reset_index()\n",
    "new_canon['name'] = [list(elem) if len(elem) > 1 else list(elem)[0] for elem in new_canon['name']]\n",
    "\n",
    "combined_df = pd.merge(motif_counts_table, new_canon, on='motif', how='inner')\n",
    "\n",
    "dfi.export(combined_df, (os.path.join(datafolder, 'figures', 'ident_newCterm_GG.png')))\n",
    "\n",
    "print('Proteins with new C-terminal motif of the', len(GG_found), 'identified geranylgeranylated proteins:')\n",
    "display(combined_df)"
   ]
  },
  {
   "cell_type": "code",
   "execution_count": 13,
   "id": "5982e94e",
   "metadata": {},
   "outputs": [
    {
     "name": "stdout",
     "output_type": "stream",
     "text": [
      "C:\\Program Files\\Google\\Chrome\\Application\\chrome.exe\n",
      "Proteins with new C-terminal motif of the 203 identified farnesylated & geranylgeranylated proteins:\n"
     ]
    },
    {
     "data": {
      "text/html": [
       "<div>\n",
       "<style scoped>\n",
       "    .dataframe tbody tr th:only-of-type {\n",
       "        vertical-align: middle;\n",
       "    }\n",
       "\n",
       "    .dataframe tbody tr th {\n",
       "        vertical-align: top;\n",
       "    }\n",
       "\n",
       "    .dataframe thead th {\n",
       "        text-align: right;\n",
       "    }\n",
       "</style>\n",
       "<table border=\"1\" class=\"dataframe\">\n",
       "  <thead>\n",
       "    <tr style=\"text-align: right;\">\n",
       "      <th></th>\n",
       "      <th>motif</th>\n",
       "      <th>count</th>\n",
       "      <th>frequency</th>\n",
       "      <th>name</th>\n",
       "    </tr>\n",
       "  </thead>\n",
       "  <tbody>\n",
       "    <tr>\n",
       "      <th>0</th>\n",
       "      <td>CXX</td>\n",
       "      <td>5</td>\n",
       "      <td>2.5%</td>\n",
       "      <td>[STX11, BAX, PVR, SFT2B, REEP5]</td>\n",
       "    </tr>\n",
       "    <tr>\n",
       "      <th>1</th>\n",
       "      <td>CX</td>\n",
       "      <td>4</td>\n",
       "      <td>2.0%</td>\n",
       "      <td>[PP4P1, XPO1, TOP3B, GCP3]</td>\n",
       "    </tr>\n",
       "    <tr>\n",
       "      <th>2</th>\n",
       "      <td>CXXXX</td>\n",
       "      <td>4</td>\n",
       "      <td>2.0%</td>\n",
       "      <td>[MTCH1, DPP4, VIR, SYNE2]</td>\n",
       "    </tr>\n",
       "  </tbody>\n",
       "</table>\n",
       "</div>"
      ],
      "text/plain": [
       "   motif  count frequency                             name\n",
       "0    CXX      5      2.5%  [STX11, BAX, PVR, SFT2B, REEP5]\n",
       "1     CX      4      2.0%       [PP4P1, XPO1, TOP3B, GCP3]\n",
       "2  CXXXX      4      2.0%        [MTCH1, DPP4, VIR, SYNE2]"
      ]
     },
     "metadata": {},
     "output_type": "display_data"
    }
   ],
   "source": [
    "# F & GG identified newCterm\n",
    "newCterm_F_GG_motif_counts = new_CTerm_F_GG['motif'].value_counts()\n",
    "normalized_frequencies = (newCterm_F_GG_motif_counts / len(F_GG_found) * 100).round(1).astype(str) + '%'\n",
    "\n",
    "motif_counts_table = pd.DataFrame({'count': newCterm_F_GG_motif_counts, 'frequency': normalized_frequencies}).reset_index().rename(columns={'index': 'motif'})\n",
    "\n",
    "new_canon = new_CTerm_F_GG.groupby('motif')['name'].agg(set).reset_index()\n",
    "new_canon['name'] = [list(elem) if len(elem) > 1 else list(elem)[0] for elem in new_canon['name']]\n",
    "\n",
    "combined_df = pd.merge(motif_counts_table, new_canon, on='motif', how='inner')\n",
    "\n",
    "dfi.export(combined_df, (os.path.join(datafolder, 'figures', 'ident_newCterm_F_GG.png')))\n",
    "\n",
    "print('Proteins with new C-terminal motif of the', len(F_GG_found), 'identified farnesylated & geranylgeranylated proteins:')\n",
    "display(combined_df)"
   ]
  },
  {
   "cell_type": "markdown",
   "id": "3b59d697",
   "metadata": {},
   "source": [
    "# Found proteins with internal cysteines only"
   ]
  },
  {
   "cell_type": "code",
   "execution_count": 14,
   "id": "22dd531a",
   "metadata": {},
   "outputs": [],
   "source": [
    "# Divide by F, GG and F&GG\n",
    "internal_F = found_internal[found_internal['ID'].isin(F_found['ID'])].reset_index(drop=True)\n",
    "internal_GG = found_internal[found_internal['ID'].isin(GG_found['ID'])].reset_index(drop=True)\n",
    "internal_F_GG = found_internal[found_internal['ID'].isin(F_GG_found['ID'])].reset_index(drop=True)"
   ]
  },
  {
   "cell_type": "code",
   "execution_count": 15,
   "id": "4631eaa6",
   "metadata": {},
   "outputs": [
    {
     "name": "stdout",
     "output_type": "stream",
     "text": [
      "Out of 636 identified prenylated proteins 74.7% have no C-terminal cysteines. 475\n",
      "\n",
      "Out of 274 identified farensylated proteins 67.2% have no C-terminal cysteines. 184\n",
      "Out of 159 identified geranylgeranylated proteins 83.6% have no C-terminal cysteines. 133\n",
      "Out of 203 identified farnesylated & geranylgeranylated proteins 77.8% have no C-terminal cysteines. 158\n"
     ]
    }
   ],
   "source": [
    "print('Out of ', len(all_found), ' identified prenylated proteins ', round(len(found_internal) * 100 / len(all_found), 1), '% have no C-terminal cysteines. ', len(found_internal), '\\n', sep='')\n",
    "\n",
    "print('Out of ', len(F_found), ' identified farensylated proteins ', round(len(internal_F) * 100 / len(F_found), 1), '% have no C-terminal cysteines. ', len(internal_F), sep='')\n",
    "print('Out of ', len(GG_found), ' identified geranylgeranylated proteins ', round(len(internal_GG) * 100 / len(GG_found), 1), '% have no C-terminal cysteines. ', len(internal_GG), sep='')\n",
    "print('Out of ', len(F_GG_found), ' identified farnesylated & geranylgeranylated proteins ', round(len(internal_F_GG) * 100 / len(F_GG_found), 1), '% have no C-terminal cysteines. ', len(internal_F_GG), sep='')"
   ]
  },
  {
   "cell_type": "code",
   "execution_count": 16,
   "id": "9b7be199",
   "metadata": {},
   "outputs": [],
   "source": [
    "# save internally prenylated F and GG (for RQ5)\n",
    "internal_F.to_csv(os.path.join(datafolder, 'identified_proteins', 'internal_F.csv'), sep=',', index=False)\n",
    "internal_GG.to_csv(os.path.join(datafolder, 'identified_proteins', 'internal_GG_.csv'), sep=',', index=False)\n",
    "internal_F_GG.to_csv(os.path.join(datafolder, 'identified_proteins', 'internal_F_GG.csv'), sep=',', index=False)"
   ]
  },
  {
   "cell_type": "markdown",
   "id": "bbb01825",
   "metadata": {},
   "source": [
    "## Characterize internally prenylated proteins"
   ]
  },
  {
   "cell_type": "code",
   "execution_count": 17,
   "id": "9d336417",
   "metadata": {},
   "outputs": [],
   "source": [
    "internal_F_UP = all_found[all_found['ID'].isin(internal_F['ID'])]\n",
    "internal_GG_UP = all_found[all_found['ID'].isin(internal_GG['ID'])]\n",
    "internal_F_GG_UP = all_found[all_found['ID'].isin(internal_F_GG['ID'])]"
   ]
  },
  {
   "cell_type": "code",
   "execution_count": 18,
   "id": "eb9924be",
   "metadata": {},
   "outputs": [
    {
     "data": {
      "text/html": [
       "<style type=\"text/css\">\n",
       "#T_69740_row0_col0, #T_69740_row0_col1, #T_69740_row0_col2, #T_69740_row1_col0, #T_69740_row1_col1, #T_69740_row1_col2, #T_69740_row2_col0, #T_69740_row2_col1, #T_69740_row2_col2, #T_69740_row3_col0, #T_69740_row3_col1, #T_69740_row3_col2 {\n",
       "  white-space: pre-wrap;\n",
       "}\n",
       "</style>\n",
       "<table id=\"T_69740\">\n",
       "  <thead>\n",
       "    <tr>\n",
       "      <th class=\"blank level0\" >&nbsp;</th>\n",
       "      <th id=\"T_69740_level0_col0\" class=\"col_heading level0 col0\" >F</th>\n",
       "      <th id=\"T_69740_level0_col1\" class=\"col_heading level0 col1\" >GG</th>\n",
       "      <th id=\"T_69740_level0_col2\" class=\"col_heading level0 col2\" >F_GG</th>\n",
       "    </tr>\n",
       "  </thead>\n",
       "  <tbody>\n",
       "    <tr>\n",
       "      <th id=\"T_69740_level0_row0\" class=\"row_heading level0 row0\" >name</th>\n",
       "      <td id=\"T_69740_row0_col0\" class=\"data row0 col0\" >184</td>\n",
       "      <td id=\"T_69740_row0_col1\" class=\"data row0 col1\" >133</td>\n",
       "      <td id=\"T_69740_row0_col2\" class=\"data row0 col2\" >158</td>\n",
       "    </tr>\n",
       "    <tr>\n",
       "      <th id=\"T_69740_level0_row1\" class=\"row_heading level0 row1\" >substrate</th>\n",
       "      <td id=\"T_69740_row1_col0\" class=\"data row1 col0\" >krueppel C2H2-type zinc-finger protein, 6\n",
       "mitochondrial carrier (TC 2.A.29), 3\n",
       "Ser/Thr protein kinase, 2\n",
       "PI3/PI4-kinase, 2\n",
       "2-oxoacid dehydrogenase, 2\n",
       "LAMP, 2\n",
       "integrin alpha chain, 2\n",
       "Kinesin, 2\n",
       "eukaryotic mitochondrial porin, 2\n",
       "aldehyde dehydrogenase, 2\n",
       "phospholipid scramblase, 2\n",
       "dicarboxylate/amino acid:cation symporter (DAACS) (TC 2.A.23), 2\n",
       "C/M/P thioester hydrolase, 2\n",
       "chemokine-like factor, 1\n",
       "EROs, 1\n",
       "DDRGK1, 1\n",
       "selenoprotein S, 1\n",
       "VKOR, 1\n",
       "perilipin, 1\n",
       "protein disulfide isomerase, 1\n",
       "PRRC1, 1\n",
       "CMGC Ser/Thr protein kinase, 1\n",
       "HIT, 1\n",
       "cytochrome b560, 1\n",
       "RUFY1, 1\n",
       "glycosyltransferase 31, 1\n",
       "UPF0389, 1\n",
       "LRC59, 1\n",
       "RRM CPEB, 1\n",
       "FBX11, 1\n",
       "ROX, 1\n",
       "CTL (choline transporter-like), 1\n",
       "CMTR2, 1\n",
       "serine esterase, 1\n",
       "mitochondrion-specific ribosomal protein mL50, 1\n",
       "SLC43A transporter (TC 2.A.1.44), 1\n",
       "NF2IP, 1\n",
       "Nup35, 1\n",
       "MGME1, 1\n",
       "WD repeat WDR48, 1\n",
       "FBX30, 1\n",
       "nucleotide-sugar transporter, 1\n",
       "KISH, 1\n",
       "short-chain dehydrogenases/reductases (SDR), 1\n",
       "Mical, 1\n",
       "BRI3B, 1\n",
       "YIP1, 1\n",
       "apolipoprotein L, 1\n",
       "ALG6/ALG8 glucosyltransferase, 1\n",
       "glycosyltransferase group 1, 1\n",
       "TRS85, 1\n",
       "importin beta, 1\n",
       "TPP enzyme, 1\n",
       "AMFR, 1\n",
       "UBQL1, 1\n",
       "syntaxin, 1\n",
       "WD repeat WDR3/UTP12, 1\n",
       "TBD2B, 1\n",
       "PDIP2, 1\n",
       "CEMIP, 1\n",
       "Mediator complex subunit 16, 1\n",
       "SIT1, 1\n",
       "TNPO3, 1\n",
       "MAGD1, 1\n",
       "glycosyltransferase 2, 1\n",
       "cation diffusion facilitator (CDF) transporter (TC 2.A.4), 1\n",
       "SQRD, 1\n",
       "Ena/VASP, 1\n",
       "AIG1/Toc34/Toc159-like paraseptin GTPase, 1\n",
       "MCMBP, 1\n",
       "sideroflexin, 1\n",
       "WD repeat LST8, 1\n",
       "ATG9, 1\n",
       "OSBP, 1\n",
       "DP1, 1\n",
       "NRDE2, 1\n",
       "GST superfamily., 1\n",
       "ZWILCH, 1\n",
       "fructosamine kinase, 1\n",
       "UQCR10/QCR9, 1\n",
       "GDT1, 1\n",
       "TDE1, 1\n",
       "AB hydrolase superfamily., 1\n",
       "OCIAD1, 1\n",
       "DPM3, 1\n",
       "ataxin-10, 1\n",
       "ERG4/ERG24, 1\n",
       "EMP24/GP25L, 1\n",
       "LAMTOR1, 1\n",
       "Classic translation factor GTPase, 1\n",
       "Thiolase, 1\n",
       "complex I subunit 4, 1\n",
       "complex I subunit 5, 1\n",
       "TKL Ser/Thr protein kinase, 1\n",
       "APOB, 1\n",
       "HG2A, 1\n",
       "SLC3A transporter, 1\n",
       "sulfatase, 1\n",
       "cation transport ATPase (P-type) (TC 3.A.3), 1\n",
       "ATPase gamma chain, 1\n",
       "FAH, 1\n",
       "SAP3, 1\n",
       "AGC Ser/Thr protein kinase, 1\n",
       "heme oxygenase, 1\n",
       "TspO/BZRP, 1\n",
       "FGGY kinase, 1\n",
       "EVI2B, 1\n",
       "heme-copper respiratory oxidase, 1\n",
       "Tom40, 1\n",
       "complex I NDUFB10 subunit, 1\n",
       "ATP-dependent AMP-binding enzyme, 1\n",
       "peptidase C19, 1\n",
       "SNAP-25, 1\n",
       "YY transcription factor, 1\n",
       "Monocarboxylate porter (TC 2.A.1.13), 1\n",
       "potassium channel KCNN, 1\n",
       "PPIP1, 1\n",
       "Tim44, 1\n",
       "SGT, 1\n",
       "neutral sphingomyelinase, 1\n",
       "complex I NDUFB1 subunit, 1\n",
       "In the C-terminal section belongs to the enoyl-CoA hydratase/isomerase, 1\n",
       "PSD10, 1\n",
       "furry protein, 1\n",
       "complex I NDUFB8 subunit, 1\n",
       "['In the N-terminal section belongs to the glucose-6-phosphate dehydrogenase', 'In the C-terminal section belongs to the glucosamine/galactosamine-6-phosphate isomerase'], 1\n",
       "aldolase class II, 1\n",
       "phytoene/squalene synthase, 1\n",
       "peptidase M28, 1\n",
       "cytochrome P450, 1\n",
       "FKBP8, 1\n",
       "VEFS (VRN2-EMF2-FIS2-SU(Z)12), 1\n",
       "ACAP1, 1\n",
       "Rab3-GAP catalytic subunit, 1\n",
       "TBCE, 1\n",
       "Bcl-2, 1\n",
       "3-hydroxyacyl-CoA dehydrogenase, 1\n",
       "peptidase S1B, 1\n",
       "activator 1 small subunits, 1\n",
       "WD repeat EIPR1, 1\n",
       "PRP38, 1\n",
       "MAK10, 1\n",
       "MICOS complex subunit Mic13, 1\n",
       "fatty acid desaturase CarF, 1\n",
       "nepro, 1\n",
       "APTX, 1\n",
       "WD repeat BOP1/ERB1, 1\n",
       "AAMP, 1\n",
       "phosphatase 2A regulatory subunit B56, 1\n",
       "DNJC3, 1\n",
       "enoyl-CoA hydratase/isomerase, 1\n",
       "TNR4, 1\n",
       "carnitine/choline acetyltransferase, 1\n",
       "FMR1, 1\n",
       "IST1, 1\n",
       "class-I aminoacyl-tRNA synthetase, 1\n",
       "nucleoporin Nup84/Nup107, 1\n",
       "SecE/SEC61-gamma, 1\n",
       "eIF-3 subunit E, 1\n",
       "peptidase S26B, 1\n",
       "TFII-I, 1\n",
       "ABCB, 1\n",
       "glycosyl hydrolase 13, 1\n",
       "CKAP4, 1\n",
       "ILF2, 1\n",
       "nucleotide pyrophosphatase/phosphodiesterase, 1</td>\n",
       "      <td id=\"T_69740_row1_col1\" class=\"data row1 col1\" >DHHC palmitoyltransferase, 3\n",
       "1-acyl-sn-glycerol-3-phosphate acyltransferase, 2\n",
       "LIMR, 2\n",
       "amino acid/polyamine transporter 2, 2\n",
       "G-protein coupled receptor 1, 2\n",
       "RETREG, 2\n",
       "V-ATPase 116 kDa subunit, 2\n",
       "peptidase S54, 2\n",
       "EMP24/GP25L, 2\n",
       "MON2, 1\n",
       "NSE1, 1\n",
       "TM209, 1\n",
       "ERGIC, 1\n",
       "VAM6/VPS39, 1\n",
       "VMP1, 1\n",
       "hydrogen channel, 1\n",
       "FAST kinase, 1\n",
       "SCAMP, 1\n",
       "peroxin-13, 1\n",
       "MAIP1, 1\n",
       "Vang, 1\n",
       "Myosin, 1\n",
       "TMM65, 1\n",
       "KRTCAP2, 1\n",
       "ATRAP, 1\n",
       "MYBBP1A, 1\n",
       "Proton-dependent oligopeptide transporter (POT/PTR) (TC 2.A.17), 1\n",
       "membrane magnesium transporter (TC 1.A.67), 1\n",
       "TRIM/RBCC, 1\n",
       "COX15/CtaA, 1\n",
       "HRD1, 1\n",
       "ERF4, 1\n",
       "RMDN, 1\n",
       "TPP enzyme, 1\n",
       "TMEM70, 1\n",
       "chemokine-like factor, 1\n",
       "AUP1, 1\n",
       "SRP receptor beta subunit, 1\n",
       "NOC2, 1\n",
       "ATP-dependent AMP-binding enzyme, 1\n",
       "ERG28, 1\n",
       "APC5, 1\n",
       "SLC12A transporter, 1\n",
       "BCAP29/BCAP31, 1\n",
       "prenylcysteine oxidase, 1\n",
       "COMD3, 1\n",
       "syntaxin, 1\n",
       "succinate/malate CoA ligase beta subunit, 1\n",
       "ADP-ribosylglycohydrolase, 1\n",
       "CDP-alcohol phosphatidyltransferase class-I, 1\n",
       "TMEM184, 1\n",
       "NFIP2, 1\n",
       "SAC1, 1\n",
       "LU7TM, 1\n",
       "sulfotransferase 2, 1\n",
       "ABCB, 1\n",
       "Mo25, 1\n",
       "glycosyltransferase 22, 1\n",
       "PIGU, 1\n",
       "OST3/OST6, 1\n",
       "YIP1, 1\n",
       "lunapark, 1\n",
       "TMUB1, 1\n",
       "RNA-metabolizing metallo-beta-lactamase-like, 1\n",
       "WD repeat EMAP, 1\n",
       "STARD3, 1\n",
       "calreticulin, 1\n",
       "carnitine/choline acetyltransferase, 1\n",
       "V-ATPase C subunit, 1\n",
       "peptidase C2, 1\n",
       "gamma-glutamyltransferase, 1\n",
       "AGC Ser/Thr protein kinase, 1\n",
       "ICAM, 1\n",
       "histidine acid phosphatase, 1\n",
       "krueppel C2H2-type zinc-finger protein, 1\n",
       "CD5, 1\n",
       "peptidase M28, 1\n",
       "UPF0220, 1\n",
       "RNA polymerase beta' chain, 1\n",
       "OX2G, 1\n",
       "myelin P0 protein, 1\n",
       "OB-RGRP/VPS55, 1\n",
       "SUN1, 1\n",
       "Isoprenylcysteine carboxyl methyltransferase, 1\n",
       "Monocarboxylate porter (TC 2.A.1.13), 1\n",
       "importin beta, 1\n",
       "nonaspanin (TM9SF) (TC 9.A.2), 1\n",
       "acyl-CoA oxidase, 1\n",
       "GPAT/DAPAT, 1\n",
       "patched, 1\n",
       "GOSR2, 1\n",
       "C56D2, 1\n",
       "ODPAT, 1\n",
       "G-protein coupled receptor 2, 1\n",
       "ARMH3, 1\n",
       "TIAM, 1\n",
       "Tim17/Tim22/Tim23, 1\n",
       "COX20, 1\n",
       "ALG10 glucosyltransferase, 1\n",
       "glycosyltransferase group 1, 1\n",
       "dpy-19, 1\n",
       "3-beta-HSD, 1\n",
       "Tom20, 1\n",
       "PTCA, 1\n",
       "ribose-phosphate pyrophosphokinase, 1\n",
       "G-alpha, 1\n",
       "TDE1, 1\n",
       "APC6/CDC16, 1\n",
       "tetraspanin (TM4SF), 1\n",
       "peptidase A22A, 1\n",
       "strumpellin, 1\n",
       "CD47, 1\n",
       "SOS1, 1\n",
       "short-chain dehydrogenases/reductases (SDR), 1\n",
       "cation transport ATPase (P-type) (TC 3.A.3), 1\n",
       "nucleotide-sugar transporter, 1\n",
       "synaptobrevin, 1\n",
       "sodium:solute symporter (SSF) (TC 2.A.21), 1\n",
       "clathrin heavy chain, 1\n",
       "ARFP1, 1\n",
       "adenylyl cyclase class-4/guanylyl cyclase, 1\n",
       "RGS19, 1\n",
       "SPCS1, 1</td>\n",
       "      <td id=\"T_69740_row1_col2\" class=\"data row1 col2\" >tetraspanin (TM4SF), 7\n",
       "mitochondrial carrier (TC 2.A.29), 4\n",
       "SCAMP, 3\n",
       "BI1, 3\n",
       "Sugar transporter (TC 2.A.1.1), 2\n",
       "major facilitator superfamily., 2\n",
       "PMP-22/EMP/MP20, 2\n",
       "PRA1, 2\n",
       "integrin beta chain, 2\n",
       "TMEM41, 2\n",
       "STE Ser/Thr protein kinase, 2\n",
       "ERD2, 2\n",
       "importin beta, 1\n",
       "DNJC1, 1\n",
       "nonaspanin (TM9SF) (TC 9.A.2), 1\n",
       "amino acid/polyamine transporter 2, 1\n",
       "CLPTM1, 1\n",
       "CERS2, 1\n",
       "SARAF, 1\n",
       "MAL, 1\n",
       "RFT1, 1\n",
       "glycosyltransferase 58, 1\n",
       "UBXN4, 1\n",
       "complex IV NDUFA4 subunit, 1\n",
       "CTL (choline transporter-like), 1\n",
       "CYAC3, 1\n",
       "TMEM205, 1\n",
       "WD repeat neurobeachin, 1\n",
       "nurim, 1\n",
       "CD164, 1\n",
       "TMEM256, 1\n",
       "CERS5, 1\n",
       "1-acyl-sn-glycerol-3-phosphate acyltransferase, 1\n",
       "UTP15, 1\n",
       "GB1/RHD3 GTPase, 1\n",
       "PUM2, 1\n",
       "UPF0729, 1\n",
       "STT3, 1\n",
       "peptidase S54, 1\n",
       "SEC62, 1\n",
       "STRBP, 1\n",
       "SLC29A/ENT transporter (TC 2.A.57), 1\n",
       "ERG2, 1\n",
       "CDIP1/LITAF, 1\n",
       "immunoglobulin superfamily., 1\n",
       "transient receptor (TC 1.A.4), 1\n",
       "peptidase M24, 1\n",
       "PTH2, 1\n",
       "MAN1, 1\n",
       "SEC63, 1\n",
       "steroid 5-alpha reductase, 1\n",
       "DHHC palmitoyltransferase, 1\n",
       "AAA ATPase, 1\n",
       "DNAJC11, 1\n",
       "RTN4, 1\n",
       "ANKZF1/VMS1, 1\n",
       "DNJC5, 1\n",
       "TMX1, 1\n",
       "glycosyltransferase 4, 1\n",
       "sorting nexin, 1\n",
       "autoinducer-2 exporter (AI-2E) (TC 2.A.86), 1\n",
       "Rab3-GAP regulatory subunit, 1\n",
       "TM222, 1\n",
       "WD repeat EBI, 1\n",
       "mitochondrion-specific ribosomal protein mL37, 1\n",
       "RPAP1, 1\n",
       "ELO, 1\n",
       "TMEM147, 1\n",
       "synaptobrevin, 1\n",
       "lipase maturation factor, 1\n",
       "TMEM43, 1\n",
       "NipSnap, 1\n",
       "'GDXG' lipolytic enzyme, 1\n",
       "WD repeat WDR59, 1\n",
       "AGK, 1\n",
       "membrane-bound acyltransferase, 1\n",
       "CD3D, 1\n",
       "ICAM, 1\n",
       "G-protein coupled receptor 1, 1\n",
       "Cation-dependent O-methyltransferase, 1\n",
       "MPRD, 1\n",
       "CD44, 1\n",
       "Myosin, 1\n",
       "CD225/Dispanin, 1\n",
       "Bcl-2, 1\n",
       "SMIM13, 1\n",
       "CD7, 1\n",
       "phosphofructokinase type A (PFKA), 1\n",
       "glycosyl hydrolase 20, 1\n",
       "Tyr protein kinase, 1\n",
       "cytochrome c oxidase subunit 3, 1\n",
       "TMEM214, 1\n",
       "cytochrome b, 1\n",
       "peroxin-11, 1\n",
       "ABHD16, 1\n",
       "cornichon, 1\n",
       "RTN3, 1\n",
       "DNA/RNA non-specific endonuclease, 1\n",
       "Mical, 1\n",
       "band 7/mec-2, 1\n",
       "synaptogyrin, 1\n",
       "cytochrome b5, 1\n",
       "SNF2/RAD54 helicase, 1\n",
       "CDP-alcohol phosphatidyltransferase class-I, 1\n",
       "ADA10, 1\n",
       "Epoxide hydrolase, 1\n",
       "CNDD3, 1\n",
       "eukaryotic mitochondrial porin, 1\n",
       "BAG6, 1\n",
       "FOCAD, 1\n",
       "TMEM201, 1\n",
       "TMEM97/sigma-2 receptor, 1\n",
       "CybS, 1\n",
       "Kinesin, 1\n",
       "synaptophysin/synaptobrevin, 1\n",
       "TRAM, 1\n",
       "FAD-binding oxidoreductase/transferase type 4, 1\n",
       "EBP, 1\n",
       "acyl-CoA oxidase, 1\n",
       "ARL6ip, 1\n",
       "SELPL, 1\n",
       "LAPTM4/LAPTM5 transporter, 1\n",
       "dynein intermediate chain, 1\n",
       "peptidase M16, 1\n",
       "tetherin, 1\n",
       "CD69, 1\n",
       "L-type amino acid transporter (LAT) (TC 2.A.3.8), 1\n",
       "small Tim, 1\n",
       "PA28, 1\n",
       "CSN2, 1\n",
       "SEC61-beta, 1\n",
       "X(+)/potassium ATPases subunit beta, 1\n",
       "peptidase C19, 1\n",
       "importin alpha, 1\n",
       "short-chain dehydrogenases/reductases (SDR), 1\n",
       "5'(3')-deoxyribonucleotidase, 1\n",
       "ICOS, 1</td>\n",
       "    </tr>\n",
       "    <tr>\n",
       "      <th id=\"T_69740_level0_row2\" class=\"row_heading level0 row2\" >location</th>\n",
       "      <td id=\"T_69740_row2_col0\" class=\"data row2 col0\" >Membrane, 101\n",
       "Nucleus, 13\n",
       "['Nucleus', 'Cytoplasm'], 7\n",
       "Mitochondrion matrix, 5\n",
       "Mitochondrion, 5\n",
       "Peroxisome, 3\n",
       "Cytoplasm, 3\n",
       "['Nucleus', 'Nucleolus'], 3\n",
       "Early endosome, 1\n",
       "Golgi apparatus, 1\n",
       "['Axon', 'Dendrite', 'Cytoskeleton'], 1\n",
       "['Mitochondrion matrix', 'Nucleus'], 1\n",
       "['Nucleus', 'Chromosome'], 1\n",
       "['Cytoplasm', 'Nucleus', 'Dendrite', 'Synapse', 'Postsynaptic density'], 1\n",
       "['Nucleus', 'Late endosome', 'Lysosome', 'Cytoplasm'], 1\n",
       "['Midbody', 'Cytoskeleton', 'Cytoplasm'], 1\n",
       "['Nucleus', 'Nucleolus', 'Nucleoplasm', 'Nucleus speckle'], 1\n",
       "['Nucleoplasm', 'Cytoplasm', 'Nucleus', 'Nucleus matrix', 'Chromosome', 'Microsome', 'Nucleus speckle'], 1\n",
       "Nucleolus, 1\n",
       "Kinetochore, 1\n",
       "Endosome, 1\n",
       "Perinuclear region, 1\n",
       "cis-Golgi network, 1\n",
       "Lipid droplet, 1\n",
       "['Lamellipodium', 'Stress fiber', 'Cytoskeleton'], 1\n",
       "['Nucleolus', 'Nucleoplasm', 'Cytoplasm'], 1\n",
       "['Endoplasmic reticulum', 'Cytoplasm'], 1\n",
       "trans-Golgi network, 1\n",
       "Cytosol, 1\n",
       "['Nucleus', 'Cytosol'], 1\n",
       "Peroxisome matrix, 1\n",
       "['Dendrite', 'Cytoskeleton'], 1\n",
       "['Mitochondrion', 'Peroxisome matrix'], 1\n",
       "Endoplasmic reticulum lumen, 1\n",
       "['Lipid droplet', 'Secreted', 'Cytoplasm'], 1\n",
       "Lysosome, 1\n",
       "['Cytoplasmic ribonucleoprotein granule', 'Postsynapse', 'Cytoplasm'], 1\n",
       "['Cytoskeleton', 'Cytoplasm'], 1\n",
       "['Midbody', 'Centrosome', 'Cytoplasmic vesicle', 'Nucleus envelope'], 1\n",
       "['Cytosol', 'Cytoplasm'], 1\n",
       "['PML body', 'Cytoplasm'], 1\n",
       "['Nucleus', 'Nucleolus', 'Cytoplasm'], 1\n",
       "Endoplasmic reticulum, 1\n",
       "['Nucleus', 'Centromere'], 1\n",
       "['Nucleolus', 'Nucleoplasm'], 1\n",
       "['Nucleus envelope', 'Cytoplasm'], 1</td>\n",
       "      <td id=\"T_69740_row2_col1\" class=\"data row2 col1\" >Membrane, 109\n",
       "['Nucleus', 'Cytoplasm'], 3\n",
       "Mitochondrion matrix, 3\n",
       "['Telomere', 'Nucleus'], 1\n",
       "['Nucleus', 'Spindle'], 1\n",
       "Lysosome, 1\n",
       "Mitochondrion, 1\n",
       "['Mitochondrion matrix', 'Cytoplasm', 'Nucleus', 'Chromosome'], 1\n",
       "['Nucleus', 'Nucleolus', 'Cytoplasm'], 1\n",
       "['Early endosome', 'Cytosol', 'Endoplasmic reticulum'], 1\n",
       "['Centrosome', 'Spindle'], 1\n",
       "['Perinuclear region', 'Cytoskeleton', 'Cytoplasm'], 1\n",
       "['Nucleolus', 'Cytoplasm'], 1\n",
       "Nucleus, 1\n",
       "['Nucleolus', 'Chromosome'], 1\n",
       "Peroxisome, 1\n",
       "['Nucleolus', 'Nucleoplasm'], 1</td>\n",
       "      <td id=\"T_69740_row2_col2\" class=\"data row2 col2\" >Membrane, 126\n",
       "['Nucleus', 'Cytoplasm'], 6\n",
       "Nucleus, 4\n",
       "Cytoplasm, 3\n",
       "Peroxisome, 2\n",
       "['Cortical granule', 'Lysosome'], 1\n",
       "Myofibril, 1\n",
       "['Peroxisome', 'Cytoplasm'], 1\n",
       "['Nucleus', 'Extracellular exosome', 'Cytosol'], 1\n",
       "Cytosol, 1\n",
       "Secreted, 1\n",
       "['Cytoskeleton', 'Cytoplasm'], 1\n",
       "['Cytoskeleton', 'Nucleus matrix'], 1\n",
       "['Cytosol', 'Focal adhesion'], 1\n",
       "Endoplasmic reticulum, 1\n",
       "['Cytoplasmic granule', 'Perinuclear region', 'Cytoplasm'], 1\n",
       "['Lipid droplet', 'Endoplasmic reticulum'], 1\n",
       "Nucleolus, 1\n",
       "Mitochondrion, 1\n",
       "['Endoplasmic reticulum', 'Cytoplasm'], 1\n",
       "['Nucleus', 'Chromosome'], 1</td>\n",
       "    </tr>\n",
       "    <tr>\n",
       "      <th id=\"T_69740_level0_row3\" class=\"row_heading level0 row3\" >moiety</th>\n",
       "      <td id=\"T_69740_row3_col0\" class=\"data row3 col0\" >S-palmitoyl cysteine, 4\n",
       "N-myristoyl glycine, 2\n",
       "S-palmitoyl cysteine by ZDHHC2, 1</td>\n",
       "      <td id=\"T_69740_row3_col1\" class=\"data row3 col1\" >S-palmitoyl cysteine, 6\n",
       "N-myristoyl glycine, 3</td>\n",
       "      <td id=\"T_69740_row3_col2\" class=\"data row3 col2\" >S-palmitoyl cysteine, 5\n",
       "['N-myristoyl glycine', 'S-palmitoyl cysteine'], 1\n",
       "S-(15-deoxy-Delta12,14-prostaglandin J2-9-yl)cysteine, 1\n",
       "GPI-anchor amidated serine, 1\n",
       "N-myristoyl glycine, 1\n",
       "(Microbial infection) N6-stearoyl lysine, 1</td>\n",
       "    </tr>\n",
       "  </tbody>\n",
       "</table>\n"
      ],
      "text/plain": [
       "<pandas.io.formats.style.Styler at 0x284a8ef5670>"
      ]
     },
     "execution_count": 18,
     "metadata": {},
     "output_type": "execute_result"
    }
   ],
   "source": [
    "dataframes = ['F', 'GG', 'F_GG']\n",
    "\n",
    "# Create an empty DataFrame with the desired index\n",
    "index_columns = ['name', 'substrate', 'location', 'moiety']\n",
    "table_known = pd.DataFrame(index=dataframes, columns=index_columns)\n",
    "\n",
    "for frame in dataframes:\n",
    "    if frame == 'F':\n",
    "        df = pd.DataFrame(internal_F_UP)\n",
    "    elif frame == 'GG':\n",
    "        df = pd.DataFrame(internal_GG_UP)\n",
    "    elif frame == 'F_GG':\n",
    "        df = pd.DataFrame(internal_F_GG_UP)\n",
    "        \n",
    "    X_name = len(df['name'])\n",
    "    df['substrate'] = df['substrate'].fillna(df['name'])\n",
    "    X_substr = df['substrate'].value_counts().reset_index().values\n",
    "    X_substr = '\\n'.join([f\"{item[0]}, {item[1]}\" for item in X_substr])\n",
    "    X_location = df['location'].explode(ignore_index=True).value_counts().reset_index().values\n",
    "    X_location = '\\n'.join([f\"{item[0]}, {item[1]}\" for item in X_location])\n",
    "    X_moiety = df['moiety'].explode(ignore_index=True).value_counts().reset_index().values\n",
    "    X_moiety = '\\n'.join([f\"{item[0]}, {item[1]}\" for item in X_moiety])\n",
    "\n",
    "    \n",
    "    d = pd.DataFrame({\n",
    "        'number': [X_name], 'substrate': [X_substr],\n",
    "        'location': [X_location], 'moiety': [X_moiety]\n",
    "    }, index=[frame])\n",
    "    \n",
    "    table_known.loc[frame] = d.values\n",
    "\n",
    "table_transposed = table_known.transpose()\n",
    "\n",
    "# Format the DataFrame to display newline characters as line breaks\n",
    "df_styled = table_transposed.style.set_properties(**{'white-space': 'pre-wrap'})\n",
    "\n",
    "# Display the DataFrame\n",
    "df_styled"
   ]
  },
  {
   "cell_type": "code",
   "execution_count": 19,
   "id": "8137d99f",
   "metadata": {},
   "outputs": [
    {
     "name": "stdout",
     "output_type": "stream",
     "text": [
      "C:\\Program Files\\Google\\Chrome\\Application\\chrome.exe\n",
      "C:\\Program Files\\Google\\Chrome\\Application\\chrome.exe\n",
      "C:\\Program Files\\Google\\Chrome\\Application\\chrome.exe\n"
     ]
    }
   ],
   "source": [
    "# save\n",
    "dfi.export(df_styled, (os.path.join(datafolder, 'figures', 'ident_internal_UP.png')), max_rows=-1)"
   ]
  },
  {
   "cell_type": "markdown",
   "id": "f20d037b",
   "metadata": {},
   "source": [
    "# Create barplots to show distribution on the various prenylation motifs"
   ]
  },
  {
   "cell_type": "code",
   "execution_count": 20,
   "id": "8f845bb6",
   "metadata": {},
   "outputs": [],
   "source": [
    "novel_F = novel_found[novel_found['Exp_moiety'].str.contains(\"farnesyl\")].reset_index(drop=True)\n",
    "novel_GG = novel_found[novel_found['Exp_moiety'].str.contains(\"geranylgeranyl\")].reset_index(drop=True)"
   ]
  },
  {
   "cell_type": "code",
   "execution_count": 21,
   "id": "72dd51ed",
   "metadata": {},
   "outputs": [
    {
     "name": "stdout",
     "output_type": "stream",
     "text": [
      "414 324\n"
     ]
    }
   ],
   "source": [
    "print(len(novel_F), len(novel_GG))"
   ]
  },
  {
   "cell_type": "code",
   "execution_count": 22,
   "id": "be8226eb",
   "metadata": {},
   "outputs": [],
   "source": [
    "canon_known_F = known_found[known_found['moiety'].str.contains(\"farnesyl\")].reset_index(drop=True)\n",
    "canon_known_GG = known_found[known_found['moiety'].str.contains(\"geranylgeranyl\")].reset_index(drop=True)\n",
    "\n",
    "canon_novel_F = novel_F[novel_F['motif'].isin((\"CXXX\", \"CAAX\", \"CXC\", \"CCX\", \"CC\", \"C\"))].reset_index(drop=True)\n",
    "canon_novel_GG = novel_GG[novel_GG['motif'].isin((\"CXXX\", \"CAAX\", \"CXC\", \"CCX\", \"CC\", \"C\"))].reset_index(drop=True)\n",
    "\n",
    "newCTerm_F = novel_F[novel_F['motif'].isin((\"CXX\", \"CX\", \"CXXXX\", \"CCC\"))].reset_index(drop=True)\n",
    "newCTerm_GG = novel_GG[novel_GG['motif'].isin((\"CXX\", \"CX\", \"CXXXX\", \"CCC\"))].reset_index(drop=True)\n",
    "\n",
    "internal_F = novel_F[novel_F['motif'].isin(['internal'])].reset_index(drop=True)\n",
    "internal_GG = novel_GG[novel_GG['motif'].isin(['internal'])].reset_index(drop=True)"
   ]
  },
  {
   "cell_type": "code",
   "execution_count": 23,
   "id": "a7119bb3",
   "metadata": {},
   "outputs": [
    {
     "name": "stdout",
     "output_type": "stream",
     "text": [
      "F canon known identified: 34, GG canon known identified: 46\n",
      "F canon novel identified: 36, GG canon novel identified: 12\n",
      "F newCterm novel identified: 36, GG newCterm novel identified: 21\n",
      "F internal novel identified: 342, GG internal novel identified: 291\n",
      "F total identified: 477, GG total identified: 362\n"
     ]
    }
   ],
   "source": [
    "print('F canon known identified: ', len(canon_known_F), ', GG canon known identified: ', len(canon_known_GG), sep='')\n",
    "print('F canon novel identified: ', len(canon_novel_F), ', GG canon novel identified: ', len(canon_novel_GG), sep='')\n",
    "print('F newCterm novel identified: ', len(newCTerm_F), ', GG newCterm novel identified: ', len(newCTerm_GG), sep='')\n",
    "print('F internal novel identified: ', len(internal_F), ', GG internal novel identified: ', len(internal_GG), sep='')\n",
    "print('F total identified: ', 63+36+36+342, ', GG total identified: ', 38+12+21+291, sep='')"
   ]
  },
  {
   "cell_type": "code",
   "execution_count": 24,
   "id": "8fd4f024",
   "metadata": {},
   "outputs": [
    {
     "data": {
      "text/plain": [
       "636"
      ]
     },
     "execution_count": 24,
     "metadata": {},
     "output_type": "execute_result"
    }
   ],
   "source": [
    "(477+362)-203"
   ]
  },
  {
   "cell_type": "code",
   "execution_count": 25,
   "id": "e40a35b0",
   "metadata": {
    "ExecuteTime": {
     "end_time": "2024-10-29T16:29:33.248370Z",
     "start_time": "2024-10-29T16:29:33.143447Z"
    }
   },
   "outputs": [
    {
     "name": "stdout",
     "output_type": "stream",
     "text": [
      "C:\\Program Files\\Google\\Chrome\\Application\\chrome.exe\n",
      "C:\\Program Files\\Google\\Chrome\\Application\\chrome.exe\n",
      "C:\\Program Files\\Google\\Chrome\\Application\\chrome.exe\n"
     ]
    }
   ],
   "source": [
    "# Remember, that we found known prenylated proteins, but with a different moiety than in UniProt\n",
    "\n",
    "canon_known = pd.concat([canon_known_F, canon_known_GG]).drop_duplicates().reset_index(drop=True)\n",
    "mismatch = canon_known[canon_known['moiety'] != canon_known['Exp_moiety']].reset_index(drop=True)\n",
    "\n",
    "mismatch.to_csv(os.path.join(datafolder, 'identified_proteins', 'moiety_mismatch.csv'), sep=',', index=False)\n",
    "\n",
    "dfi.export(mismatch, (os.path.join(datafolder, 'figures', 'moiety_mismatch.png')))"
   ]
  },
  {
   "cell_type": "markdown",
   "id": "31034706",
   "metadata": {},
   "source": [
    "## Farnesylated proteins"
   ]
  },
  {
   "cell_type": "code",
   "execution_count": 26,
   "id": "db62b328",
   "metadata": {
    "ExecuteTime": {
     "end_time": "2024-10-29T16:29:47.687949Z",
     "start_time": "2024-10-29T16:29:47.613232Z"
    }
   },
   "outputs": [
    {
     "name": "stdout",
     "output_type": "stream",
     "text": [
      "Results for canon_F_known:\n"
     ]
    },
    {
     "data": {
      "text/html": [
       "<div>\n",
       "<style scoped>\n",
       "    .dataframe tbody tr th:only-of-type {\n",
       "        vertical-align: middle;\n",
       "    }\n",
       "\n",
       "    .dataframe tbody tr th {\n",
       "        vertical-align: top;\n",
       "    }\n",
       "\n",
       "    .dataframe thead th {\n",
       "        text-align: right;\n",
       "    }\n",
       "</style>\n",
       "<table border=\"1\" class=\"dataframe\">\n",
       "  <thead>\n",
       "    <tr style=\"text-align: right;\">\n",
       "      <th></th>\n",
       "      <th>motif</th>\n",
       "      <th>count</th>\n",
       "      <th>frequency</th>\n",
       "      <th>name</th>\n",
       "    </tr>\n",
       "  </thead>\n",
       "  <tbody>\n",
       "    <tr>\n",
       "      <th>0</th>\n",
       "      <td>CXXX</td>\n",
       "      <td>22</td>\n",
       "      <td>4.6%</td>\n",
       "      <td>[BROX, CENPF, CEP85, CN37, DCAF8, DNJA1, DNJA2, DNJA4, DPCD, GBP1, LMNB2, LRRF1, NP1L1, NP1L4, PP16B, RAP2A, RHEB, RHOB, STK11, TP4A1, TP4A2, ULK3]</td>\n",
       "    </tr>\n",
       "    <tr>\n",
       "      <th>1</th>\n",
       "      <td>CAAX</td>\n",
       "      <td>12</td>\n",
       "      <td>2.5%</td>\n",
       "      <td>[GBGT2, GNAI2, I5P1, KPBB, LMNB1, PEX19, RAB28, RASH, RASK, RASN, RRAS2, YKT6]</td>\n",
       "    </tr>\n",
       "  </tbody>\n",
       "</table>\n",
       "</div>"
      ],
      "text/plain": [
       "  motif  count frequency  \\\n",
       "0  CXXX     22      4.6%   \n",
       "1  CAAX     12      2.5%   \n",
       "\n",
       "                                                                                                                                                  name  \n",
       "0  [BROX, CENPF, CEP85, CN37, DCAF8, DNJA1, DNJA2, DNJA4, DPCD, GBP1, LMNB2, LRRF1, NP1L1, NP1L4, PP16B, RAP2A, RHEB, RHOB, STK11, TP4A1, TP4A2, ULK3]  \n",
       "1                                                                       [GBGT2, GNAI2, I5P1, KPBB, LMNB1, PEX19, RAB28, RASH, RASK, RASN, RRAS2, YKT6]  "
      ]
     },
     "metadata": {},
     "output_type": "display_data"
    },
    {
     "name": "stdout",
     "output_type": "stream",
     "text": [
      "Results for canon_F_new:\n"
     ]
    },
    {
     "data": {
      "text/html": [
       "<div>\n",
       "<style scoped>\n",
       "    .dataframe tbody tr th:only-of-type {\n",
       "        vertical-align: middle;\n",
       "    }\n",
       "\n",
       "    .dataframe tbody tr th {\n",
       "        vertical-align: top;\n",
       "    }\n",
       "\n",
       "    .dataframe thead th {\n",
       "        text-align: right;\n",
       "    }\n",
       "</style>\n",
       "<table border=\"1\" class=\"dataframe\">\n",
       "  <thead>\n",
       "    <tr style=\"text-align: right;\">\n",
       "      <th></th>\n",
       "      <th>motif</th>\n",
       "      <th>count</th>\n",
       "      <th>frequency</th>\n",
       "      <th>name</th>\n",
       "    </tr>\n",
       "  </thead>\n",
       "  <tbody>\n",
       "    <tr>\n",
       "      <th>0</th>\n",
       "      <td>CXXX</td>\n",
       "      <td>15</td>\n",
       "      <td>3.1%</td>\n",
       "      <td>[APOL3, ATD3B, CD38, CE85L, F219A, GANAB, MAPK3, MAVS, MTOR, PP2BB, SPDLY, SSF1, STRAA, STX7, WDTC1]</td>\n",
       "    </tr>\n",
       "    <tr>\n",
       "      <th>1</th>\n",
       "      <td>C</td>\n",
       "      <td>12</td>\n",
       "      <td>2.5%</td>\n",
       "      <td>[ARRB2, AT11B, CAPZB, GPSM3, HAUS6, MGST2, MOT1, RBGP1, SC23B, SIAT1, STX5, TCPB]</td>\n",
       "    </tr>\n",
       "    <tr>\n",
       "      <th>2</th>\n",
       "      <td>CAAX</td>\n",
       "      <td>5</td>\n",
       "      <td>1.0%</td>\n",
       "      <td>[EH1L1, FXL20, INF2, PRIC3, ZCCHV]</td>\n",
       "    </tr>\n",
       "    <tr>\n",
       "      <th>3</th>\n",
       "      <td>CXC</td>\n",
       "      <td>3</td>\n",
       "      <td>0.6%</td>\n",
       "      <td>[ABCB7, COMD7, HARS1]</td>\n",
       "    </tr>\n",
       "    <tr>\n",
       "      <th>4</th>\n",
       "      <td>CCX</td>\n",
       "      <td>1</td>\n",
       "      <td>0.2%</td>\n",
       "      <td>MGST3</td>\n",
       "    </tr>\n",
       "  </tbody>\n",
       "</table>\n",
       "</div>"
      ],
      "text/plain": [
       "  motif  count frequency  \\\n",
       "0  CXXX     15      3.1%   \n",
       "1     C     12      2.5%   \n",
       "2  CAAX      5      1.0%   \n",
       "3   CXC      3      0.6%   \n",
       "4   CCX      1      0.2%   \n",
       "\n",
       "                                                                                                   name  \n",
       "0  [APOL3, ATD3B, CD38, CE85L, F219A, GANAB, MAPK3, MAVS, MTOR, PP2BB, SPDLY, SSF1, STRAA, STX7, WDTC1]  \n",
       "1                     [ARRB2, AT11B, CAPZB, GPSM3, HAUS6, MGST2, MOT1, RBGP1, SC23B, SIAT1, STX5, TCPB]  \n",
       "2                                                                    [EH1L1, FXL20, INF2, PRIC3, ZCCHV]  \n",
       "3                                                                                 [ABCB7, COMD7, HARS1]  \n",
       "4                                                                                                 MGST3  "
      ]
     },
     "metadata": {},
     "output_type": "display_data"
    },
    {
     "name": "stdout",
     "output_type": "stream",
     "text": [
      "Results for canon_GG_known:\n"
     ]
    },
    {
     "data": {
      "text/html": [
       "<div>\n",
       "<style scoped>\n",
       "    .dataframe tbody tr th:only-of-type {\n",
       "        vertical-align: middle;\n",
       "    }\n",
       "\n",
       "    .dataframe tbody tr th {\n",
       "        vertical-align: top;\n",
       "    }\n",
       "\n",
       "    .dataframe thead th {\n",
       "        text-align: right;\n",
       "    }\n",
       "</style>\n",
       "<table border=\"1\" class=\"dataframe\">\n",
       "  <thead>\n",
       "    <tr style=\"text-align: right;\">\n",
       "      <th></th>\n",
       "      <th>motif</th>\n",
       "      <th>count</th>\n",
       "      <th>frequency</th>\n",
       "      <th>name</th>\n",
       "    </tr>\n",
       "  </thead>\n",
       "  <tbody>\n",
       "    <tr>\n",
       "      <th>0</th>\n",
       "      <td>CXXX</td>\n",
       "      <td>16</td>\n",
       "      <td>3.4%</td>\n",
       "      <td>[GBG5, GBP2, RAB18, RAB21, RAB24, RAB8B, RAC2, RALA, RALB, RAP1B, RB11A, RB40C, RHOB, RHOC, RHOH, ZFN2B]</td>\n",
       "    </tr>\n",
       "    <tr>\n",
       "      <th>1</th>\n",
       "      <td>CAAX</td>\n",
       "      <td>14</td>\n",
       "      <td>2.9%</td>\n",
       "      <td>[CDC42, GBG10, GBG2, GBG8, GBP5, MIEN1, RAB8A, RAC1, RAP2B, RAP2C, RHOA, RHOG, UBL3, YKT6]</td>\n",
       "    </tr>\n",
       "    <tr>\n",
       "      <th>2</th>\n",
       "      <td>CXC</td>\n",
       "      <td>10</td>\n",
       "      <td>2.1%</td>\n",
       "      <td>[RAB14, RAB19, RAB3D, RAB43, RAB4B, RAB6A, RAB7A, RB27A, RB33A, RB33B]</td>\n",
       "    </tr>\n",
       "    <tr>\n",
       "      <th>3</th>\n",
       "      <td>CC</td>\n",
       "      <td>5</td>\n",
       "      <td>1.0%</td>\n",
       "      <td>[RAB10, RAB1B, RAB2A, RAB2B, RAB9A]</td>\n",
       "    </tr>\n",
       "    <tr>\n",
       "      <th>4</th>\n",
       "      <td>CCX</td>\n",
       "      <td>1</td>\n",
       "      <td>0.2%</td>\n",
       "      <td>RAB34</td>\n",
       "    </tr>\n",
       "  </tbody>\n",
       "</table>\n",
       "</div>"
      ],
      "text/plain": [
       "  motif  count frequency  \\\n",
       "0  CXXX     16      3.4%   \n",
       "1  CAAX     14      2.9%   \n",
       "2   CXC     10      2.1%   \n",
       "3    CC      5      1.0%   \n",
       "4   CCX      1      0.2%   \n",
       "\n",
       "                                                                                                       name  \n",
       "0  [GBG5, GBP2, RAB18, RAB21, RAB24, RAB8B, RAC2, RALA, RALB, RAP1B, RB11A, RB40C, RHOB, RHOC, RHOH, ZFN2B]  \n",
       "1                [CDC42, GBG10, GBG2, GBG8, GBP5, MIEN1, RAB8A, RAC1, RAP2B, RAP2C, RHOA, RHOG, UBL3, YKT6]  \n",
       "2                                    [RAB14, RAB19, RAB3D, RAB43, RAB4B, RAB6A, RAB7A, RB27A, RB33A, RB33B]  \n",
       "3                                                                       [RAB10, RAB1B, RAB2A, RAB2B, RAB9A]  \n",
       "4                                                                                                     RAB34  "
      ]
     },
     "metadata": {},
     "output_type": "display_data"
    },
    {
     "name": "stdout",
     "output_type": "stream",
     "text": [
      "Results for canon_GG_new:\n"
     ]
    },
    {
     "data": {
      "text/html": [
       "<div>\n",
       "<style scoped>\n",
       "    .dataframe tbody tr th:only-of-type {\n",
       "        vertical-align: middle;\n",
       "    }\n",
       "\n",
       "    .dataframe tbody tr th {\n",
       "        vertical-align: top;\n",
       "    }\n",
       "\n",
       "    .dataframe thead th {\n",
       "        text-align: right;\n",
       "    }\n",
       "</style>\n",
       "<table border=\"1\" class=\"dataframe\">\n",
       "  <thead>\n",
       "    <tr style=\"text-align: right;\">\n",
       "      <th></th>\n",
       "      <th>motif</th>\n",
       "      <th>count</th>\n",
       "      <th>frequency</th>\n",
       "      <th>name</th>\n",
       "    </tr>\n",
       "  </thead>\n",
       "  <tbody>\n",
       "    <tr>\n",
       "      <th>0</th>\n",
       "      <td>CXXX</td>\n",
       "      <td>6</td>\n",
       "      <td>1.3%</td>\n",
       "      <td>[ATD3B, CD38, NB5R3, QNG1, STRAA, STX7]</td>\n",
       "    </tr>\n",
       "    <tr>\n",
       "      <th>1</th>\n",
       "      <td>C</td>\n",
       "      <td>4</td>\n",
       "      <td>0.8%</td>\n",
       "      <td>[AT11B, MOT1, SIAT1, TM87A]</td>\n",
       "    </tr>\n",
       "    <tr>\n",
       "      <th>2</th>\n",
       "      <td>CCX</td>\n",
       "      <td>1</td>\n",
       "      <td>0.2%</td>\n",
       "      <td>MGST3</td>\n",
       "    </tr>\n",
       "    <tr>\n",
       "      <th>3</th>\n",
       "      <td>CXC</td>\n",
       "      <td>1</td>\n",
       "      <td>0.2%</td>\n",
       "      <td>COMD7</td>\n",
       "    </tr>\n",
       "  </tbody>\n",
       "</table>\n",
       "</div>"
      ],
      "text/plain": [
       "  motif  count frequency                                     name\n",
       "0  CXXX      6      1.3%  [ATD3B, CD38, NB5R3, QNG1, STRAA, STX7]\n",
       "1     C      4      0.8%              [AT11B, MOT1, SIAT1, TM87A]\n",
       "2   CCX      1      0.2%                                    MGST3\n",
       "3   CXC      1      0.2%                                    COMD7"
      ]
     },
     "metadata": {},
     "output_type": "display_data"
    }
   ],
   "source": [
    "# List of known DataFrames with their names\n",
    "known_dfs = [\n",
    "    ('canon_F_known', canon_known_F),\n",
    "    ('canon_F_new', canon_novel_F),\n",
    "    ('canon_GG_known', canon_known_GG),\n",
    "    ('canon_GG_new', canon_novel_GG)\n",
    "]\n",
    "\n",
    "# Iterate through each DataFrame\n",
    "for df_name, df in known_dfs:\n",
    "    # Calculate motif counts and normalized frequencies\n",
    "    motif_counts = df['motif'].value_counts()\n",
    "    normalized_frequencies = (motif_counts / (len(F_found) + len(F_GG_found)) * 100).round(1).astype(str) + '%'\n",
    "\n",
    "    # Create a DataFrame for the counts and frequencies\n",
    "    motif_counts_df = pd.DataFrame({\n",
    "        'motif': motif_counts.index,\n",
    "        'count': motif_counts.values,\n",
    "        'frequency': normalized_frequencies\n",
    "    })\n",
    "\n",
    "    # Aggregate names\n",
    "    name_agg = df.groupby('motif')['name'].agg(lambda x: sorted(list(x)) if len(x) > 1 else x.iloc[0]).reset_index()\n",
    "\n",
    "    # Reset index for both DataFrames to avoid merge ambiguity\n",
    "    motif_counts_df.reset_index(drop=True, inplace=True)\n",
    "    name_agg.reset_index(drop=True, inplace=True)\n",
    "\n",
    "    # Merge the counts and names\n",
    "    combined_df = pd.merge(motif_counts_df, name_agg, on='motif', how='inner')\n",
    "\n",
    "    # Print the name of the DataFrame\n",
    "    print(f\"Results for {df_name}:\")\n",
    "    \n",
    "    # Display the combined DataFrame\n",
    "    display(combined_df)\n"
   ]
  },
  {
   "cell_type": "code",
   "execution_count": 27,
   "id": "0289a910",
   "metadata": {
    "ExecuteTime": {
     "end_time": "2024-10-29T16:29:54.328341Z",
     "start_time": "2024-10-29T16:29:53.584292Z"
    }
   },
   "outputs": [
    {
     "data": {
      "image/png": "[encoded data removed]",
      "text/plain": [
       "<Figure size 1000x600 with 1 Axes>"
      ]
     },
     "metadata": {},
     "output_type": "display_data"
    }
   ],
   "source": [
    "motifs = (\"CXXX\", \"CaaX\", \"CXC\", \"CCX\", \"CC\", \"C\", \"newCterm\", \"no Cterm\")\n",
    "\n",
    "# Define group counts for known, identified known, and novel identified\n",
    "group_counts = {\n",
    "    'known': [46, 25, 0, 0, 0, 0, 0, 0],  \n",
    "    'identified known': [22, 12, 0, 0, 0, 0, 0, 0],\n",
    "    'identified new': [15, 5, 3, 1, 0, 12, 36, 342]\n",
    "}\n",
    "\n",
    "# Proportion calculation (assuming `F_found` and `F_GG_found` are defined)\n",
    "group_proportions = group_counts.copy()\n",
    "for attribute, measurement in group_proportions.items():\n",
    "    if attribute == 'known':\n",
    "        group_proportions[attribute] = [ round(x/sum(measurement)*100,1) for x in measurement ]\n",
    "    if attribute == 'identified known':\n",
    "        group_proportions[attribute] = [ round((x/len(canon_known_F))*100,1) for x in measurement ]\n",
    "    if attribute == 'identified new':\n",
    "        group_proportions[attribute] = [ round((x/len(novel_F))*100,1) for x in measurement ]  \n",
    "\n",
    "# Update labels with counts and percentages\n",
    "group_labels = group_counts.copy()\n",
    "for attribute, measurement in group_labels.items():\n",
    "    group_labels[attribute] = [ str(prop)+\"%\\n(\"+str(count)+\")\" for (prop, count) in zip(group_proportions[attribute],group_counts[attribute]) ]\n",
    "\n",
    "# Call the updated plotting function\n",
    "plot_grouped_bar_chart(motifs, group_proportions, group_labels, 'Farnesylated proteins by motif')\n",
    "\n",
    "plt.tight_layout()\n",
    "plt.savefig(os.path.join(figures, 'F_motifs.pdf'), bbox_inches='tight', dpi=300)\n",
    "\n",
    "plt.show()"
   ]
  },
  {
   "cell_type": "markdown",
   "id": "1d7c647b",
   "metadata": {},
   "source": [
    "## Geranylgeranylated proteins"
   ]
  },
  {
   "cell_type": "code",
   "execution_count": 28,
   "id": "8826e7cd",
   "metadata": {
    "ExecuteTime": {
     "end_time": "2024-10-29T16:37:55.417533Z",
     "start_time": "2024-10-29T16:37:55.377509Z"
    }
   },
   "outputs": [
    {
     "name": "stdout",
     "output_type": "stream",
     "text": [
      "GG new C-term: 8 , internal: 291\n"
     ]
    }
   ],
   "source": [
    "print('GG new C-term:', len(new_CTerm_GG), ', internal:', len(internal_GG))"
   ]
  },
  {
   "cell_type": "code",
   "execution_count": 29,
   "id": "74a9f8cb",
   "metadata": {
    "ExecuteTime": {
     "end_time": "2024-10-29T16:37:56.402372Z",
     "start_time": "2024-10-29T16:37:55.971828Z"
    }
   },
   "outputs": [
    {
     "data": {
      "image/png": "[encoded data removed]",
      "text/plain": [
       "<Figure size 1000x600 with 1 Axes>"
      ]
     },
     "metadata": {},
     "output_type": "display_data"
    }
   ],
   "source": [
    "motifs = (\"CXXX\", \"CaaX\", \"CXC\", \"CCX\", \"CC\", \"C\", \"newCterm\", \"no Cterm\")\n",
    "\n",
    "# Define group counts for known, identified known, and novel identified\n",
    "group_counts = {\n",
    "    'known': [44, 27, 20, 4, 16, 1, 0, 0],  \n",
    "    'identified known': [16, 13, 10, 1, 5, 0, 0, 0],\n",
    "    'identified new': [6, 0, 1, 1, 0, 4, 21, 291]\n",
    "}\n",
    "\n",
    "# Proportion calculation (assuming `F_found` and `F_GG_found` are defined)\n",
    "group_proportions = group_counts.copy()\n",
    "for attribute, measurement in group_proportions.items():\n",
    "    if attribute == 'known':\n",
    "        group_proportions[attribute] = [ round(x/sum(measurement)*100,1) for x in measurement ]\n",
    "    if attribute == 'identified known':\n",
    "        group_proportions[attribute] = [ round((x/len(canon_known_GG))*100,1) for x in measurement ]\n",
    "    if attribute == 'identified new':\n",
    "        group_proportions[attribute] = [ round((x/len(novel_GG))*100,1) for x in measurement ]  \n",
    "\n",
    "# Update labels with counts and percentages\n",
    "group_labels = group_counts.copy()\n",
    "for attribute, measurement in group_labels.items():\n",
    "    group_labels[attribute] = [ str(prop)+\"%\\n(\"+str(count)+\")\" for (prop, count) in zip(group_proportions[attribute],group_counts[attribute]) ]\n",
    "\n",
    "# Call the updated plotting function\n",
    "plot_grouped_bar_chart(motifs, group_proportions, group_labels, 'Geranylgeranylated proteins by motif')\n",
    "\n",
    "# Save the figure\n",
    "plt.savefig(os.path.join(figures, 'GG_motifs.pdf'), bbox_inches='tight')\n",
    "\n",
    "# Show the plot\n",
    "plt.show()"
   ]
  },
  {
   "cell_type": "markdown",
   "id": "37f97ed6",
   "metadata": {},
   "source": [
    "## All identified pernylated proteins"
   ]
  },
  {
   "cell_type": "code",
   "execution_count": 30,
   "id": "f2997032",
   "metadata": {},
   "outputs": [],
   "source": [
    "canon = pd.concat([canon_known_F, canon_known_GG, canon_novel_F, canon_novel_GG]).drop_duplicates().reset_index(drop=True)\n",
    "\n",
    "new_CTerm = pd.concat([newCTerm_F, newCTerm_GG]).drop_duplicates().reset_index(drop=True)\n",
    "\n",
    "internal= pd.concat([internal_F, internal_GG]).drop_duplicates().reset_index(drop=True)"
   ]
  },
  {
   "cell_type": "code",
   "execution_count": 31,
   "id": "e3c1944d",
   "metadata": {},
   "outputs": [
    {
     "name": "stdout",
     "output_type": "stream",
     "text": [
      "All proteins with canonical motif of the 636 identified prenylated proteins:\n"
     ]
    },
    {
     "data": {
      "text/html": [
       "<div>\n",
       "<style scoped>\n",
       "    .dataframe tbody tr th:only-of-type {\n",
       "        vertical-align: middle;\n",
       "    }\n",
       "\n",
       "    .dataframe tbody tr th {\n",
       "        vertical-align: top;\n",
       "    }\n",
       "\n",
       "    .dataframe thead th {\n",
       "        text-align: right;\n",
       "    }\n",
       "</style>\n",
       "<table border=\"1\" class=\"dataframe\">\n",
       "  <thead>\n",
       "    <tr style=\"text-align: right;\">\n",
       "      <th></th>\n",
       "      <th>motif</th>\n",
       "      <th>count</th>\n",
       "      <th>frequency</th>\n",
       "      <th>name</th>\n",
       "    </tr>\n",
       "  </thead>\n",
       "  <tbody>\n",
       "    <tr>\n",
       "      <th>0</th>\n",
       "      <td>CXXX</td>\n",
       "      <td>54</td>\n",
       "      <td>8.5%</td>\n",
       "      <td>[F219A, ZFN2B, DNJA2, CN37, NP1L1, CD38, NB5R3, ATD3B, STRAA, LRRF1, RAB8B, BROX, CEP85, RB40C, DPCD, DCAF8, RAB24, CENPF, NP1L4, TP4A1, PP16B, RB11A, MAPK3, DNJA4, GBP1, RHOB, GBG5, RHOC, APOL3, RAC2, RALA, GANAB, RHOH, RAP2A, PP2BB, WDTC1, SPDLY, GBP2, MAVS, CE85L, SSF1, LMNB2, MTOR, DNJA1, STK11, RAP1B, RHEB, QNG1, STX7, RAB21, TP4A2, ULK3, RALB, RAB18]</td>\n",
       "    </tr>\n",
       "    <tr>\n",
       "      <th>1</th>\n",
       "      <td>CAAX</td>\n",
       "      <td>30</td>\n",
       "      <td>4.7%</td>\n",
       "      <td>[RASH, LMNB1, CDC42, YKT6, PEX19, RASK, RRAS2, RASN, UBL3, RAC1, RAP2B, ZCCHV, GBG2, GBP5, RHOG, GNAI2, RAB28, EH1L1, I5P1, GBG10, INF2, FXL20, GBGT2, MIEN1, RAB8A, RHOA, KPBB, RAP2C, PRIC3, GBG8]</td>\n",
       "    </tr>\n",
       "    <tr>\n",
       "      <th>2</th>\n",
       "      <td>CXC</td>\n",
       "      <td>13</td>\n",
       "      <td>2.0%</td>\n",
       "      <td>[HARS1, RAB4B, ABCB7, RAB14, RB27A, RAB19, RAB7A, RAB6A, RAB3D, RAB43, RB33B, RB33A, COMD7]</td>\n",
       "    </tr>\n",
       "    <tr>\n",
       "      <th>3</th>\n",
       "      <td>C</td>\n",
       "      <td>13</td>\n",
       "      <td>2.0%</td>\n",
       "      <td>[TM87A, TCPB, MOT1, STX5, ARRB2, SC23B, GPSM3, MGST2, CAPZB, AT11B, HAUS6, RBGP1, SIAT1]</td>\n",
       "    </tr>\n",
       "    <tr>\n",
       "      <th>4</th>\n",
       "      <td>CC</td>\n",
       "      <td>5</td>\n",
       "      <td>0.8%</td>\n",
       "      <td>[RAB9A, RAB10, RAB1B, RAB2B, RAB2A]</td>\n",
       "    </tr>\n",
       "    <tr>\n",
       "      <th>5</th>\n",
       "      <td>CCX</td>\n",
       "      <td>2</td>\n",
       "      <td>0.3%</td>\n",
       "      <td>[RAB34, MGST3]</td>\n",
       "    </tr>\n",
       "  </tbody>\n",
       "</table>\n",
       "</div>"
      ],
      "text/plain": [
       "  motif  count frequency  \\\n",
       "0  CXXX     54      8.5%   \n",
       "1  CAAX     30      4.7%   \n",
       "2   CXC     13      2.0%   \n",
       "3     C     13      2.0%   \n",
       "4    CC      5      0.8%   \n",
       "5   CCX      2      0.3%   \n",
       "\n",
       "                                                                                                                                                                                                                                                                                                                                                                     name  \n",
       "0  [F219A, ZFN2B, DNJA2, CN37, NP1L1, CD38, NB5R3, ATD3B, STRAA, LRRF1, RAB8B, BROX, CEP85, RB40C, DPCD, DCAF8, RAB24, CENPF, NP1L4, TP4A1, PP16B, RB11A, MAPK3, DNJA4, GBP1, RHOB, GBG5, RHOC, APOL3, RAC2, RALA, GANAB, RHOH, RAP2A, PP2BB, WDTC1, SPDLY, GBP2, MAVS, CE85L, SSF1, LMNB2, MTOR, DNJA1, STK11, RAP1B, RHEB, QNG1, STX7, RAB21, TP4A2, ULK3, RALB, RAB18]  \n",
       "1                                                                                                                                                                    [RASH, LMNB1, CDC42, YKT6, PEX19, RASK, RRAS2, RASN, UBL3, RAC1, RAP2B, ZCCHV, GBG2, GBP5, RHOG, GNAI2, RAB28, EH1L1, I5P1, GBG10, INF2, FXL20, GBGT2, MIEN1, RAB8A, RHOA, KPBB, RAP2C, PRIC3, GBG8]  \n",
       "2                                                                                                                                                                                                                                                                             [HARS1, RAB4B, ABCB7, RAB14, RB27A, RAB19, RAB7A, RAB6A, RAB3D, RAB43, RB33B, RB33A, COMD7]  \n",
       "3                                                                                                                                                                                                                                                                                [TM87A, TCPB, MOT1, STX5, ARRB2, SC23B, GPSM3, MGST2, CAPZB, AT11B, HAUS6, RBGP1, SIAT1]  \n",
       "4                                                                                                                                                                                                                                                                                                                                     [RAB9A, RAB10, RAB1B, RAB2B, RAB2A]  \n",
       "5                                                                                                                                                                                                                                                                                                                                                          [RAB34, MGST3]  "
      ]
     },
     "metadata": {},
     "output_type": "display_data"
    }
   ],
   "source": [
    "# All prenylated, known and new\n",
    "\n",
    "canon_motif_counts = canon['motif'].value_counts()\n",
    "normalized_frequencies = (canon_motif_counts / len(all_found) * 100).round(1).astype(str) + '%'\n",
    "\n",
    "motif_counts_table = pd.DataFrame({'count': canon_motif_counts, 'frequency': normalized_frequencies}).reset_index().rename(columns={'index': 'motif'})\n",
    "\n",
    "new_canon = canon.groupby('motif')['name'].agg(set).reset_index()\n",
    "new_canon['name'] = [list(elem) if len(elem) > 1 else list(elem)[0] for elem in new_canon['name']]\n",
    "\n",
    "combined_df = pd.merge(motif_counts_table, new_canon, on='motif', how='inner')\n",
    "\n",
    "print('All proteins with canonical motif of the', len(all_found), 'identified prenylated proteins:')\n",
    "display(combined_df)\n"
   ]
  },
  {
   "cell_type": "code",
   "execution_count": 32,
   "id": "0bb56da0",
   "metadata": {},
   "outputs": [
    {
     "data": {
      "image/png": "[encoded data removed]",
      "text/plain": [
       "<Figure size 1000x600 with 1 Axes>"
      ]
     },
     "metadata": {},
     "output_type": "display_data"
    }
   ],
   "source": [
    "# All\n",
    "motifs = (\"CXXX\", \"CAAX\", \"CXC\", \"CCX\", \"CC\", \"C\", \"newCterm\", \"no Cterm\")\n",
    "group_counts = {\n",
    "    'known prenylated': [89, 53, 20, 4, 16, 1, 0, 0],\n",
    "    'identified prenylated': [54, 30, 13, 2, 5, 13, 44, 475],\n",
    "    }\n",
    "\n",
    "group_proportions = group_counts.copy()\n",
    "for attribute, measurement in group_proportions.items():\n",
    "    if attribute == 'known prenylated':\n",
    "        group_proportions[attribute] = [ round(x/sum(measurement)*100,1) for x in measurement ]\n",
    "    if attribute == 'identified prenylated':\n",
    "        group_proportions[attribute] = [ round((x/ len(all_found) )*100,1) for x in measurement ]\n",
    "        \n",
    "group_labels = group_counts.copy()\n",
    "for attribute, measurement in group_labels.items():\n",
    "    group_labels[attribute] = [ str(prop)+\"%\\n(\"+str(count)+\")\" for (prop, count) in zip(group_proportions[attribute],group_counts[attribute]) ]\n",
    "\n",
    "plot_grouped_bar_chart(motifs, group_proportions, group_labels, 'Prenylated proteins by motif')\n",
    "\n",
    "plt.show()"
   ]
  },
  {
   "cell_type": "markdown",
   "id": "7249cc00",
   "metadata": {},
   "source": [
    "# Sequence logos"
   ]
  },
  {
   "cell_type": "markdown",
   "id": "42ac5315",
   "metadata": {},
   "source": [
    "## Canonical motif, known"
   ]
  },
  {
   "cell_type": "code",
   "execution_count": 33,
   "id": "a4a36af1",
   "metadata": {},
   "outputs": [],
   "source": [
    "fasta_canon_F_known = fasta[fasta['ID'].isin(canon_known_F['ID'])].drop_duplicates().reset_index(drop=True)\n",
    "fasta_canon_GG_known = fasta[fasta['ID'].isin(canon_known_GG['ID'])].drop_duplicates().reset_index(drop=True)"
   ]
  },
  {
   "cell_type": "code",
   "execution_count": 34,
   "id": "b29f46a3",
   "metadata": {},
   "outputs": [
    {
     "name": "stdout",
     "output_type": "stream",
     "text": [
      "22\tCXXX\tF_Cterm_known_CXXX.txt\n",
      "12\tCAAX\tF_Cterm_known_CAAX.txt\n"
     ]
    }
   ],
   "source": [
    "# Save peptides for PSSMSearch\n",
    "\n",
    "motif_counts = fasta_canon_F_known['motif'].value_counts()\n",
    "\n",
    "for motif, count in motif_counts.items():\n",
    "    filtered_peps = fasta_canon_F_known['pep'][fasta_canon_F_known['motif'] == motif]\n",
    "    filename = f'F_Cterm_known_{motif}.txt'\n",
    "    filtered_peps.to_csv(os.path.join(PSSMSearch, 'Cterm', 'known_canon', filename), header=None, index=None, sep=' ')\n",
    "    print(f\"{count}\\t{motif}\\t{filename}\")"
   ]
  },
  {
   "cell_type": "code",
   "execution_count": 35,
   "id": "b43f1db8",
   "metadata": {},
   "outputs": [
    {
     "name": "stdout",
     "output_type": "stream",
     "text": [
      "16\tCXXX\tGG_Cterm_known_CXXX.txt\n",
      "14\tCAAX\tGG_Cterm_known_CAAX.txt\n",
      "10\tCXC\tGG_Cterm_known_CXC.txt\n",
      "5\tCC\tGG_Cterm_known_CC.txt\n",
      "1\tCCX\tGG_Cterm_known_CCX.txt\n"
     ]
    }
   ],
   "source": [
    "# Save peptides for PSSMSearch\n",
    "\n",
    "motif_counts = fasta_canon_GG_known['motif'].value_counts()\n",
    "\n",
    "for motif, count in motif_counts.items():\n",
    "    filtered_peps = fasta_canon_GG_known['pep'][fasta_canon_GG_known['motif'] == motif]\n",
    "    filename = f'GG_Cterm_known_{motif}.txt'\n",
    "    filtered_peps.to_csv(os.path.join(PSSMSearch, 'Cterm', 'known_canon', filename), header=None, index=None, sep=' ')\n",
    "    print(f\"{count}\\t{motif}\\t{filename}\")"
   ]
  },
  {
   "cell_type": "markdown",
   "id": "c614a97e",
   "metadata": {},
   "source": [
    "## Canonical motif, new"
   ]
  },
  {
   "cell_type": "code",
   "execution_count": 36,
   "id": "4c901383",
   "metadata": {},
   "outputs": [],
   "source": [
    "fasta_canon_F_new = fasta[fasta['ID'].isin(canon_novel_F['ID'])].drop_duplicates().reset_index(drop=True)\n",
    "fasta_canon_GG_new = fasta[fasta['ID'].isin(canon_novel_GG['ID'])].drop_duplicates().reset_index(drop=True)"
   ]
  },
  {
   "cell_type": "code",
   "execution_count": 37,
   "id": "1da6f301",
   "metadata": {},
   "outputs": [
    {
     "name": "stdout",
     "output_type": "stream",
     "text": [
      "15\tCXXX\tF_Cterm_new_CXXX.txt\n",
      "12\tC\tF_Cterm_new_C.txt\n",
      "5\tCAAX\tF_Cterm_new_CAAX.txt\n",
      "3\tCXC\tF_Cterm_new_CXC.txt\n",
      "1\tCCX\tF_Cterm_new_CCX.txt\n"
     ]
    }
   ],
   "source": [
    "# Save peptides for PSSMSearch\n",
    "\n",
    "motif_counts = fasta_canon_F_new['motif'].value_counts()\n",
    "\n",
    "for motif, count in motif_counts.items():\n",
    "    filtered_peps = fasta_canon_F_new['pep'][fasta_canon_F_new['motif'] == motif]\n",
    "    filename = f'F_Cterm_new_{motif}.txt'\n",
    "    filtered_peps.to_csv(os.path.join(PSSMSearch, 'Cterm', 'new_canon', filename), header=None, index=None, sep=' ')\n",
    "    print(f\"{count}\\t{motif}\\t{filename}\")"
   ]
  },
  {
   "cell_type": "code",
   "execution_count": 38,
   "id": "a203cfc4",
   "metadata": {},
   "outputs": [
    {
     "name": "stdout",
     "output_type": "stream",
     "text": [
      "6\tCXXX\tGG_Cterm_new_CXXX.txt\n",
      "4\tC\tGG_Cterm_new_C.txt\n",
      "1\tCXC\tGG_Cterm_new_CXC.txt\n",
      "1\tCCX\tGG_Cterm_new_CCX.txt\n"
     ]
    }
   ],
   "source": [
    "# Save peptides for PSSMSearch\n",
    "\n",
    "motif_counts = fasta_canon_GG_new['motif'].value_counts()\n",
    "\n",
    "for motif, count in motif_counts.items():\n",
    "    filtered_peps = fasta_canon_GG_new['pep'][fasta_canon_GG_new['motif'] == motif]\n",
    "    filename = f'GG_Cterm_new_{motif}.txt'\n",
    "    filtered_peps.to_csv(os.path.join(PSSMSearch, 'Cterm', 'new_canon', filename), header=None, index=None, sep=' ')\n",
    "    print(f\"{count}\\t{motif}\\t{filename}\")"
   ]
  },
  {
   "cell_type": "markdown",
   "id": "cab48550",
   "metadata": {},
   "source": [
    "## Canonical motif, all"
   ]
  },
  {
   "cell_type": "code",
   "execution_count": 39,
   "id": "6123efd0",
   "metadata": {},
   "outputs": [],
   "source": [
    "canon_F = pd.concat([fasta_canon_F_known, fasta_canon_F_new]).drop_duplicates().reset_index(drop=True)\n",
    "canon_GG = pd.concat([fasta_canon_GG_known, fasta_canon_GG_new]).drop_duplicates().reset_index(drop=True)"
   ]
  },
  {
   "cell_type": "code",
   "execution_count": 40,
   "id": "29b45c20",
   "metadata": {},
   "outputs": [],
   "source": [
    "fasta_canon_F = fasta[fasta['ID'].isin(canon_F['ID'])].drop_duplicates().reset_index(drop=True)\n",
    "fasta_canon_GG = fasta[fasta['ID'].isin(canon_GG['ID'])].drop_duplicates().reset_index(drop=True)"
   ]
  },
  {
   "cell_type": "code",
   "execution_count": 41,
   "id": "a00e6981",
   "metadata": {},
   "outputs": [
    {
     "name": "stdout",
     "output_type": "stream",
     "text": [
      "37\tCXXX\tF_Cterm_all_CXXX.txt\n",
      "17\tCAAX\tF_Cterm_all_CAAX.txt\n",
      "12\tC\tF_Cterm_all_C.txt\n",
      "3\tCXC\tF_Cterm_all_CXC.txt\n",
      "1\tCCX\tF_Cterm_all_CCX.txt\n"
     ]
    }
   ],
   "source": [
    "# Save peptides for PSSMSearch\n",
    "\n",
    "motif_counts = fasta_canon_F['motif'].value_counts()\n",
    "\n",
    "for motif, count in motif_counts.items():\n",
    "    filtered_peps = fasta_canon_F['pep'][fasta_canon_F['motif'] == motif]\n",
    "    filename = f'F_Cterm_all_{motif}.txt'\n",
    "    filtered_peps.to_csv(os.path.join(PSSMSearch, 'Cterm', 'all_canon', filename), header=None, index=None, sep=' ')\n",
    "    print(f\"{count}\\t{motif}\\t{filename}\")"
   ]
  },
  {
   "cell_type": "code",
   "execution_count": 42,
   "id": "a1419e51",
   "metadata": {},
   "outputs": [
    {
     "name": "stdout",
     "output_type": "stream",
     "text": [
      "22\tCXXX\tGG_Cterm_all_CXXX.txt\n",
      "14\tCAAX\tGG_Cterm_all_CAAX.txt\n",
      "11\tCXC\tGG_Cterm_all_CXC.txt\n",
      "5\tCC\tGG_Cterm_all_CC.txt\n",
      "4\tC\tGG_Cterm_all_C.txt\n",
      "2\tCCX\tGG_Cterm_all_CCX.txt\n"
     ]
    }
   ],
   "source": [
    "# Save peptides for PSSMSearch\n",
    "\n",
    "motif_counts = fasta_canon_GG['motif'].value_counts()\n",
    "\n",
    "for motif, count in motif_counts.items():\n",
    "    filtered_peps = fasta_canon_GG['pep'][fasta_canon_GG['motif'] == motif]\n",
    "    filename = f'GG_Cterm_all_{motif}.txt'\n",
    "    filtered_peps.to_csv(os.path.join(PSSMSearch, 'Cterm', 'all_canon', filename), header=None, index=None, sep=' ')\n",
    "    print(f\"{count}\\t{motif}\\t{filename}\")"
   ]
  },
  {
   "cell_type": "markdown",
   "id": "c3e87588",
   "metadata": {},
   "source": [
    "## New C-terminal motif"
   ]
  },
  {
   "cell_type": "code",
   "execution_count": 43,
   "id": "5fe4785b",
   "metadata": {},
   "outputs": [],
   "source": [
    "fasta_new_CTerm_F = fasta[fasta['ID'].isin(newCTerm_F['ID'])].reset_index(drop=True)\n",
    "fasta_new_CTerm_GG = fasta[fasta['ID'].isin(newCTerm_GG['ID'])].reset_index(drop=True)"
   ]
  },
  {
   "cell_type": "code",
   "execution_count": 44,
   "id": "3110ad98",
   "metadata": {},
   "outputs": [
    {
     "name": "stdout",
     "output_type": "stream",
     "text": [
      "15\tCX\tF_new_CTerm_CX.txt\n",
      "13\tCXX\tF_new_CTerm_CXX.txt\n",
      "7\tCXXXX\tF_new_CTerm_CXXXX.txt\n",
      "1\tCCC\tF_new_CTerm_CCC.txt\n"
     ]
    }
   ],
   "source": [
    "# Save peptides for PSSMSearch\n",
    "\n",
    "motif_counts = fasta_new_CTerm_F['motif'].value_counts()\n",
    "\n",
    "for motif, count in motif_counts.items():\n",
    "    filtered_peps = fasta_new_CTerm_F['pep'][fasta_new_CTerm_F['motif'] == motif]\n",
    "    filename = f'F_new_CTerm_{motif}.txt'\n",
    "    filtered_peps.to_csv(os.path.join(PSSMSearch, 'Cterm', 'new_CTerm', filename), header=None, index=None, sep=' ')\n",
    "    print(f\"{count}\\t{motif}\\t{filename}\")"
   ]
  },
  {
   "cell_type": "code",
   "execution_count": 45,
   "id": "4122ed83",
   "metadata": {},
   "outputs": [
    {
     "name": "stdout",
     "output_type": "stream",
     "text": [
      "9\tCXXXX\tGG_new_CTerm_CXXXX.txt\n",
      "8\tCXX\tGG_new_CTerm_CXX.txt\n",
      "4\tCX\tGG_new_CTerm_CX.txt\n"
     ]
    }
   ],
   "source": [
    "# Save peptides for PSSMSearch\n",
    "\n",
    "motif_counts = fasta_new_CTerm_GG['motif'].value_counts()\n",
    "\n",
    "for motif, count in motif_counts.items():\n",
    "    filtered_peps = fasta_new_CTerm_GG['pep'][fasta_new_CTerm_GG['motif'] == motif]\n",
    "    filename = f'GG_new_CTerm_{motif}.txt'\n",
    "    filtered_peps.to_csv(os.path.join(PSSMSearch, 'Cterm', 'new_CTerm', filename), header=None, index=None, sep=' ')\n",
    "    print(f\"{count}\\t{motif}\\t{filename}\")"
   ]
  },
  {
   "cell_type": "markdown",
   "id": "1cd81aeb",
   "metadata": {},
   "source": [
    "# Comparison to motifs in entire human proteome"
   ]
  },
  {
   "cell_type": "code",
   "execution_count": 46,
   "id": "72041422",
   "metadata": {},
   "outputs": [
    {
     "name": "stdout",
     "output_type": "stream",
     "text": [
      "25866\n"
     ]
    }
   ],
   "source": [
    "# proteins without cysteine in the human proteome, 26.09.23\n",
    "# canonical sequences only\n",
    "\n",
    "human_proteome = read_fastafile(os.path.join(datafolder, 'fasta_files', 'uniprotkb_human_AND_existence_1_AND_rev_2023_09_26.fasta'))\n",
    "\n",
    "human_proteome_all = human_proteome.copy()\n",
    "\n",
    "print(len(human_proteome))"
   ]
  },
  {
   "cell_type": "code",
   "execution_count": 47,
   "id": "62193707",
   "metadata": {},
   "outputs": [],
   "source": [
    "# Pipeline for detecting canonical motifs\n",
    "# Updated with length checks\n",
    "\n",
    "aliph_AA = ['A', 'G', 'V', 'I', 'L']\n",
    "\n",
    "motifs = {\n",
    "    \"CAAX\": lambda seq: len(seq) >= 4 and seq[-4] == 'C' and seq[-3] in aliph_AA and seq[-2] in aliph_AA,\n",
    "    \"CXXX\": lambda seq: len(seq) >= 4 and seq[-4] == 'C',\n",
    "    \"CCC\": lambda seq: seq.endswith('CCC'),\n",
    "    \"CXC\": lambda seq: len(seq) >= 3 and seq[-3] == 'C' and seq[-1] == 'C',\n",
    "    \"CCX\": lambda seq: len(seq) >= 3 and seq[-3] == 'C' and seq[-2] == 'C',\n",
    "    \"CC\": lambda seq: len(seq) >= 2 and seq[-2] == 'C' and seq[-1] == 'C',\n",
    "    \"C\": lambda seq: len(seq) >= 1 and seq[-1] == 'C'\n",
    "}"
   ]
  },
  {
   "cell_type": "code",
   "execution_count": 48,
   "id": "fe1925ed",
   "metadata": {},
   "outputs": [
    {
     "name": "stdout",
     "output_type": "stream",
     "text": [
      "All identified: 25866 \n",
      "\n",
      "CAAX:  \t118\t(25748 remaining)\n",
      "CXXX:  \t601\t(25147 remaining)\n",
      "CCC:  \t11\t(25136 remaining)\n",
      "CXC:  \t45\t(25091 remaining)\n",
      "CCX:  \t41\t(25050 remaining)\n",
      "CC:  \t67\t(24983 remaining)\n",
      "C:  \t683\t(24300 remaining)\n",
      "\n",
      "Identified proteins with canonical motifs: 1555\t(24300 remaining)\n",
      "Check total: 25855\n"
     ]
    }
   ],
   "source": [
    "print('All identified:', len(human_proteome), '\\n')\n",
    "\n",
    "# Iteratively filter for each motif\n",
    "for motif_name, condition in motifs.items():\n",
    "    motif_df = human_proteome[human_proteome['seq'].apply(condition)].reset_index(drop=True)\n",
    "\n",
    "    # annotate motif in df\n",
    "    motif_df['motif'] = f'{motif_name}'\n",
    "    \n",
    "    globals()[f'human_proteome_{motif_name}'] = motif_df # Create a new variable with the name based on the motif\n",
    "    \n",
    "    human_proteome = human_proteome[~human_proteome['ID'].isin(motif_df['ID'])]  # Remove identified sequences\n",
    "    print(f'{motif_name}:  \\t', len(motif_df), '\\t(', len(human_proteome), ' remaining)', sep='')\n",
    "\n",
    "# Recap\n",
    "human_proteome_canon = pd.concat([human_proteome_CAAX, human_proteome_CXXX, human_proteome_CXC, human_proteome_CCX, human_proteome_CC, human_proteome_C], ignore_index=True)\n",
    "print('\\nIdentified proteins with canonical motifs: ', len(human_proteome_canon), '\\t(', len(human_proteome), ' remaining)', sep='')\n",
    "print('Check total:', len(human_proteome_canon) + len(human_proteome))"
   ]
  },
  {
   "cell_type": "code",
   "execution_count": 49,
   "id": "72ca6bb3",
   "metadata": {},
   "outputs": [],
   "source": [
    "# Pipeline for detecting new C-terminal motifs\n",
    "# Updated with length checks\n",
    "\n",
    "motifs = {\n",
    "    \"CXXXX\": lambda seq: len(seq) >= 5 and seq[-5] == 'C',\n",
    "    \"CXX\": lambda seq: len(seq) >= 3 and seq[-3] == 'C',\n",
    "    \"CX\": lambda seq: len(seq) >= 2 and seq[-2] == 'C'\n",
    "}"
   ]
  },
  {
   "cell_type": "code",
   "execution_count": 50,
   "id": "182f97a9",
   "metadata": {
    "scrolled": true
   },
   "outputs": [
    {
     "name": "stdout",
     "output_type": "stream",
     "text": [
      "Remaining proteins without canonical motif: 24300 \n",
      "\n",
      "CXXXX:  \t555\t(23745 remaining)\n",
      "CXX:  \t484\t(23261 remaining)\n",
      "CX:  \t522\t(22739 remaining)\n",
      "\n",
      "Identified proteins with new C-terminal motifs: 1572\t(22739 remaining)\n",
      "Check total: 25866\n"
     ]
    }
   ],
   "source": [
    "print('Remaining proteins without canonical motif:', len(human_proteome), '\\n')\n",
    "\n",
    "# Iteratively filter for each motif\n",
    "for motif_name, condition in motifs.items():\n",
    "    motif_df = human_proteome[human_proteome['seq'].apply(condition)].reset_index(drop=True)\n",
    "\n",
    "    # annotate motif in df\n",
    "    motif_df['motif'] = f'{motif_name}'\n",
    "    \n",
    "    globals()[f'human_proteome_{motif_name}'] = motif_df # Create a new variable with the name based on the motif\n",
    "    \n",
    "    human_proteome = human_proteome[~human_proteome['ID'].isin(motif_df['ID'])]  # Remove identified sequences\n",
    "    print(f'{motif_name}:  \\t', len(motif_df), '\\t(', len(human_proteome), ' remaining)', sep='')\n",
    "\n",
    "# Recap\n",
    "human_proteome_new_Cterm = pd.concat([human_proteome_CXXXX, human_proteome_CCC, human_proteome_CXX, human_proteome_CX], ignore_index=True)\n",
    "print('\\nIdentified proteins with new C-terminal motifs: ', len(human_proteome_new_Cterm), '\\t(', \n",
    "      len(human_proteome), ' remaining)', sep='')\n",
    "print('Check total:', len(human_proteome_canon) + len(human_proteome_new_Cterm) + len(human_proteome))"
   ]
  },
  {
   "cell_type": "code",
   "execution_count": 51,
   "id": "e92be36f",
   "metadata": {},
   "outputs": [
    {
     "name": "stdout",
     "output_type": "stream",
     "text": [
      "Out of 25866 proteins of the human proteome 1555 have a canonical motif and 1572 have a new C-terminal motif.\n"
     ]
    }
   ],
   "source": [
    "# Recap\n",
    "\n",
    "print('Out of ', len(human_proteome_all), ' proteins of the human proteome ', len(human_proteome_canon), ' have a canonical motif and ', \n",
    "      len(human_proteome_new_Cterm), ' have a new C-terminal motif.', sep='')"
   ]
  },
  {
   "cell_type": "code",
   "execution_count": null,
   "id": "b51c099f",
   "metadata": {},
   "outputs": [],
   "source": []
  }
 ],
 "metadata": {
  "kernelspec": {
   "display_name": "Python 3 (ipykernel)",
   "language": "python",
   "name": "python3"
  },
  "language_info": {
   "codemirror_mode": {
    "name": "ipython",
    "version": 3
   },
   "file_extension": ".py",
   "mimetype": "text/x-python",
   "name": "python",
   "nbconvert_exporter": "python",
   "pygments_lexer": "ipython3",
   "version": "3.8.18"
  },
  "toc": {
   "base_numbering": 1,
   "nav_menu": {
    "height": "239px",
    "width": "368px"
   },
   "number_sections": true,
   "sideBar": true,
   "skip_h1_title": false,
   "title_cell": "Table of Contents",
   "title_sidebar": "Contents",
   "toc_cell": true,
   "toc_position": {
    "height": "628.45px",
    "left": "10px",
    "top": "150px",
    "width": "304.033px"
   },
   "toc_section_display": true,
   "toc_window_display": false
  }
 },
 "nbformat": 4,
 "nbformat_minor": 5
}
